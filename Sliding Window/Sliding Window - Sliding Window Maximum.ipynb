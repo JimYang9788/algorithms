{
 "cells": [
  {
   "cell_type": "code",
   "execution_count": 1,
   "metadata": {},
   "outputs": [],
   "source": [
    "# 太优美了\n",
    "# 太优美了我的妈\n",
    "\n",
    "class monotoneQueue:\n",
    "    def __init__(self):\n",
    "        self.queue = []\n",
    "        \n",
    "    def push(self, val):\n",
    "        '''\n",
    "        push an itme to the monotonic queue queue\n",
    "        '''\n",
    "        while (self.queue and self.queue[-1] < val):\n",
    "            self.queue.pop()\n",
    "        \n",
    "        self.queue.append (val)\n",
    "    \n",
    "    def getMax (self):\n",
    "        return self.queue[0]\n",
    "    \n",
    "    def pop(self,n):\n",
    "        '''\n",
    "        pop the first element if the first element == n\n",
    "        '''\n",
    "        if self.queue and self.queue[0] == n:\n",
    "            self.queue.pop(0)\n",
    "        return \n",
    "        \n",
    "        \n",
    "        \n",
    "class Solution:\n",
    "    def maxSlidingWindow(self, nums):\n",
    "        # 利用单调滑动窗口性质\n",
    "        # Brute Force是O(nk)\n",
    "        window = monotoneQueue()\n",
    "        res = []\n",
    "        \n",
    "        for i in range (len(nums)):\n",
    "            if i < k - 1:\n",
    "                window.push(nums[i])\n",
    "            else:\n",
    "                window.push(nums[i])\n",
    "                res.append(window.getMax())\n",
    "                window.pop(nums[i - k + 1])\n",
    "    \n",
    "        return res \n",
    "        \n",
    "        "
   ]
  },
  {
   "cell_type": "code",
   "execution_count": null,
   "metadata": {},
   "outputs": [],
   "source": []
  }
 ],
 "metadata": {
  "kernelspec": {
   "display_name": "Python 3",
   "language": "python",
   "name": "python3"
  },
  "language_info": {
   "codemirror_mode": {
    "name": "ipython",
    "version": 3
   },
   "file_extension": ".py",
   "mimetype": "text/x-python",
   "name": "python",
   "nbconvert_exporter": "python",
   "pygments_lexer": "ipython3",
   "version": "3.7.4"
  }
 },
 "nbformat": 4,
 "nbformat_minor": 2
}
