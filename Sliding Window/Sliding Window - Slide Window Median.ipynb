{
 "cells": [
  {
   "cell_type": "code",
   "execution_count": null,
   "metadata": {},
   "outputs": [],
   "source": [
    "    \n",
    "class Solution:\n",
    "    \n",
    "\n",
    "    def medianSlidingWindow(self, nums, k):\n",
    "        win, rv = nums[:k], []\n",
    "        win.sort()\n",
    "        odd = k%2\n",
    "        for i,n in enumerate(nums[k:],k):\n",
    "            rv.append((win[k/2]+win[k/2-1])/2. if not odd else win[(k-1)/2]*1.)\n",
    "            win.pop(bisect(win, nums[i-k])-1) # <<< bisect is faster than .remove()\n",
    "            insort(win, nums[i])\n",
    "        rv.append((win[k/2]+win[k/2-1])/2. if not odd else win[(k-1)/2]*1.)\n",
    "        return rv"
   ]
  }
 ],
 "metadata": {
  "kernelspec": {
   "display_name": "Python 3",
   "language": "python",
   "name": "python3"
  },
  "language_info": {
   "codemirror_mode": {
    "name": "ipython",
    "version": 3
   },
   "file_extension": ".py",
   "mimetype": "text/x-python",
   "name": "python",
   "nbconvert_exporter": "python",
   "pygments_lexer": "ipython3",
   "version": "3.7.4"
  }
 },
 "nbformat": 4,
 "nbformat_minor": 2
}
