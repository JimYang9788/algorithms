{
 "cells": [
  {
   "cell_type": "code",
   "execution_count": null,
   "metadata": {},
   "outputs": [],
   "source": [
    "class Solution:\n",
    "    def checkInclusion(self, s1: str, s2: str) -> bool:\n",
    "        # Do a slide window of lenght  (s1)\n",
    "        # and move this slide window in O(n) time, sort in O(nlogk) to compare \n",
    "        # each sub string \n",
    "        l,r = 0,0\n",
    "        curString = \"\"\n",
    "        s1 = sorted(s1)\n",
    "        while (r < len(s2)):\n",
    "            # add the new string\n",
    "            if r < len(s1) - 1:\n",
    "                curString += s2[r]\n",
    "                \n",
    "            else:\n",
    "                # Add a new character\n",
    "                curString += s2[r]\n",
    "                if (sorted(curString[:]) == s1):\n",
    "                    return True \n",
    "                \n",
    "                # Remove the first character \n",
    "                curString = curString[1:]\n",
    "            \n",
    "            r += 1 \n",
    "        return False"
   ]
  }
 ],
 "metadata": {
  "kernelspec": {
   "display_name": "Python 3",
   "language": "python",
   "name": "python3"
  },
  "language_info": {
   "codemirror_mode": {
    "name": "ipython",
    "version": 3
   },
   "file_extension": ".py",
   "mimetype": "text/x-python",
   "name": "python",
   "nbconvert_exporter": "python",
   "pygments_lexer": "ipython3",
   "version": "3.7.4"
  }
 },
 "nbformat": 4,
 "nbformat_minor": 2
}
