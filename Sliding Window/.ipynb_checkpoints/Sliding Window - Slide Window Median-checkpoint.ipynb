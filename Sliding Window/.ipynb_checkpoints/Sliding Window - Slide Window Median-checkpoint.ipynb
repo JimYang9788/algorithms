{
 "cells": [
  {
   "cell_type": "code",
   "execution_count": 1,
   "metadata": {},
   "outputs": [],
   "source": [
    "class Solution:\n",
    "    def medianSlidingWindow(self, nums, k):\n",
    "        lh,rh,rv = [],[],[]\n",
    "        # create the initial left and right heap\n",
    "        for i,n in enumerate(nums[:k]): \n",
    "            heappush(lh, (-n,i))\n",
    "            \n",
    "        for i in range(k-k//2):\n",
    "            heappush(rh, (-lh[0][0], lh[0][1]))\n",
    "            heappop(lh)\n",
    "            \n",
    "        for i,n in enumerate(nums[k:]):\n",
    "            rv.append(rh[0][0]/1 if k%2 else (rh[0][0] - lh[0][0])/2)\n",
    "            if n >= rh[0][0]:\n",
    "                heappush(rh,(n,i+k))        # rh +1\n",
    "                if nums[i] <= rh[0][0]:     # lh-1, unbalanced\n",
    "                    heappush(lh, (-rh[0][0], rh[0][1]))\n",
    "                    heappop(rh)\n",
    "                # else: pass                # rh-1, balanced\n",
    "            else:\n",
    "                heappush(lh,(-n,i+k))        # rh +1\n",
    "                if nums[i] >= rh[0][0]:     # rh-1, unbalanced\n",
    "                    heappush(rh, (-lh[0][0], lh[0][1]))\n",
    "                    heappop(lh)\n",
    "                # else: pass                # lh-1, balanced\n",
    "            while(lh and lh[0][1] <= i): heappop(lh)  # lazy-deletion\n",
    "            while(rh and rh[0][1] <= i): heappop(rh)  # lazy-deletion\n",
    "        rv.append(rh[0][0]/1 if k%2 else (rh[0][0] - lh[0][0])/2)\n",
    "        return rv"
   ]
  }
 ],
 "metadata": {
  "kernelspec": {
   "display_name": "Python 3",
   "language": "python",
   "name": "python3"
  },
  "language_info": {
   "codemirror_mode": {
    "name": "ipython",
    "version": 3
   },
   "file_extension": ".py",
   "mimetype": "text/x-python",
   "name": "python",
   "nbconvert_exporter": "python",
   "pygments_lexer": "ipython3",
   "version": "3.7.4"
  }
 },
 "nbformat": 4,
 "nbformat_minor": 2
}
