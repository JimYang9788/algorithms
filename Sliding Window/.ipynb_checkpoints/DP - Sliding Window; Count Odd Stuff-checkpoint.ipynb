{
 "cells": [
  {
   "cell_type": "code",
   "execution_count": null,
   "metadata": {},
   "outputs": [],
   "source": [
    "class Solution:\n",
    "    def numberOfSubarrays(self, nums: List[int], k: int) -> int:\n",
    "        # Brute force..find all subarray, count number of subarray that has 3 odd elements \n",
    "        # O (n^3) \n",
    "        # Try use sliding window \n",
    "        \n",
    "        def helper (l,r):\n",
    "            sub_count = 1 \n",
    "            while (nums[l] % 2 == 0 and l < r):\n",
    "                l += 1 \n",
    "                sub_count += 1 \n",
    "            return sub_count\n",
    "        \n",
    "        l, r = 0,0\n",
    "        res = 0\n",
    "        count = 0\n",
    "        while r < len(nums):\n",
    "            # print (l, r, count)\n",
    "            if count == k:\n",
    "                if nums[r] % 2 == 0:\n",
    "                    res += helper (l,r)\n",
    "                else:\n",
    "                    while nums[l] % 2 == 0 and l < r:\n",
    "                        l += 1 \n",
    "                    l += 1 \n",
    "                    res += helper(l, r)\n",
    "            elif count == k - 1:\n",
    "                if nums[r] % 2 == 1:\n",
    "                    res += helper (l,r)\n",
    "                    count += 1 \n",
    "            elif count < k - 1:\n",
    "                if nums[r] % 2 == 1:\n",
    "                    count += 1 \n",
    "            r += 1 \n",
    "\n",
    "        return res "
   ]
  }
 ],
 "metadata": {
  "kernelspec": {
   "display_name": "Python 3",
   "language": "python",
   "name": "python3"
  },
  "language_info": {
   "codemirror_mode": {
    "name": "ipython",
    "version": 3
   },
   "file_extension": ".py",
   "mimetype": "text/x-python",
   "name": "python",
   "nbconvert_exporter": "python",
   "pygments_lexer": "ipython3",
   "version": "3.7.4"
  }
 },
 "nbformat": 4,
 "nbformat_minor": 2
}
