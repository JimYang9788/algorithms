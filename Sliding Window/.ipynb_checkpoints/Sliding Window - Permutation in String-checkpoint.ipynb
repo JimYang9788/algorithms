{
 "cells": [
  {
   "cell_type": "code",
   "execution_count": 1,
   "metadata": {},
   "outputs": [],
   "source": [
    "class Solution:\n",
    "    def checkInclusion(self, s1: str, s2: str) -> bool:\n",
    "        # Do a slide window of lenght  (s1)\n",
    "        # and move this slide window in O(n) time, sort in O(nlogk) to compare \n",
    "        # each sub string \n",
    "        l,r = 0,0\n",
    "        curString = \"\"\n",
    "        s1 = sorted(s1)\n",
    "        while (r < len(s2)):\n",
    "            # add the new string\n",
    "            if r < len(s1) - 1:\n",
    "                curString += s2[r]\n",
    "                \n",
    "            else:\n",
    "                # Add a new character\n",
    "                curString += s2[r]\n",
    "                if (sorted(curString[:]) == s1):\n",
    "                    return True \n",
    "                \n",
    "                # Remove the first character \n",
    "                curString = curString[1:]\n",
    "            \n",
    "            r += 1 \n",
    "        return False\n",
    "    "
   ]
  },
  {
   "cell_type": "markdown",
   "metadata": {},
   "source": [
    "Improvement可以把我的sorting变成一个hashmap，减少sorting overhead\n"
   ]
  },
  {
   "cell_type": "markdown",
   "metadata": {},
   "source": [
    "To do so, we maintain a countcount variable, which stores the number of characters(out of the 26 alphabets), which have the same frequency of occurence in s1s1 and the current window in s2s2. When we slide the window, if the deduction of the last element and the addition of the new element leads to a new frequency match of any of the characters, we increment the countcount by 1. If not, we keep the countcount intact. But, if a character whose frequency was the same earlier(prior to addition and removal) is added, it now leads to a frequency mismatch which is taken into account by decrementing the same countcount variable. If, after the shifting of the window, the countcount evaluates to 26, it means all the characters match in frequency totally. So, we return a True in that case immediately.\n",
    "\n"
   ]
  },
  {
   "cell_type": "markdown",
   "metadata": {},
   "source": [
    "优化的细节部分了：Leetcode答案4用了26个字母的hashmap，每次进行26个字母的对比 \n",
    "优化的话可以将新来的数进行match，如果match上，count++\n",
    "然后pop最前面的，如果match上，count-- "
   ]
  },
  {
   "cell_type": "markdown",
   "metadata": {},
   "source": [
    "当count == 26时，直接结束"
   ]
  }
 ],
 "metadata": {
  "kernelspec": {
   "display_name": "Python 3",
   "language": "python",
   "name": "python3"
  },
  "language_info": {
   "codemirror_mode": {
    "name": "ipython",
    "version": 3
   },
   "file_extension": ".py",
   "mimetype": "text/x-python",
   "name": "python",
   "nbconvert_exporter": "python",
   "pygments_lexer": "ipython3",
   "version": "3.7.4"
  }
 },
 "nbformat": 4,
 "nbformat_minor": 2
}
