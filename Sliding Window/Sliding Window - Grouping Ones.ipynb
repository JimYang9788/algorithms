{
 "cells": [
  {
   "cell_type": "code",
   "execution_count": null,
   "metadata": {},
   "outputs": [],
   "source": [
    "class Solution:\n",
    "    def minSwaps(self, data: List[int]) -> int:\n",
    "        totalCount = sum(i for i in data)\n",
    "        if totalCount == 0: return 0\n",
    "\n",
    "        l, r = 0, 0\n",
    "        cache = {0:0, 1:0}\n",
    "        minSwaps = float (\"inf\")\n",
    "        while (r < len(data)):\n",
    "            if r < totalCount - 1:\n",
    "                cache[data[r]] += 1 \n",
    "                \n",
    "            else:\n",
    "                # Try add\n",
    "                cache[data[r]] += 1 \n",
    "                # While Satisfying, trying shortening the interval \n",
    "                while (cache[0] + cache[1]) >= totalCount:\n",
    "                    minSwaps = min(minSwaps, cache[0])\n",
    "                    cache[data[l]] -= 1 \n",
    "                    l += 1                 \n",
    "            r += 1 \n",
    "        \n",
    "        \n",
    "        return minSwaps "
   ]
  }
 ],
 "metadata": {
  "kernelspec": {
   "display_name": "Python 3",
   "language": "python",
   "name": "python3"
  },
  "language_info": {
   "codemirror_mode": {
    "name": "ipython",
    "version": 3
   },
   "file_extension": ".py",
   "mimetype": "text/x-python",
   "name": "python",
   "nbconvert_exporter": "python",
   "pygments_lexer": "ipython3",
   "version": "3.7.4"
  }
 },
 "nbformat": 4,
 "nbformat_minor": 2
}
