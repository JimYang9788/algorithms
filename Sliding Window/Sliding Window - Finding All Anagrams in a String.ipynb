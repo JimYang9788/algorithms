{
 "cells": [
  {
   "cell_type": "code",
   "execution_count": 3,
   "metadata": {},
   "outputs": [],
   "source": [
    "List = list \n",
    "from collections import Counter\n",
    "class Solution:\n",
    "    def findAnagrams(self, s: str, p: str) :\n",
    "        \n",
    "        def isAnagram (curSet, parSet):\n",
    "            for char, count in parSet.items():\n",
    "                if count != curSet[char]:\n",
    "                    return False\n",
    "            return True \n",
    "        \n",
    "        \n",
    "        \n",
    "        l,r = 0,0\n",
    "        res = []\n",
    "        curSet = Counter()\n",
    "        parSet = Counter(p)\n",
    "        \n",
    "        for r in range (len(s)):\n",
    "            if r < len(p) - 1:\n",
    "                curSet[s[r]] += 1 \n",
    "            else:\n",
    "                curSet[s[r]] += 1 \n",
    "                if isAnagram (curSet, parSet):\n",
    "                    res.append (l)\n",
    "                curSet[s[l]] -= 1             \n",
    "                l += 1 \n",
    "        \n",
    "        return res"
   ]
  }
 ],
 "metadata": {
  "kernelspec": {
   "display_name": "Python 3",
   "language": "python",
   "name": "python3"
  },
  "language_info": {
   "codemirror_mode": {
    "name": "ipython",
    "version": 3
   },
   "file_extension": ".py",
   "mimetype": "text/x-python",
   "name": "python",
   "nbconvert_exporter": "python",
   "pygments_lexer": "ipython3",
   "version": "3.7.4"
  }
 },
 "nbformat": 4,
 "nbformat_minor": 2
}
