{
 "cells": [
  {
   "cell_type": "markdown",
   "metadata": {},
   "source": [
    "### October. 21\n",
    "\n",
    "#### Binary Tree Right Side View\n",
    "Given a binary tree, imagine yourself standing on the right side of it, return the values of the nodes you can see ordered from top to bottom.\n",
    "```\n",
    "Example:\n",
    "\n",
    "Input: [1,2,3,null,5,null,4]\n",
    "Output: [1, 3, 4]\n",
    "Explanation:\n",
    "\n",
    "   1            <---\n",
    " /   \\\n",
    "2     3         <---\n",
    " \\     \\\n",
    "  5     4       <---\n",
    "\n",
    "```"
   ]
  },
  {
   "cell_type": "code",
   "execution_count": 2,
   "metadata": {},
   "outputs": [],
   "source": [
    "class TreeNode:\n",
    "    def __init__(self):\n",
    "        self.val = None\n",
    "        self.left = None\n",
    "        self.right = None\n",
    "        \n",
    "class Solution:\n",
    "    def rightSideView(self, root: TreeNode):\n",
    "        if root is None:\n",
    "            return []\n",
    "        \n",
    "        queue = deque([root, None,])\n",
    "        rightside = []\n",
    "        \n",
    "        curr = root\n",
    "        while queue:\n",
    "            prev, curr = curr, queue.popleft()\n",
    "\n",
    "            while curr:\n",
    "                # add child nodes in the queue\n",
    "                if curr.left:\n",
    "                    queue.append(curr.left)\n",
    "                if curr.right:\n",
    "                    queue.append(curr.right)\n",
    "                    \n",
    "                prev, curr = curr, queue.popleft()\n",
    "            \n",
    "            # the current level is finished\n",
    "            # and prev is its rightmost element      \n",
    "            rightside.append(prev.val)\n",
    "            # add a sentinel to mark the end \n",
    "            # of the next level\n",
    "            if queue:\n",
    "                queue.append(None)\n",
    "        \n",
    "        return rightside"
   ]
  },
  {
   "cell_type": "code",
   "execution_count": null,
   "metadata": {},
   "outputs": [],
   "source": []
  }
 ],
 "metadata": {
  "kernelspec": {
   "display_name": "Python 3",
   "language": "python",
   "name": "python3"
  },
  "language_info": {
   "codemirror_mode": {
    "name": "ipython",
    "version": 3
   },
   "file_extension": ".py",
   "mimetype": "text/x-python",
   "name": "python",
   "nbconvert_exporter": "python",
   "pygments_lexer": "ipython3",
   "version": "3.7.4"
  }
 },
 "nbformat": 4,
 "nbformat_minor": 2
}
