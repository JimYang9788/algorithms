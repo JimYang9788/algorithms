{
 "cells": [
  {
   "cell_type": "code",
   "execution_count": 2,
   "metadata": {},
   "outputs": [
    {
     "ename": "SyntaxError",
     "evalue": "invalid syntax (<ipython-input-2-a064c31ca5b5>, line 1)",
     "output_type": "error",
     "traceback": [
      "\u001b[0;36m  File \u001b[0;32m\"<ipython-input-2-a064c31ca5b5>\"\u001b[0;36m, line \u001b[0;32m1\u001b[0m\n\u001b[0;31m    Definition for a binary tree node.\u001b[0m\n\u001b[0m                 ^\u001b[0m\n\u001b[0;31mSyntaxError\u001b[0m\u001b[0;31m:\u001b[0m invalid syntax\n"
     ]
    }
   ],
   "source": [
    "# Definition for a binary tree node.\n",
    "class TreeNode:\n",
    "    def __init__(self, val=0, left=None, right=None):\n",
    "        self.val = val\n",
    "        self.left = left\n",
    "        self.right = right\n",
    "class Solution:\n",
    "    res = []\n",
    "    def accTraversal (self, root):\n",
    "        if not root:\n",
    "            return \n",
    "        else:\n",
    "            self.accTraversal(root.left)\n",
    "            self.res.append (root.val)\n",
    "            self.accTraversal(root.right)\n",
    "        return self.res      \n",
    "    \n",
    "    def inorderTraversal(self, root: TreeNode) -> List[int]:\n",
    "        self.res = []\n",
    "        return self.accTraversal(root)\n"
   ]
  },
  {
   "cell_type": "code",
   "execution_count": null,
   "metadata": {},
   "outputs": [],
   "source": [
    "# Definition for a binary tree node.\n",
    "# class TreeNode:\n",
    "#     def __init__(self, val=0, left=None, right=None):\n",
    "#         self.val = val\n",
    "#         self.left = left\n",
    "#         self.right = right\n",
    "class Solution:\n",
    "\n",
    "    \n",
    "    def zigzagLevelOrder(self, root: TreeNode) -> List[List[int]]:\n",
    "        if not root: return []\n",
    "        \n",
    "        res = []\n",
    "        Q = []\n",
    "        Q.append (root)\n",
    "        left_to_right = 1 \n",
    "        while Q:\n",
    "            next_level = []\n",
    "            for node in Q:\n",
    "                if node.left:\n",
    "                    next_level.append (node.left)\n",
    "                if node.right:\n",
    "                    next_level.append (node.right)\n",
    "            \n",
    "            if left_to_right:\n",
    "                res.append ([node.val for node in Q])\n",
    "            else:\n",
    "                Q.reverse()\n",
    "                res.append ([node.val for node in Q])\n",
    "            left_to_right = 1 - left_to_right\n",
    "            \n",
    "            Q = next_level\n",
    "        return res\n",
    "            "
   ]
  }
 ],
 "metadata": {
  "kernelspec": {
   "display_name": "Python 3",
   "language": "python",
   "name": "python3"
  },
  "language_info": {
   "codemirror_mode": {
    "name": "ipython",
    "version": 3
   },
   "file_extension": ".py",
   "mimetype": "text/x-python",
   "name": "python",
   "nbconvert_exporter": "python",
   "pygments_lexer": "ipython3",
   "version": "3.7.4"
  }
 },
 "nbformat": 4,
 "nbformat_minor": 2
}
