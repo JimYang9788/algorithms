{
 "cells": [
  {
   "cell_type": "markdown",
   "metadata": {},
   "source": [
    "#### Floyd's Tortoise and Hare Algorithm\n",
    "Initially used in linekdlist cycle problem:\n",
    "\n",
    "Move the tortoise in linear speed, move the hare in double speed.\n"
   ]
  },
  {
   "cell_type": "code",
   "execution_count": 6,
   "metadata": {},
   "outputs": [],
   "source": [
    "class ListNode:\n",
    "    def __init__(self, x):\n",
    "        self.val = x\n",
    "        self.next = None\n",
    "\n",
    "class Solution:\n",
    "    \n",
    "    def hasCycle (self, head):\n",
    "        if head == None:\n",
    "            return False\n",
    "    \n",
    "        slow =  head \n",
    "        fast = head.next \n",
    "\n",
    "        while (slow != fast):\n",
    "            if fast == None or fast.next == None:\n",
    "                return False\n",
    "            else:\n",
    "                slow = slow.next \n",
    "                fast = fast.next.next \n",
    "        return True "
   ]
  },
  {
   "cell_type": "code",
   "execution_count": null,
   "metadata": {},
   "outputs": [],
   "source": []
  }
 ],
 "metadata": {
  "kernelspec": {
   "display_name": "Python 3",
   "language": "python",
   "name": "python3"
  },
  "language_info": {
   "codemirror_mode": {
    "name": "ipython",
    "version": 3
   },
   "file_extension": ".py",
   "mimetype": "text/x-python",
   "name": "python",
   "nbconvert_exporter": "python",
   "pygments_lexer": "ipython3",
   "version": "3.7.4"
  }
 },
 "nbformat": 4,
 "nbformat_minor": 2
}
