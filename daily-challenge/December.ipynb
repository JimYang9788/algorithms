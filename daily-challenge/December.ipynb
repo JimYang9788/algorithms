{
 "cells": [
  {
   "cell_type": "markdown",
   "metadata": {},
   "source": [
    "#### Floyd's Tortoise and Hare Algorithm\n",
    "\n",
    "Initially used in linekdlist cycle problem:\n",
    "\n",
    "Move the tortoise in linear speed, move the hare in double speed.\n"
   ]
  },
  {
   "cell_type": "code",
   "execution_count": 9,
   "metadata": {},
   "outputs": [],
   "source": [
    "class ListNode:\n",
    "    def __init__(self, x):\n",
    "        self.val = x\n",
    "        self.next = None\n",
    "\n",
    "class Solution:\n",
    "    \n",
    "    def hasCycle (self, head):\n",
    "        if head == None:\n",
    "            return False\n",
    "    \n",
    "        slow =  head \n",
    "        fast = head.next \n",
    "\n",
    "        while (slow != fast):\n",
    "            if fast == None or fast.next == None:\n",
    "                return False\n",
    "            else:\n",
    "                slow = slow.next \n",
    "                fast = fast.next.next \n",
    "        return True "
   ]
  },
  {
   "cell_type": "code",
   "execution_count": 8,
   "metadata": {},
   "outputs": [],
   "source": [
    "class Solution(object):\n",
    "    def getIntersect(self, head):\n",
    "        tortoise = head\n",
    "        hare = head\n",
    "\n",
    "        # A fast pointer will either loop around a cycle and meet the slow\n",
    "        # pointer or reach the `null` at the end of a non-cyclic list.\n",
    "        while hare is not None and hare.next is not None:\n",
    "            tortoise = tortoise.next\n",
    "            hare = hare.next.next\n",
    "            if tortoise == hare:\n",
    "                return tortoise\n",
    "\n",
    "        return None\n",
    "\n",
    "    def detectCycle(self, head):\n",
    "        if head is None:\n",
    "            return None\n",
    "\n",
    "        # If there is a cycle, the fast/slow pointers will intersect at some\n",
    "        # node. Otherwise, there is no cycle, so we cannot find an entrance to\n",
    "        # a cycle.\n",
    "        intersect = self.getIntersect(head)\n",
    "        if intersect is None:\n",
    "            return None\n",
    "\n",
    "        # To find the entrance to the cycle, we have two pointers traverse at\n",
    "        # the same speed -- one from the front of the list, and the other from\n",
    "        # the point of intersection.\n",
    "        ptr1 = head\n",
    "        ptr2 = intersect\n",
    "        while ptr1 != ptr2:\n",
    "            ptr1 = ptr1.next\n",
    "            ptr2 = ptr2.next\n",
    "\n",
    "        return ptr1\n"
   ]
  },
  {
   "cell_type": "code",
   "execution_count": 1,
   "metadata": {},
   "outputs": [],
   "source": [
    "class Solution:\n",
    "    def uniquePaths(self, m: int, n: int) -> int:\n",
    "        \n",
    "        D = [[0] * n] * m \n",
    "        \n",
    "        for i in range (0,m):\n",
    "            for j in range (0,n):\n",
    "                D[i][0] = 1\n",
    "                D[0][j] = 1\n",
    "                \n",
    "        for i in range (1,m):\n",
    "            for j in range (1,n):\n",
    "                D[i][j] = D[i-1][j] + D[i][j-1]\n",
    "                \n",
    "        return D[m-1][n-1]"
   ]
  },
  {
   "cell_type": "code",
   "execution_count": null,
   "metadata": {},
   "outputs": [],
   "source": [
    "class Solution:\n",
    "    def coinChange(self, coins: List[int], amount: int) -> int:\n",
    "        dp = [float('inf')] * (amount + 1)\n",
    "        dp[0] = 0\n",
    "        \n",
    "        for coin in coins:\n",
    "            for x in range(coin, amount + 1):\n",
    "                dp[x] = min(dp[x], dp[x - coin] + 1)\n",
    "        return dp[amount] if dp[amount] != float('inf') else -1 "
   ]
  }
 ],
 "metadata": {
  "kernelspec": {
   "display_name": "Python 3",
   "language": "python",
   "name": "python3"
  },
  "language_info": {
   "codemirror_mode": {
    "name": "ipython",
    "version": 3
   },
   "file_extension": ".py",
   "mimetype": "text/x-python",
   "name": "python",
   "nbconvert_exporter": "python",
   "pygments_lexer": "ipython3",
   "version": "3.7.4"
  }
 },
 "nbformat": 4,
 "nbformat_minor": 2
}
