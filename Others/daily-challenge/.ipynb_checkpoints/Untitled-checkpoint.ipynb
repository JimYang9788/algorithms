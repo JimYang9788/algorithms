{
 "cells": [
  {
   "cell_type": "code",
   "execution_count": 1,
   "metadata": {},
   "outputs": [],
   "source": [
    "class Solution:\n",
    "    def uniquePaths(self, m: int, n: int) -> int:\n",
    "        \n",
    "        D = [[0] * n] * m \n",
    "        \n",
    "        for i in range (0,m):\n",
    "            for j in range (0,n):\n",
    "                D[i][0] = 1\n",
    "                D[0][j] = 1\n",
    "                \n",
    "        for i in range (1,m):\n",
    "            for j in range (1,n):\n",
    "                D[i][j] = D[i-1][j] + D[i][j-1]\n",
    "                \n",
    "        return D[m-1][n-1]"
   ]
  },
  {
   "cell_type": "code",
   "execution_count": null,
   "metadata": {},
   "outputs": [],
   "source": []
  }
 ],
 "metadata": {
  "kernelspec": {
   "display_name": "Python 3",
   "language": "python",
   "name": "python3"
  },
  "language_info": {
   "codemirror_mode": {
    "name": "ipython",
    "version": 3
   },
   "file_extension": ".py",
   "mimetype": "text/x-python",
   "name": "python",
   "nbconvert_exporter": "python",
   "pygments_lexer": "ipython3",
   "version": "3.7.4"
  }
 },
 "nbformat": 4,
 "nbformat_minor": 2
}
