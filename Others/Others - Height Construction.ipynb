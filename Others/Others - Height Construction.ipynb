{
 "cells": [
  {
   "cell_type": "code",
   "execution_count": 1,
   "metadata": {},
   "outputs": [],
   "source": [
    "class Solution:\n",
    "    def reconstructQueue(self, people):\n",
    "        # Insertion sort strategy \n",
    "        def fullinsert(person,res,i):\n",
    "            while (i < len(res)):\n",
    "                if res[i][0] > person[0]:\n",
    "                    res = res[:i] + [person] + res[i:]\n",
    "                    return res     \n",
    "                i += 1 \n",
    "            res.append(person)\n",
    "            return res \n",
    "\n",
    "        \n",
    "        def insert (person, res):\n",
    "            # Mutate people, insert the person inplace\n",
    "            if not res:\n",
    "                res = [person]\n",
    "                return res \n",
    "            i = 0\n",
    "            count = 0\n",
    "            while(i < len(res)):\n",
    "                if count == person[1]:\n",
    "                    res = fullinsert (person,res,i)  \n",
    "                    return res \n",
    "                if (res[i][0] >= person[0]):\n",
    "                    count += 1 \n",
    "                i += 1 \n",
    "            res.append(person)\n",
    "            return res \n",
    "        res = []\n",
    "        \n",
    "        people =  sorted (people, key=lambda x:x[1])\n",
    "        for person in people:\n",
    "            res = insert(person, res)\n",
    "        \n",
    "        return res \n",
    "            "
   ]
  },
  {
   "cell_type": "markdown",
   "metadata": {},
   "source": [
    "### Other Solution\n",
    "\n",
    "\n",
    "Below is my explanation of the following neat solution where we sort people from tall to short (and by increasing k-value) and then just insert them into the queue using their k-value as the queue index:\n",
    "```\n",
    "def reconstructQueue(self, people):\n",
    "    people.sort(key=lambda (h, k): (-h, k))\n",
    "    queue = []\n",
    "    for p in people:\n",
    "        queue.insert(p[1], p)\n",
    "    return queue\n",
    "```\n",
    "I didn't come up with that myself, but here's my own explanation of it, as I haven't seen anybody explain it (and was asked to explain it):\n",
    "\n",
    "People are only counting (in their k-value) taller or equal-height others standing in front of them. So a smallest person is completely irrelevant for all taller ones. And of all smallest people, the one standing most in the back is even completely irrelevant for everybody else. Nobody is counting that person. So we can first arrange everybody else, ignoring that one person. And then just insert that person appropriately. Now note that while this person is irrelevant for everybody else, everybody else is relevant for this person - this person counts exactly everybody in front of them. So their count-value tells you exactly the index they must be standing.\n",
    "\n",
    "最小的那个家伙没人care，他只需要自己的位置就ok了\n",
    "\n",
    "So you can first solve the sub-problem with all but that one person and then just insert that person appropriately. And you can solve that sub-problem the same way, first solving the sub-sub-problem with all but the last-smallest person of the subproblem. And so on. The base case is when you have the sub-...-sub-problem of zero people. You're then inserting the people in the reverse order, \n",
    "\n",
    "#### Base case here:\n",
    "\n",
    "i.e., that overall last-smallest person in the very end and thus the first-tallest person in the very beginning. That's what the above solution does, Sorting the people from the first-tallest to the last-smallest, and inserting them one by one as appropriate.\n",
    "\n",
    "Now that's my explanation. If you have a different one, I'm interested to see it :-)"
   ]
  },
  {
   "cell_type": "code",
   "execution_count": 2,
   "metadata": {},
   "outputs": [],
   "source": [
    "class Solution(object):\n",
    "    def reconstructQueue(self, people):\n",
    "        \"\"\"\n",
    "        :type people: List[List[int]]\n",
    "        :rtype: List[List[int]]\n",
    "        \"\"\"\n",
    "        people = sorted(people, key = lambda x: (-x[0], x[1]))\n",
    "        res = []\n",
    "        for p in people:\n",
    "            res.insert(p[1], p)\n",
    "        return res\n",
    "\n"
   ]
  }
 ],
 "metadata": {
  "kernelspec": {
   "display_name": "Python 3",
   "language": "python",
   "name": "python3"
  },
  "language_info": {
   "codemirror_mode": {
    "name": "ipython",
    "version": 3
   },
   "file_extension": ".py",
   "mimetype": "text/x-python",
   "name": "python",
   "nbconvert_exporter": "python",
   "pygments_lexer": "ipython3",
   "version": "3.7.4"
  }
 },
 "nbformat": 4,
 "nbformat_minor": 2
}
