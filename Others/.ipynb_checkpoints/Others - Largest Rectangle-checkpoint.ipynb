{
 "cells": [
  {
   "cell_type": "code",
   "execution_count": null,
   "metadata": {},
   "outputs": [],
   "source": [
    "class Solution:\n",
    "    def largestRectangleArea(self, heights: List[int]) -> int:\n",
    "#         # Try a DP like \n",
    "#         # The area is the the length of the subarray * min(subarray)\n",
    "#         if not heights: return 0 \n",
    "#         if len(heights) == 1: return heights[0] \n",
    "        \n",
    "#         minSoFar = [float(\"inf\") for height in range(len(heights))]\n",
    "#         curMin = heights [0]\n",
    "#         for i in range(len(heights)):\n",
    "#             minSoFar[i] = min(curMin, heights[i])\n",
    "        \n",
    "        n = len(heights)\n",
    "        maxArea = 0\n",
    "        for i in range(0,n):\n",
    "            for j in range (i+1, n+1):\n",
    "                minNum = min(heights[i:j])\n",
    "                area = minNum * (j-i)\n",
    "                maxArea = max(area, maxArea)\n",
    "        \n",
    "        return maxArea \n",
    "        "
   ]
  }
 ],
 "metadata": {
  "kernelspec": {
   "display_name": "Python 3",
   "language": "python",
   "name": "python3"
  },
  "language_info": {
   "codemirror_mode": {
    "name": "ipython",
    "version": 3
   },
   "file_extension": ".py",
   "mimetype": "text/x-python",
   "name": "python",
   "nbconvert_exporter": "python",
   "pygments_lexer": "ipython3",
   "version": "3.7.4"
  }
 },
 "nbformat": 4,
 "nbformat_minor": 2
}
