{
 "cells": [
  {
   "cell_type": "code",
   "execution_count": null,
   "metadata": {},
   "outputs": [],
   "source": [
    "class Solution:\n",
    "    def getSkyline(self, buildings: List[List[int]]) -> List[List[int]]:\n",
    "        # Brute force \n",
    "        # Creat an array, save the heights height for each index i \n",
    "        # Iterate a second time, every time the max height is changed, draw a sky line \n",
    "        y = 0 \n",
    "        for building in buildings:\n",
    "            x2 = building[1]\n",
    "            y = max (y, x2)\n",
    "        y += 1 \n",
    "            \n",
    "        height_list = [0 for i in range(0,y+1)]\n",
    "        for index in range(0,y+1):\n",
    "            curMax = 0 \n",
    "            for building in buildings:\n",
    "                if building [0] <= index <= building[1]:\n",
    "                    curMax = max(curMax, building[2])\n",
    "            height_list [index] = curMax \n",
    "        \n",
    "        curMax = 0\n",
    "        for index in range (0,y+1):\n",
    "            if height_list[index] > curMax:\n",
    "                skylines.append ([index, height_list[index]])\n",
    "                curMax = height_list[index]\n",
    "            if height_list[index] < curMax:\n",
    "                skylines.append ([index-1, height_list[index]])\n",
    "                curMax = height_list[index]\n",
    "        \n",
    "        return skylines "
   ]
  }
 ],
 "metadata": {
  "kernelspec": {
   "display_name": "Python 3",
   "language": "python",
   "name": "python3"
  },
  "language_info": {
   "codemirror_mode": {
    "name": "ipython",
    "version": 3
   },
   "file_extension": ".py",
   "mimetype": "text/x-python",
   "name": "python",
   "nbconvert_exporter": "python",
   "pygments_lexer": "ipython3",
   "version": "3.7.4"
  }
 },
 "nbformat": 4,
 "nbformat_minor": 2
}
