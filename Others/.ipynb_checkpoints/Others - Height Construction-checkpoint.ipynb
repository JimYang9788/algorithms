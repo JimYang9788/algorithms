{
 "cells": [
  {
   "cell_type": "code",
   "execution_count": null,
   "metadata": {},
   "outputs": [],
   "source": [
    "class Solution:\n",
    "    def reconstructQueue(self, people):\n",
    "        # Insertion sort strategy \n",
    "        def fullinsert(person,res,i):\n",
    "            while (i < len(res)):\n",
    "                if res[i][0] > person[0]:\n",
    "                    res = res[:i] + [person] + res[i:]\n",
    "                    return res     \n",
    "                i += 1 \n",
    "            res.append(person)\n",
    "            return res \n",
    "\n",
    "        \n",
    "        def insert (person, res):\n",
    "            # Mutate people, insert the person inplace\n",
    "            if not res:\n",
    "                res = [person]\n",
    "                return res \n",
    "            i = 0\n",
    "            count = 0\n",
    "            while(i < len(res)):\n",
    "                if count == person[1]:\n",
    "                    res = fullinsert (person,res,i)  \n",
    "                    return res \n",
    "                if (res[i][0] >= person[0]):\n",
    "                    count += 1 \n",
    "                i += 1 \n",
    "            res.append(person)\n",
    "            return res \n",
    "        res = []\n",
    "        \n",
    "        people =  sorted (people, key=lambda x:x[1])\n",
    "        for person in people:\n",
    "            res = insert(person, res)\n",
    "        \n",
    "        return res \n",
    "            "
   ]
  }
 ],
 "metadata": {
  "kernelspec": {
   "display_name": "Python 3",
   "language": "python",
   "name": "python3"
  },
  "language_info": {
   "codemirror_mode": {
    "name": "ipython",
    "version": 3
   },
   "file_extension": ".py",
   "mimetype": "text/x-python",
   "name": "python",
   "nbconvert_exporter": "python",
   "pygments_lexer": "ipython3",
   "version": "3.7.4"
  }
 },
 "nbformat": 4,
 "nbformat_minor": 2
}
