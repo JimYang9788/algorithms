{
 "cells": [
  {
   "cell_type": "code",
   "execution_count": 1,
   "metadata": {},
   "outputs": [],
   "source": [
    "class Solution(object):\n",
    "    # Recursion to slice down b\n",
    "    def myPow(self, a, b):\n",
    "        if b < 0 :\n",
    "            return 1 / self.helper(a, -b)\n",
    "        else:\n",
    "            return self.helper(a, b)\n",
    "    \n",
    "    def helper(self, a, b):\n",
    "        if b == 0: return 1\n",
    "        half = self.helper(a, b // 2)\n",
    "        if b % 2 == 0:\n",
    "            return half * half\n",
    "        else:\n",
    "            return half * half * a\n"
   ]
  }
 ],
 "metadata": {
  "kernelspec": {
   "display_name": "Python 3",
   "language": "python",
   "name": "python3"
  },
  "language_info": {
   "codemirror_mode": {
    "name": "ipython",
    "version": 3
   },
   "file_extension": ".py",
   "mimetype": "text/x-python",
   "name": "python",
   "nbconvert_exporter": "python",
   "pygments_lexer": "ipython3",
   "version": "3.7.4"
  }
 },
 "nbformat": 4,
 "nbformat_minor": 2
}
