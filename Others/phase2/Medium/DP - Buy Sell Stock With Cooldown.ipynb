{
 "cells": [
  {
   "cell_type": "code",
   "execution_count": null,
   "metadata": {},
   "outputs": [],
   "source": [
    "class Solution:\n",
    "    def maxProfit(self, prices: List[int]) -> int:\n",
    "        ## RC ##\n",
    "        ## APPROACH : DP - STATE MACHINE PATTERN ##\n",
    "        ## LOGIC ##\n",
    "        \n",
    "        \"\"\"\n",
    "        1. In general dynamic programming concept, we store maxprofit found till that index in dp[i], but this problem has many states i) buy ii) sell iii) cooldown \n",
    "        \n",
    "        2. if in case of multiple states, what we do in (say DP state machine pattern) is we store maximum for all the possible states i.e\n",
    "            a) max profit with state = buy,      on day i\n",
    "            b) max profit with state = cooldown, on day i\n",
    "            c) max profit with state = sell,     on day i\n",
    "        \n",
    "        3. For this problem\n",
    "            a) dp_buy[i] = we are buying on that day. But as per question you can only buy when previous day is cooldown. so only consider dp_cooldown[i-1] and also buying on day i, will cost you some money i.e price[i]. can be written as:\n",
    "                ``` dp_buy[i] = dp_cooldown[i-1] - price[i] ```\n",
    "            b) dp_cooldown[i] = we are doing nothing, so whatever you have done on previous day doesn't matter. so take maximum of all previous states\n",
    "                ``` dp_cooldown[i] = max( dp_cooldown[i-1], dp_buy[i-1], dp_sell[i-1] )  ```\n",
    "            c) dp_sell[i] = before selling you have to buy, so we have to get max of previous_buy value from o to i. Instead of looping 0 to i, we can simply keep a max_prev_buy variable and keep track of it. And also by selling you are getting money i.e prices[i] so add prices[i] to max_prev_buy\n",
    "                dp_sell[i] = (max profit you got before by buying stocks) + ( profit by selling this stock )\n",
    "                ``` dp_sell[i] = max_prev_buy + prices[i]   ```\n",
    "        \"\"\"\n",
    "        \n",
    "        if len(prices) < 2 : return 0\n",
    "                \n",
    "        n               = len(prices)\n",
    "        dp_buy          = [0 for _ in range(n)]\n",
    "        dp_cooldown     = [0 for _ in range(n)]\n",
    "        dp_sell         = [0 for _ in range(n)]\n",
    "        \n",
    "        dp_cooldown[0]  = 0\n",
    "        dp_buy[0]       = -prices[0]\n",
    "        dp_sell[0]      = float('-inf')\n",
    "        max_prev_buy    = dp_buy[0]\n",
    "        \n",
    "        for i in range(1, n):\n",
    "            dp_cooldown[i]  = max( dp_cooldown[i-1], dp_buy[i-1], dp_sell[i-1] )\n",
    "            dp_buy[i]       = dp_cooldown[i-1] - prices[i]\n",
    "            dp_sell[i]      = max_prev_buy + prices[i]\n",
    "            \n",
    "            max_prev_buy    = max( max_prev_buy, dp_buy[i] )\n",
    "            \n",
    "        return max( dp_cooldown[-1], dp_sell[-1] )"
   ]
  }
 ],
 "metadata": {
  "kernelspec": {
   "display_name": "Python 3",
   "language": "python",
   "name": "python3"
  },
  "language_info": {
   "codemirror_mode": {
    "name": "ipython",
    "version": 3
   },
   "file_extension": ".py",
   "mimetype": "text/x-python",
   "name": "python",
   "nbconvert_exporter": "python",
   "pygments_lexer": "ipython3",
   "version": "3.7.4"
  }
 },
 "nbformat": 4,
 "nbformat_minor": 2
}
