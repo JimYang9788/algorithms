{
 "cells": [
  {
   "cell_type": "code",
   "execution_count": 1,
   "metadata": {},
   "outputs": [],
   "source": [
    "def moveElementToEnd(array, toMove):\n",
    "    # Write your code here.\n",
    "    \n",
    "\tfrontier = len(array) - 1\n",
    "\t\n",
    "\t\n",
    "\tfor i, num in reversed (list(enumerate (array))):\n",
    "\t\t\n",
    "\t\tif num == toMove:\n",
    "\t\t\tarray[i], array[frontier] = array[frontier], array[i]\n",
    "\t\t\tfrontier -= 1 \n",
    "\t\t\n",
    "\t\t\n",
    "\treturn array\n"
   ]
  },
  {
   "cell_type": "code",
   "execution_count": null,
   "metadata": {},
   "outputs": [],
   "source": []
  }
 ],
 "metadata": {
  "kernelspec": {
   "display_name": "Python 3",
   "language": "python",
   "name": "python3"
  },
  "language_info": {
   "codemirror_mode": {
    "name": "ipython",
    "version": 3
   },
   "file_extension": ".py",
   "mimetype": "text/x-python",
   "name": "python",
   "nbconvert_exporter": "python",
   "pygments_lexer": "ipython3",
   "version": "3.7.4"
  }
 },
 "nbformat": 4,
 "nbformat_minor": 2
}
