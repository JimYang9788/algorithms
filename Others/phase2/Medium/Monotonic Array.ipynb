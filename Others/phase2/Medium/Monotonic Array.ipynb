{
 "cells": [
  {
   "cell_type": "code",
   "execution_count": 3,
   "metadata": {},
   "outputs": [],
   "source": [
    "def isMonotonic(array):\n",
    "    # Write your code here.\n",
    "    if not array or len(array) == 1: return True \n",
    "\n",
    "    prev = array[0]\n",
    "    is_increasing = True\n",
    "    for i in range (1, len(array)):\n",
    "        if array[i] >= prev:\n",
    "            prev = array[i]\n",
    "        else:\n",
    "            is_increasing = False\n",
    "\n",
    "    prev = array[0]\n",
    "    is_decreasing = True\n",
    "    for i in range (1, len(array)):\n",
    "        if array[i] <= prev:\n",
    "            prev = array[i]\n",
    "        else:\n",
    "            is_decreasing = False\t\n",
    "\n",
    "\n",
    "    return is_increasing or is_decreasing\n"
   ]
  },
  {
   "cell_type": "code",
   "execution_count": null,
   "metadata": {},
   "outputs": [],
   "source": []
  }
 ],
 "metadata": {
  "kernelspec": {
   "display_name": "Python 3",
   "language": "python",
   "name": "python3"
  },
  "language_info": {
   "codemirror_mode": {
    "name": "ipython",
    "version": 3
   },
   "file_extension": ".py",
   "mimetype": "text/x-python",
   "name": "python",
   "nbconvert_exporter": "python",
   "pygments_lexer": "ipython3",
   "version": "3.7.4"
  }
 },
 "nbformat": 4,
 "nbformat_minor": 2
}
