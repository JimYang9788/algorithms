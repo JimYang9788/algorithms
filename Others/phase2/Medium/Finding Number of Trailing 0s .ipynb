{
 "cells": [
  {
   "cell_type": "code",
   "execution_count": 1,
   "metadata": {},
   "outputs": [],
   "source": [
    "def trailingZeroes(self, n: int) -> int:\n",
    "        \n",
    "    # Calculate n!\n",
    "    n_factorial = 1\n",
    "    for i in range(2, n + 1):\n",
    "        n_factorial *= i\n",
    "    \n",
    "    # Count how many 0's are on the end.\n",
    "    zero_count = 0\n",
    "    while n_factorial % 10 == 0:\n",
    "        zero_count += 1\n",
    "        n_factorial //= 10\n",
    "        \n",
    "    return zero_count"
   ]
  },
  {
   "cell_type": "code",
   "execution_count": 2,
   "metadata": {},
   "outputs": [],
   "source": [
    "def trailingZeroes(self, n: int) -> int:\n",
    "        \n",
    "    zero_count = 0\n",
    "    for i in range(5, n + 1, 5):\n",
    "        power_of_5 = 5\n",
    "        while i % power_of_5 == 0:\n",
    "            zero_count += 1\n",
    "            power_of_5 *= 5\n",
    "\n",
    "    return zero_count"
   ]
  },
  {
   "cell_type": "markdown",
   "metadata": {},
   "source": [
    "Divide that 55 out. The loop will then repeat if there are further remaining 55 factors.\n",
    "\n",
    "We can do that like this:\n",
    "\n",
    "twos = 0\n",
    "for i from 1 to n inclusive:\n",
    "    remaining_i = i\n",
    "    while remaining_i is divisible by 2:\n",
    "        twos += 1\n",
    "        remaining_i = remaining_i / 2\n",
    "\n",
    "fives = 0\n",
    "for i from 1 to n inclusive:\n",
    "    remaining_i = i\n",
    "    while remaining_i is divisible by 5:\n",
    "        fives += 1\n",
    "        remaining_i = remaining_i / 5\n",
    "\n",
    "tens = min(twos, fives)"
   ]
  },
  {
   "cell_type": "markdown",
   "metadata": {},
   "source": [
    "## Follow up Question:\n",
    "Why not just do // 5?  Because we want to know how many 5s each new n in (1,100) brings \n",
    "Stuffs like 20 carries (2 and 5), so we have to account that."
   ]
  },
  {
   "cell_type": "code",
   "execution_count": null,
   "metadata": {},
   "outputs": [],
   "source": []
  }
 ],
 "metadata": {
  "kernelspec": {
   "display_name": "Python 3",
   "language": "python",
   "name": "python3"
  },
  "language_info": {
   "codemirror_mode": {
    "name": "ipython",
    "version": 3
   },
   "file_extension": ".py",
   "mimetype": "text/x-python",
   "name": "python",
   "nbconvert_exporter": "python",
   "pygments_lexer": "ipython3",
   "version": "3.7.4"
  }
 },
 "nbformat": 4,
 "nbformat_minor": 2
}
