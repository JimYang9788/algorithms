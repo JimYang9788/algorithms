{
 "cells": [
  {
   "cell_type": "code",
   "execution_count": null,
   "metadata": {},
   "outputs": [],
   "source": [
    "def threeNumberSum(array, targetSum):\n",
    "\tarray.sort()\n",
    "\ttriplets = []\n",
    "\t\n",
    "\tfor i in range (len(array)-2):\n",
    "\t\tleft = i + 1 \n",
    "\t\tright = len(array) - 1 \n",
    "\t\twhile left < right:\n",
    "\t\t\tcurrentSum = array[i] + array[left] + array[right]\n",
    "\t\t\tif currentSum == targetSum:\n",
    "\t\t\t\ttriplets.append ([array[i] , array[left] , array[right]])\n",
    "\t\t\t\tleft += 1 \n",
    "\t\t\t\tright -= 1 \n",
    "\t\t\telif currentSum < targetSum:\n",
    "\t\t\t\tleft += 1 \n",
    "\t\t\telif currentSum > targetSum:\n",
    "\t\t\t\tright -= 1 \n",
    "\treturn triplets "
   ]
  }
 ],
 "metadata": {
  "kernelspec": {
   "display_name": "Python 3",
   "language": "python",
   "name": "python3"
  },
  "language_info": {
   "codemirror_mode": {
    "name": "ipython",
    "version": 3
   },
   "file_extension": ".py",
   "mimetype": "text/x-python",
   "name": "python",
   "nbconvert_exporter": "python",
   "pygments_lexer": "ipython3",
   "version": "3.7.4"
  }
 },
 "nbformat": 4,
 "nbformat_minor": 2
}
