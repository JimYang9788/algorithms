{
 "cells": [
  {
   "cell_type": "code",
   "execution_count": 1,
   "metadata": {},
   "outputs": [],
   "source": [
    "# The knows API is already defined for you.\n",
    "# return a bool, whether a knows b\n",
    "# def knows(a: int, b: int) -> bool:\n",
    "\n",
    "class Solution:\n",
    "    def knowsByEveryOne(self, n, i):\n",
    "        res = True\n",
    "        for j in range (n):\n",
    "            if i == j: \n",
    "                continue \n",
    "            else:\n",
    "                if not knows(j, i) or knows(i,j):\n",
    "                    res = False\n",
    "                    break\n",
    "        return res \n",
    "        \n",
    "    \n",
    "    def findCelebrity(self, n: int) -> int:\n",
    "        # dumb way \n",
    "        for i in range (n):\n",
    "            if self.knowsByEveryOne(n, i):\n",
    "                return i\n",
    "        return -1 \n",
    "    \n",
    "# O(n^2)\n",
    "                    "
   ]
  },
  {
   "cell_type": "markdown",
   "metadata": {},
   "source": [
    "## Therefore, with each call to knows(...), we can conclusively determine that exactly 1 of the people is not a celebrity!"
   ]
  },
  {
   "cell_type": "code",
   "execution_count": 2,
   "metadata": {},
   "outputs": [],
   "source": [
    "class Solution:\n",
    "    def findCelebrity(self, n: int) -> int:\n",
    "        self.n = n\n",
    "        celebrity_candidate = 0\n",
    "        for i in range(1, n):\n",
    "            if knows(celebrity_candidate, i):\n",
    "                celebrity_candidate = i\n",
    "        if self.is_celebrity(celebrity_candidate):\n",
    "            return celebrity_candidate\n",
    "        return -1\n",
    "\n",
    "    def is_celebrity(self, i):\n",
    "        for j in range(self.n):\n",
    "            if i == j: continue\n",
    "            if knows(i, j) or not knows(j, i):\n",
    "                return False\n",
    "        return True"
   ]
  }
 ],
 "metadata": {
  "kernelspec": {
   "display_name": "Python 3",
   "language": "python",
   "name": "python3"
  },
  "language_info": {
   "codemirror_mode": {
    "name": "ipython",
    "version": 3
   },
   "file_extension": ".py",
   "mimetype": "text/x-python",
   "name": "python",
   "nbconvert_exporter": "python",
   "pygments_lexer": "ipython3",
   "version": "3.7.4"
  }
 },
 "nbformat": 4,
 "nbformat_minor": 2
}
