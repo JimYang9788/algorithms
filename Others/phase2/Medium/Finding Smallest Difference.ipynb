{
 "cells": [
  {
   "cell_type": "markdown",
   "metadata": {},
   "source": [
    "Given two arrays, finding the smallest difference. Return Pair."
   ]
  },
  {
   "cell_type": "code",
   "execution_count": 1,
   "metadata": {},
   "outputs": [],
   "source": [
    "def smallestDifference(arrayOne, arrayTwo):\n",
    "    # Write your code here.\n",
    "\tassert(arrayOne)\n",
    "\tassert(arrayTwo)\n",
    "\tarrayOne.sort()\n",
    "\tarrayTwo.sort()\n",
    "\t\n",
    "\tindex1, index2 = 0, 0\n",
    "\tcur_min = float (\"inf\")\n",
    "\tres = [arrayOne[0],arrayTwo[0]]\n",
    "\twhile (index1 < len(arrayOne) and index2 < len(arrayTwo)):\n",
    "\t\tcur_diff = abs (arrayOne[index1] - arrayTwo[index2])\n",
    "\t\tif cur_diff < cur_min:\n",
    "\t\t\tcur_min = cur_diff\n",
    "\t\t\tres = [arrayOne[index1], arrayTwo[index2]]\n",
    "\n",
    "\t\tif arrayOne [index1] < arrayTwo [index2]:\n",
    "\t\t\tindex1 += 1 \n",
    "\t\telif arrayOne [index1] == arrayTwo [index2]:\n",
    "\t\t\treturn res\n",
    "\t\telse:\n",
    "\t\t\tindex2 += 1 \n",
    "\treturn res \n",
    "\t\t\t"
   ]
  },
  {
   "cell_type": "code",
   "execution_count": null,
   "metadata": {},
   "outputs": [],
   "source": []
  }
 ],
 "metadata": {
  "kernelspec": {
   "display_name": "Python 3",
   "language": "python",
   "name": "python3"
  },
  "language_info": {
   "codemirror_mode": {
    "name": "ipython",
    "version": 3
   },
   "file_extension": ".py",
   "mimetype": "text/x-python",
   "name": "python",
   "nbconvert_exporter": "python",
   "pygments_lexer": "ipython3",
   "version": "3.7.4"
  }
 },
 "nbformat": 4,
 "nbformat_minor": 2
}
