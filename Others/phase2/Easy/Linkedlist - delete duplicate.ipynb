{
 "cells": [
  {
   "cell_type": "code",
   "execution_count": 3,
   "metadata": {},
   "outputs": [],
   "source": [
    "class Solution:\n",
    "    def deleteDuplicates(self, head: ListNode) -> ListNode:\n",
    "        seen = set ()\n",
    "        curnode, prevnode = head , head \n",
    "        while (curnode):\n",
    "\n",
    "            if curnode.val in seen:\n",
    "                prevnode.next = curnode.next\n",
    "                curnode = prevnode.next\n",
    "            else:\n",
    "                seen.add (curnode.val)          \n",
    "                prevnode = curnode \n",
    "                curnode = curnode.next \n",
    "            \n",
    "        return head \n",
    "        "
   ]
  },
  {
   "cell_type": "code",
   "execution_count": 4,
   "metadata": {},
   "outputs": [],
   "source": [
    "# Extra: delete an item from a linkedlist \n",
    "# 1. Check head \n",
    "# 2. Use Prev\n",
    "def deleteNode(self, key):  \n",
    "          \n",
    "        # Store head node  \n",
    "        temp = self.head  \n",
    "  \n",
    "        # If head node itself holds the key to be deleted  \n",
    "        if (not temp):  \n",
    "            if (temp.data == key):  \n",
    "                self.head = temp.next\n",
    "                return\n",
    "  \n",
    "        # Search for the key to be deleted, keep track of the  \n",
    "        # previous node as we need to change 'prev.next'  \n",
    "        while(temp is not None):  \n",
    "            if temp.data == key:  \n",
    "                break\n",
    "            prev = temp  \n",
    "            temp = temp.next\n",
    "  \n",
    "        # if key was not present in linked list  \n",
    "        if(temp == None):  \n",
    "            return\n",
    "  \n",
    "        # Unlink the node from linked list  \n",
    "        prev.next = temp.next\n",
    "  \n",
    "        temp = None"
   ]
  },
  {
   "cell_type": "code",
   "execution_count": null,
   "metadata": {},
   "outputs": [],
   "source": [
    "class Solution:\n",
    "    def removeElements(self, head: ListNode, val: int) -> ListNode:\n",
    "        if head == None: return None\n",
    "        \n",
    "        while head and head.val == val:\n",
    "            head = head.next \n",
    "        \n",
    "        prevnode, curnode = head, head \n",
    "\n",
    "        while (curnode):\n",
    "            if curnode.val == val:\n",
    "                prevnode.next = curnode.next \n",
    "                curnode = curnode.next\n",
    "            else:\n",
    "                prevnode = curnode \n",
    "                curnode = curnode.next \n",
    "        \n",
    "        return head "
   ]
  }
 ],
 "metadata": {
  "kernelspec": {
   "display_name": "Python 3",
   "language": "python",
   "name": "python3"
  },
  "language_info": {
   "codemirror_mode": {
    "name": "ipython",
    "version": 3
   },
   "file_extension": ".py",
   "mimetype": "text/x-python",
   "name": "python",
   "nbconvert_exporter": "python",
   "pygments_lexer": "ipython3",
   "version": "3.7.4"
  }
 },
 "nbformat": 4,
 "nbformat_minor": 2
}
