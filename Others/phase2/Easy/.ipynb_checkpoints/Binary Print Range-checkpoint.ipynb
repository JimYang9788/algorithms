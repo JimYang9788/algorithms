{
 "cells": [
  {
   "cell_type": "code",
   "execution_count": 3,
   "metadata": {},
   "outputs": [],
   "source": [
    "# This is the class of the input root. Do not edit it.\n",
    "class BinaryTree:\n",
    "    def __init__(self, value):\n",
    "        self.value = value\n",
    "        self.left = None\n",
    "        self.right = None\n",
    "\n",
    "def branchSumsAcc(root, currentSum, res):\n",
    "\t\n",
    "\tif not root: \n",
    "\t\tres.append (currentSum)\n",
    "\n",
    "\tcurrentSum += root.value \n",
    "\n",
    "\tif not root.left and not root.right:\n",
    "\t\tres.append (currentSum)\n",
    "\tif  root.left:\n",
    "\t\tbranchSumsAcc(root.left, currentSum, res)\n",
    "\tif  root.right:\n",
    "\t\tbranchSumsAcc(root.right, currentSum, res)\n",
    "\t\t\n",
    "\n",
    "def branchSums(root):\n",
    "    # Write your code here.\n",
    "    res = []\n",
    "    branchSumsAcc(root, 0, res)\n",
    "\n",
    "    return res \n",
    "\n"
   ]
  },
  {
   "cell_type": "code",
   "execution_count": null,
   "metadata": {},
   "outputs": [],
   "source": []
  }
 ],
 "metadata": {
  "kernelspec": {
   "display_name": "Python 3",
   "language": "python",
   "name": "python3"
  },
  "language_info": {
   "codemirror_mode": {
    "name": "ipython",
    "version": 3
   },
   "file_extension": ".py",
   "mimetype": "text/x-python",
   "name": "python",
   "nbconvert_exporter": "python",
   "pygments_lexer": "ipython3",
   "version": "3.7.4"
  }
 },
 "nbformat": 4,
 "nbformat_minor": 2
}
