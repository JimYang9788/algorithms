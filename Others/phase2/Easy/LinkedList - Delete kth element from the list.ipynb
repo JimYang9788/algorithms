{
 "cells": [
  {
   "cell_type": "code",
   "execution_count": 2,
   "metadata": {},
   "outputs": [],
   "source": [
    "# This is an input class. Do not edit.\n",
    "class LinkedList:\n",
    "    def __init__(self, value):\n",
    "        self.value = value\n",
    "        self.next = None\n",
    "\n",
    "\n",
    "def removeKthNodeFromEnd(head, k):\n",
    "    # Write your code here.\n",
    "\t# Two pointer methods \n",
    "\tdummy = LinkedList(0)\n",
    "\tdummy.next = head \n",
    "\tslow, fast, slow_prev = head, head, head \n",
    "\t# Set the fast ahead \n",
    "\twhile k != 0 and fast != None:\n",
    "\t\tfast = fast.next \n",
    "\t\tk -= 1 \n",
    "\t\n",
    "\t# increment both until fast reaches the end \n",
    "\twhile fast != None:\n",
    "\t\tslow_prev = slow\n",
    "\t\tslow = slow.next \n",
    "\t\tfast = fast.next \n",
    "\t# Delete the slow \n",
    "\tif slow == head:\n",
    "\t\thead.value = head.next.value\n",
    "\t\thead.next = head.next.next \n",
    "\telse:\n",
    "\t\tslow_prev.next = slow.next \n",
    "\t\n",
    "\t\n",
    "\t\t\n",
    "\t"
   ]
  },
  {
   "cell_type": "code",
   "execution_count": null,
   "metadata": {},
   "outputs": [],
   "source": []
  }
 ],
 "metadata": {
  "kernelspec": {
   "display_name": "Python 3",
   "language": "python",
   "name": "python3"
  },
  "language_info": {
   "codemirror_mode": {
    "name": "ipython",
    "version": 3
   },
   "file_extension": ".py",
   "mimetype": "text/x-python",
   "name": "python",
   "nbconvert_exporter": "python",
   "pygments_lexer": "ipython3",
   "version": "3.7.4"
  }
 },
 "nbformat": 4,
 "nbformat_minor": 2
}
