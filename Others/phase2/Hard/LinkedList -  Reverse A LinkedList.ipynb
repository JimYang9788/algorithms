{
 "cells": [
  {
   "cell_type": "code",
   "execution_count": 1,
   "metadata": {},
   "outputs": [],
   "source": [
    "def reverseLinkedList(head):\n",
    "    \n",
    "\tif not head:\n",
    "\t\treturn None \n",
    "\tif not head.next:\n",
    "\t\treturn head\n",
    "\t\n",
    "\tcurnode, prevnode = head, None  \n",
    "\twhile (curnode):\n",
    "\t\t\n",
    "\t\tnext_node = curnode.next \n",
    "\t\tcurnode.next = prevnode \n",
    "\t\t\n",
    "\t\tprevnode = curnode \n",
    "\t\tcurnode = next_node \n",
    "\t\n",
    "\treturn prevnode "
   ]
  },
  {
   "cell_type": "code",
   "execution_count": null,
   "metadata": {},
   "outputs": [],
   "source": []
  }
 ],
 "metadata": {
  "kernelspec": {
   "display_name": "Python 3",
   "language": "python",
   "name": "python3"
  },
  "language_info": {
   "codemirror_mode": {
    "name": "ipython",
    "version": 3
   },
   "file_extension": ".py",
   "mimetype": "text/x-python",
   "name": "python",
   "nbconvert_exporter": "python",
   "pygments_lexer": "ipython3",
   "version": "3.7.4"
  }
 },
 "nbformat": 4,
 "nbformat_minor": 2
}
