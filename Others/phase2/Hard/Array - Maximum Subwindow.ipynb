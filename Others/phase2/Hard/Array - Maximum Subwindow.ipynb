{
 "cells": [
  {
   "cell_type": "code",
   "execution_count": 2,
   "metadata": {},
   "outputs": [],
   "source": [
    "class Solution:\n",
    "    def maxSlidingWindow(self, nums, k):\n",
    "        res = []\n",
    "        for i in range (0, len(nums)-k+1):\n",
    "            cur_max = float(\"-inf\")\n",
    "            for j in range(0,k):\n",
    "                cur_max = max(cur_max, nums[i+j]) \n",
    "            res.append (cur_max) \n",
    "        return res \n",
    "            "
   ]
  },
  {
   "cell_type": "code",
   "execution_count": 3,
   "metadata": {},
   "outputs": [],
   "source": [
    "from collections import deque\n",
    "class Solution:\n",
    "    def maxSlidingWindow(self, nums, k):\n",
    "        \"\"\"\n",
    "        :type nums: List[int]\n",
    "        :type k: int\n",
    "        :rtype: List[int]\n",
    "        \"\"\"\n",
    "# Checking for base case\n",
    "        if not nums:\n",
    "            return []\n",
    "        if k == 0:\n",
    "            return nums\n",
    "# Defining Deque and result list\n",
    "        deq = deque()\n",
    "        result = []\n",
    "        \n",
    "# First traversing through K in the nums and only adding maximum value's index to the deque.\n",
    "# Note: We are olny storing the index and not the value.\n",
    "# Now, Comparing the new value in the nums with the last index value from deque,\n",
    "# and if new valus is less, we don't need it\n",
    "\n",
    "        for i in range(k):\n",
    "            while len(deq) != 0:\n",
    "                if nums[i] > nums[deq[-1]]:\n",
    "                    deq.pop()\n",
    "                else:\n",
    "                    break\n",
    "\n",
    "            deq.append(i)\n",
    "            \n",
    "# Here we will have deque with index of maximum element for the first subsequence of length k.\n",
    "\t\n",
    "# Now we will traverse from k to the end of array and do 4 things\n",
    "# 1. Appending left most indexed value to the result\n",
    "# 2. Checking if left most is still in the range of k (so it only allows valid sub sequence)\n",
    "# 3. Checking if right most indexed element in deque is less than the new element found, if yes we will remove it\n",
    "# 4. Append i at the end of the deque  (Not: 3rd and 4th steps are similar to previous for loop)\n",
    " \n",
    "        for i in range(k, len(nums)):\n",
    "            result.append(nums[deq[0]])\n",
    "            \n",
    "            if deq[0] < i - k + 1:\n",
    "                deq.popleft()\n",
    "            \n",
    "            while len(deq) != 0:\n",
    "                if nums[i] > nums[deq[-1]]:\n",
    "                    deq.pop()\n",
    "                else:\n",
    "                    break\n",
    "            \n",
    "            deq.append(i)\n",
    "        \n",
    "#Adding the maximum for last subsequence\n",
    "        result.append(nums[deq[0]])\n",
    "        \n",
    "        return result"
   ]
  },
  {
   "cell_type": "code",
   "execution_count": null,
   "metadata": {},
   "outputs": [],
   "source": []
  }
 ],
 "metadata": {
  "kernelspec": {
   "display_name": "Python 3",
   "language": "python",
   "name": "python3"
  },
  "language_info": {
   "codemirror_mode": {
    "name": "ipython",
    "version": 3
   },
   "file_extension": ".py",
   "mimetype": "text/x-python",
   "name": "python",
   "nbconvert_exporter": "python",
   "pygments_lexer": "ipython3",
   "version": "3.7.4"
  }
 },
 "nbformat": 4,
 "nbformat_minor": 2
}
