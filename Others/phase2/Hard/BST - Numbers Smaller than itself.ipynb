{
 "cells": [
  {
   "cell_type": "code",
   "execution_count": 2,
   "metadata": {},
   "outputs": [],
   "source": [
    "class Solution:\n",
    "    def countSmaller(self, nums):\n",
    "        \n",
    "        # [26,78,27,100,33,67,90,23,66,5,38,7,35,23,52,22,83,51,98,69,81,32,78,28,94,13,2,97,3,76,99,51,9,21,84,66,65,36,100,41]\n",
    "        res = [0 for i in range (len(nums))]\n",
    "        visited = [0 for i in range (len(nums))]\n",
    "        \n",
    "        \n",
    "        def DFS (i):\n",
    "            \n",
    "            # Returns the total number less than this i \n",
    "            if visited[i] != 0: \n",
    "                return visited[i]\n",
    "            visited [i] = -1 # Being visisted\n",
    "            subres = 0 \n",
    "            for j in range (i, len(nums)):\n",
    "                if nums[j] < nums[i]:\n",
    "                    subres = max (DFS (j) + 1, subres)\n",
    "            print (visited)\n",
    "            visited[i] = subres \n",
    "\n",
    "            return subres \n",
    "        \n",
    "        for i in range (len(nums)):\n",
    "            res[i] = DFS (i)\n",
    "            \n",
    "        return visited "
   ]
  },
  {
   "cell_type": "code",
   "execution_count": null,
   "metadata": {},
   "outputs": [],
   "source": []
  }
 ],
 "metadata": {
  "kernelspec": {
   "display_name": "Python 3",
   "language": "python",
   "name": "python3"
  },
  "language_info": {
   "codemirror_mode": {
    "name": "ipython",
    "version": 3
   },
   "file_extension": ".py",
   "mimetype": "text/x-python",
   "name": "python",
   "nbconvert_exporter": "python",
   "pygments_lexer": "ipython3",
   "version": "3.7.4"
  }
 },
 "nbformat": 4,
 "nbformat_minor": 2
}
