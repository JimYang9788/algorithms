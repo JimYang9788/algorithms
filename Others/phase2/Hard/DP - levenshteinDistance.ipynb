{
 "cells": [
  {
   "cell_type": "code",
   "execution_count": 1,
   "metadata": {},
   "outputs": [],
   "source": [
    "def levenshteinDistance(str1, str2):\n",
    "    # Write your code here.\n",
    "\n",
    "\tD = [ [x for x in range (len(str1) + 1)] for y in range (len(str2) + 1)]\n",
    "\t\n",
    "\tfor i in range (1, len(str2)+1):\n",
    "\t\tD[i][0] = D[i-1][0] + 1 \n",
    "\tfor i in range (1, len(str2)+1):\n",
    "\t\tfor j in range (1, len(str1)+1):\n",
    "\t\t\tif str2[i-1]== str1[j-1]:\n",
    "\t\t\t\tD[i][j] = D[i-1][j-1]\n",
    "\t\t\telse:\n",
    "\t\t\t\tD[i][j] = 1 + min(D[i-1][j-1],D[i-1][j],D[i][j-1])\n",
    "\treturn D[-1][-1]"
   ]
  }
 ],
 "metadata": {
  "kernelspec": {
   "display_name": "Python 3",
   "language": "python",
   "name": "python3"
  },
  "language_info": {
   "codemirror_mode": {
    "name": "ipython",
    "version": 3
   },
   "file_extension": ".py",
   "mimetype": "text/x-python",
   "name": "python",
   "nbconvert_exporter": "python",
   "pygments_lexer": "ipython3",
   "version": "3.7.4"
  }
 },
 "nbformat": 4,
 "nbformat_minor": 2
}
