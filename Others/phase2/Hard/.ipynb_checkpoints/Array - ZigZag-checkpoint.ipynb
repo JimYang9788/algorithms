{
 "cells": [
  {
   "cell_type": "code",
   "execution_count": 2,
   "metadata": {},
   "outputs": [
    {
     "data": {
      "text/plain": [
       "[3, 2]"
      ]
     },
     "execution_count": 2,
     "metadata": {},
     "output_type": "execute_result"
    }
   ],
   "source": [
    "list(reversed (range (2,4)))"
   ]
  },
  {
   "cell_type": "code",
   "execution_count": 4,
   "metadata": {},
   "outputs": [],
   "source": [
    "def zigzagTraverse(array):\n",
    "    # Write your code here.\n",
    "    if not array: return []\n",
    "\n",
    "    res = []\n",
    "    row = len (array)\n",
    "    col = len (array[0])\n",
    "\n",
    "    zig = True \n",
    "\n",
    "    for zsum in range (0, row + col - 1):\n",
    "        zig = not zig \n",
    "        if  zig:\n",
    "            for i in reversed (range (max(zsum - (col - 1), 0), min (row,zsum+1))):\n",
    "                j = zsum - i \n",
    "                res.append (array[i][j])\n",
    "        else:\n",
    "            for i in (range (max(zsum - (col - 1), 0), min (row,zsum+1))):\n",
    "                j = zsum - i \n",
    "                res.append (array[i][j])\t\t\t\n",
    "\n",
    "\n",
    "    return res \n",
    "\n",
    "\n"
   ]
  }
 ],
 "metadata": {
  "kernelspec": {
   "display_name": "Python 3",
   "language": "python",
   "name": "python3"
  },
  "language_info": {
   "codemirror_mode": {
    "name": "ipython",
    "version": 3
   },
   "file_extension": ".py",
   "mimetype": "text/x-python",
   "name": "python",
   "nbconvert_exporter": "python",
   "pygments_lexer": "ipython3",
   "version": "3.7.4"
  }
 },
 "nbformat": 4,
 "nbformat_minor": 2
}
