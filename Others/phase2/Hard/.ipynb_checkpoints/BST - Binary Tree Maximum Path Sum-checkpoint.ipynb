{
 "cells": [
  {
   "cell_type": "code",
   "execution_count": 2,
   "metadata": {},
   "outputs": [],
   "source": [
    "# Definition for a binary tree node.\n",
    "class TreeNode:\n",
    "    def __init__(self, val=0, left=None, right=None):\n",
    "        self.val = val\n",
    "        self.left = left\n",
    "        self.right = right\n",
    "\n",
    "\n",
    "class Solution:\n",
    "    res = float (\"-inf\")\n",
    "    \n",
    "    def maxPathSum(self, root: TreeNode) -> int:\n",
    "        \n",
    "        def backtrack (node):\n",
    "            # returns the maximum sum of a path \n",
    "            if not node:\n",
    "                return 0\n",
    "            \n",
    "            leftmax = backtrack (node.left)\n",
    "            rightmax = backtrack (node.right)\n",
    "            \n",
    "            \n",
    "            self.res = max(self.res, node.val, leftmax + node.val, rightmax + node.val, leftmax + node.val + rightmax)\n",
    "\n",
    "            return max(node.val, node.val + leftmax, node.val + rightmax)\n",
    "    \n",
    "    \n",
    "    \n",
    "        backtrack(root)\n",
    "        return self.res"
   ]
  },
  {
   "cell_type": "code",
   "execution_count": null,
   "metadata": {},
   "outputs": [],
   "source": []
  }
 ],
 "metadata": {
  "kernelspec": {
   "display_name": "Python 3",
   "language": "python",
   "name": "python3"
  },
  "language_info": {
   "codemirror_mode": {
    "name": "ipython",
    "version": 3
   },
   "file_extension": ".py",
   "mimetype": "text/x-python",
   "name": "python",
   "nbconvert_exporter": "python",
   "pygments_lexer": "ipython3",
   "version": "3.7.4"
  }
 },
 "nbformat": 4,
 "nbformat_minor": 2
}
