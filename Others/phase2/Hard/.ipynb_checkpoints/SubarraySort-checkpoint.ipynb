{
 "cells": [
  {
   "cell_type": "code",
   "execution_count": 1,
   "metadata": {},
   "outputs": [],
   "source": [
    "def subarraySort(array):\n",
    "    # Write your code here.\n",
    "\t\n",
    "\tminOutOfOrder = float (\"inf\")\n",
    "\tmaxOutOfOrder = float (\"-inf\")\n",
    "\t\n",
    "\tfor i in range (len(array)):\n",
    "\t\tnum =  array[i]\n",
    "\t\t\n",
    "\t\tif isOutOfOrder (i, num, array):\n",
    "\t\t\tminOutOfOrder = min (minOutOfOrder ,num)\n",
    "\t\t\tmaxOutOfOrder = max (maxOutOfOrder, num)\n",
    "\t\t\t\n",
    "\tif minOutOfOrder == float (\"inf\"):\n",
    "\t\treturn [-1, -1]\n",
    "\t\n",
    "\tl = 0 \n",
    "\twhile minOutOfOrder >= array[l]:\n",
    "\t\tl += 1 \n",
    "\tr = len(array) - 1 \n",
    "\twhile maxOutOfOrder <= array[r]:\n",
    "\t\tr -= 1 \n",
    "\treturn [l,r]\n",
    "\t\t\t\n",
    "def isOutOfOrder(i, num, array):\n",
    "\tif i == 0:\n",
    "\t\treturn num > array[i+1]\n",
    "\tif i == len(array) - 1:\n",
    "\t\treturn num < array[i-1]\n",
    "\treturn num > array[i + 1] or num < array[i - 1]"
   ]
  },
  {
   "cell_type": "code",
   "execution_count": null,
   "metadata": {},
   "outputs": [],
   "source": []
  }
 ],
 "metadata": {
  "kernelspec": {
   "display_name": "Python 3",
   "language": "python",
   "name": "python3"
  },
  "language_info": {
   "codemirror_mode": {
    "name": "ipython",
    "version": 3
   },
   "file_extension": ".py",
   "mimetype": "text/x-python",
   "name": "python",
   "nbconvert_exporter": "python",
   "pygments_lexer": "ipython3",
   "version": "3.7.4"
  }
 },
 "nbformat": 4,
 "nbformat_minor": 2
}
