{
 "cells": [
  {
   "cell_type": "code",
   "execution_count": 2,
   "metadata": {},
   "outputs": [],
   "source": [
    "class Solution:\n",
    "    def firstMissingPositive(self, nums) -> int:\n",
    "        counter = {}\n",
    "        for num in nums:\n",
    "            counter[num] = True \n",
    "        \n",
    "        for i in range (1, len(nums)+2):\n",
    "            if i not in counter:\n",
    "                return i "
   ]
  },
  {
   "cell_type": "code",
   "execution_count": 3,
   "metadata": {},
   "outputs": [],
   "source": [
    " def firstMissingPositive(self, nums):\n",
    "    \"\"\"\n",
    "    :type nums: List[int]\n",
    "    :rtype: int\n",
    "     Basic idea:\n",
    "    1. for any array whose length is l, the first missing positive must be in range [1,...,l+1], \n",
    "        so we only have to care about those elements in this range and remove the rest.\n",
    "    2. we can use the array index as the hash to restore the frequency of each number within \n",
    "         the range [1,...,l+1] \n",
    "    \"\"\"\n",
    "    nums.append(0)\n",
    "    n = len(nums)\n",
    "    for i in range(len(nums)): #delete those useless elements\n",
    "        if nums[i]<0 or nums[i]>=n:\n",
    "            nums[i]=0\n",
    "    for i in range(len(nums)): #use the index as the hash to record the frequency of each number\n",
    "        nums[nums[i]%n]+=n\n",
    "    #非常牛叉的算法...\n",
    "    #利用了整除可以recover原来index内容的技巧\n",
    "    for i in range(1,len(nums)):\n",
    "        if nums[i]/n==0:\n",
    "            return i\n",
    "    return n\n",
    "\n"
   ]
  },
  {
   "cell_type": "code",
   "execution_count": null,
   "metadata": {},
   "outputs": [],
   "source": []
  }
 ],
 "metadata": {
  "kernelspec": {
   "display_name": "Python 3",
   "language": "python",
   "name": "python3"
  },
  "language_info": {
   "codemirror_mode": {
    "name": "ipython",
    "version": 3
   },
   "file_extension": ".py",
   "mimetype": "text/x-python",
   "name": "python",
   "nbconvert_exporter": "python",
   "pygments_lexer": "ipython3",
   "version": "3.7.4"
  }
 },
 "nbformat": 4,
 "nbformat_minor": 2
}
