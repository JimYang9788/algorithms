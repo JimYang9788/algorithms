{
 "cells": [
  {
   "cell_type": "markdown",
   "metadata": {},
   "source": [
    "#### Dynamic Programming \n"
   ]
  },
  {
   "cell_type": "markdown",
   "metadata": {},
   "source": [
    "#### inimum Path Using Dynamic Programming"
   ]
  },
  {
   "cell_type": "code",
   "execution_count": 11,
   "metadata": {},
   "outputs": [
    {
     "name": "stdout",
     "output_type": "stream",
     "text": [
      "[[1, 4, 5], [2, 7, 6], [6, 8, 7]]\n"
     ]
    },
    {
     "data": {
      "text/plain": [
       "7"
      ]
     },
     "execution_count": 11,
     "metadata": {},
     "output_type": "execute_result"
    }
   ],
   "source": [
    "class Solution:\n",
    "    def minPathSum(self, grid):\n",
    "        if grid == []: return 0 \n",
    "        \n",
    "        # Dynamic Programming Approach \n",
    "        D = [[]] * len (grid)\n",
    "        for idx,val in enumerate (D):\n",
    "            D[idx] = [0] * len(grid[0])\n",
    "            \n",
    "        D[0][0] = grid[0][0]\n",
    "        \n",
    "        for i in range (1,len(grid)):\n",
    "            D[i][0] = D[i-1][0] + grid[i][0]\n",
    "            \n",
    "        for j in range (1,len(grid[0])):\n",
    "            D[0][j] = D[0][j-1] + grid[0][j]\n",
    "           \n",
    "        for i in range(1,len(grid)):\n",
    "            for j in range(1,len(grid[0])):\n",
    "                D[i][j] = grid[i][j] + min(D[i-1][j], D[i][j-1])\n",
    "        \n",
    "        print (D)\n",
    "        return D[-1][-1]\n",
    "            \n",
    "Solution().minPathSum ([\n",
    "  [1,3,1],\n",
    "  [1,5,1],\n",
    "  [4,2,1]\n",
    "])  "
   ]
  },
  {
   "cell_type": "markdown",
   "metadata": {},
   "source": [
    "Note: If not using extra space, we can do everything using the original matrix\n",
    "#### Approach 4: Dynamic Programming (Without Extra Space)\n",
    "Algorithm\n",
    "\n",
    "This approach is same as Approach 2, with a slight difference. Instead of using another dpdp matrix. We can store the minimum sums in the original matrix itself, since we need not retain the original matrix here. Thus, the governing equation now becomes:"
   ]
  },
  {
   "cell_type": "code",
   "execution_count": null,
   "metadata": {},
   "outputs": [],
   "source": []
  }
 ],
 "metadata": {
  "kernelspec": {
   "display_name": "Python 3",
   "language": "python",
   "name": "python3"
  },
  "language_info": {
   "codemirror_mode": {
    "name": "ipython",
    "version": 3
   },
   "file_extension": ".py",
   "mimetype": "text/x-python",
   "name": "python",
   "nbconvert_exporter": "python",
   "pygments_lexer": "ipython3",
   "version": "3.7.4"
  }
 },
 "nbformat": 4,
 "nbformat_minor": 2
}
