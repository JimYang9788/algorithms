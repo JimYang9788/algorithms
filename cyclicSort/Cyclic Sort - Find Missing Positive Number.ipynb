{
 "cells": [
  {
   "cell_type": "code",
   "execution_count": null,
   "metadata": {},
   "outputs": [],
   "source": [
    "class Solution:\n",
    "    def missingNumber(self, nums: List[int]) -> int:\n",
    "        n = len(nums)\n",
    "        i = 0 \n",
    "        while (i < n):\n",
    "            # 注意没有sort好就不要换了\n",
    "            j = nums[i]\n",
    "            if  0 <= j < n and  nums[i] != nums[j]:\n",
    "                nums[i], nums[j] = nums[j], nums[i]\n",
    "            else:\n",
    "                i += 1 \n",
    "            \n",
    "            \n",
    "        for i in range (0,n):\n",
    "            if i != nums[i]:\n",
    "                return i\n",
    "        \n",
    "        return n "
   ]
  }
 ],
 "metadata": {
  "kernelspec": {
   "display_name": "Python 3",
   "language": "python",
   "name": "python3"
  },
  "language_info": {
   "codemirror_mode": {
    "name": "ipython",
    "version": 3
   },
   "file_extension": ".py",
   "mimetype": "text/x-python",
   "name": "python",
   "nbconvert_exporter": "python",
   "pygments_lexer": "ipython3",
   "version": "3.7.4"
  }
 },
 "nbformat": 4,
 "nbformat_minor": 2
}
