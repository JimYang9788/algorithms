{
 "cells": [
  {
   "cell_type": "code",
   "execution_count": null,
   "metadata": {},
   "outputs": [],
   "source": [
    "class Solution:\n",
    "    def shuffle(self, nums: List[int], n: int) -> List[int]:\n",
    "        \n",
    "        def translate (i, n):\n",
    "            '''\n",
    "            i: idx\n",
    "            n: elements n\n",
    "            Ret: new idx(new location) after shuffle\n",
    "            '''\n",
    "            if i < n:\n",
    "                return 2 * i\n",
    "            \n",
    "            else:\n",
    "                return 2 * i - 2 *n + 1 \n",
    "            \n",
    "            \n",
    "        if len(nums) <= 2:\n",
    "            return nums \n",
    "        \n",
    "        for i in range (0,len(nums)):\n",
    "            j = i\n",
    "            while (nums[i] > 0):\n",
    "                j = translate (j,n)\n",
    "                nums[i], nums[j] = nums[j], -nums[i] \n",
    "            i += 1 \n",
    "        \n",
    "        for i in range (0,len(nums)):\n",
    "            nums[i] = abs(nums[i])\n",
    "        \n",
    "        return nums\n",
    "            \n",
    "        \n",
    "        "
   ]
  }
 ],
 "metadata": {
  "kernelspec": {
   "display_name": "Python 3",
   "language": "python",
   "name": "python3"
  },
  "language_info": {
   "codemirror_mode": {
    "name": "ipython",
    "version": 3
   },
   "file_extension": ".py",
   "mimetype": "text/x-python",
   "name": "python",
   "nbconvert_exporter": "python",
   "pygments_lexer": "ipython3",
   "version": "3.7.4"
  }
 },
 "nbformat": 4,
 "nbformat_minor": 2
}
