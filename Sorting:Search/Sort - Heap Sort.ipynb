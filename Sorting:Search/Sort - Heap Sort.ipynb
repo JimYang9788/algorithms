{
 "cells": [
  {
   "cell_type": "code",
   "execution_count": null,
   "metadata": {},
   "outputs": [],
   "source": [
    "import heapq\n",
    "\n",
    "def heapSort(array):\n",
    "    # Write your code here.\n",
    "\t\n",
    "    heapq.heapify (array)\n",
    "\tres = []\n",
    "\twhile array:\n",
    "\t\telement = heapq.heappop(array)\n",
    "\t\tres.append (element)\n",
    "\treturn res "
   ]
  }
 ],
 "metadata": {
  "kernelspec": {
   "display_name": "Python 3",
   "language": "python",
   "name": "python3"
  },
  "language_info": {
   "codemirror_mode": {
    "name": "ipython",
    "version": 3
   },
   "file_extension": ".py",
   "mimetype": "text/x-python",
   "name": "python",
   "nbconvert_exporter": "python",
   "pygments_lexer": "ipython3",
   "version": "3.7.4"
  }
 },
 "nbformat": 4,
 "nbformat_minor": 2
}
