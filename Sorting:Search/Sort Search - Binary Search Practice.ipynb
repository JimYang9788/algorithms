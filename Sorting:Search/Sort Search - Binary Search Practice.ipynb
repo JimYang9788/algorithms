{
 "cells": [
  {
   "cell_type": "code",
   "execution_count": 1,
   "metadata": {},
   "outputs": [],
   "source": [
    "def binSearch (array, target):\n",
    "    \n",
    "    l,r = 0, len(array)-1\n",
    "    \n",
    "    while (l <= r):\n",
    "        # m 在 l == r的时候还可以继续找\n",
    "        m  = (l + r) // 2\n",
    "        if array[m] == target:\n",
    "            return m\n",
    "        elif array[m] > target:\n",
    "            r = m - 1 \n",
    "        else:\n",
    "            l = m + 1\n",
    "    \n",
    "    return -1 "
   ]
  },
  {
   "cell_type": "code",
   "execution_count": 2,
   "metadata": {},
   "outputs": [],
   "source": [
    "\n",
    "\n",
    "def leftBound (array, target):\n",
    "    \n",
    "    l,r = 0, len(array)\n",
    "    \n",
    "    while (l < r):\n",
    "\n",
    "        m  = (l + r) // 2\n",
    "        if array[m] == target:\n",
    "            r = m \n",
    "        elif array[m] > target:\n",
    "            r = m  \n",
    "        else:\n",
    "            l = m + 1\n",
    "\n",
    "    if l >= len(array) or array [l] != target:\n",
    "        return -1\n",
    "            \n",
    "    return l "
   ]
  },
  {
   "cell_type": "code",
   "execution_count": 3,
   "metadata": {},
   "outputs": [
    {
     "data": {
      "text/plain": [
       "4"
      ]
     },
     "execution_count": 3,
     "metadata": {},
     "output_type": "execute_result"
    }
   ],
   "source": [
    "import bisect \n",
    "bisect.bisect_left ([1,2,2,3],4)"
   ]
  },
  {
   "cell_type": "code",
   "execution_count": null,
   "metadata": {},
   "outputs": [],
   "source": []
  }
 ],
 "metadata": {
  "kernelspec": {
   "display_name": "Python 3",
   "language": "python",
   "name": "python3"
  },
  "language_info": {
   "codemirror_mode": {
    "name": "ipython",
    "version": 3
   },
   "file_extension": ".py",
   "mimetype": "text/x-python",
   "name": "python",
   "nbconvert_exporter": "python",
   "pygments_lexer": "ipython3",
   "version": "3.7.4"
  }
 },
 "nbformat": 4,
 "nbformat_minor": 2
}
