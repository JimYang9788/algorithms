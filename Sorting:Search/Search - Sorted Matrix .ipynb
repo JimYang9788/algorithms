{
 "cells": [
  {
   "cell_type": "code",
   "execution_count": null,
   "metadata": {},
   "outputs": [],
   "source": [
    "def searchInSortedMatrix(matrix, target):\n",
    "    # Write your code here.\n",
    "    # start from the top right cornoer \n",
    "\tcol = len(matrix[0]) - 1\n",
    "\trow = 0 \n",
    "\t\n",
    "\twhile (row <= len(matrix) or col >= 0):\n",
    "\t\tif matrix[row][col] == target:\n",
    "\t\t\treturn [row, col]\n",
    "\t\telif matrix[row][col] < target:\n",
    "\t\t\trow += 1 \n",
    "\t\telse:\n",
    "\t\t\tcol -= 1 \n",
    "\treturn [-1,-1] \n",
    "\t\n"
   ]
  }
 ],
 "metadata": {
  "kernelspec": {
   "display_name": "Python 3",
   "language": "python",
   "name": "python3"
  },
  "language_info": {
   "codemirror_mode": {
    "name": "ipython",
    "version": 3
   },
   "file_extension": ".py",
   "mimetype": "text/x-python",
   "name": "python",
   "nbconvert_exporter": "python",
   "pygments_lexer": "ipython3",
   "version": "3.7.4"
  }
 },
 "nbformat": 4,
 "nbformat_minor": 2
}
