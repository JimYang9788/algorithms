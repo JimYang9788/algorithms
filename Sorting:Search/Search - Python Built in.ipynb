{
 "cells": [
  {
   "cell_type": "code",
   "execution_count": 15,
   "metadata": {},
   "outputs": [
    {
     "data": {
      "text/plain": [
       "0"
      ]
     },
     "execution_count": 15,
     "metadata": {},
     "output_type": "execute_result"
    }
   ],
   "source": [
    "import bisect \n",
    "\n",
    "\n",
    "a = [[1,2],[2,2]]\n",
    "bisect.bisect_left(a,[1,1] )\n"
   ]
  },
  {
   "cell_type": "code",
   "execution_count": 12,
   "metadata": {},
   "outputs": [
    {
     "data": {
      "text/plain": [
       "1"
      ]
     },
     "execution_count": 12,
     "metadata": {},
     "output_type": "execute_result"
    }
   ],
   "source": [
    "bisect.bisect_right(a,1.5)"
   ]
  },
  {
   "cell_type": "code",
   "execution_count": 31,
   "metadata": {},
   "outputs": [],
   "source": [
    "def binarySearch(nums, target):\n",
    "    '''\n",
    "    if target in nums: Ret target\n",
    "    else: return the first number less than target\n",
    "    寻找第一个比target更小的数字\n",
    "    '''\n",
    "    l,r = 0, len(nums) - 1 \n",
    "    while (l <= r):\n",
    "        m = (l + r) // 2 \n",
    "        if nums[m] == target:\n",
    "            return target\n",
    "        elif nums[m] < target:\n",
    "            l = m + 1  \n",
    "        elif nums[m] > target:\n",
    "            r = m - 1 \n",
    "    \n",
    "    return nums[r]"
   ]
  },
  {
   "cell_type": "code",
   "execution_count": 33,
   "metadata": {},
   "outputs": [
    {
     "data": {
      "text/plain": [
       "3"
      ]
     },
     "execution_count": 33,
     "metadata": {},
     "output_type": "execute_result"
    }
   ],
   "source": [
    "binarySearch ([1,2,3,4], 3.5)"
   ]
  },
  {
   "cell_type": "code",
   "execution_count": null,
   "metadata": {},
   "outputs": [],
   "source": [
    "int left_bound(int[] nums, int target) {\n",
    "    int left = 0, right = nums.length - 1;\n",
    "    while (left <= right) {\n",
    "        int mid = left + (right - left) / 2;\n",
    "        if (nums[mid] < target) {\n",
    "            left = mid + 1;\n",
    "        } else if (nums[mid] > target) {\n",
    "            right = mid - 1;\n",
    "        } else if (nums[mid] == target) {\n",
    "            // 别返回，锁定左侧边界\n",
    "            right = mid - 1;\n",
    "        }\n",
    "    }\n",
    "    // 最后要检查 left 越界的情况\n",
    "    if (left >= nums.length || nums[left] != target)\n",
    "        return -1;\n",
    "    return left;\n",
    "}"
   ]
  }
 ],
 "metadata": {
  "kernelspec": {
   "display_name": "Python 3",
   "language": "python",
   "name": "python3"
  },
  "language_info": {
   "codemirror_mode": {
    "name": "ipython",
    "version": 3
   },
   "file_extension": ".py",
   "mimetype": "text/x-python",
   "name": "python",
   "nbconvert_exporter": "python",
   "pygments_lexer": "ipython3",
   "version": "3.7.4"
  }
 },
 "nbformat": 4,
 "nbformat_minor": 2
}
