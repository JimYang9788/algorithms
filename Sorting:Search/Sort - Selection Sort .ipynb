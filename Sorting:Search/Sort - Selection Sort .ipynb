{
 "cells": [
  {
   "cell_type": "code",
   "execution_count": null,
   "metadata": {},
   "outputs": [],
   "source": [
    "def selectionSort(array):\n",
    "    # Write your code here.\n",
    "\t\n",
    "\tif len(array) <= 1 : return array\n",
    "\t\n",
    "\ttarget = array[0]\n",
    "\tleft = []\n",
    "\tright = []\n",
    "\tmiddle = [target]\n",
    "\tfor i in range (1,len(array)):\n",
    "\t\tif array[i] < target:\n",
    "\t\t\tleft += [array[i]]\n",
    "\t\telif array[i] > target:\n",
    "\t\t\tright += [array[i]]\n",
    "\t\telse:\n",
    "\t\t\tmiddle += [array[i]]\n",
    "\t \n",
    "    return selectionSort(left) + middle + selectionSort(right) \n",
    "\n"
   ]
  }
 ],
 "metadata": {
  "kernelspec": {
   "display_name": "Python 3",
   "language": "python",
   "name": "python3"
  },
  "language_info": {
   "codemirror_mode": {
    "name": "ipython",
    "version": 3
   },
   "file_extension": ".py",
   "mimetype": "text/x-python",
   "name": "python",
   "nbconvert_exporter": "python",
   "pygments_lexer": "ipython3",
   "version": "3.7.4"
  }
 },
 "nbformat": 4,
 "nbformat_minor": 2
}
