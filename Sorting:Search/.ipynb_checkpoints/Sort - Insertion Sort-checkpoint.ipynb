{
 "cells": [
  {
   "cell_type": "code",
   "execution_count": null,
   "metadata": {},
   "outputs": [],
   "source": [
    "def insertionSort(array):\n",
    "    # Write your code here.\n",
    "    res = []\n",
    "\t\n",
    "\tdef insert(element, res):\n",
    "\t\tif res == []:\n",
    "\t\t\tres = [element]\n",
    "\t\t\treturn res \n",
    "\t\t\n",
    "\t\tfor i in range(0, len(res)):\n",
    "\t\t\tif element < res[i]:\n",
    "\t\t\t\tres = res[:i] + [element] + res[i:]\n",
    "\t\t\t\treturn res \n",
    "\t\treturn res + [element]\n",
    "\t\n",
    "\tfor num in array:\n",
    "\t\tres = insert(num, res)\n",
    "\t\n",
    "\treturn res \n"
   ]
  }
 ],
 "metadata": {
  "kernelspec": {
   "display_name": "Python 3",
   "language": "python",
   "name": "python3"
  },
  "language_info": {
   "codemirror_mode": {
    "name": "ipython",
    "version": 3
   },
   "file_extension": ".py",
   "mimetype": "text/x-python",
   "name": "python",
   "nbconvert_exporter": "python",
   "pygments_lexer": "ipython3",
   "version": "3.7.4"
  }
 },
 "nbformat": 4,
 "nbformat_minor": 2
}
