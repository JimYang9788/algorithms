{
 "cells": [
  {
   "cell_type": "code",
   "execution_count": 1,
   "metadata": {},
   "outputs": [],
   "source": [
    "# Bucket Sort Solution\n",
    "def frequencySort(self, s: str) -> str:\n",
    "    if not s: return s\n",
    "    \n",
    "    # Determine the frequency of each character.\n",
    "    counts = collections.Counter(s)\n",
    "    max_freq = max(counts.values())\n",
    "    \n",
    "    # Bucket sort the characters by frequency.\n",
    "    buckets = [[] for _ in range(max_freq + 1)]\n",
    "    for c, i in counts.items():\n",
    "        buckets[i].append(c)\n",
    "        \n",
    "    # Build up the string.\n",
    "    string_builder = []\n",
    "    for i in range(len(buckets) - 1, 0, -1):\n",
    "        for c in buckets[i]:\n",
    "            string_builder.append(c * i)\n",
    "            \n",
    "    return \"\".join(string_builder)"
   ]
  },
  {
   "cell_type": "code",
   "execution_count": 3,
   "metadata": {
    "scrolled": true
   },
   "outputs": [
    {
     "name": "stdout",
     "output_type": "stream",
     "text": [
      "leetcode 1\n",
      "wow 1\n",
      "damn 1\n"
     ]
    }
   ],
   "source": [
    "import collections \n",
    "c = collections.Counter ([\"leetcode\", \"wow\", \"damn\"])\n",
    "\n",
    "\n",
    "for k,v in c.items():\n",
    "    print (k,v)"
   ]
  },
  {
   "cell_type": "code",
   "execution_count": null,
   "metadata": {},
   "outputs": [],
   "source": []
  }
 ],
 "metadata": {
  "kernelspec": {
   "display_name": "Python 3",
   "language": "python",
   "name": "python3"
  },
  "language_info": {
   "codemirror_mode": {
    "name": "ipython",
    "version": 3
   },
   "file_extension": ".py",
   "mimetype": "text/x-python",
   "name": "python",
   "nbconvert_exporter": "python",
   "pygments_lexer": "ipython3",
   "version": "3.7.4"
  }
 },
 "nbformat": 4,
 "nbformat_minor": 2
}
