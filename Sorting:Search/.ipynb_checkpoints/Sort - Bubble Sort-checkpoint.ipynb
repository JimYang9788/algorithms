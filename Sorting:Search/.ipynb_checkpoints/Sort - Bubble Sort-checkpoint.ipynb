{
 "cells": [
  {
   "cell_type": "code",
   "execution_count": null,
   "metadata": {},
   "outputs": [],
   "source": [
    "def bubbleSort(array):\n",
    "\n",
    "\t\n",
    "\tdef bubblePop (array):\n",
    "\t\ti = 0 \n",
    "\t\twhile i < len(array) - 1:\n",
    "\t\t\tif array[i+1] < array[i]:\n",
    "\t\t\t\tarray[i+1], array[i] = array[i], array[i+1]\n",
    "\t\t\ti += 1 \n",
    "\t\n",
    "\tfor i in range(len(array)):\n",
    "\t\tbubblePop (array)\n",
    "\t\t\n",
    "\treturn array \n",
    "\t\t"
   ]
  }
 ],
 "metadata": {
  "kernelspec": {
   "display_name": "Python 3",
   "language": "python",
   "name": "python3"
  },
  "language_info": {
   "codemirror_mode": {
    "name": "ipython",
    "version": 3
   },
   "file_extension": ".py",
   "mimetype": "text/x-python",
   "name": "python",
   "nbconvert_exporter": "python",
   "pygments_lexer": "ipython3",
   "version": "3.7.4"
  }
 },
 "nbformat": 4,
 "nbformat_minor": 2
}
