{
 "cells": [
  {
   "cell_type": "code",
   "execution_count": 17,
   "metadata": {},
   "outputs": [
    {
     "name": "stdout",
     "output_type": "stream",
     "text": [
      "[3, 17, 18, 25] 25\n"
     ]
    }
   ],
   "source": [
    "import random \n",
    "import bisect \n",
    "\n",
    "class Solution:\n",
    "\n",
    "    def __init__(self, w: List[int]):\n",
    "        assert (w)\n",
    "        self.runningSum = [num for num in w]\n",
    "        for i in range(1,len(w)):\n",
    "            self.runningSum[i]  = self.runningSum[i-1] + w[i]\n",
    "        self.total = self.runningSum [-1]\n",
    "        \n",
    "        \n",
    "    def pickIndex(self) -> int:\n",
    "        r = self.total *  random.random()\n",
    "        # Now we just have to return the index\n",
    "        return bisect.bisect_left(self.runningSum, r)\n",
    "        \n",
    "\n",
    "\n",
    "# Your Solution object will be instantiated and called as such:\n",
    "# obj = Solution(w)\n",
    "# param_1 = obj.pickIndex()"
   ]
  },
  {
   "cell_type": "code",
   "execution_count": 21,
   "metadata": {},
   "outputs": [
    {
     "data": {
      "text/plain": [
       "1"
      ]
     },
     "execution_count": 21,
     "metadata": {},
     "output_type": "execute_result"
    }
   ],
   "source": [
    "bisect.bisect_left([3, 17, 18, 25],)"
   ]
  },
  {
   "cell_type": "code",
   "execution_count": 23,
   "metadata": {},
   "outputs": [
    {
     "name": "stdout",
     "output_type": "stream",
     "text": [
      "26 20 29\n"
     ]
    }
   ],
   "source": [
    "ones, twos, threes = 0,0,0\n",
    "for i in range(100):\n",
    "    r = random.randint (0,3)\n",
    "    if r == 1:\n",
    "        ones += 1 \n",
    "    elif r == 2:\n",
    "        twos += 1 \n",
    "    elif r == 3:\n",
    "        threes += 1 \n",
    "print (ones, twos, threes)"
   ]
  },
  {
   "cell_type": "code",
   "execution_count": null,
   "metadata": {},
   "outputs": [],
   "source": []
  }
 ],
 "metadata": {
  "kernelspec": {
   "display_name": "Python 3",
   "language": "python",
   "name": "python3"
  },
  "language_info": {
   "codemirror_mode": {
    "name": "ipython",
    "version": 3
   },
   "file_extension": ".py",
   "mimetype": "text/x-python",
   "name": "python",
   "nbconvert_exporter": "python",
   "pygments_lexer": "ipython3",
   "version": "3.7.4"
  }
 },
 "nbformat": 4,
 "nbformat_minor": 2
}
