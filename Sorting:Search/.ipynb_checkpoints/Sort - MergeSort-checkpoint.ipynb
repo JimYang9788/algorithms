{
 "cells": [
  {
   "cell_type": "code",
   "execution_count": null,
   "metadata": {},
   "outputs": [],
   "source": [
    "def mergeSort(array):\n",
    "    # Write your code here.\n",
    "\t\n",
    "    def merge (num1, num2):\n",
    "\t\tprint (num1, num2)\n",
    "\t\tif not num1: return num2\n",
    "\t\tif not num2: return num1 \n",
    "\t\tres = []\n",
    "\t\ti, j = 0,0\n",
    "\t\twhile (i < len(num1) and j < len(num2)):\n",
    "\t\t\tif num1[i] <= num2[j]:\n",
    "\t\t\t\tres.append (num1[i])\n",
    "\t\t\t\ti += 1 \n",
    "\t\t\telse:\n",
    "\t\t\t\tres.append (num2[j])\n",
    "\t\t\t\tj += 1 \n",
    "\t\t\t\t\n",
    "\t\tif i == len(num1):\n",
    "\t\t\tres += num2[j:]\n",
    "\t\telse:\n",
    "\t\t\tres += num1[i:]\n",
    "\t\tprint (res)\n",
    "\t\treturn res \n",
    "\t\n",
    "\t\n",
    "\tif len(array) <= 1: return array\n",
    "\t\n",
    "\tn = len(array)\n",
    "\n",
    "\treturn merge(mergeSort(array[:n//2]) ,mergeSort(array[n//2:]))\n"
   ]
  }
 ],
 "metadata": {
  "kernelspec": {
   "display_name": "Python 3",
   "language": "python",
   "name": "python3"
  },
  "language_info": {
   "codemirror_mode": {
    "name": "ipython",
    "version": 3
   },
   "file_extension": ".py",
   "mimetype": "text/x-python",
   "name": "python",
   "nbconvert_exporter": "python",
   "pygments_lexer": "ipython3",
   "version": "3.7.4"
  }
 },
 "nbformat": 4,
 "nbformat_minor": 2
}
