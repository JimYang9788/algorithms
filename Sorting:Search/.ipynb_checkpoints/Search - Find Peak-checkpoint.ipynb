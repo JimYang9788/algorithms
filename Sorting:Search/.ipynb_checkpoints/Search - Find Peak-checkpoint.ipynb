{
 "cells": [
  {
   "cell_type": "code",
   "execution_count": null,
   "metadata": {},
   "outputs": [],
   "source": [
    "class Solution:\n",
    "    def peakIndexInMountainArray(self, arr):\n",
    "        l,r = 0, len(arr) - 1\n",
    "        \n",
    "        while (l <= r):\n",
    "            m = (l + r) // 2\n",
    "\n",
    "            if arr[m+1] < arr[m]  and arr[m] > arr[m-1]:\n",
    "                return m \n",
    "        \n",
    "            elif arr[m-1]  > arr[m] > arr[m+1]:\n",
    "                r = m - 1\n",
    "            \n",
    "            elif arr[m-1]  < arr[m] < arr[m+1]:\n",
    "                l = m + 1 \n",
    "        \n",
    "        return -1 "
   ]
  }
 ],
 "metadata": {
  "kernelspec": {
   "display_name": "Python 3",
   "language": "python",
   "name": "python3"
  },
  "language_info": {
   "codemirror_mode": {
    "name": "ipython",
    "version": 3
   },
   "file_extension": ".py",
   "mimetype": "text/x-python",
   "name": "python",
   "nbconvert_exporter": "python",
   "pygments_lexer": "ipython3",
   "version": "3.7.4"
  }
 },
 "nbformat": 4,
 "nbformat_minor": 2
}
