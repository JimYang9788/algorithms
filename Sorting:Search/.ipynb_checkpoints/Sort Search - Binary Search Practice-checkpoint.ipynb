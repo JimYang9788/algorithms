{
 "cells": [
  {
   "cell_type": "code",
   "execution_count": 1,
   "metadata": {},
   "outputs": [],
   "source": [
    "def binSearch (array, target):\n",
    "    \n",
    "    l,r = 0, len(array)-1\n",
    "    \n",
    "    while (l <= r):\n",
    "        # m 在 l == r的时候还可以继续找\n",
    "        m  = (l + r) // 2\n",
    "        if array[m] == target:\n",
    "            return m\n",
    "        elif array[m] > target:\n",
    "            r = m - 1 \n",
    "        else:\n",
    "            l = m + 1\n",
    "    \n",
    "    return -1 "
   ]
  },
  {
   "cell_type": "code",
   "execution_count": null,
   "metadata": {},
   "outputs": [],
   "source": []
  }
 ],
 "metadata": {
  "kernelspec": {
   "display_name": "Python 3",
   "language": "python",
   "name": "python3"
  },
  "language_info": {
   "codemirror_mode": {
    "name": "ipython",
    "version": 3
   },
   "file_extension": ".py",
   "mimetype": "text/x-python",
   "name": "python",
   "nbconvert_exporter": "python",
   "pygments_lexer": "ipython3",
   "version": "3.7.4"
  }
 },
 "nbformat": 4,
 "nbformat_minor": 2
}
