{
 "cells": [
  {
   "cell_type": "code",
   "execution_count": 2,
   "metadata": {},
   "outputs": [],
   "source": [
    "class Solution:\n",
    "    def findMin(self, nums) -> int:\n",
    "        l, r = 0, len(nums) - 1\n",
    "        curMin = nums[0]\n",
    "        \n",
    "        while (l <= r):\n",
    "            m = (l + r) // 2 \n",
    "            # [4,5,6,7,0,1,2]\n",
    "            if nums[m] >= nums[l] and nums[m]>= nums[r]:\n",
    "                curMin = min (curMin, nums[r])\n",
    "                l = m + 1 \n",
    "                \n",
    "            # [1,2,3,4,5,6,7]\n",
    "            elif nums[m] >= nums[l] and nums[m] < nums[r]:\n",
    "                curMin = min (curMin, nums[l])\n",
    "                r = m - 1\n",
    "                \n",
    "            # [4,5,6,0,1,2,3]\n",
    "            elif nums[m] < nums[l] and nums[m] < nums[r]:\n",
    "                curMin = min (curMin, nums[m])\n",
    "                r = m - 1 \n",
    "        \n",
    "        return curMin"
   ]
  },
  {
   "cell_type": "code",
   "execution_count": null,
   "metadata": {},
   "outputs": [],
   "source": []
  }
 ],
 "metadata": {
  "kernelspec": {
   "display_name": "Python 3",
   "language": "python",
   "name": "python3"
  },
  "language_info": {
   "codemirror_mode": {
    "name": "ipython",
    "version": 3
   },
   "file_extension": ".py",
   "mimetype": "text/x-python",
   "name": "python",
   "nbconvert_exporter": "python",
   "pygments_lexer": "ipython3",
   "version": "3.7.4"
  }
 },
 "nbformat": 4,
 "nbformat_minor": 2
}
