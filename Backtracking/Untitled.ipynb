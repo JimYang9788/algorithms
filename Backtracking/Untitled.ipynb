{
 "cells": [
  {
   "cell_type": "code",
   "execution_count": 1,
   "metadata": {},
   "outputs": [],
   "source": [
    "def isValid (s):\n",
    "    '''\n",
    "    Ret True if it's a valid parenthesis\n",
    "    '''\n",
    "    stack = []\n",
    "    for c in s:\n",
    "        if c == '(':\n",
    "            stack.append ('(')\n",
    "        elif c == ')':\n",
    "            if not stack: \n",
    "                return False\n",
    "            top = stack.pop()\n",
    "            if not top == \"(\":\n",
    "                return False \n",
    "\n",
    "    return not stack"
   ]
  },
  {
   "cell_type": "code",
   "execution_count": 11,
   "metadata": {},
   "outputs": [
    {
     "data": {
      "text/plain": [
       "True"
      ]
     },
     "execution_count": 11,
     "metadata": {},
     "output_type": "execute_result"
    }
   ],
   "source": [
    "isValid(\"(((a)) ()((())) ()(()))\")"
   ]
  },
  {
   "cell_type": "code",
   "execution_count": 14,
   "metadata": {},
   "outputs": [],
   "source": [
    "def reduce (temp):\n",
    "    '''\n",
    "    Return true if finds a consecutive run of three numbers \n",
    "    '''\n",
    "    end = 0\n",
    "    char = ''\n",
    "    while (end < len(temp)):\n",
    "        if end >=2 and temp[end-1] == temp[end- 2] and temp[end] == temp[end-1]:\n",
    "            # Can reduce \n",
    "            char = temp[end]\n",
    "            e = end \n",
    "            while (e < len(temp) and temp[e] == temp[end]):\n",
    "                e += 1 \n",
    "            e -= 1 \n",
    "            temp = temp[:end-2] + temp[e+1:]\n",
    "            end = 0\n",
    "\n",
    "        end += 1 \n",
    "\n",
    "    return temp  \n"
   ]
  },
  {
   "cell_type": "code",
   "execution_count": 24,
   "metadata": {},
   "outputs": [
    {
     "data": {
      "text/plain": [
       "''"
      ]
     },
     "execution_count": 24,
     "metadata": {},
     "output_type": "execute_result"
    }
   ],
   "source": [
    "reduce (\"AAABBBAAA\")"
   ]
  },
  {
   "cell_type": "code",
   "execution_count": 29,
   "metadata": {},
   "outputs": [],
   "source": [
    "from collections import Counter \n",
    "c = Counter (\"SSS\")\n",
    "d = Counter (\"S\")"
   ]
  },
  {
   "cell_type": "code",
   "execution_count": 30,
   "metadata": {},
   "outputs": [
    {
     "name": "stdout",
     "output_type": "stream",
     "text": [
      "True\n",
      "Counter({'S': 3})\n"
     ]
    }
   ],
   "source": [
    "print (frozenset (c) == frozenset (d))\n",
    "print (c)"
   ]
  },
  {
   "cell_type": "code",
   "execution_count": null,
   "metadata": {},
   "outputs": [],
   "source": []
  }
 ],
 "metadata": {
  "kernelspec": {
   "display_name": "Python 3",
   "language": "python",
   "name": "python3"
  },
  "language_info": {
   "codemirror_mode": {
    "name": "ipython",
    "version": 3
   },
   "file_extension": ".py",
   "mimetype": "text/x-python",
   "name": "python",
   "nbconvert_exporter": "python",
   "pygments_lexer": "ipython3",
   "version": "3.7.4"
  }
 },
 "nbformat": 4,
 "nbformat_minor": 2
}
