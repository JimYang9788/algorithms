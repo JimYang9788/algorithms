{
 "cells": [
  {
   "cell_type": "code",
   "execution_count": 1,
   "metadata": {},
   "outputs": [],
   "source": [
    "class Solution:\n",
    "    def partition(self, s):\n",
    "        \n",
    "        cache = {}\n",
    "        \n",
    "        def isPalindrome (s):\n",
    "            n = len(s)\n",
    "            if n <= 1: return True \n",
    "            for i in range(0, len(s)//2): \n",
    "                if s[i] != s[len(s)-i-1]:\n",
    "                    return False\n",
    "            return True\n",
    "        \n",
    "        def backtrack (cur,tmplist, i):\n",
    "            if i == n:\n",
    "                if cur and isPalindrome(cur):\n",
    "                    tmplist.append(cur)\n",
    "                    cpy = tmplist.copy()\n",
    "                    output.append(cpy)\n",
    "                    tmplist.pop()\n",
    "            else:\n",
    "                if isPalindrome (cur+s[i]):\n",
    "                    tmplist.append(cur+s[i])\n",
    "                    backtrack (\"\",tmplist,i+1)\n",
    "                    tmplist.pop()\n",
    "                backtrack(cur + s[i],tmplist,i+1)\n",
    "                       \n",
    "        output = []\n",
    "        n = len(s) \n",
    "        backtrack(\"\",[],0)\n",
    "        \n",
    "        return output"
   ]
  }
 ],
 "metadata": {
  "kernelspec": {
   "display_name": "Python 3",
   "language": "python",
   "name": "python3"
  },
  "language_info": {
   "codemirror_mode": {
    "name": "ipython",
    "version": 3
   },
   "file_extension": ".py",
   "mimetype": "text/x-python",
   "name": "python",
   "nbconvert_exporter": "python",
   "pygments_lexer": "ipython3",
   "version": "3.7.4"
  }
 },
 "nbformat": 4,
 "nbformat_minor": 2
}
