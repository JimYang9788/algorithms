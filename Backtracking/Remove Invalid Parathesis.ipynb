{
 "cells": [
  {
   "cell_type": "code",
   "execution_count": 4,
   "metadata": {},
   "outputs": [
    {
     "ename": "IndentationError",
     "evalue": "unindent does not match any outer indentation level (<tokenize>, line 21)",
     "output_type": "error",
     "traceback": [
      "\u001b[0;36m  File \u001b[0;32m\"<tokenize>\"\u001b[0;36m, line \u001b[0;32m21\u001b[0m\n\u001b[0;31m    else:\u001b[0m\n\u001b[0m    ^\u001b[0m\n\u001b[0;31mIndentationError\u001b[0m\u001b[0;31m:\u001b[0m unindent does not match any outer indentation level\n"
     ]
    }
   ],
   "source": [
    "class Solution(object):\n",
    "\n",
    "    def __init__(self):\n",
    "        self.valid_expressions = None\n",
    "        self.min_removed = None\n",
    "\n",
    "    def reset(self):\n",
    "        self.valid_expressions = set()\n",
    "        self.min_removed = float(\"inf\")\n",
    "\n",
    "    def remaining(self, string, index, left_count, right_count, expr, rem_count):\n",
    "        # If we have reached the end of string.\n",
    "        if index == len(string):\n",
    "    、            if left_count == right_count:\n",
    "                if rem_count <= self.min_removed:\n",
    "                    possible_ans = \"\".join(expr)\n",
    "                    if rem_count < self.min_removed:\n",
    "                        self.valid_expressions = set()\n",
    "                        self.min_removed = rem_count\n",
    "                    self.valid_expressions.add(possible_ans)    \n",
    "        else:        \n",
    "            current_char = string[index]\n",
    "            if current_char != '(' and  current_char != ')':\n",
    "                expr.append(current_char)\n",
    "                self.remaining(string, index + 1, left_count, right_count, expr, rem_count)\n",
    "                expr.pop()\n",
    "            else:\n",
    "                self.remaining(string, index + 1, left_count, right_count, expr, rem_count + 1)\n",
    "\n",
    "                expr.append(current_char)\n",
    "                if string[index] == '(':\n",
    "                    self.remaining(string, index + 1, left_count + 1, right_count, expr, rem_count)\n",
    "                elif right_count < left_count:\n",
    "                    # If the current parenthesis is a closing bracket, we consider it only if we\n",
    "                    self.remaining(string, index + 1, left_count, right_count + 1, expr, rem_count)\n",
    "\n",
    "                expr.pop()\n",
    "\n",
    "    def removeInvalidParentheses(self, s):\n",
    "        \"\"\"\n",
    "        :type s: str\n",
    "        :rtype: List[str]\n",
    "        \"\"\"\n",
    "\n",
    "        # Reset the class level variables that we use for every test case.\n",
    "        self.reset()\n",
    "\n",
    "        # Recursive call\n",
    "        self.remaining(s, 0, 0, 0, [], 0)\n",
    "        return list(self.valid_expressions)"
   ]
  }
 ],
 "metadata": {
  "kernelspec": {
   "display_name": "Python 3",
   "language": "python",
   "name": "python3"
  },
  "language_info": {
   "codemirror_mode": {
    "name": "ipython",
    "version": 3
   },
   "file_extension": ".py",
   "mimetype": "text/x-python",
   "name": "python",
   "nbconvert_exporter": "python",
   "pygments_lexer": "ipython3",
   "version": "3.7.4"
  }
 },
 "nbformat": 4,
 "nbformat_minor": 2
}
