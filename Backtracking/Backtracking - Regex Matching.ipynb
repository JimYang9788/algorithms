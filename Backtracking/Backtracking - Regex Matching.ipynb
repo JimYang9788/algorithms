{
 "cells": [
  {
   "cell_type": "code",
   "execution_count": 3,
   "metadata": {},
   "outputs": [],
   "source": [
    "class Solution:\n",
    "    def isMatch(self, s: str, p: str) -> bool:\n",
    "        \n",
    "        newp = []\n",
    "        \n",
    "        for i, val in enumerate(p):\n",
    "            if val == '*':\n",
    "                element = newp.pop()\n",
    "                element = element + '*'\n",
    "                newp.append(element)\n",
    "            else:\n",
    "                newp.append(val)\n",
    "        p = newp\n",
    "        \n",
    "        dp = [[False for _ in range(len(p)+1)] for i in range(len(s)+1)]\n",
    "        \n",
    "        dp[0][0] = True\n",
    "            \n",
    "        for j in range(1,len(p)+1):\n",
    "            if len(p[j-1]) != 2:\n",
    "                break\n",
    "            dp[0][j] = True\n",
    "            \n",
    "        for i in range(1,len(s)+1):\n",
    "            for j in range(1,len(p)+1):\n",
    "                if p[j-1] == '.':\n",
    "                    dp[i][j] = dp[i-1][j-1]\n",
    "                elif len(p[j-1]) == 1 and s[i-1] == p[j-1]:\n",
    "                    dp[i][j] = dp[i-1][j-1]\n",
    "                elif len(p[j-1]) == 2:\n",
    "                    char = p[j-1][0]\n",
    "                    if char == s[i-1] or char == '.':\n",
    "                        dp[i][j] = dp[i-1][j-1] or dp[i][j-1] or dp[i-1][j]\n",
    "                    else:\n",
    "                        dp[i][j] = dp[i][j-1]\n",
    "        \n",
    "        return dp[-1][-1]"
   ]
  }
 ],
 "metadata": {
  "kernelspec": {
   "display_name": "Python 3",
   "language": "python",
   "name": "python3"
  },
  "language_info": {
   "codemirror_mode": {
    "name": "ipython",
    "version": 3
   },
   "file_extension": ".py",
   "mimetype": "text/x-python",
   "name": "python",
   "nbconvert_exporter": "python",
   "pygments_lexer": "ipython3",
   "version": "3.7.4"
  }
 },
 "nbformat": 4,
 "nbformat_minor": 2
}
