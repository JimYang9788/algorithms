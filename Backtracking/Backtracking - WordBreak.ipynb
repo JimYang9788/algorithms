{
 "cells": [
  {
   "cell_type": "code",
   "execution_count": null,
   "metadata": {},
   "outputs": [],
   "source": [
    "class Solution(object):\n",
    "    def wordBreak(self, s, wordDict):\n",
    "        \"\"\"\n",
    "        :type s: str\n",
    "        :type wordDict: List[str]\n",
    "        :rtype: bool\n",
    "        \"\"\"\n",
    "        hashmap = set()\n",
    "        def backtrack (s, i, wordDict):\n",
    "            \n",
    "            if (i == len(s)): # Reach the end \n",
    "                return True \n",
    "            \n",
    "            if i in hashmap:\n",
    "                return False\n",
    "            \n",
    "            for word in wordDict:\n",
    "                if s[i:].startswith(word):\n",
    "                    length = len(word)\n",
    "                    if backtrack(s, i + length,  wordDict):\n",
    "                        return True\n",
    "                    else:\n",
    "                        hashmap.add(i+length)\n",
    "                        \n",
    "            return False \n",
    "            \n",
    "        \n",
    "        \n",
    "        return backtrack (s, 0, wordDict)"
   ]
  }
 ],
 "metadata": {
  "kernelspec": {
   "display_name": "Python 3",
   "language": "python",
   "name": "python3"
  },
  "language_info": {
   "codemirror_mode": {
    "name": "ipython",
    "version": 3
   },
   "file_extension": ".py",
   "mimetype": "text/x-python",
   "name": "python",
   "nbconvert_exporter": "python",
   "pygments_lexer": "ipython3",
   "version": "3.7.4"
  }
 },
 "nbformat": 4,
 "nbformat_minor": 2
}
