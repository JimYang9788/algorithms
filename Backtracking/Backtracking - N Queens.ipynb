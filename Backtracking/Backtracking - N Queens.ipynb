{
 "cells": [
  {
   "cell_type": "code",
   "execution_count": null,
   "metadata": {},
   "outputs": [],
   "source": [
    "class Solution:\n",
    "    def solveNQueens(self, n: int) -> List[List[str]]:\n",
    "        \n",
    "        # using backtracking \n",
    "        \n",
    "        def getRow (n,i):\n",
    "            res = ['.' for _ in range(n)]\n",
    "            res[i] = 'Q'\n",
    "            return ''.join(res)\n",
    "        \n",
    "        \n",
    "        def isValidSolution (row, col, board):\n",
    "            # row: newly added row \n",
    "            # col: the col that Q is placed \n",
    "            \n",
    "            # 1. Check col\n",
    "            \n",
    "            for i in range (0, len(board)-1):\n",
    "                if board[i][col] == 'Q':\n",
    "                    return False\n",
    "\n",
    "            for k in range (1,n):\n",
    "                if row - k >= 0 and col + k < n:\n",
    "                    if board [row - k][col + k] == \"Q\":\n",
    "                        return False   \n",
    "\n",
    "            for k in range (1,n):\n",
    "                if row - k >= 0 and col - k >= 0:\n",
    "                    if board [row - k][col - k] == \"Q\":\n",
    "                        return False \n",
    "                \n",
    "            return True \n",
    "        \n",
    "        \n",
    "        \n",
    "        def backtrack (n,row,sol):\n",
    "            \n",
    "            # 1. termination condition\n",
    "            if row == n:\n",
    "                output.append (sol)\n",
    "            \n",
    "            \n",
    "            for col in range (0, n):\n",
    "                newRow = getRow (n,col)\n",
    "                if isValidSolution(row, col, sol+ [newRow]):\n",
    "                    backtrack (n, row + 1, sol + [newRow])\n",
    "            \n",
    "            return \n",
    "                        \n",
    "        \n",
    "        output = []\n",
    "\n",
    "        backtrack (n,0,[])\n",
    "        \n",
    "        return output "
   ]
  }
 ],
 "metadata": {
  "kernelspec": {
   "display_name": "Python 3",
   "language": "python",
   "name": "python3"
  },
  "language_info": {
   "codemirror_mode": {
    "name": "ipython",
    "version": 3
   },
   "file_extension": ".py",
   "mimetype": "text/x-python",
   "name": "python",
   "nbconvert_exporter": "python",
   "pygments_lexer": "ipython3",
   "version": "3.7.4"
  }
 },
 "nbformat": 4,
 "nbformat_minor": 2
}
