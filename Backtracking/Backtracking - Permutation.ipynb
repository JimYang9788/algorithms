{
 "cells": [
  {
   "cell_type": "code",
   "execution_count": null,
   "metadata": {},
   "outputs": [],
   "source": [
    "class Solution:\n",
    "    def permute(self, nums):\n",
    "        \"\"\"\n",
    "        :type nums: List[int]\n",
    "        :rtype: List[List[int]]\n",
    "        \"\"\"\n",
    "        def backtrack(idx):\n",
    "            \n",
    "            if idx == len(nums):\n",
    "                output.append (nums[:])\n",
    "                return \n",
    "            \n",
    "            for i in range (idx, len(nums)):\n",
    "                nums[idx], nums[i] = nums[i], nums[idx]\n",
    "                backtrack (idx+1)\n",
    "                nums[idx], nums[i] = nums[i], nums[idx]\n",
    "\n",
    "                \n",
    "            return \n",
    "                \n",
    "                \n",
    "        output = []\n",
    "        backtrack(0)\n",
    "        return output"
   ]
  }
 ],
 "metadata": {
  "kernelspec": {
   "display_name": "Python 3",
   "language": "python",
   "name": "python3"
  },
  "language_info": {
   "codemirror_mode": {
    "name": "ipython",
    "version": 3
   },
   "file_extension": ".py",
   "mimetype": "text/x-python",
   "name": "python",
   "nbconvert_exporter": "python",
   "pygments_lexer": "ipython3",
   "version": "3.7.4"
  }
 },
 "nbformat": 4,
 "nbformat_minor": 2
}
