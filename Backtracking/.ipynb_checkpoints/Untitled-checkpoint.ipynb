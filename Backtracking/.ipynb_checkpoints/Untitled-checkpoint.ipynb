{
 "cells": [
  {
   "cell_type": "code",
   "execution_count": null,
   "metadata": {},
   "outputs": [],
   "source": [
    "        def isValid (s):\n",
    "            '''\n",
    "            Ret True if it's a valid parenthesis\n",
    "            '''\n",
    "            stack = []\n",
    "            for c in s:\n",
    "                if c == '(':\n",
    "                    stack.append ('(')\n",
    "                elif c == ')':\n",
    "                    if not stack: \n",
    "                        return False\n",
    "                    top = stack.pop()\n",
    "                    if not top == \"(\":\n",
    "                        return False \n",
    "                    \n",
    "            return not stack"
   ]
  }
 ],
 "metadata": {
  "kernelspec": {
   "display_name": "Python 3",
   "language": "python",
   "name": "python3"
  },
  "language_info": {
   "codemirror_mode": {
    "name": "ipython",
    "version": 3
   },
   "file_extension": ".py",
   "mimetype": "text/x-python",
   "name": "python",
   "nbconvert_exporter": "python",
   "pygments_lexer": "ipython3",
   "version": "3.7.4"
  }
 },
 "nbformat": 4,
 "nbformat_minor": 2
}
