{
 "cells": [
  {
   "cell_type": "code",
   "execution_count": 1,
   "metadata": {},
   "outputs": [],
   "source": [
    "class Solution:\n",
    "    minimum = float (\"inf\")\n",
    "    \n",
    "    def findMinStep(self, board: str, hand: str) -> int:\n",
    "        \n",
    "        def reduce (temp):\n",
    "            '''\n",
    "            Return true if finds a consecutive run of three numbers \n",
    "            '''\n",
    "            end = 0\n",
    "            char = ''\n",
    "            while (end < len(temp)):\n",
    "                if end >=2 and temp[end-1] == temp[end- 2] and temp[end] == temp[end-1]:\n",
    "                    # Can reduce \n",
    "                    char = temp[end]\n",
    "                    e = end \n",
    "                    while (e < len(temp) and temp[e] == temp[end]):\n",
    "                        e += 1 \n",
    "                    e -= 1 \n",
    "                    temp = temp[:end-2] + temp[e+1:]\n",
    "                    end = 0\n",
    "                    \n",
    "                end += 1 \n",
    "            \n",
    "            return temp  \n",
    "            \n",
    "        @lru_cache (None)\n",
    "        def backtrack(temp, hand):\n",
    "            if temp == \"\":\n",
    "                self.minimum = min (self.minimum, handNum - len(hand))\n",
    "                return self.minimum \n",
    "            hand = list(hand)\n",
    "            for i in range (len(temp)):\n",
    "                for j in range(len(hand)):\n",
    "                    usedColor = hand[j]\n",
    "                    del hand[j]\n",
    "                    newtemp = temp[:i] + usedColor + temp[i:]\n",
    "                    newtemp = reduce (newtemp)\n",
    "                    backtrack(newtemp, ''.join(hand))\n",
    "                    hand.insert (j, usedColor)\n",
    "        \n",
    "        handNum = len(hand)\n",
    "        backtrack(board, hand)\n",
    "        if self.minimum == float(\"inf\"):\n",
    "            return -1\n",
    "        else:\n",
    "            return self.minimum "
   ]
  }
 ],
 "metadata": {
  "kernelspec": {
   "display_name": "Python 3",
   "language": "python",
   "name": "python3"
  },
  "language_info": {
   "codemirror_mode": {
    "name": "ipython",
    "version": 3
   },
   "file_extension": ".py",
   "mimetype": "text/x-python",
   "name": "python",
   "nbconvert_exporter": "python",
   "pygments_lexer": "ipython3",
   "version": "3.7.4"
  }
 },
 "nbformat": 4,
 "nbformat_minor": 2
}
