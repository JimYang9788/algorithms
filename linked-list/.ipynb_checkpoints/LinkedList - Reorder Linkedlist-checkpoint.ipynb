{
 "cells": [
  {
   "cell_type": "code",
   "execution_count": null,
   "metadata": {},
   "outputs": [],
   "source": [
    "# Definition for singly-linked list.\n",
    "# class ListNode:\n",
    "#     def __init__(self, val=0, next=None):\n",
    "#         self.val = val\n",
    "#         self.next = next\n",
    "class Solution:\n",
    "    def reverseList (self, head):\n",
    "        curnode, prevnode  = head, None\n",
    "        \n",
    "        while (curnode):\n",
    "            tempnode = curnode \n",
    "            curnode = curnode.next \n",
    "            tempnode.next = prevnode \n",
    "            prevnode = tempnode \n",
    "        return prevnode \n",
    "    \n",
    "    def mergeList (self, l1, l2):\n",
    "        dummyhead = curnode = ListNode (0)\n",
    "        l1Turn = True\n",
    "        while (l1 and l2):\n",
    "            if l1Turn:\n",
    "                curnode.next = l1\n",
    "                l1 = l1.next \n",
    "            else:\n",
    "                curnode.next = l2 \n",
    "                l2 = l2.next \n",
    "            curnode = curnode.next \n",
    "            l1Turn = 1 - l1Turn\n",
    "\n",
    "        curnode.next = l1 or l2 \n",
    "        return dummyhead.next \n",
    "        \n",
    "    def divideInHalf (self, head):\n",
    "        dummy = slow = ListNode (0)\n",
    "        slow.next, fast  = head, head  \n",
    "        while (fast and fast.next):\n",
    "            slow = slow.next \n",
    "            fast = fast.next.next \n",
    "        temp =ListNode (0)\n",
    "        temp.next = slow.next \n",
    "        slow.next = None \n",
    "        return dummy.next, temp.next\n",
    "        \n",
    "    \n",
    "    def reorderList(self, head: ListNode) -> None:\n",
    "        if not head: return None \n",
    "        \n",
    "        l1, l2 = self.divideInHalf(head)\n",
    "        l2 = self.reverseList (l2)\n",
    "        head.next =  self.mergeList (l1,l2).next\n",
    "        return head \n",
    "        \n",
    "        \n",
    "        \n",
    "        "
   ]
  }
 ],
 "metadata": {
  "kernelspec": {
   "display_name": "Python 3",
   "language": "python",
   "name": "python3"
  },
  "language_info": {
   "codemirror_mode": {
    "name": "ipython",
    "version": 3
   },
   "file_extension": ".py",
   "mimetype": "text/x-python",
   "name": "python",
   "nbconvert_exporter": "python",
   "pygments_lexer": "ipython3",
   "version": "3.7.4"
  }
 },
 "nbformat": 4,
 "nbformat_minor": 2
}
