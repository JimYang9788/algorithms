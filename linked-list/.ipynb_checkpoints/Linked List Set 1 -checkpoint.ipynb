{
 "cells": [
  {
   "cell_type": "markdown",
   "metadata": {},
   "source": [
    "#### Delete nth node from linked list\n"
   ]
  },
  {
   "cell_type": "markdown",
   "metadata": {},
   "source": [
    "Given a linked list, remove the n-th node from the end of list and return its head.\n",
    "\n",
    "Example:\n",
    "\n",
    "Given linked list:\n",
    "```\n",
    "1->2->3->4->5, and n = 2.\n",
    "```\n",
    "After removing the second node from the end, the linked list becomes 1->2->3->5."
   ]
  },
  {
   "cell_type": "code",
   "execution_count": 3,
   "metadata": {},
   "outputs": [],
   "source": [
    "class Solution:\n",
    "    \n",
    "    def removeNthFromEnd(self, head, n):\n",
    "        length = 0\n",
    "        # First needs to find the length of the list \n",
    "\n",
    "        ptr = head \n",
    "        while (ptr != None):\n",
    "            ptr = ptr.next\n",
    "            length += 1 \n",
    "        \n",
    "        # We delete the node at position delete_pos \n",
    "        delete_pos = length - n \n",
    "        cur_pos, ptr = 0, head\n",
    "        \n",
    "        if delete_pos == 0:\n",
    "            if head.next == None:\n",
    "                head = None \n",
    "            else:\n",
    "                head.val = head.next.val\n",
    "                head.next = head.next.next \n",
    "            return head \n",
    "        \n",
    "        cur_pos += 1 \n",
    "        \n",
    "        while delete_pos != cur_pos:\n",
    "            cur_pos += 1 \n",
    "            ptr = ptr.next \n",
    "        \n",
    "        ptr.next = ptr.next.next\n",
    "\n",
    "        return head"
   ]
  },
  {
   "cell_type": "markdown",
   "metadata": {},
   "source": [
    "The smart solution uses two pointers. The fast and slow. 快的那个pointer先跑n+1，等快的到底了,\n",
    "慢的也就到了快的前面那个了.\n",
    "\n",
    "```\n",
    "public ListNode removeNthFromEnd(ListNode head, int n) {\n",
    "    ListNode dummy = new ListNode(0);\n",
    "    dummy.next = head;\n",
    "    ListNode first = dummy;\n",
    "    ListNode second = dummy;\n",
    "    // Advances first pointer so that the gap between first and second is n nodes apart\n",
    "    for (int i = 1; i <= n + 1; i++) {\n",
    "        first = first.next;\n",
    "    }\n",
    "    // Move first to the end, maintaining the gap\n",
    "    while (first != null) {\n",
    "        first = first.next;\n",
    "        second = second.next;\n",
    "    }\n",
    "    second.next = second.next.next;\n",
    "    return dummy.next;\n",
    "}\n",
    "```"
   ]
  },
  {
   "cell_type": "code",
   "execution_count": null,
   "metadata": {},
   "outputs": [],
   "source": []
  }
 ],
 "metadata": {
  "kernelspec": {
   "display_name": "Python 3",
   "language": "python",
   "name": "python3"
  },
  "language_info": {
   "codemirror_mode": {
    "name": "ipython",
    "version": 3
   },
   "file_extension": ".py",
   "mimetype": "text/x-python",
   "name": "python",
   "nbconvert_exporter": "python",
   "pygments_lexer": "ipython3",
   "version": "3.7.4"
  }
 },
 "nbformat": 4,
 "nbformat_minor": 2
}
