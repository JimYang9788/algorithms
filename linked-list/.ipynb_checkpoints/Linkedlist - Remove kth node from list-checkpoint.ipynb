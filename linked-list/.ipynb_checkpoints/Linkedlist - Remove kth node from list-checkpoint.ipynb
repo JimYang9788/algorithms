{
 "cells": [
  {
   "cell_type": "code",
   "execution_count": null,
   "metadata": {},
   "outputs": [],
   "source": [
    "class Solution:\n",
    "    def removeNthFromEnd(self, head: ListNode, n: int) -> ListNode:\n",
    "        \n",
    "        slow, fast, prev = head, head , None\n",
    "        \n",
    "        while (n != 0):\n",
    "            fast = fast.next \n",
    "            n -= 1 \n",
    "        \n",
    "        while (fast):\n",
    "            fast = fast.next \n",
    "            prev = slow\n",
    "            slow = slow.next \n",
    "            \n",
    "        if slow == head:\n",
    "            return head.next if head else None \n",
    "        \n",
    "        prev.next = slow.next \n",
    "        \n",
    "        return head "
   ]
  }
 ],
 "metadata": {
  "kernelspec": {
   "display_name": "Python 3",
   "language": "python",
   "name": "python3"
  },
  "language_info": {
   "codemirror_mode": {
    "name": "ipython",
    "version": 3
   },
   "file_extension": ".py",
   "mimetype": "text/x-python",
   "name": "python",
   "nbconvert_exporter": "python",
   "pygments_lexer": "ipython3",
   "version": "3.7.4"
  }
 },
 "nbformat": 4,
 "nbformat_minor": 2
}
