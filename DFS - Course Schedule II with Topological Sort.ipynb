{
 "cells": [
  {
   "cell_type": "code",
   "execution_count": null,
   "metadata": {},
   "outputs": [],
   "source": [
    "class Solution:\n",
    "    def findOrder(self, numCourses: int, prerequisites: List[List[int]]) -> List[int]:\n",
    "        \n",
    "\n",
    "        def dfs (i, order):\n",
    "            \n",
    "            if visited[i] == 2:\n",
    "                return True\n",
    "            \n",
    "            if visited[i] == 1:\n",
    "                return False\n",
    "        \n",
    "            visited[i] = 1 \n",
    "            \n",
    "            for neighbour in graph[i]:\n",
    "                if not dfs (neighbour, order):\n",
    "                    return False \n",
    "                \n",
    "            order.append (i)\n",
    "            visited[i] = 2 \n",
    "            return True \n",
    "        # topological sort...\n",
    "        \n",
    "        graph = {i:[] for i in range(numCourses)}\n",
    "        visited = {i: 0 for i in range (numCourses)}\n",
    "        \n",
    "        for edge in prerequisites:\n",
    "            graph[edge[1]].append(edge[0])\n",
    "            \n",
    "        order = []\n",
    "        \n",
    "        for course in range(numCourses):\n",
    "            if not dfs (course, order):\n",
    "                return []\n",
    "            \n",
    "        order = order[::-1]\n",
    "        return order \n",
    "        \n"
   ]
  }
 ],
 "metadata": {
  "kernelspec": {
   "display_name": "Python 3",
   "language": "python",
   "name": "python3"
  },
  "language_info": {
   "codemirror_mode": {
    "name": "ipython",
    "version": 3
   },
   "file_extension": ".py",
   "mimetype": "text/x-python",
   "name": "python",
   "nbconvert_exporter": "python",
   "pygments_lexer": "ipython3",
   "version": "3.7.4"
  }
 },
 "nbformat": 4,
 "nbformat_minor": 2
}
