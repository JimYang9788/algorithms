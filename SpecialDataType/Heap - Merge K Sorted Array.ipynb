{
 "cells": [
  {
   "cell_type": "code",
   "execution_count": null,
   "metadata": {},
   "outputs": [],
   "source": [
    "import heapq \n",
    "def mergeSortedArrays(arrays):\n",
    "\n",
    "\t# If I were to do this the dumb way \n",
    "\t# Then it's going to take me O(kn) time\n",
    "\t\n",
    "\t\n",
    "\tminHeap = []\n",
    "\tres = []\n",
    "\tfor i, array in enumerate(arrays):\n",
    "\t\tif array:\n",
    "\t\t\titem = array.pop(0)\n",
    "\t\t\theapq.heappush (minHeap, (item, i))\n",
    "\t\n",
    "\twhile (minHeap):\n",
    "\t\titem = heapq.heappop(minHeap)\n",
    "\t\ttoBeAppended = item [0]\n",
    "\t\tidx = item [1]\n",
    "\t\tres.append (toBeAppended)\n",
    "\t\t\n",
    "\t\tif arrays[idx]:\n",
    "\t\t\tnewItem = arrays[idx].pop(0)\n",
    "\t\t\theapq.heappush (minHeap, (newItem, idx))\n",
    "\treturn res \n",
    "\t\n",
    "\t\n"
   ]
  }
 ],
 "metadata": {
  "kernelspec": {
   "display_name": "Python 3",
   "language": "python",
   "name": "python3"
  },
  "language_info": {
   "codemirror_mode": {
    "name": "ipython",
    "version": 3
   },
   "file_extension": ".py",
   "mimetype": "text/x-python",
   "name": "python",
   "nbconvert_exporter": "python",
   "pygments_lexer": "ipython3",
   "version": "3.7.4"
  }
 },
 "nbformat": 4,
 "nbformat_minor": 2
}
