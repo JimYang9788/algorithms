{
 "cells": [
  {
   "cell_type": "code",
   "execution_count": null,
   "metadata": {},
   "outputs": [],
   "source": [
    "import heapq\n",
    "def sortKSortedArray(array, k):\n",
    "    # Write your code here.\n",
    "\tidx = 0 \n",
    "\tminHeap = []\n",
    "\tfor i in range (len(array)):\n",
    "\t\theapq.heappush(minHeap, array[i])\n",
    "\t\tif len(minHeap) > k:\n",
    "\t\t\tarray[idx] = heapq.heappop(minHeap)\n",
    "\t\t\tidx += 1 \n",
    "\twhile (minHeap):\n",
    "\t\tarray[idx] = heapq.heappop(minHeap)\t\n",
    "\t\tidx += 1 \n",
    "    return array \n",
    "\n",
    "\t# O(n log k )\n"
   ]
  }
 ],
 "metadata": {
  "kernelspec": {
   "display_name": "Python 3",
   "language": "python",
   "name": "python3"
  },
  "language_info": {
   "codemirror_mode": {
    "name": "ipython",
    "version": 3
   },
   "file_extension": ".py",
   "mimetype": "text/x-python",
   "name": "python",
   "nbconvert_exporter": "python",
   "pygments_lexer": "ipython3",
   "version": "3.7.4"
  }
 },
 "nbformat": 4,
 "nbformat_minor": 2
}
