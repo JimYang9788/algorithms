{
 "cells": [
  {
   "cell_type": "code",
   "execution_count": null,
   "metadata": {},
   "outputs": [],
   "source": [
    "class Solution:\n",
    "    def threeSumSmaller(self, nums: List[int], target: int) -> int:\n",
    "        nums.sort ()\n",
    "        res = 0\n",
    "        \n",
    "        for i in range (0, len(nums)-2):\n",
    "            l,r = i + 1, len(nums)-1\n",
    "            while (l < r):\n",
    "                curSum = nums[i] + nums[l] + nums[r]\n",
    "                if curSum < target:\n",
    "                    res += (r - l)\n",
    "                    l += 1 \n",
    "                else:\n",
    "                    r -= 1         \n",
    "        return res \n",
    "    \n",
    "                    \n",
    "                "
   ]
  }
 ],
 "metadata": {
  "kernelspec": {
   "display_name": "Python 3",
   "language": "python",
   "name": "python3"
  },
  "language_info": {
   "codemirror_mode": {
    "name": "ipython",
    "version": 3
   },
   "file_extension": ".py",
   "mimetype": "text/x-python",
   "name": "python",
   "nbconvert_exporter": "python",
   "pygments_lexer": "ipython3",
   "version": "3.7.4"
  }
 },
 "nbformat": 4,
 "nbformat_minor": 2
}
