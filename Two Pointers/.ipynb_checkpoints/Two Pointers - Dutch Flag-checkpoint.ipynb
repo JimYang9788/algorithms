{
 "cells": [
  {
   "cell_type": "code",
   "execution_count": null,
   "metadata": {},
   "outputs": [],
   "source": [
    "class Solution:\n",
    "    def sortColors(self, nums: List[int]) -> None:\n",
    "        \"\"\"\n",
    "        Do not return anything, modify nums in-place instead.\n",
    "        \"\"\"\n",
    "        l,r = 0,len(nums) - 1 \n",
    "        i = 0 \n",
    "        while (i <= r):\n",
    "            # If we see zero, swap with the ready to swap 0 boundary\n",
    "            # Proceed 1 \n",
    "            if nums[i] == 0:\n",
    "                nums[l],nums[i] = nums[i], nums[l]\n",
    "                l += 1 \n",
    "                i += 1 \n",
    "            # If we see 2, swap with the ready to swap 2 boundary\n",
    "            # Proceed 2 \n",
    "            elif nums[i] == 2:\n",
    "                nums[r], nums[i] = nums[i], nums[r]\n",
    "                r -= 1 \n",
    "            # If we see one, we keep moving forward \n",
    "            else:\n",
    "                i += 1 \n",
    "        \n",
    "        return nums "
   ]
  }
 ],
 "metadata": {
  "kernelspec": {
   "display_name": "Python 3",
   "language": "python",
   "name": "python3"
  },
  "language_info": {
   "codemirror_mode": {
    "name": "ipython",
    "version": 3
   },
   "file_extension": ".py",
   "mimetype": "text/x-python",
   "name": "python",
   "nbconvert_exporter": "python",
   "pygments_lexer": "ipython3",
   "version": "3.7.4"
  }
 },
 "nbformat": 4,
 "nbformat_minor": 2
}
