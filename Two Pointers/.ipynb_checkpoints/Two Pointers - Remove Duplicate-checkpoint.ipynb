{
 "cells": [
  {
   "cell_type": "code",
   "execution_count": 9,
   "metadata": {},
   "outputs": [],
   "source": [
    "def remove_duplicate_inplace (arr):\n",
    "    i = 1 \n",
    "    j = 1 \n",
    "    \n",
    "    while i < len(arr):\n",
    "        if arr[i] != arr[i-1]:\n",
    "            arr[j] = arr[i]\n",
    "            j += 1 \n",
    "        i += 1 \n",
    "    \n",
    "    return arr[:j]\n"
   ]
  },
  {
   "cell_type": "code",
   "execution_count": 10,
   "metadata": {},
   "outputs": [
    {
     "data": {
      "text/plain": [
       "[1, 2, 3, 4, 5, 6]"
      ]
     },
     "execution_count": 10,
     "metadata": {},
     "output_type": "execute_result"
    }
   ],
   "source": [
    "remove_duplicate_inplace([1,2,3,3,4,4,4,5,5,6])"
   ]
  },
  {
   "cell_type": "code",
   "execution_count": 11,
   "metadata": {},
   "outputs": [],
   "source": [
    "def remove_num_inplace(arr, k):\n",
    "    i = 0\n",
    "    j = 0\n",
    "    while (i < len(arr)):\n",
    "        if arr[i] != k:\n",
    "            arr[j] = arr[i]\n",
    "            j += 1 \n",
    "        i += 1 \n",
    "    return arr[:j]"
   ]
  },
  {
   "cell_type": "code",
   "execution_count": 13,
   "metadata": {},
   "outputs": [
    {
     "data": {
      "text/plain": [
       "[2, 6, 10, 9]"
      ]
     },
     "execution_count": 13,
     "metadata": {},
     "output_type": "execute_result"
    }
   ],
   "source": [
    "remove_num_inplace([3, 2, 3, 6, 3, 10, 9, 3],3)"
   ]
  }
 ],
 "metadata": {
  "kernelspec": {
   "display_name": "Python 3",
   "language": "python",
   "name": "python3"
  },
  "language_info": {
   "codemirror_mode": {
    "name": "ipython",
    "version": 3
   },
   "file_extension": ".py",
   "mimetype": "text/x-python",
   "name": "python",
   "nbconvert_exporter": "python",
   "pygments_lexer": "ipython3",
   "version": "3.7.4"
  }
 },
 "nbformat": 4,
 "nbformat_minor": 2
}
