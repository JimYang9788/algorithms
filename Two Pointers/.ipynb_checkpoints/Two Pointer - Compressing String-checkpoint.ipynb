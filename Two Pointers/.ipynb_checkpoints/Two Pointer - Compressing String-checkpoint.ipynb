{
 "cells": [
  {
   "cell_type": "code",
   "execution_count": null,
   "metadata": {},
   "outputs": [],
   "source": [
    "class Solution(object):\n",
    "    def compress(self, chars):\n",
    "        anchor = write = 0\n",
    "        for read, c in enumerate(chars):\n",
    "            if read + 1 == len(chars) or chars[read + 1] != c:\n",
    "                chars[write] = chars[anchor]\n",
    "                write += 1\n",
    "                if read > anchor:\n",
    "                    for digit in str(read - anchor + 1):\n",
    "                        chars[write] = digit\n",
    "                        write += 1\n",
    "                anchor = read + 1\n",
    "        return write"
   ]
  }
 ],
 "metadata": {
  "kernelspec": {
   "display_name": "Python 3",
   "language": "python",
   "name": "python3"
  },
  "language_info": {
   "codemirror_mode": {
    "name": "ipython",
    "version": 3
   },
   "file_extension": ".py",
   "mimetype": "text/x-python",
   "name": "python",
   "nbconvert_exporter": "python",
   "pygments_lexer": "ipython3",
   "version": "3.7.4"
  }
 },
 "nbformat": 4,
 "nbformat_minor": 2
}
