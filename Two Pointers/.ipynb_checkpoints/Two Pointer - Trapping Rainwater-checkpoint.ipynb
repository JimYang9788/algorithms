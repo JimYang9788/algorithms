{
 "cells": [
  {
   "cell_type": "code",
   "execution_count": null,
   "metadata": {},
   "outputs": [],
   "source": [
    "class Solution:\n",
    "    def trap(self, height: List[int]) -> int:\n",
    "        if not height: return 0 \n",
    "        \n",
    "        l,r = 0, len (height) - 1 \n",
    "        lmax, rmax = height[l],height[r]\n",
    "        res = 0 \n",
    "        while (l < r):\n",
    "            \n",
    "            if height[l] < height[r]:\n",
    "                # we increment l, because it will be \n",
    "                # bounded by height[r] \n",
    "                l += 1\n",
    "                if height[l] < lmax:\n",
    "                    res += (lmax - height[l])\n",
    "                else:\n",
    "                    lmax = height[l]\n",
    "                    \n",
    "            else:\n",
    "                r -= 1 \n",
    "                if height[r] < rmax:\n",
    "                    res += (rmax - height[r])\n",
    "                else:\n",
    "                    rmax = height[r]\n",
    "                    \n",
    "        \n",
    "        return res \n",
    "        "
   ]
  }
 ],
 "metadata": {
  "kernelspec": {
   "display_name": "Python 3",
   "language": "python",
   "name": "python3"
  },
  "language_info": {
   "codemirror_mode": {
    "name": "ipython",
    "version": 3
   },
   "file_extension": ".py",
   "mimetype": "text/x-python",
   "name": "python",
   "nbconvert_exporter": "python",
   "pygments_lexer": "ipython3",
   "version": "3.7.4"
  }
 },
 "nbformat": 4,
 "nbformat_minor": 2
}
