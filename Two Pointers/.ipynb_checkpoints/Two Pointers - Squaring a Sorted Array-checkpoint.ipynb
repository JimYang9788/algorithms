{
 "cells": [
  {
   "cell_type": "code",
   "execution_count": null,
   "metadata": {},
   "outputs": [],
   "source": [
    "class Solution:\n",
    "    def sortedSquares(self, nums: List[int]) -> List[int]:\n",
    "        \n",
    "        \n",
    "        l,r = 0,len (nums) - 1 \n",
    "        \n",
    "        res = []\n",
    "        while (l <= r):\n",
    "            r_sqr = nums[r] ** 2 \n",
    "            l_sqr = nums[l] ** 2 \n",
    "            if r_sqr > l_sqr:\n",
    "                res = [r_sqr] + res \n",
    "                r -= 1 \n",
    "            else:\n",
    "                res = [l_sqr] + res\n",
    "                l += 1 \n",
    "            \n",
    "        return res "
   ]
  }
 ],
 "metadata": {
  "kernelspec": {
   "display_name": "Python 3",
   "language": "python",
   "name": "python3"
  },
  "language_info": {
   "codemirror_mode": {
    "name": "ipython",
    "version": 3
   },
   "file_extension": ".py",
   "mimetype": "text/x-python",
   "name": "python",
   "nbconvert_exporter": "python",
   "pygments_lexer": "ipython3",
   "version": "3.7.4"
  }
 },
 "nbformat": 4,
 "nbformat_minor": 2
}
