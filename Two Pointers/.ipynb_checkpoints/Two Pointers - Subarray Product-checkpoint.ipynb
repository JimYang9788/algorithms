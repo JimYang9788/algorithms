{
 "cells": [
  {
   "cell_type": "code",
   "execution_count": null,
   "metadata": {},
   "outputs": [],
   "source": [
    "class Solution(object):\n",
    "    def numSubarrayProductLessThanK(self, nums, k):\n",
    "        if k <= 1: return 0\n",
    "        prod = 1\n",
    "        res = l = 0\n",
    "        r = 0 \n",
    "        while r < len(nums):\n",
    "            prod *= nums[r]\n",
    "            \n",
    "            while prod >= k:\n",
    "                prod /= nums[l]\n",
    "                l += 1\n",
    "                \n",
    "            res += r - l + 1\n",
    "            r += 1 \n",
    "        return res"
   ]
  }
 ],
 "metadata": {
  "kernelspec": {
   "display_name": "Python 3",
   "language": "python",
   "name": "python3"
  },
  "language_info": {
   "codemirror_mode": {
    "name": "ipython",
    "version": 3
   },
   "file_extension": ".py",
   "mimetype": "text/x-python",
   "name": "python",
   "nbconvert_exporter": "python",
   "pygments_lexer": "ipython3",
   "version": "3.7.4"
  }
 },
 "nbformat": 4,
 "nbformat_minor": 2
}
