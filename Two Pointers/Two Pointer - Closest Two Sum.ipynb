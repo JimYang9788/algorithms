{
 "cells": [
  {
   "cell_type": "code",
   "execution_count": null,
   "metadata": {},
   "outputs": [],
   "source": [
    "class Solution:\n",
    "    def twoSumLessThanK(self, nums: List[int], k: int) -> int:\n",
    "        nums.sort ()\n",
    "        curMax = float(\"-inf\")\n",
    "        l,r = 0, len(nums)-1\n",
    "        while (l < r):\n",
    "            curSum = nums[l] + nums[r]\n",
    "            if curSum >= k:\n",
    "                r -= 1 \n",
    "            else:\n",
    "                curMax = max(curMax, curSum)\n",
    "                l += 1 \n",
    "            \n",
    "            \n",
    "            \n",
    "        return curMax if curMax != float (\"-inf\") else -1 \n",
    "            "
   ]
  }
 ],
 "metadata": {
  "kernelspec": {
   "display_name": "Python 3",
   "language": "python",
   "name": "python3"
  },
  "language_info": {
   "codemirror_mode": {
    "name": "ipython",
    "version": 3
   },
   "file_extension": ".py",
   "mimetype": "text/x-python",
   "name": "python",
   "nbconvert_exporter": "python",
   "pygments_lexer": "ipython3",
   "version": "3.7.4"
  }
 },
 "nbformat": 4,
 "nbformat_minor": 2
}
