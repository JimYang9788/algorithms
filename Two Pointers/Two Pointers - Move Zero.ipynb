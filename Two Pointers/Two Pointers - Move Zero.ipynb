{
 "cells": [
  {
   "cell_type": "code",
   "execution_count": null,
   "metadata": {},
   "outputs": [],
   "source": [
    "class Solution:\n",
    "    def moveZeroes(self, nums: List[int]) -> None:\n",
    "        \"\"\"\n",
    "        Do not return anything, modify nums in-place instead.\n",
    "        \"\"\"\n",
    "        l,r = 0,0\n",
    "        \n",
    "        while (r < len(nums)):\n",
    "            if nums[r] != 0:\n",
    "                nums[l] = nums[r]\n",
    "                l += 1\n",
    "            r += 1\n",
    "        for i in range (l, len(nums)):\n",
    "            nums[i] = 0 \n",
    "        \n",
    "        return nums "
   ]
  }
 ],
 "metadata": {
  "kernelspec": {
   "display_name": "Python 3",
   "language": "python",
   "name": "python3"
  },
  "language_info": {
   "codemirror_mode": {
    "name": "ipython",
    "version": 3
   },
   "file_extension": ".py",
   "mimetype": "text/x-python",
   "name": "python",
   "nbconvert_exporter": "python",
   "pygments_lexer": "ipython3",
   "version": "3.7.4"
  }
 },
 "nbformat": 4,
 "nbformat_minor": 2
}
