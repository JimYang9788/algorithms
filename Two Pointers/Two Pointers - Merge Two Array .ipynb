{
 "cells": [
  {
   "cell_type": "code",
   "execution_count": null,
   "metadata": {},
   "outputs": [],
   "source": [
    "class Solution:\n",
    "    def merge(self, nums1: List[int], m: int, nums2: List[int], n: int) -> None:\n",
    "        \"\"\"\n",
    "        Do not return anything, modify nums1 in-place instead.\n",
    "        \"\"\"\n",
    "        if not nums1: return nums2\n",
    "        if not nums2: return nums1\n",
    "        \n",
    "        arr1, arr2 = m - 1, n - 1 \n",
    "        \n",
    "        i = len(nums1) - 1 \n",
    "        while (arr1 >= 0 and arr2 >= 0):\n",
    "            if nums1[arr1] > nums2[arr2]:\n",
    "                nums1[i], nums1[arr1] = nums1[arr1], nums1[i]\n",
    "                arr1 -= 1 \n",
    "                i -= 1\n",
    "            else:\n",
    "                nums1[i] =  nums2[arr2] \n",
    "                arr2 -= 1 \n",
    "                i -= 1 \n",
    "        \n",
    "        while arr2 >= 0:\n",
    "            nums1[i] = nums2[arr2]\n",
    "            arr2 -= 1 \n",
    "            i -= 1\n",
    "        \n",
    "        return nums1\n",
    "        "
   ]
  }
 ],
 "metadata": {
  "kernelspec": {
   "display_name": "Python 3",
   "language": "python",
   "name": "python3"
  },
  "language_info": {
   "codemirror_mode": {
    "name": "ipython",
    "version": 3
   },
   "file_extension": ".py",
   "mimetype": "text/x-python",
   "name": "python",
   "nbconvert_exporter": "python",
   "pygments_lexer": "ipython3",
   "version": "3.7.4"
  }
 },
 "nbformat": 4,
 "nbformat_minor": 2
}
