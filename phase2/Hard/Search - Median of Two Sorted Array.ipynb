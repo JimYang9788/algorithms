{
 "cells": [
  {
   "cell_type": "code",
   "execution_count": 1,
   "metadata": {},
   "outputs": [],
   "source": [
    "class Solution:\n",
    "    def findMedianSortedArrays(self, A, B):\n",
    "        l = len(A) + len(B)\n",
    "        if l % 2 == 1:\n",
    "            return self.kth(A, B, l // 2)\n",
    "        else:\n",
    "            return (self.kth(A, B, l // 2) + self.kth(A, B, l // 2 - 1)) / 2.   \n",
    "\n",
    "    def kth(self, a, b, k):\n",
    "        if not a:\n",
    "            return b[k]\n",
    "        if not b:\n",
    "            return a[k]\n",
    "        ia, ib = len(a) // 2 , len(b) // 2\n",
    "        ma, mb = a[ia], b[ib]\n",
    "\n",
    "        # when k is bigger than the sum of a and b's median indices \n",
    "        if ia + ib < k:\n",
    "            # if a's median is bigger than b's, b's first half doesn't include k\n",
    "            if ma > mb:\n",
    "                return self.kth(a, b[ib + 1:], k - ib - 1)\n",
    "            else:\n",
    "                return self.kth(a[ia + 1:], b, k - ia - 1)\n",
    "        # when k is smaller than the sum of a and b's indices\n",
    "        else:\n",
    "            # if a's median is bigger than b's, a's second half doesn't include k\n",
    "            if ma > mb:\n",
    "                return self.kth(a[:ia], b, k)\n",
    "            else:\n",
    "                return self.kth(a, b[:ib], k)"
   ]
  }
 ],
 "metadata": {
  "kernelspec": {
   "display_name": "Python 3",
   "language": "python",
   "name": "python3"
  },
  "language_info": {
   "codemirror_mode": {
    "name": "ipython",
    "version": 3
   },
   "file_extension": ".py",
   "mimetype": "text/x-python",
   "name": "python",
   "nbconvert_exporter": "python",
   "pygments_lexer": "ipython3",
   "version": "3.7.4"
  }
 },
 "nbformat": 4,
 "nbformat_minor": 2
}
