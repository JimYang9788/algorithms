{
 "cells": [
  {
   "cell_type": "code",
   "execution_count": 1,
   "metadata": {},
   "outputs": [],
   "source": [
    "class Solution:\n",
    "    def calculate(self, s):\n",
    "        if not s:\n",
    "            return \"0\"\n",
    "        stack, num, sign = [], 0, \"+\"\n",
    "        for i in range(len(s)):\n",
    "            if s[i].isdigit():\n",
    "                num = num*10+ord(s[i])-ord(\"0\")\n",
    "            if (not s[i].isdigit() and not s[i].isspace()) or i == len(s)-1:\n",
    "                if sign == \"-\":\n",
    "                    stack.append(-num)\n",
    "                elif sign == \"+\":\n",
    "                    stack.append(num)\n",
    "                elif sign == \"*\":\n",
    "                    stack.append(stack.pop()*num)\n",
    "                else:\n",
    "                    tmp = stack.pop()\n",
    "                    if tmp//num < 0 and tmp%num != 0:\n",
    "                        stack.append(tmp//num+1)\n",
    "                    else:\n",
    "                        stack.append(tmp//num)\n",
    "                sign = s[i]\n",
    "                num = 0\n",
    "        return sum(stack)        "
   ]
  },
  {
   "cell_type": "code",
   "execution_count": null,
   "metadata": {},
   "outputs": [],
   "source": []
  }
 ],
 "metadata": {
  "kernelspec": {
   "display_name": "Python 3",
   "language": "python",
   "name": "python3"
  },
  "language_info": {
   "codemirror_mode": {
    "name": "ipython",
    "version": 3
   },
   "file_extension": ".py",
   "mimetype": "text/x-python",
   "name": "python",
   "nbconvert_exporter": "python",
   "pygments_lexer": "ipython3",
   "version": "3.7.4"
  }
 },
 "nbformat": 4,
 "nbformat_minor": 2
}
