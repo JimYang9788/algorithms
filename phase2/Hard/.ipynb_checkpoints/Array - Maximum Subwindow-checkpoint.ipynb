{
 "cells": [
  {
   "cell_type": "code",
   "execution_count": 2,
   "metadata": {},
   "outputs": [],
   "source": [
    "class Solution:\n",
    "    def maxSlidingWindow(self, nums, k):\n",
    "        res = []\n",
    "        for i in range (0, len(nums)-k+1):\n",
    "            cur_max = float(\"-inf\")\n",
    "            for j in range(0,k):\n",
    "                cur_max = max(cur_max, nums[i+j]) \n",
    "            res.append (cur_max) \n",
    "        return res \n",
    "            "
   ]
  },
  {
   "cell_type": "code",
   "execution_count": null,
   "metadata": {},
   "outputs": [],
   "source": []
  }
 ],
 "metadata": {
  "kernelspec": {
   "display_name": "Python 3",
   "language": "python",
   "name": "python3"
  },
  "language_info": {
   "codemirror_mode": {
    "name": "ipython",
    "version": 3
   },
   "file_extension": ".py",
   "mimetype": "text/x-python",
   "name": "python",
   "nbconvert_exporter": "python",
   "pygments_lexer": "ipython3",
   "version": "3.7.4"
  }
 },
 "nbformat": 4,
 "nbformat_minor": 2
}
