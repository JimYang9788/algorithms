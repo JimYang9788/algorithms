{
 "cells": [
  {
   "cell_type": "code",
   "execution_count": null,
   "metadata": {},
   "outputs": [],
   "source": [
    "# Definition for singly-linked list.\n",
    "class ListNode:\n",
    "    def __init__(self, val=0, next=None):\n",
    "        self.val = val\n",
    "        self.next = next\n",
    "class Solution:\n",
    "    # MergeSort Version \n",
    "    \n",
    "    \n",
    "    def sortList(self, head):\n",
    "        def mergeList (l1, l2):\n",
    "            dummyhead = tail = ListNode()\n",
    "            while (l1 and l2):\n",
    "                if l1.val < l2.val:\n",
    "                    tail.next = l1\n",
    "                    l1 = l1.next \n",
    "                else:\n",
    "                    tail.next = l2 \n",
    "                    l2 = l2.next \n",
    "                tail = tail.next \n",
    "            tail.next = l1 or l2 \n",
    "            return dummyhead.next \n",
    "    \n",
    "        def breakList (l):\n",
    "            slow, fast = l, l\n",
    "            \n",
    "            while fast.next and fast.next.next:\n",
    "                slow = slow.next \n",
    "                fast = fast.next.next \n",
    "            secondHalf = slow.next \n",
    "            slow.next = None \n",
    "            return l, secondHalf \n",
    "            \n",
    "            \n",
    "        if head == None: return None \n",
    "        elif head.next == None: return head\n",
    "        \n",
    "        l1, l2 = breakList(head)\n",
    "        return mergeList(self.sortList(l1), self.sortList(l2))\n",
    "        \n",
    "        \n",
    "        \n",
    "        \n",
    "        "
   ]
  }
 ],
 "metadata": {
  "kernelspec": {
   "display_name": "Python 3",
   "language": "python",
   "name": "python3"
  },
  "language_info": {
   "codemirror_mode": {
    "name": "ipython",
    "version": 3
   },
   "file_extension": ".py",
   "mimetype": "text/x-python",
   "name": "python",
   "nbconvert_exporter": "python",
   "pygments_lexer": "ipython3",
   "version": "3.7.4"
  }
 },
 "nbformat": 4,
 "nbformat_minor": 2
}
