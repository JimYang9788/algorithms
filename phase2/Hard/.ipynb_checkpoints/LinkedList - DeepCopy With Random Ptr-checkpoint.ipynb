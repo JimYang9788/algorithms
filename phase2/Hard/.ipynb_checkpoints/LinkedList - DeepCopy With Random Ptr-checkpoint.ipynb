{
 "cells": [
  {
   "cell_type": "code",
   "execution_count": null,
   "metadata": {},
   "outputs": [],
   "source": [
    "class Solution:\n",
    "    def copyRandomList(self, head):\n",
    "        if not head:\n",
    "            return \n",
    "        cur, dic = head, {}\n",
    "        # copy nodes\n",
    "        while cur:\n",
    "            dic[cur] = Node(cur.val)\n",
    "            cur = cur.next\n",
    "        cur = head\n",
    "        # copy random pointers\n",
    "        while cur:\n",
    "            if cur.random:\n",
    "                dic[cur].random = dic[cur.random]\n",
    "            if cur.next:\n",
    "                dic[cur].next = dic[cur.next]\n",
    "            cur = cur.next\n",
    "        return dic[head]"
   ]
  }
 ],
 "metadata": {
  "kernelspec": {
   "display_name": "Python 3",
   "language": "python",
   "name": "python3"
  },
  "language_info": {
   "codemirror_mode": {
    "name": "ipython",
    "version": 3
   },
   "file_extension": ".py",
   "mimetype": "text/x-python",
   "name": "python",
   "nbconvert_exporter": "python",
   "pygments_lexer": "ipython3",
   "version": "3.7.4"
  }
 },
 "nbformat": 4,
 "nbformat_minor": 2
}
