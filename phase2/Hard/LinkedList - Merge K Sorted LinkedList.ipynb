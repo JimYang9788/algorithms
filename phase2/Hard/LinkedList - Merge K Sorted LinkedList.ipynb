{
 "cells": [
  {
   "cell_type": "code",
   "execution_count": 8,
   "metadata": {},
   "outputs": [],
   "source": [
    "class ListNode:\n",
    "    def __init__(self, val=0, next=None):\n",
    "        self.val = val\n",
    "        self.next = next\n",
    "\n",
    "class Solution:\n",
    "    def mergeTwoLists(self, l1, l2):\n",
    "        dummyHead = tail = ListNode()\n",
    "        \n",
    "        while l1 and l2:\n",
    "            if l1.val < l2.val:\n",
    "                tail.next = l1\n",
    "                l1 = l1.next\n",
    "            else:\n",
    "                tail.next = l2\n",
    "                l2 = l2.next \n",
    "            tail = tail.next \n",
    "        \n",
    "        tail.next = l1 or l2\n",
    "        \n",
    "        return dummyHead.next     \n",
    "    \n",
    "    def mergeKLists(self, lists):\n",
    "        res = None\n",
    "        for l in lists: \n",
    "            res = self.mergeTwoLists (res, l)\n",
    "        \n",
    "        return res "
   ]
  },
  {
   "cell_type": "code",
   "execution_count": 10,
   "metadata": {},
   "outputs": [],
   "source": [
    "# Definition for singly-linked list.\n",
    "# class ListNode:\n",
    "#     def __init__(self, val=0, next=None):\n",
    "#         self.val = val\n",
    "#         self.next = next\n",
    "class Solution:\n",
    "    def mergeTwoLists(self, l1, l2):\n",
    "        dummyHead = tail = ListNode()\n",
    "        \n",
    "        while l1 and l2:\n",
    "            if l1.val < l2.val:\n",
    "                tail.next = l1\n",
    "                l1 = l1.next\n",
    "            else:\n",
    "                tail.next = l2\n",
    "                l2 = l2.next \n",
    "            tail = tail.next \n",
    "        \n",
    "        tail.next = l1 or l2\n",
    "        \n",
    "        return dummyHead.next     \n",
    "    \n",
    "    def mergeKLists(self, lists) -> ListNode:\n",
    "        res = None\n",
    "        l = lists\n",
    "        if not l:\n",
    "            return res \n",
    "        elif len(l) == 1:\n",
    "            return l[0]\n",
    "        elif len(l) == 2:\n",
    "            return self.mergeTwoLists (l[0],l[1])\n",
    "        else:\n",
    "            length = len(l)            \n",
    "            return self.mergeTwoLists (self.mergeKLists(l[:length//2]),self.mergeKLists(l[length//2:]))\n",
    "\n",
    "            "
   ]
  }
 ],
 "metadata": {
  "kernelspec": {
   "display_name": "Python 3",
   "language": "python",
   "name": "python3"
  },
  "language_info": {
   "codemirror_mode": {
    "name": "ipython",
    "version": 3
   },
   "file_extension": ".py",
   "mimetype": "text/x-python",
   "name": "python",
   "nbconvert_exporter": "python",
   "pygments_lexer": "ipython3",
   "version": "3.7.4"
  }
 },
 "nbformat": 4,
 "nbformat_minor": 2
}
