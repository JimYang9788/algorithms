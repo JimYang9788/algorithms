{
 "cells": [
  {
   "cell_type": "code",
   "execution_count": null,
   "metadata": {},
   "outputs": [],
   "source": [
    "class Solution:\n",
    "    def isSubsequence(self, s: str, t: str) -> bool:\n",
    "        if len (s) > len(t):\n",
    "            return False\n",
    "        if len(s) == \"\": \n",
    "            return True \n",
    "    \n",
    "        i,j = 0,0\n",
    "        while (j < len(t)):\n",
    "            if i == len(s):\n",
    "                break\n",
    "            if s[i] == t[j]:\n",
    "                i += 1 \n",
    "            j += 1 \n",
    "        if i != len(s):\n",
    "            return False\n",
    "        return True \n",
    "            "
   ]
  }
 ],
 "metadata": {
  "kernelspec": {
   "display_name": "Python 3",
   "language": "python",
   "name": "python3"
  },
  "language_info": {
   "codemirror_mode": {
    "name": "ipython",
    "version": 3
   },
   "file_extension": ".py",
   "mimetype": "text/x-python",
   "name": "python",
   "nbconvert_exporter": "python",
   "pygments_lexer": "ipython3",
   "version": "3.7.4"
  }
 },
 "nbformat": 4,
 "nbformat_minor": 2
}
