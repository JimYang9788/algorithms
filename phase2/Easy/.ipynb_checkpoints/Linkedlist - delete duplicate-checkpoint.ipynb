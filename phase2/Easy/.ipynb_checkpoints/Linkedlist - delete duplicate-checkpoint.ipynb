{
 "cells": [
  {
   "cell_type": "code",
   "execution_count": 2,
   "metadata": {},
   "outputs": [],
   "source": [
    "class Solution:\n",
    "    def deleteDuplicates(self, head):\n",
    "        seen = set ()\n",
    "        curnode, prevnode = head , head \n",
    "        while (curnode):\n",
    "\n",
    "            if curnode.val in seen:\n",
    "                prevnode.next = curnode.next\n",
    "            else:\n",
    "                seen.add (curnode.val)\n",
    "                \n",
    "            prevnode = curnode \n",
    "            curnode = curnode.next \n",
    "            \n",
    "        return head \n",
    "        "
   ]
  }
 ],
 "metadata": {
  "kernelspec": {
   "display_name": "Python 3",
   "language": "python",
   "name": "python3"
  },
  "language_info": {
   "codemirror_mode": {
    "name": "ipython",
    "version": 3
   },
   "file_extension": ".py",
   "mimetype": "text/x-python",
   "name": "python",
   "nbconvert_exporter": "python",
   "pygments_lexer": "ipython3",
   "version": "3.7.4"
  }
 },
 "nbformat": 4,
 "nbformat_minor": 2
}
