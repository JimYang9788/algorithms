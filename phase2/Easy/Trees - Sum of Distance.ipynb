{
 "cells": [
  {
   "cell_type": "code",
   "execution_count": 1,
   "metadata": {},
   "outputs": [],
   "source": [
    "def nodeDepths(root):\n",
    "    # Write your code here.\n",
    "    return nodeDepthsSum (root, 0)\n",
    "\n",
    "\n",
    "def nodeDepthsSum (root, distance):\n",
    "\t# Returns the sum of node distances\n",
    "\tif not root: return 0\n",
    "\treturn distance + nodeDepthsSum (root.left, distance + 1) + \\\n",
    "\t\t\tnodeDepthsSum (root.right, distance + 1)\n",
    "\t\n",
    "\n",
    "\n",
    "# This is the class of the input binary tree.\n",
    "class BinaryTree:\n",
    "    def __init__(self, value):\n",
    "        self.value = value\n",
    "        self.left = None\n",
    "        self.right = None\n"
   ]
  }
 ],
 "metadata": {
  "kernelspec": {
   "display_name": "Python 3",
   "language": "python",
   "name": "python3"
  },
  "language_info": {
   "codemirror_mode": {
    "name": "ipython",
    "version": 3
   },
   "file_extension": ".py",
   "mimetype": "text/x-python",
   "name": "python",
   "nbconvert_exporter": "python",
   "pygments_lexer": "ipython3",
   "version": "3.7.4"
  }
 },
 "nbformat": 4,
 "nbformat_minor": 2
}
