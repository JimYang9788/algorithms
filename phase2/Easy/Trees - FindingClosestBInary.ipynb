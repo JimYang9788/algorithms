{
 "cells": [
  {
   "cell_type": "code",
   "execution_count": 1,
   "metadata": {},
   "outputs": [],
   "source": [
    "def findClosestValueInBst(tree, target):\n",
    "    # Write your code here.\n",
    "    return acc (tree, target, tree.value)\n",
    "\n",
    "def acc (tree, target, closest):\n",
    "\tif tree == None: \n",
    "\t\treturn closest \n",
    "\t\n",
    "\tif abs(target - closest) > abs(target - tree.value):\t\n",
    "\t\tclosest = tree.value\n",
    "\tif target < tree.value:\n",
    "\t\treturn acc(tree.left, target, closest)\n",
    "\telif target > tree.value:\n",
    "\t\treturn acc(tree.right, target, closest)\n",
    "\telse:\n",
    "\t\treturn closest"
   ]
  },
  {
   "cell_type": "code",
   "execution_count": null,
   "metadata": {},
   "outputs": [],
   "source": [
    "gi"
   ]
  }
 ],
 "metadata": {
  "kernelspec": {
   "display_name": "Python 3",
   "language": "python",
   "name": "python3"
  },
  "language_info": {
   "codemirror_mode": {
    "name": "ipython",
    "version": 3
   },
   "file_extension": ".py",
   "mimetype": "text/x-python",
   "name": "python",
   "nbconvert_exporter": "python",
   "pygments_lexer": "ipython3",
   "version": "3.7.4"
  }
 },
 "nbformat": 4,
 "nbformat_minor": 2
}
