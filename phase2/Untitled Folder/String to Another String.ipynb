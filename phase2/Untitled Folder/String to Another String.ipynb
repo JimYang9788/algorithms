{
 "cells": [
  {
   "cell_type": "markdown",
   "metadata": {},
   "source": [
    "### String To Another String\n",
    "\n",
    "\n",
    "Given two strings str1 and str2 of the same length, determine whether you can transform str1 into str2 by doing zero or more conversions.\n",
    "\n",
    "In one conversion you can convert all occurrences of one character in str1 to any other lowercase English character.\n",
    "\n",
    "Return true if and only if you can transform str1 into str2.\n",
    "\n",
    " \n",
    "\n",
    "Example 1:\n",
    "```\n",
    "Input: str1 = \"aabcc\", str2 = \"ccdee\"\n",
    "Output: true\n",
    "Explanation: Convert 'c' to 'e' then 'b' to 'd' then 'a' to 'c'. Note that the order of conversions matter.\n",
    "```\n",
    "Example 2:\n",
    "```\n",
    "\n",
    "Input: str1 = \"leetcode\", str2 = \"codeleet\"\n",
    "Output: false\n",
    "Explanation: There is no way to transform str1 to str2.\n",
    "```"
   ]
  },
  {
   "cell_type": "code",
   "execution_count": 1,
   "metadata": {},
   "outputs": [],
   "source": [
    "\n",
    "\n",
    "class Solution:\n",
    "    def canConvert(self, str1: str, str2: str) -> bool:\n",
    "        if str1 == str2:\n",
    "            return True\n",
    "        m = {}\n",
    "        for i in range(len(str1)):\n",
    "            if str1[i] not in m:\n",
    "                m[str1[i]] = str2[i]\n",
    "            elif m[str1[i]] != str2[i]:\n",
    "                return False\n",
    "        return len(set(str2)) < 26"
   ]
  },
  {
   "cell_type": "code",
   "execution_count": null,
   "metadata": {},
   "outputs": [],
   "source": []
  }
 ],
 "metadata": {
  "kernelspec": {
   "display_name": "Python 3",
   "language": "python",
   "name": "python3"
  },
  "language_info": {
   "codemirror_mode": {
    "name": "ipython",
    "version": 3
   },
   "file_extension": ".py",
   "mimetype": "text/x-python",
   "name": "python",
   "nbconvert_exporter": "python",
   "pygments_lexer": "ipython3",
   "version": "3.7.4"
  }
 },
 "nbformat": 4,
 "nbformat_minor": 2
}
