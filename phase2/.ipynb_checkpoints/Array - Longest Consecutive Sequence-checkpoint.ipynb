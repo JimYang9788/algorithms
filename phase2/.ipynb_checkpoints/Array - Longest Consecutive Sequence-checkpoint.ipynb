{
 "cells": [
  {
   "cell_type": "code",
   "execution_count": 2,
   "metadata": {},
   "outputs": [],
   "source": [
    "class Solution:\n",
    "    def longestConsecutive(self, nums) -> int:\n",
    "        if len(nums) <= 1: return len(nums)\n",
    "        nums.sort ()\n",
    "        longest, cur_longest = 1, 1\n",
    "        \n",
    "        for i, val in enumerate (nums):\n",
    "            if i == 0:\n",
    "                continue\n",
    "            elif nums[i] - nums[i-1] == 1 :\n",
    "                cur_longest += 1 \n",
    "            elif nums[i] == nums[i-1]:\n",
    "                continue\n",
    "            else:\n",
    "                longest = max(cur_longest, longest)\n",
    "                cur_longest = 1\n",
    "        longest = max(cur_longest, longest)\n",
    "        return longest\n",
    "    \n",
    "                \n",
    "                \n",
    "        "
   ]
  },
  {
   "cell_type": "code",
   "execution_count": null,
   "metadata": {},
   "outputs": [],
   "source": []
  }
 ],
 "metadata": {
  "kernelspec": {
   "display_name": "Python 3",
   "language": "python",
   "name": "python3"
  },
  "language_info": {
   "codemirror_mode": {
    "name": "ipython",
    "version": 3
   },
   "file_extension": ".py",
   "mimetype": "text/x-python",
   "name": "python",
   "nbconvert_exporter": "python",
   "pygments_lexer": "ipython3",
   "version": "3.7.4"
  }
 },
 "nbformat": 4,
 "nbformat_minor": 2
}
