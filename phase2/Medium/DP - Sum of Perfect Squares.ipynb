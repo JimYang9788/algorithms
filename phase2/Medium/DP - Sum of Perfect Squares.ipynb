{
 "cells": [
  {
   "cell_type": "code",
   "execution_count": 1,
   "metadata": {},
   "outputs": [],
   "source": [
    "class Solution:\n",
    "    def numSquares(self, n: int) -> int:\n",
    "        D = [i for i in range(n+1)]\n",
    "        \n",
    "        D[0] = 0\n",
    "        \n",
    "        for i in range (2, n+1):\n",
    "            for square in range(math.floor (math. sqrt(n))+1):\n",
    "                if i < square:\n",
    "                    break\n",
    "                else:\n",
    "                    D[i] = min (D[i], D[i - square * square]+1)\n",
    "        return D[n]\n",
    "        "
   ]
  },
  {
   "cell_type": "code",
   "execution_count": null,
   "metadata": {},
   "outputs": [],
   "source": []
  }
 ],
 "metadata": {
  "kernelspec": {
   "display_name": "Python 3",
   "language": "python",
   "name": "python3"
  },
  "language_info": {
   "codemirror_mode": {
    "name": "ipython",
    "version": 3
   },
   "file_extension": ".py",
   "mimetype": "text/x-python",
   "name": "python",
   "nbconvert_exporter": "python",
   "pygments_lexer": "ipython3",
   "version": "3.7.4"
  }
 },
 "nbformat": 4,
 "nbformat_minor": 2
}
