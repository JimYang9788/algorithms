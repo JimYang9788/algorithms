{
 "cells": [
  {
   "cell_type": "code",
   "execution_count": 9,
   "metadata": {},
   "outputs": [],
   "source": [
    "def minRewards(scores):\n",
    "\n",
    "    if not scores: return 0 \n",
    "    if len(scores) == 1: return 1 \n",
    "\n",
    "    # 1. Find the local minimum \n",
    "\n",
    "    # 2. Starting from each local minimum,\n",
    "    # \tTraverse left and then traverse right, until reaches a \n",
    "    # \tlocal maximum \n",
    "\n",
    "    i = 0 \n",
    "    local_min = []\n",
    "    counter = {}\n",
    "    while (i < len(scores)):\n",
    "        if i == 0:\n",
    "            if scores[i + 1] > scores[i]:\n",
    "                local_min.append (i)\n",
    "        elif i == len(scores) - 1:\n",
    "            if scores[i] < scores[i-1]:\n",
    "                local_min.append (i)\n",
    "\n",
    "        elif scores[i] < scores[i + 1] and scores[i] < scores[i - 1]:\n",
    "            local_min.append (i)\n",
    "        i += 1\n",
    "\n",
    "    for i in local_min:\n",
    "        counter[i] = 1 \n",
    "\n",
    "    print (local_min)\n",
    "    for i in local_min:\n",
    "        l = i - 1\n",
    "        while (l >= 0 and scores[l] > scores[l+1]):\n",
    "            if l in counter:\n",
    "                counter[l] = max(counter[l + 1] + 1, counter[l])\n",
    "            else:\n",
    "                counter[l] = counter[l + 1] + 1\n",
    "            l -= 1 \n",
    "\n",
    "        r = i + 1 \n",
    "        while (r < len(scores) and scores[r] > scores[r-1]):\n",
    "\n",
    "            if r in counter:\n",
    "                counter[r] = max(counter[r - 1] + 1, counter[r])\n",
    "            else:\n",
    "                counter[r] = counter[r - 1] + 1 \t\t\t\n",
    "            r += 1 \n",
    "\n",
    "    total_award = 0\n",
    "    for key,val in counter.items():\n",
    "        total_award += val\n",
    "\n",
    "    return total_award"
   ]
  },
  {
   "cell_type": "code",
   "execution_count": 10,
   "metadata": {},
   "outputs": [],
   "source": [
    "array = [8, 4, 2, 1, 3, 6, 7, 9, 5]"
   ]
  },
  {
   "cell_type": "code",
   "execution_count": 11,
   "metadata": {},
   "outputs": [
    {
     "name": "stdout",
     "output_type": "stream",
     "text": [
      "[3, 8]\n"
     ]
    },
    {
     "data": {
      "text/plain": [
       "25"
      ]
     },
     "execution_count": 11,
     "metadata": {},
     "output_type": "execute_result"
    }
   ],
   "source": [
    "minRewards(array)"
   ]
  },
  {
   "cell_type": "code",
   "execution_count": null,
   "metadata": {},
   "outputs": [],
   "source": []
  }
 ],
 "metadata": {
  "kernelspec": {
   "display_name": "Python 3",
   "language": "python",
   "name": "python3"
  },
  "language_info": {
   "codemirror_mode": {
    "name": "ipython",
    "version": 3
   },
   "file_extension": ".py",
   "mimetype": "text/x-python",
   "name": "python",
   "nbconvert_exporter": "python",
   "pygments_lexer": "ipython3",
   "version": "3.7.4"
  }
 },
 "nbformat": 4,
 "nbformat_minor": 2
}
