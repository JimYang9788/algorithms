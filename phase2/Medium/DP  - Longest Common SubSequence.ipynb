{
 "cells": [
  {
   "cell_type": "code",
   "execution_count": 2,
   "metadata": {},
   "outputs": [],
   "source": [
    "def longestCommonSubsequence(str1, str2):\n",
    "    # Write your code here.\n",
    "    if not str1 or not str2: return []\n",
    "\t\n",
    "\t# Create longestSeq as our DP structure\n",
    "\tlongestSeq = [[\"\" for c1 in range(len(str2))] for c2 in range(len(str1))]\n",
    "\tlongestSeq[0][0] = str1[0] if str1[0] == str2[0] else \"\"\n",
    "\t\n",
    "\t# Setup the base case \t\n",
    "\tfor i in range(1,len(str1)):\n",
    "\t\tif str1[i] == str2[0]:\n",
    "\t\t\tlongestSeq[i][0] = str1[i]\n",
    "\t\telse:\n",
    "\t\t\tlongestSeq[i][0] = longestSeq[i-1][0]  \n",
    "\t\n",
    "\tfor j in range(1, len(str2)):\n",
    "\t\tif str1[0] == str2[j]:\n",
    "\t\t\tlongestSeq[0][j] = str1[0]\n",
    "\t\telse:\n",
    "\t\t\tlongestSeq[0][j] = longestSeq[0][j-1]  \n",
    "\n",
    "\t# Now work on the actual DP Structure\n",
    "\tfor i in range (1, len(str1)):\n",
    "\t\tfor j in range (1, len(str2)):\n",
    "\t\t\tif str1[i] == str2[j]:\n",
    "\t\t\t\tlongestSeq[i][j] = longestSeq[i-1][j-1] + str1[i]\n",
    "\t\t\telse:\n",
    "\t\t\t\tif len (longestSeq[i-1][j]) > len(longestSeq[i][j-1]):\t\t\t\t\n",
    "\t\t\t\t\tlongestSeq[i][j] = longestSeq[i-1][j]\n",
    "\t\t\t\telse:\n",
    "\t\t\t\t\tlongestSeq[i][j] = longestSeq[i][j-1]\n",
    "\t\t\n",
    "\tres = longestSeq[len(str1)-1][len(str2)-1]\n",
    "\treturn [c for c in res]\n",
    "\t\t\t\n",
    "\t"
   ]
  },
  {
   "cell_type": "code",
   "execution_count": null,
   "metadata": {},
   "outputs": [],
   "source": [
    "str"
   ]
  }
 ],
 "metadata": {
  "kernelspec": {
   "display_name": "Python 3",
   "language": "python",
   "name": "python3"
  },
  "language_info": {
   "codemirror_mode": {
    "name": "ipython",
    "version": 3
   },
   "file_extension": ".py",
   "mimetype": "text/x-python",
   "name": "python",
   "nbconvert_exporter": "python",
   "pygments_lexer": "ipython3",
   "version": "3.7.4"
  }
 },
 "nbformat": 4,
 "nbformat_minor": 2
}
