{
 "cells": [
  {
   "cell_type": "code",
   "execution_count": 2,
   "metadata": {},
   "outputs": [],
   "source": [
    "def longestCommonSubsequence(str1, str2):\n",
    "    # Write your code here.\n",
    "    if not str1 or not str2: return []\n",
    "\n",
    "    D = [[ \"\" for c1 in str1] for c2 in str2]\n",
    "\n",
    "    D[0][0] = str1[0] if str1[0] == str2[0] else \"\"\n",
    "\n",
    "    for i in range (1,len(str1)):\n",
    "        D[0][i] = D[0][i-1] + str1[i] if str1[i] == str2[0] else D[0][i-1]\n",
    "\n",
    "    for i in range (1,len(str2)):\n",
    "        D[i][0] = D[i-1][0] + str2[i] if str1[0] == str2[i] else D[i-1][0]\n",
    "\n",
    "    print (D)\n",
    "    for j in range (1,len(str1)):\n",
    "        for i in range (1,len(str2)):\n",
    "            if len(D[i][j-1]) > len(D[i-1][j]):\n",
    "                D[i][j] = D[i][j-1]\n",
    "            else:\n",
    "                D[i][j] = D[i-1][j]\n",
    "            D[i][j] = D[i][j] + str1[j] if str1[j] == str2[i] else D[i][j]\n",
    "\n",
    "\n",
    "    return  [ c for c in D[len(str2)-1][len(str1)-1]]\n"
   ]
  },
  {
   "cell_type": "code",
   "execution_count": null,
   "metadata": {},
   "outputs": [],
   "source": [
    "str"
   ]
  }
 ],
 "metadata": {
  "kernelspec": {
   "display_name": "Python 3",
   "language": "python",
   "name": "python3"
  },
  "language_info": {
   "codemirror_mode": {
    "name": "ipython",
    "version": 3
   },
   "file_extension": ".py",
   "mimetype": "text/x-python",
   "name": "python",
   "nbconvert_exporter": "python",
   "pygments_lexer": "ipython3",
   "version": "3.7.4"
  }
 },
 "nbformat": 4,
 "nbformat_minor": 2
}
