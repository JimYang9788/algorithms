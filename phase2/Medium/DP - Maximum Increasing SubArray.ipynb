{
 "cells": [
  {
   "cell_type": "code",
   "execution_count": null,
   "metadata": {},
   "outputs": [],
   "source": [
    "def maxSumIncreasingSubsequence(array):\n",
    "    # O(n^2) | O(n)\n",
    "\n",
    "\tif not array:\n",
    "\t\treturn [0,[]] \n",
    "\t\n",
    "\tD = [i for i in array]\n",
    "\tpredecessor = [-1 for i in array]\n",
    "\t\n",
    "\tmaxSum = array[0]\n",
    "\tpredecessor[0] = -1\n",
    "\tendingIndex = 0\n",
    "\tfor i in range(1, len(array)):\n",
    "\t\tcurrentMax = D[i]\n",
    "\t\tfor j in range (0, i):\n",
    "\t\t\tif array[j] < array[i] and array[i] + D[j] > currentMax:\n",
    "\t\t\t\tpredecessor[i] = j \n",
    "\t\t\t\tD[i] = array[i] + D[j]\n",
    "\t\t\t\tcurrentMax = array[i] + D[j]\n",
    "\t\tif currentMax > maxSum:\n",
    "\t\t\tendingIndex = i\n",
    "\t\t\tmaxSum = currentMax \n",
    "\t\n",
    "\tres = []\n",
    "\twhile predecessor[endingIndex] != -1:\n",
    "\t\tres = [array[endingIndex]] + res\n",
    "\t\tendingIndex = predecessor[endingIndex]\n",
    "\tres = [array[endingIndex]] + res\n",
    "\treturn [maxSum, res]\n",
    "\t\t\t\t\n",
    "\t\t\t\t\n",
    "\t\t\t\n",
    "\t\t\n",
    "\t\n",
    "\t\n"
   ]
  }
 ],
 "metadata": {
  "kernelspec": {
   "display_name": "Python 3",
   "language": "python",
   "name": "python3"
  },
  "language_info": {
   "codemirror_mode": {
    "name": "ipython",
    "version": 3
   },
   "file_extension": ".py",
   "mimetype": "text/x-python",
   "name": "python",
   "nbconvert_exporter": "python",
   "pygments_lexer": "ipython3",
   "version": "3.7.4"
  }
 },
 "nbformat": 4,
 "nbformat_minor": 2
}
