{
 "cells": [
  {
   "cell_type": "code",
   "execution_count": 10,
   "metadata": {},
   "outputs": [],
   "source": [
    "\n",
    "def spiralTraverseAcc (array, res):\n",
    "    if not array:\n",
    "        return res \n",
    "\n",
    "    elif len(array) == 1:\n",
    "        res += array[0]\n",
    "        return res \n",
    "    elif len(array[0]) == 1:\n",
    "        res += list(arr[0] for arr in array)\n",
    "        return res\n",
    "    else:\n",
    "        res += array[0]\n",
    "        print (array)\n",
    "        res += list(arr[-1] for arr in array[1:len(array)-1])\n",
    "        res += reversed (array[-1])\n",
    "        res += reversed (list(arr[0] for arr in array[1:-1]))\n",
    "\n",
    "        newarray = []\n",
    "        for arr in array[1:-1]:\n",
    "            if arr[1:-1] == []:\n",
    "                continue\n",
    "            else:\n",
    "                newarray.append (arr[1:-1])\n",
    "\n",
    "        return spiralTraverseAcc(newarray,res)\n",
    "\n",
    "\n",
    "def spiralTraverse(array):\n",
    "\treturn spiralTraverseAcc(array, [])"
   ]
  },
  {
   "cell_type": "code",
   "execution_count": 11,
   "metadata": {},
   "outputs": [
    {
     "name": "stdout",
     "output_type": "stream",
     "text": [
      "[[1, 11], [2, 12], [3, 13], [4, 14], [5, 15], [6, 16], [7, 17], [8, 18], [9, 19], [10, 20]]\n"
     ]
    },
    {
     "data": {
      "text/plain": [
       "[1, 11, 12, 13, 14, 15, 16, 17, 18, 19, 20, 10, 9, 8, 7, 6, 5, 4, 3, 2]"
      ]
     },
     "execution_count": 11,
     "metadata": {},
     "output_type": "execute_result"
    }
   ],
   "source": [
    "spiralTraverse([\n",
    "    [1, 11],\n",
    "    [2, 12],\n",
    "    [3, 13],\n",
    "    [4, 14],\n",
    "    [5, 15],\n",
    "    [6, 16],\n",
    "    [7, 17],\n",
    "    [8, 18],\n",
    "    [9, 19],\n",
    "    [10, 20]\n",
    "  ])"
   ]
  },
  {
   "cell_type": "code",
   "execution_count": null,
   "metadata": {},
   "outputs": [],
   "source": []
  }
 ],
 "metadata": {
  "kernelspec": {
   "display_name": "Python 3",
   "language": "python",
   "name": "python3"
  },
  "language_info": {
   "codemirror_mode": {
    "name": "ipython",
    "version": 3
   },
   "file_extension": ".py",
   "mimetype": "text/x-python",
   "name": "python",
   "nbconvert_exporter": "python",
   "pygments_lexer": "ipython3",
   "version": "3.7.4"
  }
 },
 "nbformat": 4,
 "nbformat_minor": 2
}
