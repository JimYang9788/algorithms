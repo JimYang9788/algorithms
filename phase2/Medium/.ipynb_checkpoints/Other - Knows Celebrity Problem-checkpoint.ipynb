{
 "cells": [
  {
   "cell_type": "code",
   "execution_count": 1,
   "metadata": {},
   "outputs": [],
   "source": [
    "# The knows API is already defined for you.\n",
    "# return a bool, whether a knows b\n",
    "# def knows(a: int, b: int) -> bool:\n",
    "\n",
    "class Solution:\n",
    "    def knowsByEveryOne(self, n, i):\n",
    "        res = True\n",
    "        for j in range (n):\n",
    "            if i == j: \n",
    "                continue \n",
    "            else:\n",
    "                if not knows(j, i) or knows(i,j):\n",
    "                    res = False\n",
    "                    break\n",
    "        return res \n",
    "        \n",
    "    \n",
    "    def findCelebrity(self, n: int) -> int:\n",
    "        # dumb way \n",
    "        for i in range (n):\n",
    "            if self.knowsByEveryOne(n, i):\n",
    "                return i\n",
    "        return -1 \n",
    "                    "
   ]
  },
  {
   "cell_type": "code",
   "execution_count": null,
   "metadata": {},
   "outputs": [],
   "source": []
  }
 ],
 "metadata": {
  "kernelspec": {
   "display_name": "Python 3",
   "language": "python",
   "name": "python3"
  },
  "language_info": {
   "codemirror_mode": {
    "name": "ipython",
    "version": 3
   },
   "file_extension": ".py",
   "mimetype": "text/x-python",
   "name": "python",
   "nbconvert_exporter": "python",
   "pygments_lexer": "ipython3",
   "version": "3.7.4"
  }
 },
 "nbformat": 4,
 "nbformat_minor": 2
}
