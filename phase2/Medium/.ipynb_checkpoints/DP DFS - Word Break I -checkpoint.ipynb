{
 "cells": [
  {
   "cell_type": "code",
   "execution_count": null,
   "metadata": {},
   "outputs": [],
   "source": [
    "class Solution:\n",
    "    def wordBreak(self, s, wordDict) -> bool:\n",
    "        \n",
    "        cache = {}\n",
    "        \n",
    "        def DFS (s):\n",
    "            if s in cache:\n",
    "                return cache [s]\n",
    "            if s == '':\n",
    "                return True \n",
    "            else:\n",
    "                for i in range(len(s)+1):\n",
    "                    if s[:i] in wordDict:\n",
    "                        if DFS(s[i:]):\n",
    "                            cache[s] = True \n",
    "                            return True \n",
    "            cache[s] = False \n",
    "            return False \n",
    "    \n",
    "        return DFS (s)\n",
    "            "
   ]
  }
 ],
 "metadata": {
  "kernelspec": {
   "display_name": "Python 3",
   "language": "python",
   "name": "python3"
  },
  "language_info": {
   "codemirror_mode": {
    "name": "ipython",
    "version": 3
   },
   "file_extension": ".py",
   "mimetype": "text/x-python",
   "name": "python",
   "nbconvert_exporter": "python",
   "pygments_lexer": "ipython3",
   "version": "3.7.4"
  }
 },
 "nbformat": 4,
 "nbformat_minor": 2
}
