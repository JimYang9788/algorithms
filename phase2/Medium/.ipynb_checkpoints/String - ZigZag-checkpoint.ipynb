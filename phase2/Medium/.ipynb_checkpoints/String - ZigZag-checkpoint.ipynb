{
 "cells": [
  {
   "cell_type": "code",
   "execution_count": null,
   "metadata": {},
   "outputs": [],
   "source": [
    "class Solution:\n",
    "    def convert(self, s: str, numRows: int) -> str:\n",
    "        if len(s) <= 1: return s\n",
    "        if numRows <= 1: return s\n",
    "        i = 0 \n",
    "        fullCycle = 2 * numRows - 2 \n",
    "        D = [\"\" for num in range(numRows)]\n",
    "        \n",
    "        while (i < len(s)):\n",
    "            \n",
    "            row = i % fullCycle \n",
    "            if row > numRows - 1:\n",
    "                diff = row - numRows + 1 \n",
    "                D[numRows - diff - 1 ] += s[i]\n",
    "            else:\n",
    "                D[row] += s[i]\n",
    "            i += 1 \n",
    "            res = \"\"\n",
    "\n",
    "            for row in D:\n",
    "                res = res + row            \n",
    "        res = \"\"\n",
    "        \n",
    "        for row in D:\n",
    "            res = res + row\n",
    "\n",
    "        return res "
   ]
  }
 ],
 "metadata": {
  "kernelspec": {
   "display_name": "Python 3",
   "language": "python",
   "name": "python3"
  },
  "language_info": {
   "codemirror_mode": {
    "name": "ipython",
    "version": 3
   },
   "file_extension": ".py",
   "mimetype": "text/x-python",
   "name": "python",
   "nbconvert_exporter": "python",
   "pygments_lexer": "ipython3",
   "version": "3.7.4"
  }
 },
 "nbformat": 4,
 "nbformat_minor": 2
}
