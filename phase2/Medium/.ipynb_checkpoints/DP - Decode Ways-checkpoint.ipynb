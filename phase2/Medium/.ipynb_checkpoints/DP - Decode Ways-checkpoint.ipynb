{
 "cells": [
  {
   "cell_type": "code",
   "execution_count": 1,
   "metadata": {},
   "outputs": [],
   "source": [
    "# The shitty way I came up, horrible \n",
    "class Solution:\n",
    "    def numDecodings(self, s: str) -> int:\n",
    "        \n",
    "        if not s: return 0 \n",
    "        \n",
    "        D = [0 for c in range (len(s))]\n",
    "        \n",
    "        D[0] = 1 \n",
    "        if s[0] == '0': return 0 \n",
    "        \n",
    "        usedByPrev = False \n",
    "        \n",
    "        for i in range (1,len(s)):\n",
    "\n",
    "            if s[i] == '0':\n",
    "\n",
    "                if s[i-1] == '2' or s[i-1] == '1':\n",
    "                    if usedByPrev:\n",
    "                        D[i] = D[i-1] - 1 \n",
    "                    else:\n",
    "                        D[i] = D[i-1]\n",
    "                    usedByPrev = False\n",
    "                else:\n",
    "                    return 0\n",
    "            else:\n",
    "                D[i] = D[i - 1]\n",
    "                if s[i-1] == '1' or s[i-1] == '2' and ord('0') <= ord(s[i]) <= ord('6'):\n",
    "                    usedByPrev = True\n",
    "                    if i >= 2:\n",
    "                        D[i] += D[i - 2]\n",
    "                    else:\n",
    "                        D[i] += 1 \n",
    "                else:\n",
    "                    usedByPrev = False\n",
    "            if D[i] <= 0:\n",
    "                return 0\n",
    "        print (D)\n",
    "        return D[-1]\n",
    "        "
   ]
  },
  {
   "cell_type": "code",
   "execution_count": null,
   "metadata": {},
   "outputs": [],
   "source": []
  }
 ],
 "metadata": {
  "kernelspec": {
   "display_name": "Python 3",
   "language": "python",
   "name": "python3"
  },
  "language_info": {
   "codemirror_mode": {
    "name": "ipython",
    "version": 3
   },
   "file_extension": ".py",
   "mimetype": "text/x-python",
   "name": "python",
   "nbconvert_exporter": "python",
   "pygments_lexer": "ipython3",
   "version": "3.7.4"
  }
 },
 "nbformat": 4,
 "nbformat_minor": 2
}
