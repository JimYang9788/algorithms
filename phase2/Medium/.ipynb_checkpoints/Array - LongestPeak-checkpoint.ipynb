{
 "cells": [
  {
   "cell_type": "code",
   "execution_count": 1,
   "metadata": {},
   "outputs": [],
   "source": [
    "def longestPeak(array):\n",
    "\tcurLong = 0 \n",
    "\ti = 1 \n",
    "\twhile i < len (array) - 1:\n",
    "\t\tisPeak = array[i-1] < array[i] and array[i] > array[i+1]\n",
    "\t\tif not isPeak:\n",
    "\t\t\ti += 1 \n",
    "\t\t\tcontinue \n",
    "\t\tl = i - 2 \n",
    "\t\twhile l >= 0 and array[l] < array[l+1]:\n",
    "\t\t\tl -= 1 \n",
    "\t\tr = i + 2 \n",
    "\t\twhile r < len(array) and array[r] < array[r - 1]:\n",
    "\t\t\tr += 1 \n",
    "\t\t\t\n",
    "\t\tcurPeak = r - l - 1 \n",
    "\t\tcurLong = max(curLong, curPeak)\n",
    "\t\ti = r \n",
    "\treturn curLong\n"
   ]
  },
  {
   "cell_type": "code",
   "execution_count": null,
   "metadata": {},
   "outputs": [],
   "source": []
  }
 ],
 "metadata": {
  "kernelspec": {
   "display_name": "Python 3",
   "language": "python",
   "name": "python3"
  },
  "language_info": {
   "codemirror_mode": {
    "name": "ipython",
    "version": 3
   },
   "file_extension": ".py",
   "mimetype": "text/x-python",
   "name": "python",
   "nbconvert_exporter": "python",
   "pygments_lexer": "ipython3",
   "version": "3.7.4"
  }
 },
 "nbformat": 4,
 "nbformat_minor": 2
}
