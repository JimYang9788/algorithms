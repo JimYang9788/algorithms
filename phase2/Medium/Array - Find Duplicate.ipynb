{
 "cells": [
  {
   "cell_type": "code",
   "execution_count": 10,
   "metadata": {},
   "outputs": [],
   "source": [
    "def firstDuplicateValue(array):\n",
    "    # Write your code here.\n",
    "    counter = {}\n",
    "    duplicateIndex = {}\n",
    "    for idx, num in enumerate (array):\n",
    "        if num in counter and num not in duplicateIndex:\n",
    "            duplicateIndex [num] = idx\n",
    "        else:\n",
    "            counter [num] = 1 \n",
    "\n",
    "    currentIdx = float (\"inf\")\n",
    "\n",
    "    res = -1 \n",
    "    for num, idx in duplicateIndex.items():\n",
    "        if idx < currentIdx:\n",
    "            res = num \n",
    "            currentIdx = idx\n",
    "    return res"
   ]
  },
  {
   "cell_type": "code",
   "execution_count": 6,
   "metadata": {},
   "outputs": [],
   "source": [
    "array= [\n",
    "    23,\n",
    "    21,\n",
    "    22,\n",
    "    5,\n",
    "    3,\n",
    "    13,\n",
    "    11,\n",
    "    16,\n",
    "    5,\n",
    "    11,\n",
    "    9,\n",
    "    14,\n",
    "    23,\n",
    "    3,\n",
    "    2,\n",
    "    2,\n",
    "    5,\n",
    "    11,\n",
    "    6,\n",
    "    11,\n",
    "    23,\n",
    "    8,\n",
    "    1\n",
    "  ]"
   ]
  },
  {
   "cell_type": "code",
   "execution_count": 7,
   "metadata": {},
   "outputs": [
    {
     "name": "stdout",
     "output_type": "stream",
     "text": [
      "{5: 16, 11: 19, 23: 20, 3: 13, 2: 15}\n"
     ]
    },
    {
     "data": {
      "text/plain": [
       "3"
      ]
     },
     "execution_count": 7,
     "metadata": {},
     "output_type": "execute_result"
    }
   ],
   "source": [
    "firstDuplicateValue(array)"
   ]
  },
  {
   "cell_type": "code",
   "execution_count": 2,
   "metadata": {},
   "outputs": [
    {
     "ename": "IndentationError",
     "evalue": "unindent does not match any outer indentation level (<tokenize>, line 11)",
     "output_type": "error",
     "traceback": [
      "\u001b[0;36m  File \u001b[0;32m\"<tokenize>\"\u001b[0;36m, line \u001b[0;32m11\u001b[0m\n\u001b[0;31m    return -1\u001b[0m\n\u001b[0m    ^\u001b[0m\n\u001b[0;31mIndentationError\u001b[0m\u001b[0;31m:\u001b[0m unindent does not match any outer indentation level\n"
     ]
    }
   ],
   "source": [
    "def firstDuplicateValue(array):\n",
    "    # Write your code here.\n",
    "    for i in range (len(array)):\n",
    "\n",
    "        absValue = abs(array[i])\n",
    "        if array[absValue -1 ] < 0:\n",
    "            return absValue\n",
    "        array[absValue -1 ] *= -1 \n",
    "\n",
    "\n",
    "    return -1\n"
   ]
  },
  {
   "cell_type": "code",
   "execution_count": null,
   "metadata": {},
   "outputs": [],
   "source": []
  }
 ],
 "metadata": {
  "kernelspec": {
   "display_name": "Python 3",
   "language": "python",
   "name": "python3"
  },
  "language_info": {
   "codemirror_mode": {
    "name": "ipython",
    "version": 3
   },
   "file_extension": ".py",
   "mimetype": "text/x-python",
   "name": "python",
   "nbconvert_exporter": "python",
   "pygments_lexer": "ipython3",
   "version": "3.7.4"
  }
 },
 "nbformat": 4,
 "nbformat_minor": 2
}
