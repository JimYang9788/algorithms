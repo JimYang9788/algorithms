{
 "cells": [
  {
   "cell_type": "code",
   "execution_count": 2,
   "metadata": {},
   "outputs": [],
   "source": [
    "class Solution:\n",
    "    def findCircleNum(self, isConnected) -> int:\n",
    "        \n",
    "        def DFS (i, isConnected):\n",
    "            # Visit the node \n",
    "            # mutate the graph \n",
    "            \n",
    "            # We have visited this node. \n",
    "            # 2 meaning it's visited \n",
    "            \n",
    "            if isConnected[i][i] == 2:\n",
    "                return \n",
    "            \n",
    "            isConnected[i][i] = 2 \n",
    "            \n",
    "            for j in range (len (isConnected[i])):\n",
    "                if isConnected[i][j] == 1 :                    \n",
    "                    DFS (j, isConnected)\n",
    "                    \n",
    "        res = 0 \n",
    "        \n",
    "        \n",
    "        for i in range (len(isConnected)):\n",
    "            if isConnected[i][i] == 2:\n",
    "                continue \n",
    "            else:\n",
    "                DFS (i, isConnected)\n",
    "                res += 1 \n",
    "                \n",
    "        return res "
   ]
  },
  {
   "cell_type": "code",
   "execution_count": null,
   "metadata": {},
   "outputs": [],
   "source": []
  }
 ],
 "metadata": {
  "kernelspec": {
   "display_name": "Python 3",
   "language": "python",
   "name": "python3"
  },
  "language_info": {
   "codemirror_mode": {
    "name": "ipython",
    "version": 3
   },
   "file_extension": ".py",
   "mimetype": "text/x-python",
   "name": "python",
   "nbconvert_exporter": "python",
   "pygments_lexer": "ipython3",
   "version": "3.7.4"
  }
 },
 "nbformat": 4,
 "nbformat_minor": 2
}
