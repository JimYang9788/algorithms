{
 "cells": [
  {
   "cell_type": "code",
   "execution_count": 1,
   "metadata": {},
   "outputs": [],
   "source": [
    "class Solution:\n",
    "    def canFinish(self, numCourses, prerequisites) -> bool:\n",
    "        # Essentially checking is acyclic => use DFS \n",
    "        \n",
    "        graph = {i:[] for i in range (numCourses)}\n",
    "        visited = [0 for i in range(numCourses)]\n",
    "        \n",
    "        for edge in prerequisites:\n",
    "            out = edge[1]\n",
    "            in_edge = edge[0]\n",
    "            graph[in_edge].append (out)  \n",
    "          \n",
    "        \n",
    "        def DFS (i):\n",
    "            if visited[i] == 1:\n",
    "                return True \n",
    "            if visited[i] == -1:\n",
    "                return False\n",
    "            \n",
    "            visited[i] = -1 \n",
    "            for j in graph[i]:\n",
    "                if not DFS(j):\n",
    "                    return False\n",
    "                \n",
    "            visited[i] = 1 \n",
    "            return True\n",
    "        \n",
    "        for i in range (numCourses):   \n",
    "            if not DFS(i): \n",
    "                return False \n",
    "        return True "
   ]
  },
  {
   "cell_type": "code",
   "execution_count": null,
   "metadata": {},
   "outputs": [],
   "source": []
  }
 ],
 "metadata": {
  "kernelspec": {
   "display_name": "Python 3",
   "language": "python",
   "name": "python3"
  },
  "language_info": {
   "codemirror_mode": {
    "name": "ipython",
    "version": 3
   },
   "file_extension": ".py",
   "mimetype": "text/x-python",
   "name": "python",
   "nbconvert_exporter": "python",
   "pygments_lexer": "ipython3",
   "version": "3.7.4"
  }
 },
 "nbformat": 4,
 "nbformat_minor": 2
}
