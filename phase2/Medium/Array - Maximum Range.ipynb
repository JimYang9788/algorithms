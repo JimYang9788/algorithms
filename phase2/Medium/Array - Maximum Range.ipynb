{
 "cells": [
  {
   "cell_type": "code",
   "execution_count": 9,
   "metadata": {},
   "outputs": [],
   "source": [
    "def largestRange(array):\n",
    "    # Sort + linear Scan\n",
    "    def findRange (array, i):\n",
    "        curRange = [array[i], array[i]]\n",
    "        i += 1 \n",
    "        while (i < len(array)):\n",
    "            if array[i] - array[i-1] == 1:\n",
    "                curRange[1] = array[i]\n",
    "                i += 1 \n",
    "            else:\n",
    "                return curRange,i\n",
    "        return curRange,i\n",
    "\n",
    "    array.sort ()\n",
    "    maxRange = [array[0],array[0]]\n",
    "\n",
    "    print (array)\n",
    "    i = 0\n",
    "    while (i < len(array)):\n",
    "        curRange, curEnd = findRange (array,i)\n",
    "        if curRange[1] - curRange [0] > maxRange[1] - maxRange[0]:\n",
    "            maxRange = curRange \n",
    "        print (curRange)\n",
    "        i = curEnd \n",
    "\n",
    "\n",
    "    return maxRange \n",
    "\n",
    "array = [\n",
    "    19,\n",
    "    -1,\n",
    "    18,\n",
    "    17,\n",
    "    2,\n",
    "    10,\n",
    "    3,\n",
    "    12,\n",
    "    5,\n",
    "    16,\n",
    "    4,\n",
    "    11,\n",
    "    8,\n",
    "    7,\n",
    "    6,\n",
    "    15,\n",
    "    12,\n",
    "    12,\n",
    "    2,\n",
    "    1,\n",
    "    6,\n",
    "    13,\n",
    "    14\n",
    "  ]\n",
    "\t\n",
    "\t"
   ]
  },
  {
   "cell_type": "code",
   "execution_count": 10,
   "metadata": {},
   "outputs": [
    {
     "name": "stdout",
     "output_type": "stream",
     "text": [
      "[-1, 1, 2, 2, 3, 4, 5, 6, 6, 7, 8, 10, 11, 12, 12, 12, 13, 14, 15, 16, 17, 18, 19]\n",
      "[-1, -1]\n",
      "[1, 2]\n",
      "[2, 6]\n",
      "[6, 8]\n",
      "[10, 12]\n",
      "[12, 12]\n",
      "[12, 19]\n"
     ]
    },
    {
     "data": {
      "text/plain": [
       "[12, 19]"
      ]
     },
     "execution_count": 10,
     "metadata": {},
     "output_type": "execute_result"
    }
   ],
   "source": [
    "largestRange(array)"
   ]
  },
  {
   "cell_type": "markdown",
   "metadata": {},
   "source": [
    "### Solution 2\n",
    "用dictionary达到O(n)，基本上就是一个island的问题，visit过的设置为False，然后从一个点开始expand\n",
    "然后去visit individual island，达到O(n)"
   ]
  },
  {
   "cell_type": "code",
   "execution_count": null,
   "metadata": {},
   "outputs": [],
   "source": []
  }
 ],
 "metadata": {
  "kernelspec": {
   "display_name": "Python 3",
   "language": "python",
   "name": "python3"
  },
  "language_info": {
   "codemirror_mode": {
    "name": "ipython",
    "version": 3
   },
   "file_extension": ".py",
   "mimetype": "text/x-python",
   "name": "python",
   "nbconvert_exporter": "python",
   "pygments_lexer": "ipython3",
   "version": "3.7.4"
  }
 },
 "nbformat": 4,
 "nbformat_minor": 2
}
