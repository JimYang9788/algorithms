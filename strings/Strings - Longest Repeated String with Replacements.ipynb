{
 "cells": [
  {
   "cell_type": "code",
   "execution_count": null,
   "metadata": {},
   "outputs": [],
   "source": [
    "from collections import Counter\n",
    "class Solution:\n",
    "    def characterReplacement(self, s: str, k: int) -> int:\n",
    "        res = 0 \n",
    "        l,r = 0,0\n",
    "        hashmap = Counter ()\n",
    "\n",
    "        for r in range (len(s)):\n",
    "            \n",
    "            hashmap[s[r]] += 1\n",
    "            \n",
    "            while (r - l + 1 - max(hashmap.values()) > k):\n",
    "                hashmap[s[l]] -= 1 \n",
    "                l += 1 \n",
    "                \n",
    "            res = max (res, r - l + 1 )\n",
    "        \n",
    "        return res "
   ]
  }
 ],
 "metadata": {
  "kernelspec": {
   "display_name": "Python 3",
   "language": "python",
   "name": "python3"
  },
  "language_info": {
   "codemirror_mode": {
    "name": "ipython",
    "version": 3
   },
   "file_extension": ".py",
   "mimetype": "text/x-python",
   "name": "python",
   "nbconvert_exporter": "python",
   "pygments_lexer": "ipython3",
   "version": "3.7.4"
  }
 },
 "nbformat": 4,
 "nbformat_minor": 2
}
