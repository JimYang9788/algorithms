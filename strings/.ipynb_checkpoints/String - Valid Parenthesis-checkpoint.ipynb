{
 "cells": [
  {
   "cell_type": "code",
   "execution_count": null,
   "metadata": {},
   "outputs": [],
   "source": [
    "class Solution:\n",
    "    def isValid(self, s: str) -> bool:\n",
    "        stack = []\n",
    "        \n",
    "        match = {')':'(', '}':'{', ']':'['}\n",
    "    \n",
    "        \n",
    "        for para in s:\n",
    "            if para in ['(', '{', '[']:\n",
    "                stack.append (para)\n",
    "            \n",
    "            else:\n",
    "                if not stack:\n",
    "                    return False\n",
    "\n",
    "                top = stack.pop()\n",
    "                \n",
    "                if top != match[para]:\n",
    "                    return False \n",
    "            \n",
    "        return not stack \n",
    "        "
   ]
  }
 ],
 "metadata": {
  "kernelspec": {
   "display_name": "Python 3",
   "language": "python",
   "name": "python3"
  },
  "language_info": {
   "codemirror_mode": {
    "name": "ipython",
    "version": 3
   },
   "file_extension": ".py",
   "mimetype": "text/x-python",
   "name": "python",
   "nbconvert_exporter": "python",
   "pygments_lexer": "ipython3",
   "version": "3.7.4"
  }
 },
 "nbformat": 4,
 "nbformat_minor": 2
}
