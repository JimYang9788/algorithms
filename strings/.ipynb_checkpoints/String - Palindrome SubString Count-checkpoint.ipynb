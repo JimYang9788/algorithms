{
 "cells": [
  {
   "cell_type": "code",
   "execution_count": null,
   "metadata": {},
   "outputs": [],
   "source": [
    "class Solution:\n",
    "    def countSubstrings(self, s: str) -> int:\n",
    "        \n",
    "        res = 0 \n",
    "        def linearOddScan(i,s):\n",
    "            subRes = 1 # Adding this single string\n",
    "            l,r = i-1,i+1\n",
    "            while (l >= 0 and r <= len(s)-1):\n",
    "                if s[l] == s[r]:\n",
    "                    subRes += 1 \n",
    "                    l -= 1 \n",
    "                    r += 1 \n",
    "                else:\n",
    "                    return subRes \n",
    "            return subRes \n",
    "\n",
    "        def linearEvenScan(i,s):\n",
    "            subRes = 0\n",
    "            l,r = i,i+1\n",
    "            while (l >= 0 and r <= len(s)-1):\n",
    "                if s[l] == s[r]:\n",
    "                    subRes += 1 \n",
    "                    l -= 1 \n",
    "                    r += 1 \n",
    "                else:\n",
    "                    return subRes \n",
    "            return subRes \n",
    "                \n",
    "\n",
    "        \n",
    "        for i in range (0, len(s)):\n",
    "            res += linearOddScan (i,s)\n",
    "            res += linearEvenScan (i,s)\n",
    "        \n",
    "        \n",
    "        return res "
   ]
  }
 ],
 "metadata": {
  "kernelspec": {
   "display_name": "Python 3",
   "language": "python",
   "name": "python3"
  },
  "language_info": {
   "codemirror_mode": {
    "name": "ipython",
    "version": 3
   },
   "file_extension": ".py",
   "mimetype": "text/x-python",
   "name": "python",
   "nbconvert_exporter": "python",
   "pygments_lexer": "ipython3",
   "version": "3.7.4"
  }
 },
 "nbformat": 4,
 "nbformat_minor": 2
}
