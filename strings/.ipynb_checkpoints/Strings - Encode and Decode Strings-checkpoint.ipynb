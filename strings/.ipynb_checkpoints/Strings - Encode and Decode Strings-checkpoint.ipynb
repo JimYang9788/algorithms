{
 "cells": [
  {
   "cell_type": "code",
   "execution_count": null,
   "metadata": {},
   "outputs": [],
   "source": [
    "class Codec:\n",
    "    def len_to_str(self, x):\n",
    "        \"\"\"\n",
    "        Encodes length of string to bytes string\n",
    "        \"\"\"\n",
    "        x = len(x)\n",
    "        bytes = [chr(x >> (i * 8) & 0xff) for i in range(4)]\n",
    "        bytes.reverse()\n",
    "        bytes_str = ''.join(bytes)\n",
    "        return bytes_str\n",
    "    \n",
    "    def encode(self, strs):\n",
    "        \"\"\"Encodes a list of strings to a single string.\n",
    "        :type strs: List[str]\n",
    "        :rtype: str\n",
    "        \"\"\"\n",
    "        # encode here is a workaround to fix BE CodecDriver error\n",
    "        return ''.join(self.len_to_str(x) + x.encode('utf-8') for x in strs)\n",
    "        \n",
    "    def str_to_int(self, bytes_str):\n",
    "        \"\"\"\n",
    "        Decodes bytes string to integer.\n",
    "        \"\"\"\n",
    "        result = 0\n",
    "        for ch in bytes_str:\n",
    "            result = result * 256 + ord(ch)\n",
    "        return result\n",
    "    \n",
    "    def decode(self, s):\n",
    "        \"\"\"Decodes a single string to a list of strings.\n",
    "        :type s: str\n",
    "        :rtype: List[str]\n",
    "        \"\"\"\n",
    "        i, n = 0, len(s)\n",
    "        output = []\n",
    "        while i < n:\n",
    "            length = self.str_to_int(s[i: i + 4])\n",
    "            i += 4\n",
    "            output.append(s[i: i + length])\n",
    "            i += length\n",
    "        return output"
   ]
  }
 ],
 "metadata": {
  "kernelspec": {
   "display_name": "Python 3",
   "language": "python",
   "name": "python3"
  },
  "language_info": {
   "codemirror_mode": {
    "name": "ipython",
    "version": 3
   },
   "file_extension": ".py",
   "mimetype": "text/x-python",
   "name": "python",
   "nbconvert_exporter": "python",
   "pygments_lexer": "ipython3",
   "version": "3.7.4"
  }
 },
 "nbformat": 4,
 "nbformat_minor": 2
}
