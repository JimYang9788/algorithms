{
 "cells": [
  {
   "cell_type": "code",
   "execution_count": 1,
   "metadata": {},
   "outputs": [],
   "source": [
    "def isPalindrome(string):\n",
    "\n",
    "\tl,r = 0, len(string) - 1 \n",
    "\twhile (l <= r):\n",
    "\t\tif string[l] == string[r]:\n",
    "\t\t\tl += 1\n",
    "\t\t\tr -= 1 \n",
    "\t\telse:\n",
    "\t\t\treturn False \n",
    "\treturn True \n"
   ]
  },
  {
   "cell_type": "code",
   "execution_count": null,
   "metadata": {},
   "outputs": [],
   "source": [
    "def isPalindrome(string):\n",
    "    # Recursion\n",
    "\tif len(string) <= 1:\n",
    "\t\treturn True \n",
    "\treturn string[0] == string[-1] and isPalindrome (string[1:-1])\n",
    "\t\n",
    "    \n"
   ]
  }
 ],
 "metadata": {
  "kernelspec": {
   "display_name": "Python 3",
   "language": "python",
   "name": "python3"
  },
  "language_info": {
   "codemirror_mode": {
    "name": "ipython",
    "version": 3
   },
   "file_extension": ".py",
   "mimetype": "text/x-python",
   "name": "python",
   "nbconvert_exporter": "python",
   "pygments_lexer": "ipython3",
   "version": "3.7.4"
  }
 },
 "nbformat": 4,
 "nbformat_minor": 2
}
