{
 "cells": [
  {
   "cell_type": "code",
   "execution_count": null,
   "metadata": {},
   "outputs": [],
   "source": [
    "class Solution:\n",
    "    def lengthOfLongestSubstring(self, s: str) -> int:\n",
    "        l, r = 0, 0\n",
    "        # my_dict.pop('key', None)\n",
    "        hashmap = {}\n",
    "        res = 0 \n",
    "        while (r < len(s)):            \n",
    "            while s[r] in hashmap:\n",
    "                hashmap.pop(s[l], None)\n",
    "                l += 1 \n",
    "            hashmap[s[r]] = 1 \n",
    "            res = max(res, len(hashmap))\n",
    "            r += 1 \n",
    "        return res "
   ]
  }
 ],
 "metadata": {
  "kernelspec": {
   "display_name": "Python 3",
   "language": "python",
   "name": "python3"
  },
  "language_info": {
   "codemirror_mode": {
    "name": "ipython",
    "version": 3
   },
   "file_extension": ".py",
   "mimetype": "text/x-python",
   "name": "python",
   "nbconvert_exporter": "python",
   "pygments_lexer": "ipython3",
   "version": "3.7.4"
  }
 },
 "nbformat": 4,
 "nbformat_minor": 2
}
