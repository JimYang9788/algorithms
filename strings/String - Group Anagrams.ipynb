{
 "cells": [
  {
   "cell_type": "code",
   "execution_count": 1,
   "metadata": {},
   "outputs": [],
   "source": [
    "from collections import Counter \n",
    "\n",
    "def groupAnagrams(words):\n",
    "\tanagrams = {}\n",
    "\tfor word in words:\n",
    "\t\tsortedWord = \"\".join (sorted(word))\n",
    "\t\tif sortedWord in anagrams:\n",
    "\t\t\tanagrams[sortedWord].append(word)\n",
    "\t\telse:\n",
    "\t\t\tanagrams[sortedWord] = [word]\n",
    "\treturn list(anagrams.values())\n"
   ]
  },
  {
   "cell_type": "code",
   "execution_count": null,
   "metadata": {},
   "outputs": [],
   "source": []
  }
 ],
 "metadata": {
  "kernelspec": {
   "display_name": "Python 3",
   "language": "python",
   "name": "python3"
  },
  "language_info": {
   "codemirror_mode": {
    "name": "ipython",
    "version": 3
   },
   "file_extension": ".py",
   "mimetype": "text/x-python",
   "name": "python",
   "nbconvert_exporter": "python",
   "pygments_lexer": "ipython3",
   "version": "3.7.4"
  }
 },
 "nbformat": 4,
 "nbformat_minor": 2
}
