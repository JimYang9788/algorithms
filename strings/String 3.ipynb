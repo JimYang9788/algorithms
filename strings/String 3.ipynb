{
 "cells": [
  {
   "cell_type": "code",
   "execution_count": null,
   "metadata": {},
   "outputs": [],
   "source": [
    "class Solution:\n",
    "    def strStr(self, haystack: str, needle: str) -> int:\n",
    "        def check_start (haystack, needle):\n",
    "            if len(needle) > len (haystack):\n",
    "                return False\n",
    "            for i in range (len (needle)):\n",
    "                if needle[i] != haystack[i]:\n",
    "                    return False \n",
    "            return True \n",
    "            \n",
    "            \n",
    "        if len (needle) == 0:\n",
    "            return 0\n",
    "        if len(needle) > len(haystack):\n",
    "            return -1 \n",
    "        for idx, c in enumerate (haystack):\n",
    "            if c  == needle[0]:\n",
    "                if check_start (haystack[idx:], needle):\n",
    "                    return idx \n",
    "        \n",
    "        return -1 \n",
    "        "
   ]
  }
 ],
 "metadata": {
  "kernelspec": {
   "display_name": "Python 3",
   "language": "python",
   "name": "python3"
  },
  "language_info": {
   "codemirror_mode": {
    "name": "ipython",
    "version": 3
   },
   "file_extension": ".py",
   "mimetype": "text/x-python",
   "name": "python",
   "nbconvert_exporter": "python",
   "pygments_lexer": "ipython3",
   "version": "3.7.4"
  }
 },
 "nbformat": 4,
 "nbformat_minor": 2
}
