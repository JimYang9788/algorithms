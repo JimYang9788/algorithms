{
 "cells": [
  {
   "cell_type": "code",
   "execution_count": null,
   "metadata": {},
   "outputs": [],
   "source": [
    "from collections import Counter \n",
    "\n",
    "class Solution:\n",
    "    \n",
    "    def minWindow(self, s, t):\n",
    "        # Optimization will be remove all s characters not existing in t.\n",
    "        \n",
    "        def contains (C1, C2):\n",
    "            for key,val in C2.items():\n",
    "                if C1[key] < C2[key]:\n",
    "                    return False\n",
    "            return True\n",
    "    \n",
    "        res = \"\"\n",
    "        \n",
    "        l,r = 0,0\n",
    "        \n",
    "        target = Counter (t)\n",
    "        existing = Counter ()\n",
    "        \n",
    "        for r in range(len(s)):\n",
    "            \n",
    "            existing[s[r]] += 1 \n",
    "            \n",
    "            # We have a solution\n",
    "                \n",
    "            while contains (existing, target):\n",
    "                \n",
    "                if res == \"\" or len(res) > r - l + 1:\n",
    "                    res = s[l:r+1]\n",
    "\n",
    "                existing [s[l]] -= 1 \n",
    "                l += 1 \n",
    "        \n",
    "        return res                 "
   ]
  }
 ],
 "metadata": {
  "kernelspec": {
   "display_name": "Python 3",
   "language": "python",
   "name": "python3"
  },
  "language_info": {
   "codemirror_mode": {
    "name": "ipython",
    "version": 3
   },
   "file_extension": ".py",
   "mimetype": "text/x-python",
   "name": "python",
   "nbconvert_exporter": "python",
   "pygments_lexer": "ipython3",
   "version": "3.7.4"
  }
 },
 "nbformat": 4,
 "nbformat_minor": 2
}
