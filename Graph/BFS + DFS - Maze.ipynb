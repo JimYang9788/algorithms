{
 "cells": [
  {
   "cell_type": "code",
   "execution_count": null,
   "metadata": {},
   "outputs": [],
   "source": [
    "class Solution:\n",
    "    def hasPath(self, maze: List[List[int]], start: List[int], destination: List[int]) -> bool:\n",
    "        if not maze or not maze [0]:\n",
    "            return True \n",
    "        \n",
    "        queue1 = []\n",
    "        \n",
    "        queue1.append (start)\n",
    "        visited = set()\n",
    "        \n",
    "        m, n = len(maze), len(maze[0])\n",
    "        visited.add (tuple (start))\n",
    "        # visited.append (destination)\n",
    "\n",
    "        neighbours = [(0,1), (1,0),(-1,0),(0,-1)]\n",
    "        while (queue1):\n",
    "            length = len(queue1)\n",
    "            for i in range (length):\n",
    "                curnode = queue1.pop(0)\n",
    "                if curnode == destination:\n",
    "                    return True \n",
    "                for direction in neighbours:\n",
    "                    a = curnode[0]\n",
    "                    b = curnode[1]\n",
    "                    r = direction[0]\n",
    "                    c = direction[1]\n",
    "                    while(0 <= a < m and 0 <= b < n and maze[a][b]==0):\n",
    "                        # Can Roll\n",
    "                        a = a + r\n",
    "                        b = b + c\n",
    "                    # Roll Back\n",
    "                    a = a - r\n",
    "                    b = b - c   \n",
    "                    if 0 <= a < m and 0 <= b < n and (a,b) not in visited and maze[a][b]==0:\n",
    "                        queue1.append ([a,b])\n",
    "                        visited.add (tuple([a,b]))\n",
    "\n",
    "\n",
    "\n",
    "        return False\n",
    "        "
   ]
  }
 ],
 "metadata": {
  "kernelspec": {
   "display_name": "Python 3",
   "language": "python",
   "name": "python3"
  },
  "language_info": {
   "codemirror_mode": {
    "name": "ipython",
    "version": 3
   },
   "file_extension": ".py",
   "mimetype": "text/x-python",
   "name": "python",
   "nbconvert_exporter": "python",
   "pygments_lexer": "ipython3",
   "version": "3.7.4"
  }
 },
 "nbformat": 4,
 "nbformat_minor": 2
}
