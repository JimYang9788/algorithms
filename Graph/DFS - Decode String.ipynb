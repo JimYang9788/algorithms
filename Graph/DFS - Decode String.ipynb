{
 "cells": [
  {
   "cell_type": "code",
   "execution_count": 1,
   "metadata": {},
   "outputs": [],
   "source": [
    "class Solution(object):\n",
    "    # Iterative\n",
    "    \n",
    "    def decodeString(self, s):\n",
    "        stack = []; curNum = 0; curString = ''\n",
    "        for c in s:\n",
    "            if c == '[':\n",
    "                stack.append(curString)\n",
    "                stack.append(curNum)\n",
    "                curString = ''\n",
    "                curNum = 0\n",
    "            elif c == ']':\n",
    "                num = stack.pop()\n",
    "                prevString = stack.pop()\n",
    "                curString = prevString + num*curString\n",
    "            elif c.isdigit():\n",
    "                curNum = curNum*10 + int(c)\n",
    "            else:\n",
    "                curString += c\n",
    "        return curString"
   ]
  },
  {
   "cell_type": "code",
   "execution_count": 2,
   "metadata": {},
   "outputs": [],
   "source": [
    "class Solution:\n",
    "\tdef decodeString(self, s):\n",
    "\n",
    "\t\tif not s or len(s) == 0:\n",
    "\t\t\treturn s\n",
    "\t\tresult, position = self.dfs(0,s,0,'')\n",
    "\t\treturn result\n",
    "\n",
    "\tdef dfs(self, position, s, prev_num, prev_str):\n",
    "\t\twhile position < len(s):\n",
    "\t\t\twhile s[position].isdigit():\n",
    "\t\t\t\tprev_num  = prev_num*10 + int(s[position])\n",
    "\t\t\t\tposition += 1\n",
    "\n",
    "\t\t\tif s[position] == \"[\":\n",
    "\t\t\t\t#reset the prev_str\n",
    "\t\t\t\treturned_str, ending_pos = self.dfs(position+1, s, prev_num=0, prev_str=\"\")\n",
    "\t\t\t\t#backtrack\n",
    "\t\t\t\tprev_str = prev_str + returned_str*prev_num\n",
    "\t\t\t\tposition = ending_pos\n",
    "\t\t\t\tprev_num = 0\n",
    "\t\t\t#return the result\n",
    "\t\t\telif s[position] == ']':\n",
    "\t\t\t\treturn prev_str, position\n",
    "\t\t\telse:\n",
    "\t\t\t\tprev_str += s[position]\n",
    "\t\t\tposition += 1\n",
    "\t\treturn prev_str, position\n"
   ]
  },
  {
   "cell_type": "code",
   "execution_count": null,
   "metadata": {},
   "outputs": [],
   "source": []
  }
 ],
 "metadata": {
  "kernelspec": {
   "display_name": "Python 3",
   "language": "python",
   "name": "python3"
  },
  "language_info": {
   "codemirror_mode": {
    "name": "ipython",
    "version": 3
   },
   "file_extension": ".py",
   "mimetype": "text/x-python",
   "name": "python",
   "nbconvert_exporter": "python",
   "pygments_lexer": "ipython3",
   "version": "3.7.4"
  }
 },
 "nbformat": 4,
 "nbformat_minor": 2
}
