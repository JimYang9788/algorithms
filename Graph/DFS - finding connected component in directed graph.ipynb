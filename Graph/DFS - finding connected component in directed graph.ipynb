{
 "cells": [
  {
   "cell_type": "code",
   "execution_count": null,
   "metadata": {},
   "outputs": [],
   "source": [
    "class Solution:\n",
    "    def countComponents(self, n: int, edges: List[List[int]]) -> int:\n",
    "        \n",
    "        def findComponent (node):\n",
    "            if node in visited:\n",
    "                return \n",
    "            visited.add (node)\n",
    "            for neighbour in graph[node]:\n",
    "                findComponent (neighbour)\n",
    "            return \n",
    "        \n",
    "        \n",
    "        graph = {i:[] for i in range(0,n)}\n",
    "        \n",
    "        for edge in edges:\n",
    "            graph[edge[0]].append (edge[1])\n",
    "            graph[edge[1]].append (edge[0])\n",
    "            \n",
    "        visited = set()\n",
    "        connectedComponent = 0 \n",
    "        \n",
    "        \n",
    "        \n",
    "        \n",
    "        for i in range (0, n):\n",
    "            if i not in visited:\n",
    "                findComponent(i)\n",
    "                connectedComponent += 1 \n",
    "        return connectedComponent"
   ]
  }
 ],
 "metadata": {
  "kernelspec": {
   "display_name": "Python 3",
   "language": "python",
   "name": "python3"
  },
  "language_info": {
   "codemirror_mode": {
    "name": "ipython",
    "version": 3
   },
   "file_extension": ".py",
   "mimetype": "text/x-python",
   "name": "python",
   "nbconvert_exporter": "python",
   "pygments_lexer": "ipython3",
   "version": "3.7.4"
  }
 },
 "nbformat": 4,
 "nbformat_minor": 2
}
