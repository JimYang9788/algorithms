{
 "cells": [
  {
   "cell_type": "code",
   "execution_count": null,
   "metadata": {},
   "outputs": [],
   "source": [
    "class Solution:\n",
    "    def findItinerary(self, tickets: List[List[str]]) -> List[str]:\n",
    "        # backtracking \n",
    "        \n",
    "        # Construct Adjacency list\n",
    "        graph = defaultdict (list)\n",
    "        for edge in tickets:\n",
    "            graph[edge[0]].append (edge[1])\n",
    "        \n",
    "        totalEdge = len(tickets)\n",
    "        \n",
    "        for k in graph.keys():\n",
    "            graph[k].sort()\n",
    "            \n",
    "        \n",
    "        \n",
    "\n",
    "        def dfs (node, output, edgeUsed):\n",
    "            # Terminate condition\n",
    "            if edgeUsed == totalEdge:\n",
    "                return True\n",
    "            \n",
    "            for i in range (len (graph[node])):\n",
    "                \n",
    "                neighbour = graph[node][i]\n",
    "                \n",
    "                del graph[node][i]\n",
    "                output.append (neighbour)\n",
    "                \n",
    "                if dfs (neighbour, output, edgeUsed + 1):\n",
    "                    return True \n",
    "                \n",
    "                output.pop()\n",
    "                graph[node].insert (i, neighbour)\n",
    "            \n",
    "            \n",
    "            return False \n",
    "        \n",
    "\n",
    "        if not tickets:\n",
    "            return []\n",
    "        \n",
    "        \n",
    "        output = ['JFK']\n",
    "        dfs ('JFK', output, 0)\n",
    "        \n",
    "        return output \n",
    "        "
   ]
  }
 ],
 "metadata": {
  "kernelspec": {
   "display_name": "Python 3",
   "language": "python",
   "name": "python3"
  },
  "language_info": {
   "codemirror_mode": {
    "name": "ipython",
    "version": 3
   },
   "file_extension": ".py",
   "mimetype": "text/x-python",
   "name": "python",
   "nbconvert_exporter": "python",
   "pygments_lexer": "ipython3",
   "version": "3.7.4"
  }
 },
 "nbformat": 4,
 "nbformat_minor": 2
}
