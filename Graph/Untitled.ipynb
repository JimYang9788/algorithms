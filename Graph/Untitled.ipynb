{
 "cells": [
  {
   "cell_type": "code",
   "execution_count": 14,
   "metadata": {},
   "outputs": [],
   "source": [
    "def solution (A,M):\n",
    "    visited = set()\n",
    "    max_size = 0\n",
    "    for index_i, i in enumerate (A):\n",
    "        # Do a DFS on each node \n",
    "        if index_i in visited:\n",
    "            continue \n",
    "            \n",
    "        current_set = []\n",
    "        current_set.append (i)\n",
    "\n",
    "        for index_j, j in  enumerate (A):\n",
    "            if index_i == index_j:\n",
    "                continue \n",
    "            if abs (current_set[0] - j) % M == 0:\n",
    "                # we found a new neighbour \n",
    "                current_set.append (j)\n",
    "                visited.add (index_j)\n",
    "        \n",
    "        visited.add (index_i)\n",
    "        max_size = max(max_size, len(current_set))  \n",
    "        \n",
    "    \n",
    "    return max_size"
   ]
  },
  {
   "cell_type": "code",
   "execution_count": 15,
   "metadata": {},
   "outputs": [
    {
     "name": "stdout",
     "output_type": "stream",
     "text": [
      "[-3, 0]\n",
      "[-2, 1, 7, 1]\n",
      "[8]\n"
     ]
    },
    {
     "data": {
      "text/plain": [
       "4"
      ]
     },
     "execution_count": 15,
     "metadata": {},
     "output_type": "execute_result"
    }
   ],
   "source": [
    "solution([-3,-2,1,0,8,7,1],3)"
   ]
  },
  {
   "cell_type": "code",
   "execution_count": null,
   "metadata": {},
   "outputs": [],
   "source": []
  }
 ],
 "metadata": {
  "kernelspec": {
   "display_name": "Python 3",
   "language": "python",
   "name": "python3"
  },
  "language_info": {
   "codemirror_mode": {
    "name": "ipython",
    "version": 3
   },
   "file_extension": ".py",
   "mimetype": "text/x-python",
   "name": "python",
   "nbconvert_exporter": "python",
   "pygments_lexer": "ipython3",
   "version": "3.7.4"
  }
 },
 "nbformat": 4,
 "nbformat_minor": 2
}
