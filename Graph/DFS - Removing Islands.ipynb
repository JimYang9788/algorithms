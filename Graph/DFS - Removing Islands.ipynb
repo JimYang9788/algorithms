{
 "cells": [
  {
   "cell_type": "code",
   "execution_count": null,
   "metadata": {},
   "outputs": [],
   "source": [
    "def removeIslands(matrix):\n",
    "    # Write your code here.\n",
    "\t\n",
    "\t# Check trivial base case here \n",
    "\tm = len(matrix)\n",
    "\tn = len(matrix[0])\n",
    "\t\n",
    "\t\n",
    "\tdef is_border(i,j):\n",
    "\t\tif i < 0 or i > m-1 or j < 0 or j > n-1:\n",
    "\t\t\treturn False \n",
    "\t\tif matrix[i][j] != 1:\n",
    "\t\t\treturn False\n",
    "\t\tif i == 0 or i == m-1 or j == 0 or j == n-1:\n",
    "\t\t\treturn True \n",
    "\t\t\n",
    "\t\tmatrix[i][j] = 2 # currently being visited\n",
    "\t\t\n",
    "\t\tif is_border(i-1,j) or is_border(i+1,j) or is_border(i,j-1) or is_border(i,j+1):\n",
    "\t\t\tmatrix[i][j] = 1 \n",
    "\t\t\treturn True \n",
    "\t\telse:\n",
    "\t\t\tmatrix[i][j] = 1 \n",
    "\t\t\treturn False\n",
    "\t\n",
    "\tdef dfs_set (i,j):\n",
    "\t\tif i < 0 or i > m-1 or j < 0 or j > n-1:\n",
    "\t\t\treturn False \n",
    "\t\tif matrix[i][j] == 1:\n",
    "\t\t\tmatrix[i][j] = 0 \n",
    "\t\t\tdfs_set (i+1, j)\n",
    "\t\t\tdfs_set (i-1, j)\n",
    "\t\t\tdfs_set (i, j+1)\n",
    "\t\t\tdfs_set (i, j-1)\n",
    "\t \n",
    "\n",
    "\tfor i in range(m):\n",
    "\t\tfor j in range (n):\n",
    "\t\t\tif is_border (i,j):\n",
    "\t\t\t\tcontinue \n",
    "\t\t\telse:\n",
    "\t\t\t\tdfs_set(i,j)\n",
    "\n",
    "    return matrix\n"
   ]
  }
 ],
 "metadata": {
  "kernelspec": {
   "display_name": "Python 3",
   "language": "python",
   "name": "python3"
  },
  "language_info": {
   "codemirror_mode": {
    "name": "ipython",
    "version": 3
   },
   "file_extension": ".py",
   "mimetype": "text/x-python",
   "name": "python",
   "nbconvert_exporter": "python",
   "pygments_lexer": "ipython3",
   "version": "3.7.4"
  }
 },
 "nbformat": 4,
 "nbformat_minor": 2
}
