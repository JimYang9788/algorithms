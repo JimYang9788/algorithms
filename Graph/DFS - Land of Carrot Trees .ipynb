{
 "cells": [
  {
   "cell_type": "code",
   "execution_count": 6,
   "metadata": {},
   "outputs": [],
   "source": [
    "def build_graph (n=8, query=4, edges=[[1,2],[6,3],[6,7],[4,2],[2,5],[3,1],[8,6]]):\n",
    "    '''\n",
    "    Return Adjacency List\n",
    "    '''\n",
    "    graph = {}\n",
    "    for i in range (1,n+1):\n",
    "        graph[i] = []\n",
    "        \n",
    "    for e in edges:\n",
    "        graph[e[0]].append (e[1])\n",
    "        graph[e[1]].append (e[0])\n",
    "    \n",
    "    return graph     "
   ]
  },
  {
   "cell_type": "code",
   "execution_count": 42,
   "metadata": {},
   "outputs": [],
   "source": [
    "graph = build_graph()"
   ]
  },
  {
   "cell_type": "code",
   "execution_count": 52,
   "metadata": {},
   "outputs": [],
   "source": [
    "def count_valid_subtrees(graph=graph, labels=[2,1,2,1,1,3,3,2],  root = 5, k = 2, visited = set()):\n",
    "    # Count number of valid subtress rooted at root \n",
    "    count = 0 \n",
    "    distinct_labels = set()\n",
    "    distinct_labels.add (labels[root-1])\n",
    "    \n",
    "    visited.add (root)\n",
    "    \n",
    "    for child in graph[root]:\n",
    "        if child in visited:\n",
    "            continue \n",
    "        child_count, child_set = count_valid_subtrees(graph, labels,child, k, visited)\n",
    "        count += child_count \n",
    "        distinct_labels = distinct_labels.union (child_set)\n",
    "\n",
    "    if len(distinct_labels) >= k:\n",
    "        count += 1\n",
    "\n",
    "    return count , distinct_labels"
   ]
  },
  {
   "cell_type": "code",
   "execution_count": 53,
   "metadata": {},
   "outputs": [
    {
     "data": {
      "text/plain": [
       "5"
      ]
     },
     "execution_count": 53,
     "metadata": {},
     "output_type": "execute_result"
    }
   ],
   "source": [
    "count_valid_subtrees()[0]"
   ]
  },
  {
   "cell_type": "code",
   "execution_count": null,
   "metadata": {},
   "outputs": [],
   "source": []
  }
 ],
 "metadata": {
  "kernelspec": {
   "display_name": "Python 3",
   "language": "python",
   "name": "python3"
  },
  "language_info": {
   "codemirror_mode": {
    "name": "ipython",
    "version": 3
   },
   "file_extension": ".py",
   "mimetype": "text/x-python",
   "name": "python",
   "nbconvert_exporter": "python",
   "pygments_lexer": "ipython3",
   "version": "3.7.4"
  }
 },
 "nbformat": 4,
 "nbformat_minor": 2
}
