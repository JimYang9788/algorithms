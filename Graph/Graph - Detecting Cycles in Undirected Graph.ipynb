{
 "cells": [
  {
   "cell_type": "code",
   "execution_count": null,
   "metadata": {},
   "outputs": [],
   "source": [
    "class Solution:\n",
    "    def validTree(self, n: int, edges: List[List[int]]) -> bool:\n",
    "        ## RC ##\n",
    "        ## APPROACH : GRAPH / DFS ##\n",
    "        # Detect cycle in UN-DIRECTED Graph ##\n",
    "        ## https://www.youtube.com/watch?v=n_t0a_8H8VY\n",
    "\t\t\n",
    "\t\t## TIME COMPLEXITY : O(N) ##\n",
    "\t\t## SPACE COMPLEXITY : O(N) ##\n",
    "\n",
    "        def detect_cycle(node, visited, parent):\n",
    "            visited.add(node)\n",
    "            for child in graph[node]:\n",
    "                if(child == parent): continue\n",
    "                if(child in visited or detect_cycle(child, visited, node)):         # Current node is now parent\n",
    "                        return True\n",
    "            return False       \n",
    "        \n",
    "        if(n <= 0 or len(edges) != n - 1): return False\n",
    "        graph = collections.defaultdict(list)\n",
    "        for u, v in edges:\n",
    "            graph[u].append(v)              \n",
    "            graph[v].append(u)           \n",
    "        visited = set()\n",
    "        if(detect_cycle(0, visited, -1)):      # Initially starting with parent -1\n",
    "            return False                       # If cycle is detected directly return False\n",
    "        return len(visited) == n               # No Cycle and all edges are in the graoh, then it is tree."
   ]
  }
 ],
 "metadata": {
  "kernelspec": {
   "display_name": "Python 3",
   "language": "python",
   "name": "python3"
  },
  "language_info": {
   "codemirror_mode": {
    "name": "ipython",
    "version": 3
   },
   "file_extension": ".py",
   "mimetype": "text/x-python",
   "name": "python",
   "nbconvert_exporter": "python",
   "pygments_lexer": "ipython3",
   "version": "3.7.4"
  }
 },
 "nbformat": 4,
 "nbformat_minor": 2
}
