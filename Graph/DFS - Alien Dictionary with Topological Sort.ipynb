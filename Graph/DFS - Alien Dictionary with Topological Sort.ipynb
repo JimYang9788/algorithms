{
 "cells": [
  {
   "cell_type": "code",
   "execution_count": 1,
   "metadata": {},
   "outputs": [],
   "source": [
    "class Solution:\n",
    "\n",
    "    def alienOrder(self, words):\n",
    "        # Step 0: Put all unique letters into the adj list.\n",
    "        reverse_adj_list = {c : [] for word in words for c in word}\n",
    "\n",
    "        # Step 1: Find all edges and put them in reverse_adj_list.\n",
    "        for first_word, second_word in zip(words, words[1:]):\n",
    "            for c, d in zip(first_word, second_word):\n",
    "                if c != d: \n",
    "                    reverse_adj_list[d].append(c)\n",
    "                    break\n",
    "            else: # Check that second word isn't a prefix of first word.\n",
    "                if len(second_word) < len(first_word): \n",
    "                    return \"\"\n",
    "\n",
    "        # Step 2: Depth-first search.\n",
    "        # Topological Sort \n",
    "        seen = {} # False = grey, True = black.\n",
    "        output = []\n",
    "        def visit(node):  # Return True iff there are no cycles.\n",
    "            if node in seen:\n",
    "                return seen[node] # If this node was grey (False), a cycle was detected.\n",
    "            seen[node] = False # Mark node as grey.\n",
    "            for next_node in reverse_adj_list[node]:\n",
    "                result = visit(next_node)\n",
    "                if not result: \n",
    "                    return False # Cycle was detected lower down.\n",
    "            seen[node] = True # Mark node as black.\n",
    "            output.append(node)\n",
    "            return True\n",
    "\n",
    "        if not all(visit(node) for node in reverse_adj_list):\n",
    "            return \"\"\n",
    "\n",
    "        return \"\".join(output)"
   ]
  },
  {
   "cell_type": "code",
   "execution_count": 7,
   "metadata": {},
   "outputs": [
    {
     "name": "stdout",
     "output_type": "stream",
     "text": [
      "1 1 cool\n"
     ]
    }
   ],
   "source": [
    "for a,b,c in zip([1,2,3,4,5,4],[1,2,3],['cool']):\n",
    "    print (a,b,c)"
   ]
  },
  {
   "cell_type": "code",
   "execution_count": null,
   "metadata": {},
   "outputs": [],
   "source": []
  }
 ],
 "metadata": {
  "kernelspec": {
   "display_name": "Python 3",
   "language": "python",
   "name": "python3"
  },
  "language_info": {
   "codemirror_mode": {
    "name": "ipython",
    "version": 3
   },
   "file_extension": ".py",
   "mimetype": "text/x-python",
   "name": "python",
   "nbconvert_exporter": "python",
   "pygments_lexer": "ipython3",
   "version": "3.7.4"
  }
 },
 "nbformat": 4,
 "nbformat_minor": 2
}
