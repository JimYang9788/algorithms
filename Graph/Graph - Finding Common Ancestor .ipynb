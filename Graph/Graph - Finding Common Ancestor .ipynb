{
 "cells": [
  {
   "cell_type": "code",
   "execution_count": null,
   "metadata": {},
   "outputs": [],
   "source": [
    "# This is an input class. Do not edit.\n",
    "class AncestralTree:\n",
    "    def __init__(self, name):\n",
    "        self.name = name\n",
    "        self.ancestor = None\n",
    "\n",
    "\n",
    "def getYoungestCommonAncestor(topAncestor, descendantOne, descendantTwo):\n",
    "    # Write your code here.\n",
    "    d1 = getDepth(descendantOne, topAncestor)\n",
    "\td2 = getDepth(descendantTwo, topAncestor)\n",
    "\tif d1 > d2:\n",
    "\t\treturn backtrack(descendantOne, descendantTwo, d1-d2)\n",
    "\telse:\n",
    "\t\treturn backtrack(descendantTwo, descendantOne, d2-d1)\n",
    "\n",
    "def getDepth(descendant, topAncestor):\n",
    "\tdepth = 0\n",
    "\twhile descendant != topAncestor:\n",
    "\t\tdepth += 1 \n",
    "\t\tdescendant = descendant.ancestor \n",
    "\treturn depth \n",
    "\n",
    "def backtrack (low, high, diff):\n",
    "\twhile diff > 0:\n",
    "\t\tlow = low.ancestor\n",
    "\t\tdiff -= 1 \n",
    "\twhile low != high:\n",
    "\t\tlow = low.ancestor\n",
    "\t\thigh = high.ancestor \n",
    "\treturn low \n"
   ]
  }
 ],
 "metadata": {
  "kernelspec": {
   "display_name": "Python 3",
   "language": "python",
   "name": "python3"
  },
  "language_info": {
   "codemirror_mode": {
    "name": "ipython",
    "version": 3
   },
   "file_extension": ".py",
   "mimetype": "text/x-python",
   "name": "python",
   "nbconvert_exporter": "python",
   "pygments_lexer": "ipython3",
   "version": "3.7.4"
  }
 },
 "nbformat": 4,
 "nbformat_minor": 2
}
