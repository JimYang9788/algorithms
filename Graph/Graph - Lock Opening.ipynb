{
 "cells": [
  {
   "cell_type": "code",
   "execution_count": null,
   "metadata": {},
   "outputs": [],
   "source": [
    "class Solution:\n",
    "    def openLock(self, deadends: List[str], target: str) -> int:\n",
    "        \n",
    "        # Use BFS \n",
    "        \n",
    "        \n",
    "        def addOne (c):\n",
    "            if c == '9':\n",
    "                return '0'\n",
    "            else:\n",
    "                return str(int (c) + 1)\n",
    "        \n",
    "        def minusOne (c):\n",
    "            if c == '0':\n",
    "                return '9'\n",
    "            else:\n",
    "                return str(int (c) - 1)\n",
    "            \n",
    "        def getNeighbour (lock):\n",
    "            # Ret a list of reachable comb\n",
    "            res = []\n",
    "            for i in range (len(lock)):\n",
    "                res.append (lock[:i] + addOne(lock[i]) + lock[i+1:])                \n",
    "                res.append (lock[:i] + minusOne(lock[i]) + lock[i+1:])               \n",
    "            return res\n",
    "        \n",
    "    \n",
    "        \n",
    "        queue = [\"0000\"] \n",
    "            \n",
    "        visited = set()\n",
    "        step = 0 \n",
    "        \n",
    "        while (queue):\n",
    "            length = len (queue)\n",
    "            for i in range (length):\n",
    "                curnode = queue.pop(0)\n",
    "                if curnode in deadends:\n",
    "                    continue                 \n",
    "                if curnode == target:\n",
    "                    return step\n",
    "                for neighbour in getNeighbour(curnode):\n",
    "                    if neighbour not in visited:\n",
    "                        queue.append (neighbour)\n",
    "                        visited.add (neighbour)\n",
    "                \n",
    "            step += 1 \n",
    "            \n",
    "        return -1     \n",
    "                \n",
    "                    \n",
    "                "
   ]
  }
 ],
 "metadata": {
  "kernelspec": {
   "display_name": "Python 3",
   "language": "python",
   "name": "python3"
  },
  "language_info": {
   "codemirror_mode": {
    "name": "ipython",
    "version": 3
   },
   "file_extension": ".py",
   "mimetype": "text/x-python",
   "name": "python",
   "nbconvert_exporter": "python",
   "pygments_lexer": "ipython3",
   "version": "3.7.4"
  }
 },
 "nbformat": 4,
 "nbformat_minor": 2
}
