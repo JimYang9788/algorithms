{
 "cells": [
  {
   "cell_type": "code",
   "execution_count": 2,
   "metadata": {},
   "outputs": [],
   "source": [
    "class Node:\n",
    "    def __init__(self, name):\n",
    "        self.children = []\n",
    "        self.name = name\n",
    "\n",
    "    def addChild(self, name):\n",
    "        self.children.append(Node(name))\n",
    "        return self\n",
    "\n",
    "    def breadthFirstSearch(self, array):\n",
    "\n",
    "        queue = []\n",
    "        array.append(self.name)\n",
    "        for node in self.children:\n",
    "            queue.append(node)\n",
    "\n",
    "        while queue:\n",
    "            top = queue.pop(0)\n",
    "            array.append(top.name)\n",
    "            for neighbour in top.children:\n",
    "                queue.append(neighbour)\n",
    "\n",
    "        return array"
   ]
  },
  {
   "cell_type": "code",
   "execution_count": 4,
   "metadata": {},
   "outputs": [],
   "source": [
    "# Do not edit the class below except\n",
    "# for the breadthFirstSearch method.\n",
    "# Feel free to add new properties\n",
    "# and methods to the class.\n",
    "class Node:\n",
    "    def __init__(self, name):\n",
    "        self.children = []\n",
    "        self.name = name\n",
    "\n",
    "    def addChild(self, name):\n",
    "        self.children.append(Node(name))\n",
    "        return self\n",
    "\n",
    "    def breadthFirstSearch(self, array):\n",
    "        # Write your code here.\n",
    "        def bfs (level):\n",
    "            if level == []:\n",
    "                return \n",
    "            newlevel = []\n",
    "            for node in level:\n",
    "                array.append(node.name)\n",
    "                newlevel += node.children\n",
    "            return bfs (newlevel)\n",
    "        bfs ([self])\n",
    "\n",
    "        return array "
   ]
  }
 ],
 "metadata": {
  "kernelspec": {
   "display_name": "Python 3",
   "language": "python",
   "name": "python3"
  },
  "language_info": {
   "codemirror_mode": {
    "name": "ipython",
    "version": 3
   },
   "file_extension": ".py",
   "mimetype": "text/x-python",
   "name": "python",
   "nbconvert_exporter": "python",
   "pygments_lexer": "ipython3",
   "version": "3.7.4"
  }
 },
 "nbformat": 4,
 "nbformat_minor": 2
}
