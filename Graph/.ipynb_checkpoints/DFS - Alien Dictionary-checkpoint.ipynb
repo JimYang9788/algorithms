{
 "cells": [
  {
   "cell_type": "code",
   "execution_count": 6,
   "metadata": {},
   "outputs": [],
   "source": [
    "class Solution:\n",
    "    def alienOrder(self, words):\n",
    "        if not words: return \"\"\n",
    "        \n",
    "        res = []\n",
    "         \n",
    "        # Think this recursively\n",
    "        # 一旦compare过了第一个字母以后，就把相同开头\n",
    "        # 的词组全部分成一类，然后recursively return结果\n",
    "        \n",
    "        for word in words:\n",
    "            if res == [] or word[0] != res[-1]:\n",
    "                res.append (word[0])\n",
    "\n",
    "        \n",
    "#         for word in range(0,len(words)):\n",
    "#             if i == 0 or words[i][0] == words[i-1][0]:\n",
    "#                 if word[1:] != \"\": \n",
    "#         subProblem.append (word[i][1:])     \n",
    "#             else:\n",
    "#                 if word[1:] != \"\":\n",
    "                    \n",
    "#                     subProblem =  [word[i][1:]]"
   ]
  },
  {
   "cell_type": "code",
   "execution_count": 7,
   "metadata": {},
   "outputs": [],
   "source": [
    "test = Solution()\n",
    "test.alienOrder ([\"word\",\"werd\"])"
   ]
  },
  {
   "cell_type": "code",
   "execution_count": null,
   "metadata": {},
   "outputs": [],
   "source": []
  }
 ],
 "metadata": {
  "kernelspec": {
   "display_name": "Python 3",
   "language": "python",
   "name": "python3"
  },
  "language_info": {
   "codemirror_mode": {
    "name": "ipython",
    "version": 3
   },
   "file_extension": ".py",
   "mimetype": "text/x-python",
   "name": "python",
   "nbconvert_exporter": "python",
   "pygments_lexer": "ipython3",
   "version": "3.7.4"
  }
 },
 "nbformat": 4,
 "nbformat_minor": 2
}
