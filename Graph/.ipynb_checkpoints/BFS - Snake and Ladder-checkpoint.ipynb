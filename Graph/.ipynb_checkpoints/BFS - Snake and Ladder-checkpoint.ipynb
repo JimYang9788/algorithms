{
 "cells": [
  {
   "cell_type": "code",
   "execution_count": null,
   "metadata": {},
   "outputs": [],
   "source": [
    "class Solution(object):\n",
    "\n",
    "    def node_to_rc (self, node,board,n):\n",
    "        quot, rem = divmod (node-1,n)\n",
    "        if quot % 2 == 0:\n",
    "            c = rem \n",
    "        else:\n",
    "            c = n - rem - 1 \n",
    "        r = n - quot - 1\n",
    "        return r  , c \n",
    "    \n",
    "\n",
    "    def snakesAndLadders(self, board):\n",
    "        if not board or not board[0]:\n",
    "            return 0 \n",
    "        \n",
    "        queue = []\n",
    "        steps = 0 \n",
    "        n = len(board)\n",
    "        visited = set()\n",
    "        visited.add (1)\n",
    "        queue.append (1)\n",
    "        while (queue):\n",
    "            length = len(queue)\n",
    "            for i in range (length):\n",
    "                curnode = queue.pop (0)\n",
    "                if curnode == n * n:\n",
    "                    return steps \n",
    "                for x in range (1,7):\n",
    "                    if curnode + x > n * n:\n",
    "                        continue \n",
    "                    r,c = self.node_to_rc (curnode + x, board, n)\n",
    "                    if board[r][c] != -1 and  board[r][c] <= n*n:\n",
    "                        if board[r][c] not in visited:\n",
    "                            queue.append (board[r][c])\n",
    "                            visited.add (board[r][c])\n",
    "                    else:\n",
    "                        if curnode + x not in visited:\n",
    "                            queue.append (curnode + x)\n",
    "                            visited.add (curnode + x)\n",
    "            steps += 1 \n",
    "            \n",
    "        return -1 \n",
    "                    \n",
    "            \n",
    "        \n",
    "        \n",
    "                \n",
    "        "
   ]
  }
 ],
 "metadata": {
  "kernelspec": {
   "display_name": "Python 3",
   "language": "python",
   "name": "python3"
  },
  "language_info": {
   "codemirror_mode": {
    "name": "ipython",
    "version": 3
   },
   "file_extension": ".py",
   "mimetype": "text/x-python",
   "name": "python",
   "nbconvert_exporter": "python",
   "pygments_lexer": "ipython3",
   "version": "3.7.4"
  }
 },
 "nbformat": 4,
 "nbformat_minor": 2
}
