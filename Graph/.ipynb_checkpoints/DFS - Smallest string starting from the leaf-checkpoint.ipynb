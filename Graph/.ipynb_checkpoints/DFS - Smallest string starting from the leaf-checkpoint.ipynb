{
 "cells": [
  {
   "cell_type": "code",
   "execution_count": null,
   "metadata": {},
   "outputs": [],
   "source": [
    "# Definition for a binary tree node.\n",
    "# class TreeNode:\n",
    "#     def __init__(self, val=0, left=None, right=None):\n",
    "#         self.val = val\n",
    "#         self.left = left\n",
    "#         self.right = right\n",
    "class Solution:\n",
    "    def smallestFromLeaf(self, root: TreeNode) -> str:\n",
    "        \n",
    "        \n",
    "        def dfs (root, currentPath):\n",
    "            if not root: return \n",
    "\n",
    "            nonlocal res\n",
    "            currentPath = chr (root.val + 97) + currentPath \n",
    "            \n",
    "            \n",
    "            if not root.left and not root.right:\n",
    "                if not res: \n",
    "                    res = currentPath\n",
    "                elif currentPath < res :\n",
    "                    res = currentPath \n",
    "            \n",
    "            dfs (root.left, currentPath)\n",
    "            dfs (root.right, currentPath)\n",
    "        \n",
    "        res = \"\"\n",
    "        dfs (root, \"\")\n",
    "        return res "
   ]
  }
 ],
 "metadata": {
  "kernelspec": {
   "display_name": "Python 3",
   "language": "python",
   "name": "python3"
  },
  "language_info": {
   "codemirror_mode": {
    "name": "ipython",
    "version": 3
   },
   "file_extension": ".py",
   "mimetype": "text/x-python",
   "name": "python",
   "nbconvert_exporter": "python",
   "pygments_lexer": "ipython3",
   "version": "3.7.4"
  }
 },
 "nbformat": 4,
 "nbformat_minor": 2
}
