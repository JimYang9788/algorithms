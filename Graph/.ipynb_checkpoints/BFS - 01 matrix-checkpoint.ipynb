{
 "cells": [
  {
   "cell_type": "code",
   "execution_count": null,
   "metadata": {},
   "outputs": [],
   "source": [
    "class Solution:\n",
    "    def updateMatrix(self, mat: List[List[int]]) -> List[List[int]]:\n",
    "        \n",
    "        \n",
    "        def shortestDistance (i, j, mat):\n",
    "            neighbours = [(0,1),(0,-1),(1,0),(-1,0)]\n",
    "            distance = 0\n",
    "            queue = []\n",
    "            queue.append((i,j))\n",
    "            visited = set ()\n",
    "            visited.add ((i,j))\n",
    "            while (queue):\n",
    "                length = len(queue)\n",
    "                for _ in range (length):\n",
    "                    x,y = queue.pop(0)\n",
    "                    visited.add ((x,y))\n",
    "                    if mat[x][y] == 0:\n",
    "                        return distance  \n",
    "                    else:\n",
    "                        for dir_x,dir_y in neighbours:\n",
    "                            new_x = x + dir_x\n",
    "                            new_y = y + dir_y\n",
    "                            if 0 <= new_x < m and 0 <= new_y < n and (new_x,new_y) not in visited:\n",
    "                                queue.append ((new_x, new_y))\n",
    "                distance += 1  \n",
    "            return distance \n",
    "        \n",
    "        if not mat:\n",
    "            return mat \n",
    "        \n",
    "        m,n = len(mat), len(mat[0])\n",
    "        res = [[0 for i in range (n)] for j in range (m)]\n",
    "        for i in range (m):\n",
    "            for j in range (n):\n",
    "                if mat[i][j] != 0:\n",
    "                    res[i][j] = shortestDistance(i,j,mat)\n",
    "        \n",
    "        return res \n",
    "                    \n",
    "                    \n",
    "                "
   ]
  }
 ],
 "metadata": {
  "kernelspec": {
   "display_name": "Python 3",
   "language": "python",
   "name": "python3"
  },
  "language_info": {
   "codemirror_mode": {
    "name": "ipython",
    "version": 3
   },
   "file_extension": ".py",
   "mimetype": "text/x-python",
   "name": "python",
   "nbconvert_exporter": "python",
   "pygments_lexer": "ipython3",
   "version": "3.7.4"
  }
 },
 "nbformat": 4,
 "nbformat_minor": 2
}
