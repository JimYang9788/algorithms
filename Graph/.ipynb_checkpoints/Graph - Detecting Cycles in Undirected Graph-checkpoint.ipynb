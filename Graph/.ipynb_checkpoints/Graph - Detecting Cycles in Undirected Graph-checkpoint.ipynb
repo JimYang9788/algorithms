{
 "cells": [
  {
   "cell_type": "code",
   "execution_count": 2,
   "metadata": {},
   "outputs": [],
   "source": [
    "class Solution:\n",
    "    def validTree(self, n: int, edges):\n",
    "        ## RC ##\n",
    "        ## APPROACH : GRAPH / DFS ##\n",
    "        # Detect cycle in UN-DIRECTED Graph ##\n",
    "        ## https://www.youtube.com/watch?v=n_t0a_8H8VY\n",
    "\t\t\n",
    "\t\t## TIME COMPLEXITY : O(N) ##\n",
    "\t\t## SPACE COMPLEXITY : O(N) ##\n",
    "\n",
    "        def detect_cycle(node, visited, parent):\n",
    "            visited.add(node)\n",
    "            for child in graph[node]:\n",
    "                if(child == parent): continue\n",
    "                if(child in visited or detect_cycle(child, visited, node)):         # Current node is now parent\n",
    "                        return True\n",
    "            return False       \n",
    "        \n",
    "        if(n <= 0 or len(edges) != n - 1): return False\n",
    "        graph = collections.defaultdict(list)\n",
    "        for u, v in edges:\n",
    "            graph[u].append(v)              \n",
    "            graph[v].append(u)           \n",
    "        visited = set()\n",
    "        if(detect_cycle(0, visited, -1)):      # Initially starting with parent -1\n",
    "            return False                       # If cycle is detected directly return False\n",
    "        return len(visited) == n               # No Cycle and all edges are in the graoh, then it is tree."
   ]
  },
  {
   "cell_type": "code",
   "execution_count": 4,
   "metadata": {},
   "outputs": [],
   "source": [
    "class Solution:\n",
    "    def validTree(self, n: int, edges):\n",
    "        \n",
    "        if n == 0: return True\n",
    "        def containsCycle(node, parent):\n",
    "            if node in visited:\n",
    "                return True \n",
    "            \n",
    "            visited.add(node)\n",
    "            \n",
    "            for neighbour in graph[node]:\n",
    "                if neighbour == parent: continue \n",
    "                if containsCycle(neighbour, node):\n",
    "                    return True\n",
    "\n",
    "            return False \n",
    "   \n",
    "        graph = {i:[] for i in range (n)}\n",
    "        visited = set()\n",
    "        \n",
    "        for edge in edges:\n",
    "            # Set up undirected graph\n",
    "            graph[edge[0]].append (edge[1])\n",
    "            graph[edge[1]].append (edge[0])\n",
    "    \n",
    "        if containsCycle (0, -1):\n",
    "            return  False\n",
    "    \n",
    "        return visited == set(i for i in range (n))\n",
    "             \n",
    " "
   ]
  },
  {
   "cell_type": "code",
   "execution_count": null,
   "metadata": {},
   "outputs": [],
   "source": []
  }
 ],
 "metadata": {
  "kernelspec": {
   "display_name": "Python 3",
   "language": "python",
   "name": "python3"
  },
  "language_info": {
   "codemirror_mode": {
    "name": "ipython",
    "version": 3
   },
   "file_extension": ".py",
   "mimetype": "text/x-python",
   "name": "python",
   "nbconvert_exporter": "python",
   "pygments_lexer": "ipython3",
   "version": "3.7.4"
  }
 },
 "nbformat": 4,
 "nbformat_minor": 2
}
