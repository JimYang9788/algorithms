{
 "cells": [
  {
   "cell_type": "code",
   "execution_count": 2,
   "metadata": {},
   "outputs": [],
   "source": [
    "class Solution:\n",
    "    def removeStones(self, stones) -> int:\n",
    "        # 1. create a graph of nodes with adjacency list\n",
    "        \n",
    "        # 2. sort the graph based on the number of neighbours\n",
    "        \n",
    "        # 3. remove the node with least number of neighbours \n",
    "        \n",
    "        # 4. update the neighbours (all neighbour of the removed node, remove the removed node)\n",
    "        \n",
    "        # 5 res += 1 \n",
    "        \n",
    "        # 6 reurn res \n",
    "        \n",
    "        # O(n^2)\n",
    "        graph = defaultdict (list)\n",
    "        for stone in  stones:\n",
    "            for neighbour in stones:\n",
    "                if tuple(stone) != tuple(neighbour):\n",
    "                    if stone[0] == neighbour [0] or stone[1] == neighbour[1]:\n",
    "                        graph[tuple(stone)].append(tuple(neighbour))\n",
    "        \n",
    "\n",
    "        minHeap = []\n",
    "        for stone, adjacencyList in graph.items():\n",
    "            heapq.heappush(minHeap, (len(adjacencyList), stone))\n",
    "            \n",
    "        res = 0 \n",
    "\n",
    "        while minHeap:\n",
    "            removedLength,stone = heapq.heappop(minHeap)\n",
    "\n",
    "            if removedLength > 0:\n",
    "                # print (stone)\n",
    "                res += 1 \n",
    "            else:\n",
    "                break \n",
    "        \n",
    "            toBeUpdated = graph[stone]\n",
    "            for i in range(len(minHeap)):\n",
    "                if minHeap[i][1] in toBeUpdated:\n",
    "                    minHeap[i] = (minHeap[i][0]-1, minHeap[i][1])\n",
    "            heapq.heapify(minHeap)        \n",
    "        \n",
    "        \n",
    "        \n",
    "        return res "
   ]
  },
  {
   "cell_type": "code",
   "execution_count": 3,
   "metadata": {},
   "outputs": [],
   "source": [
    "# Problem:\n",
    "# we can remove a stone if and only if,\n",
    "# there is another stone in the same column OR row.\n",
    "# We try to remove as many as stones as possible.\n",
    "\n",
    "\n",
    "# One sentence to solve:\n",
    "# Connected stones can be reduced to 1 stone,\n",
    "# the maximum stones can be removed = stones number - islands number.\n",
    "# so just count the number of \"islands\"."
   ]
  },
  {
   "cell_type": "code",
   "execution_count": null,
   "metadata": {},
   "outputs": [],
   "source": []
  }
 ],
 "metadata": {
  "kernelspec": {
   "display_name": "Python 3",
   "language": "python",
   "name": "python3"
  },
  "language_info": {
   "codemirror_mode": {
    "name": "ipython",
    "version": 3
   },
   "file_extension": ".py",
   "mimetype": "text/x-python",
   "name": "python",
   "nbconvert_exporter": "python",
   "pygments_lexer": "ipython3",
   "version": "3.7.4"
  }
 },
 "nbformat": 4,
 "nbformat_minor": 2
}
