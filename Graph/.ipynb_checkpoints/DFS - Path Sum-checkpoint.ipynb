{
 "cells": [
  {
   "cell_type": "code",
   "execution_count": null,
   "metadata": {},
   "outputs": [],
   "source": [
    "# Definition for a binary tree node.\n",
    "# class TreeNode:\n",
    "#     def __init__(self, val=0, left=None, right=None):\n",
    "#         self.val = val\n",
    "#         self.left = left\n",
    "#         self.right = right\n",
    "class Solution:\n",
    "    def hasPathSum(self, root: TreeNode, targetSum: int) -> bool:\n",
    "        if not root:\n",
    "            return False \n",
    "        \n",
    "        \n",
    "        def dfs (node, targetSum):\n",
    "            \n",
    "            stack = []\n",
    "            stack.append ((node, targetSum))\n",
    "            \n",
    "            res = False \n",
    "            while stack:\n",
    "                node, targetSum = stack.pop ()\n",
    "                      \n",
    "                # Termination Condition \n",
    "                if not (node.right or node.left):\n",
    "                    res = res or (node.val == targetSum)\n",
    "                    if res: return res \n",
    "            \n",
    "                # DFS its neighbour \n",
    "                res = False \n",
    "\n",
    "                if node.right:\n",
    "                    stack.append ((node.right, targetSum - node.val))\n",
    "                    \n",
    "                if node.left:\n",
    "                    stack.append ((node.left, targetSum - node.val))\n",
    "\n",
    "            return res \n",
    "\n",
    "        res = dfs (root, targetSum)\n",
    "        \n",
    "        \n",
    "        return res "
   ]
  }
 ],
 "metadata": {
  "kernelspec": {
   "display_name": "Python 3",
   "language": "python",
   "name": "python3"
  },
  "language_info": {
   "codemirror_mode": {
    "name": "ipython",
    "version": 3
   },
   "file_extension": ".py",
   "mimetype": "text/x-python",
   "name": "python",
   "nbconvert_exporter": "python",
   "pygments_lexer": "ipython3",
   "version": "3.7.4"
  }
 },
 "nbformat": 4,
 "nbformat_minor": 2
}
