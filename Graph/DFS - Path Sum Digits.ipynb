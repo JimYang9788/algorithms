{
 "cells": [
  {
   "cell_type": "code",
   "execution_count": null,
   "metadata": {},
   "outputs": [],
   "source": [
    "class TreeNode:\n",
    "    def __init__(self, val, left=None, right=None):\n",
    "    self.val = val\n",
    "    self.left = left\n",
    "    self.right = right\n",
    "\n",
    "\n",
    "def find_sum_of_path_numbers(root):\n",
    "  # TODO: Write your code here\n",
    "\n",
    "    res = 0 \n",
    "    if not root: \n",
    "    return res \n",
    "    stack = [(root, 0)]\n",
    "    while stack:\n",
    "    node, val = stack.pop()\n",
    "    if not (node.left or node.right):\n",
    "        val = 10 * val + node.val      \n",
    "        res += val\n",
    "        continue \n",
    "    if node.left:\n",
    "        stack.append ( (node.left, 10 * val + node.val))\n",
    "    if node.right:\n",
    "        stack.append ( (node.right, 10 * val + node.val))\n",
    "\n",
    "    return res \n",
    "\n",
    "\n",
    "\n",
    "def main():\n",
    "    root = TreeNode(1)\n",
    "    root.left = TreeNode(0)\n",
    "    root.right = TreeNode(1)\n",
    "    root.left.left = TreeNode(1)\n",
    "    root.right.left = TreeNode(6)\n",
    "    root.right.right = TreeNode(5)\n",
    "    print(\"Total Sum of Path Numbers: \" + str(find_sum_of_path_numbers(root)))\n",
    "\n",
    "\n",
    "main()\n"
   ]
  },
  {
   "cell_type": "code",
   "execution_count": null,
   "metadata": {},
   "outputs": [],
   "source": [
    "main()\n"
   ]
  },
  {
   "cell_type": "code",
   "execution_count": null,
   "metadata": {},
   "outputs": [],
   "source": []
  }
 ],
 "metadata": {
  "kernelspec": {
   "display_name": "Python 3",
   "language": "python",
   "name": "python3"
  },
  "language_info": {
   "codemirror_mode": {
    "name": "ipython",
    "version": 3
   },
   "file_extension": ".py",
   "mimetype": "text/x-python",
   "name": "python",
   "nbconvert_exporter": "python",
   "pygments_lexer": "ipython3",
   "version": "3.7.4"
  }
 },
 "nbformat": 4,
 "nbformat_minor": 2
}
