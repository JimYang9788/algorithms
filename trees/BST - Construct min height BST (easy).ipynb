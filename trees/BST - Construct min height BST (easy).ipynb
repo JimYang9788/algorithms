{
 "cells": [
  {
   "cell_type": "code",
   "execution_count": null,
   "metadata": {},
   "outputs": [],
   "source": [
    "def minHeightBst(array):\n",
    "\t\n",
    "    def constructTree(array):\n",
    "\t\tif not array: \n",
    "\t\t\treturn None \n",
    "\n",
    "\t\tl, r = 0, len(array)-1\n",
    "\t\tm = (l+r) // 2\n",
    "\t\ttree = BST (array[m])\n",
    "\t\ttree.left = constructTree(array[:m])\n",
    "\t\ttree.right = constructTree(array[m+1:])\n",
    "\t\t\n",
    "\t\treturn tree \t\n",
    "\n",
    "\tarray.sort ()\n",
    "\treturn constructTree(array)\n",
    "\n",
    "\n",
    "class BST:\n",
    "    def __init__(self, value):\n",
    "        self.value = value\n",
    "        self.left = None\n",
    "        self.right = None\n",
    "\n",
    "    def insert(self, value):\n",
    "        if value < self.value:\n",
    "            if self.left is None:\n",
    "                self.left = BST(value)\n",
    "            else:\n",
    "                self.left.insert(value)\n",
    "        else:\n",
    "            if self.right is None:\n",
    "                self.right = BST(value)\n",
    "            else:\n",
    "                self.right.insert(value)\n"
   ]
  }
 ],
 "metadata": {
  "kernelspec": {
   "display_name": "Python 3",
   "language": "python",
   "name": "python3"
  },
  "language_info": {
   "codemirror_mode": {
    "name": "ipython",
    "version": 3
   },
   "file_extension": ".py",
   "mimetype": "text/x-python",
   "name": "python",
   "nbconvert_exporter": "python",
   "pygments_lexer": "ipython3",
   "version": "3.7.4"
  }
 },
 "nbformat": 4,
 "nbformat_minor": 2
}
