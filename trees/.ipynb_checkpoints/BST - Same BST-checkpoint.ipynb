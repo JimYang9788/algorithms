{
 "cells": [
  {
   "cell_type": "code",
   "execution_count": null,
   "metadata": {},
   "outputs": [],
   "source": [
    "def sameBsts(arrayOne, arrayTwo):\n",
    "\t\n",
    "\tdef traverse(array, cache):\n",
    "\t\t# O(n^2)\n",
    "\t\tseenSoFar = []\n",
    "\t\tfor i,val in enumerate(array):\n",
    "\t\t\tlow = float(\"-inf\")\n",
    "\t\t\thigh = float(\"inf\")\n",
    "\t\t\tfor num in seenSoFar:\n",
    "\t\t\t\tif num > val:\n",
    "\t\t\t\t\thigh = min (high, num)\n",
    "\t\t\t\telif num <= val:\n",
    "\t\t\t\t\tlow = max (low, num)\n",
    "\t\t\tkey = val \n",
    "\t\t\twhile key in cache:\n",
    "\t\t\t\tkey = str(key) + 'd'\n",
    "\t\t\tcache [key] = (low, high)\n",
    "\t\t\tseenSoFar.append(val)\n",
    "\t\t\t\n",
    "\tif len(arrayOne) != len(arrayTwo): return False \n",
    "\t\n",
    "\t\n",
    "    arrayOneCache = {}\n",
    "    arrayTwoCache = {}\n",
    "\n",
    "\ttraverse(arrayOne, arrayOneCache)\n",
    "\ttraverse(arrayTwo, arrayTwoCache)\n",
    "\t\n",
    "\tprint (sorted(arrayOne), sorted(arrayTwo))\n",
    "\tprint (arrayOneCache)\n",
    "\tprint (arrayTwoCache)\n",
    "\t\n",
    "\tfor num in arrayTwoCache:\n",
    "\t\tif num not in arrayOneCache:\n",
    "\t\t\treturn False \n",
    "\t\tif arrayTwoCache[num] != arrayOneCache[num]:\n",
    "\t\t\treturn False\n",
    "\t\n",
    "\treturn True \n",
    "\t\n",
    "\t\n",
    "\t\n",
    "\n"
   ]
  }
 ],
 "metadata": {
  "kernelspec": {
   "display_name": "Python 3",
   "language": "python",
   "name": "python3"
  },
  "language_info": {
   "codemirror_mode": {
    "name": "ipython",
    "version": 3
   },
   "file_extension": ".py",
   "mimetype": "text/x-python",
   "name": "python",
   "nbconvert_exporter": "python",
   "pygments_lexer": "ipython3",
   "version": "3.7.4"
  }
 },
 "nbformat": 4,
 "nbformat_minor": 2
}
