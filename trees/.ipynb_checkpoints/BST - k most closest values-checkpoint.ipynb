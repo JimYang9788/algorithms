{
 "cells": [
  {
   "cell_type": "code",
   "execution_count": null,
   "metadata": {},
   "outputs": [],
   "source": [
    "from heapq import heappush, heappop\n",
    "class Solution:\n",
    "    def closestKValues(self, root: TreeNode, target: float, k: int) -> List[int]:\n",
    "        def inorder(r: TreeNode):\n",
    "            if not r:\n",
    "                return\n",
    "            \n",
    "            inorder(r.left)\n",
    "            heappush(heap, (- abs(r.val - target), r.val))\n",
    "            if len(heap) > k:\n",
    "                heappop(heap)\n",
    "            inorder(r.right) \n",
    "    \n",
    "        heap = []\n",
    "        inorder(root)\n",
    "        return [x for _, x in heap]"
   ]
  }
 ],
 "metadata": {
  "kernelspec": {
   "display_name": "Python 3",
   "language": "python",
   "name": "python3"
  },
  "language_info": {
   "codemirror_mode": {
    "name": "ipython",
    "version": 3
   },
   "file_extension": ".py",
   "mimetype": "text/x-python",
   "name": "python",
   "nbconvert_exporter": "python",
   "pygments_lexer": "ipython3",
   "version": "3.7.4"
  }
 },
 "nbformat": 4,
 "nbformat_minor": 2
}
