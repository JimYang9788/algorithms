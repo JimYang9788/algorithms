{
 "cells": [
  {
   "cell_type": "code",
   "execution_count": 1,
   "metadata": {},
   "outputs": [],
   "source": [
    "class TrieNode:\n",
    "# Initialize your data structure here.\n",
    "    def __init__(self):\n",
    "        self.children = collections.defaultdict(TrieNode)\n",
    "        self.is_word = False\n",
    "\n",
    "class Trie:\n",
    "\n",
    "    def __init__(self):\n",
    "        self.root = TrieNode()\n",
    "\n",
    "    def insert(self, word):\n",
    "        current = self.root\n",
    "        for letter in word:\n",
    "            current = current.children[letter]\n",
    "        current.is_word = True\n",
    "\n",
    "    def search(self, word):\n",
    "        current = self.root\n",
    "        for letter in word:\n",
    "            current = current.children.get(letter)\n",
    "            if current is None:\n",
    "                return False\n",
    "        return current.is_word\n",
    "\n",
    "    def startsWith(self, prefix):\n",
    "        current = self.root\n",
    "        for letter in prefix:\n",
    "            current = current.children.get(letter)\n",
    "            if current is None:\n",
    "                return False\n",
    "        return True"
   ]
  },
  {
   "cell_type": "code",
   "execution_count": 1,
   "metadata": {},
   "outputs": [
    {
     "ename": "TabError",
     "evalue": "inconsistent use of tabs and spaces in indentation (<ipython-input-1-6102591495aa>, line 15)",
     "output_type": "error",
     "traceback": [
      "\u001b[0;36m  File \u001b[0;32m\"<ipython-input-1-6102591495aa>\"\u001b[0;36m, line \u001b[0;32m15\u001b[0m\n\u001b[0;31m    def addString (string):\u001b[0m\n\u001b[0m                           ^\u001b[0m\n\u001b[0;31mTabError\u001b[0m\u001b[0;31m:\u001b[0m inconsistent use of tabs and spaces in indentation\n"
     ]
    }
   ],
   "source": [
    "# Do not edit the class below except for the\n",
    "# populateSuffixTrieFrom and contains methods.\n",
    "# Feel free to add new properties and methods\n",
    "# to the class.\n",
    "\n",
    "# Suffix Trie\n",
    "class SuffixTrie:\n",
    "    def __init__(self, string):\n",
    "        self.root = {}\n",
    "        self.endSymbol = \"*\"\n",
    "        self.populateSuffixTrieFrom(string)\n",
    "\n",
    "    def populateSuffixTrieFrom(self, string):\n",
    "\n",
    "\t\tdef addString (string):\n",
    "\t\t\t# Add one string \n",
    "\t\t\tcurnode = self.root \n",
    "\t\t\tfor c in string:\n",
    "\t\t\t\tif c not in curnode:\n",
    "\t\t\t\t\tcurnode[c] = {}\n",
    "\t\t\t\tcurnode = curnode[c]\n",
    "\t\t\tcurnode['*'] = True\n",
    "\t\t\treturn self.root \n",
    "\t\t\t\n",
    "\t\tfor i in range (0,len(string)):\n",
    "\t\t\taddString (string[i:len(string)])\n",
    "\t\treturn self.root\n",
    "\t\t\t\n",
    "    def contains(self, string):\n",
    "\t\tcurnode = self.root\n",
    "\t\tfor c in string:\n",
    "\t\t\tif c in curnode:\n",
    "\t\t\t\tcurnode = curnode[c]\n",
    "\t\t\telse:\n",
    "\t\t\t\treturn False \n",
    "\t\tif '*' in curnode and  curnode['*'] == True:\n",
    "\t\t\treturn True\n",
    "\t\telse:\n",
    "\t\t\treturn False \n",
    "\t\t\t\n",
    "\n"
   ]
  },
  {
   "cell_type": "code",
   "execution_count": 4,
   "metadata": {},
   "outputs": [],
   "source": [
    "class Trie:\n",
    "    def __init__(self):\n",
    "        self.root = {}\n",
    "        return \n",
    "    \n",
    "    def addWord (self, word):\n",
    "        '''\n",
    "        adding a word to a trie\n",
    "        '''\n",
    "        curnode = self.root \n",
    "        for c in word:\n",
    "            if c not in curnode:\n",
    "                curnode[c] = {}\n",
    "            curnode = curnode [c]\n",
    "        curnode['#'] = True \n",
    "        \n",
    "    \n",
    "    def startswith (self, word):\n",
    "        '''\n",
    "        determine if current node contains/starts the word \n",
    "        '''\n",
    "        curnode = self.root \n",
    "        for c in word:\n",
    "            if c not in curnode:\n",
    "                return False \n",
    "            curnode = curnode[c]\n",
    "        return True \n",
    "\n",
    "    def contains (self, word):\n",
    "        curnode = self.root \n",
    "        for c in word:\n",
    "            if c not in curnode:\n",
    "                return False \n",
    "            curnode = curnode[c]\n",
    "        return '#' in curnode \n",
    "\n",
    "    "
   ]
  },
  {
   "cell_type": "code",
   "execution_count": 5,
   "metadata": {},
   "outputs": [],
   "source": [
    "trie = Trie()\n",
    "trie.add (\"word\")\n",
    "trie.add (\"wor\")\n"
   ]
  },
  {
   "cell_type": "code",
   "execution_count": 9,
   "metadata": {},
   "outputs": [
    {
     "data": {
      "text/plain": [
       "False"
      ]
     },
     "execution_count": 9,
     "metadata": {},
     "output_type": "execute_result"
    }
   ],
   "source": [
    "trie.contains (\"worde\")"
   ]
  },
  {
   "cell_type": "code",
   "execution_count": null,
   "metadata": {},
   "outputs": [],
   "source": []
  }
 ],
 "metadata": {
  "kernelspec": {
   "display_name": "Python 3",
   "language": "python",
   "name": "python3"
  },
  "language_info": {
   "codemirror_mode": {
    "name": "ipython",
    "version": 3
   },
   "file_extension": ".py",
   "mimetype": "text/x-python",
   "name": "python",
   "nbconvert_exporter": "python",
   "pygments_lexer": "ipython3",
   "version": "3.7.4"
  }
 },
 "nbformat": 4,
 "nbformat_minor": 2
}
