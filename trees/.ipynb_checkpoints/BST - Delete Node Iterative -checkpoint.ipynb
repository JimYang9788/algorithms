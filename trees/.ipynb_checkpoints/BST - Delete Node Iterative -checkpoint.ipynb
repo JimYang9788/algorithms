{
 "cells": [
  {
   "cell_type": "code",
   "execution_count": null,
   "metadata": {},
   "outputs": [],
   "source": [
    "# Definition for a binary tree node.\n",
    "# class TreeNode:\n",
    "#     def __init__(self, val=0, left=None, right=None):\n",
    "#         self.val = val\n",
    "#         self.left = left\n",
    "#         self.right = right\n",
    "class Solution:\n",
    "    def deleteRoot (self, root):\n",
    "        if not root.right: return root.left \n",
    "    \n",
    "        if not root.left: return root.right \n",
    "        \n",
    "        curnode = root.right  \n",
    "        # Put the smallest element as the root \n",
    "        while (curnode.left):\n",
    "            curnode = curnode.left \n",
    "            \n",
    "        # curnode is the node that we want to use at the new root \n",
    "        curnode.left = root.left \n",
    "        return root.right\n",
    "    \n",
    "    \n",
    "    def deleteNode(self, root: TreeNode, key: int) -> TreeNode:\n",
    "        if not root:return root\n",
    "        if root.val == key: return self.deleteRoot (root)\n",
    "        \n",
    "        curnode = root\n",
    "        prev = None\n",
    "        while (curnode):\n",
    "            if curnode.val == key: break\n",
    "            elif curnode.val > key:\n",
    "                prev = curnode\n",
    "                curnode = curnode.left\n",
    "            else:\n",
    "                prev = curnode\n",
    "                curnode = curnode.right \n",
    "        if curnode == None:\n",
    "            return root\n",
    "        # Now Curnode is the key that we want to delete \n",
    "        if prev.left == curnode:\n",
    "            prev.left = self.deleteRoot(curnode)\n",
    "            \n",
    "        elif prev.right == curnode:\n",
    "            prev.right = self.deleteRoot(curnode)  \n",
    "            \n",
    "        return root "
   ]
  }
 ],
 "metadata": {
  "kernelspec": {
   "display_name": "Python 3",
   "language": "python",
   "name": "python3"
  },
  "language_info": {
   "codemirror_mode": {
    "name": "ipython",
    "version": 3
   },
   "file_extension": ".py",
   "mimetype": "text/x-python",
   "name": "python",
   "nbconvert_exporter": "python",
   "pygments_lexer": "ipython3",
   "version": "3.7.4"
  }
 },
 "nbformat": 4,
 "nbformat_minor": 2
}
