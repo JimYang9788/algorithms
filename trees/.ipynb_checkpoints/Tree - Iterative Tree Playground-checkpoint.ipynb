{
 "cells": [
  {
   "cell_type": "code",
   "execution_count": 31,
   "metadata": {},
   "outputs": [],
   "source": [
    "class TreeNode:\n",
    "    def __init__(self, x, left=None, right=None):\n",
    "        self.val = x\n",
    "        self.left = left\n",
    "        self.right = right\n",
    "\n",
    "        \n",
    "    def print (self, head):\n",
    "        \n",
    "        if not head:\n",
    "            print (\"None\")\n",
    "            return \n",
    "        \n",
    "        queue = []\n",
    "        queue.append (head)\n",
    "        level = 0 \n",
    "        \n",
    "        while (queue):\n",
    "            length = len(queue)\n",
    "            for i in range (length):\n",
    "                curnode = queue.pop(0)\n",
    "                print (curnode.val)\n",
    "                if curnode.left:\n",
    "                    queue.append (curnode.left)\n",
    "                if curnode.right:\n",
    "                    queue.append (curnode.right)\n",
    "            level += 1 \n",
    "        \n",
    "        return \n",
    "            \n",
    "    def get_level (self, head):\n",
    "        \n",
    "        if not head:\n",
    "            print (\"None\")\n",
    "            return \n",
    "        \n",
    "        queue = []\n",
    "        queue.append (head)\n",
    "        level = 0 \n",
    "        res = []\n",
    "        while (queue):\n",
    "            length = len(queue)\n",
    "            for i in range (length):\n",
    "                curnode = queue.pop(0)\n",
    "                res.append (curnode.val)\n",
    "                if curnode.left:\n",
    "                    queue.append (curnode.left)\n",
    "                if curnode.right:\n",
    "                    queue.append (curnode.right)\n",
    "            level += 1 \n",
    "            \n",
    "        return res\n",
    "            \n",
    "    def get_in_order(self, head):\n",
    "        \n",
    "        if not head:\n",
    "            return None \n",
    "        res = []\n",
    "        stack = []\n",
    "        root = head \n",
    "        while (stack or root):\n",
    "            while (root):\n",
    "                stack.append (root)\n",
    "                root = root.left \n",
    "            \n",
    "            # Now we do not have a left child\n",
    "            root = stack.pop ()\n",
    "            res.append (root.val)\n",
    "            root = root.right \n",
    "        \n",
    "        return res \n",
    "        \n",
    "        \n",
    "        \n",
    "        \n",
    "\n",
    "        "
   ]
  },
  {
   "cell_type": "code",
   "execution_count": 32,
   "metadata": {},
   "outputs": [],
   "source": [
    "tree = TreeNode (1, TreeNode (2, TreeNode(6), None), TreeNode (3, None, TreeNode(9)))"
   ]
  },
  {
   "cell_type": "code",
   "execution_count": 33,
   "metadata": {},
   "outputs": [
    {
     "data": {
      "text/plain": [
       "[1, 2, 3, 6, 9]"
      ]
     },
     "execution_count": 33,
     "metadata": {},
     "output_type": "execute_result"
    }
   ],
   "source": [
    "tree.get_level (tree)"
   ]
  },
  {
   "cell_type": "code",
   "execution_count": 35,
   "metadata": {},
   "outputs": [
    {
     "data": {
      "text/plain": [
       "[6, 2, 1, 3, 9]"
      ]
     },
     "execution_count": 35,
     "metadata": {},
     "output_type": "execute_result"
    }
   ],
   "source": [
    "tree.get_in_order(tree)"
   ]
  },
  {
   "cell_type": "code",
   "execution_count": null,
   "metadata": {},
   "outputs": [],
   "source": [
    "#         self.right = right\n",
    "class BSTIterator:\n",
    "\n",
    "    def __init__(self, root: TreeNode):\n",
    "        \n",
    "        self.inorderList = [] # saves the inorder traversal of the tree \n",
    "        self.pointer = -1 # saves where we are currently at \n",
    "        \n",
    "        stack = []\n",
    "        while (root or stack):\n",
    "            while (root):\n",
    "                stack.append (root)\n",
    "                root = root.left\n",
    "            \n",
    "            root = stack.pop()\n",
    "            self.inorderList.append (root.val)\n",
    "            root = root.right \n",
    "        \n",
    "\n",
    "    def next(self) -> int:\n",
    "        self.pointer += 1 \n",
    "        assert (self.pointer < len(self.inorderList))\n",
    "        return self.inorderList[self.pointer]\n",
    "\n",
    "    def hasNext(self) -> bool:\n",
    "        return self.pointer < len(self.inorderList) - 1 \n"
   ]
  }
 ],
 "metadata": {
  "kernelspec": {
   "display_name": "Python 3",
   "language": "python",
   "name": "python3"
  },
  "language_info": {
   "codemirror_mode": {
    "name": "ipython",
    "version": 3
   },
   "file_extension": ".py",
   "mimetype": "text/x-python",
   "name": "python",
   "nbconvert_exporter": "python",
   "pygments_lexer": "ipython3",
   "version": "3.7.4"
  }
 },
 "nbformat": 4,
 "nbformat_minor": 2
}
