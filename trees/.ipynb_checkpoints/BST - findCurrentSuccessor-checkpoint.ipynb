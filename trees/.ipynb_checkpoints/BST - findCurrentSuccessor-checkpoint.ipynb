{
 "cells": [
  {
   "cell_type": "code",
   "execution_count": null,
   "metadata": {},
   "outputs": [],
   "source": [
    "# This is an input class. Do not edit.\n",
    "class BinaryTree:\n",
    "    def __init__(self, value, left=None, right=None, parent=None):\n",
    "        self.value = value\n",
    "        self.left = left\n",
    "        self.right = right\n",
    "        self.parent = parent\n",
    "\n",
    "\n",
    "def findSuccessor(tree, node):\n",
    "\n",
    "\tdef findSmallest(tree):\n",
    "\t\tcurnode = tree\n",
    "\t\twhile (curnode.left):\n",
    "\t\t\tcurnode = curnode.left\n",
    "\t\treturn curnode \n",
    "\t\n",
    "\tdef findSmallestSucessor (tree, node, currentGreatest):\n",
    "\t\t\n",
    "\t\tif tree == None:\n",
    "\t\t\treturn\n",
    "\t\t\n",
    "\t\tif tree == node:\n",
    "\t\t\tif tree.right:\n",
    "\t\t\t\treturn findSmallest (tree.right)\n",
    "\t\t\telse:\n",
    "\t\t\t\treturn currentGreatest\n",
    "\t\t\n",
    "\t\treturn findSmallestSucessor(tree.left,node,tree) or findSmallestSucessor(tree.right,node,currentGreatest)\n",
    "\n",
    "    return findSmallestSucessor(tree, node, None)"
   ]
  }
 ],
 "metadata": {
  "kernelspec": {
   "display_name": "Python 3",
   "language": "python",
   "name": "python3"
  },
  "language_info": {
   "codemirror_mode": {
    "name": "ipython",
    "version": 3
   },
   "file_extension": ".py",
   "mimetype": "text/x-python",
   "name": "python",
   "nbconvert_exporter": "python",
   "pygments_lexer": "ipython3",
   "version": "3.7.4"
  }
 },
 "nbformat": 4,
 "nbformat_minor": 2
}
