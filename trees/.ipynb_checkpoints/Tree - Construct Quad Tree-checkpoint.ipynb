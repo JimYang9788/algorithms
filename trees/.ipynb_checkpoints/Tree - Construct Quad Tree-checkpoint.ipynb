{
 "cells": [
  {
   "cell_type": "code",
   "execution_count": null,
   "metadata": {},
   "outputs": [],
   "source": [
    "# \"\"\"\n",
    "# # Definition for a QuadTree node.\n",
    "class Node:\n",
    "    def __init__(self, val, isLeaf, topLeft, topRight, bottomLeft, bottomRight):\n",
    "        self.val = val\n",
    "        self.isLeaf = isLeaf\n",
    "        self.topLeft = topLeft\n",
    "        self.topRight = topRight\n",
    "        self.bottomLeft = bottomLeft\n",
    "        self.bottomRight = bottomRight\n",
    "\n",
    "class Solution:\n",
    "    def construct(self, grid: List[List[int]]) -> 'Node':\n",
    "        # Let's do post order traversal \n",
    "        \n",
    "        if not grid or not grid[0]:\n",
    "            return None \n",
    "        \n",
    "        n = len(grid)\n",
    "        \n",
    "        if n == 1:\n",
    "            return Node(grid[0][0],True,None,None,None,None)\n",
    "        \n",
    "        topLeft = self.construct(list(map (lambda row: row[:n//2], grid[:n//2])))\n",
    "        topRight = self.construct(list(map (lambda row: row[n//2:], grid[:n//2])))\n",
    "        bottomLeft = self.construct(list(map (lambda row: row[:n//2], grid[n//2:])))\n",
    "        bottomRight = self.construct(list(map (lambda row: row[n//2:], grid[n//2:])))\n",
    "        \n",
    "        if topLeft.isLeaf and topRight.isLeaf and bottomLeft.isLeaf and bottomRight.isLeaf:\n",
    "            if topLeft.val == topRight.val and topRight.val == bottomLeft.val and bottomLeft.val== bottomRight.val:\n",
    "                return Node(topLeft.val,True, None,None,None,None)\n",
    "        \n",
    "        return Node (0, False, topLeft, topRight, bottomLeft, bottomRight)"
   ]
  }
 ],
 "metadata": {
  "kernelspec": {
   "display_name": "Python 3",
   "language": "python",
   "name": "python3"
  },
  "language_info": {
   "codemirror_mode": {
    "name": "ipython",
    "version": 3
   },
   "file_extension": ".py",
   "mimetype": "text/x-python",
   "name": "python",
   "nbconvert_exporter": "python",
   "pygments_lexer": "ipython3",
   "version": "3.7.4"
  }
 },
 "nbformat": 4,
 "nbformat_minor": 2
}
