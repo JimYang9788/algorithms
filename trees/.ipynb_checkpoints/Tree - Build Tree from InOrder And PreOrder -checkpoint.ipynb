{
 "cells": [
  {
   "cell_type": "code",
   "execution_count": 5,
   "metadata": {},
   "outputs": [],
   "source": [
    "class TreeNode:\n",
    "    def __init__(self, val=0, left=None, right=None):\n",
    "        self.val = val\n",
    "        self.left = left\n",
    "        self.right = right"
   ]
  },
  {
   "cell_type": "code",
   "execution_count": 6,
   "metadata": {},
   "outputs": [],
   "source": [
    "class Solution:\n",
    "    def buildTree(self, preorder, inorder) -> TreeNode:\n",
    "        \n",
    "        \n",
    "        ## The first number in the preorder tells the root of the current tree\n",
    "        ## Then, use in order traversal to divide the tree into two part,\n",
    "        \n",
    "        # Recursion \n",
    "        if not preorder and not inorder:\n",
    "            return None \n",
    "        \n",
    "        rootVal = preorder[0]\n",
    "        \n",
    "        # search for non duplicate list of the current root's \n",
    "        # Value in the in order list \n",
    "        inOrderPos = inorder.index (rootVal)\n",
    "        \n",
    "        node = TreeNode (rootVal)\n",
    "        node.left = self.buildTree (preorder[1:1+inOrderPos], inorder[0:inOrderPos])\n",
    "        node.right = self.buildTree (preorder[1+inOrderPos:], inorder[inOrderPos+1:])\n",
    "        \n",
    "        return node \n",
    "        "
   ]
  },
  {
   "cell_type": "code",
   "execution_count": null,
   "metadata": {},
   "outputs": [],
   "source": [
    "# Definition for a binary tree node.\n",
    "# class TreeNode:\n",
    "#     def __init__(self, val=0, left=None, right=None):\n",
    "#         self.val = val\n",
    "#         self.left = left\n",
    "#         self.right = right\n",
    "\n",
    "\n",
    "class Solution:\n",
    "    def buildTree(self, preorder: List[int], inorder: List[int]) -> TreeNode:\n",
    "        \n",
    "        \n",
    "        # Recursion 递归的解法\n",
    "\n",
    "        ## The first number in the preorder tells the root of the current tree\n",
    "        ## Then, use in order traversal to divide the tree into two part,\n",
    "        \n",
    "        # if not preorder and not inorder: return None \n",
    "        \n",
    "        # rootVal = preorder[0]\n",
    "        \n",
    "        # search for non duplicate list of the current root's \n",
    "        # Value in the in order list \n",
    "        # inOrderPos = inorder.index (rootVal)\n",
    "        \n",
    "        # node = TreeNode (rootVal)\n",
    "        # node.left = self.buildTree (preorder[1:1+inOrderPos], inorder[0:inOrderPos])\n",
    "        # node.right = self.buildTree (preorder[1+inOrderPos:], inorder[inOrderPos+1:])\n",
    "        ########################################################################\n",
    "        # Loop Version \n",
    "        inOrderMap = {val:i for i, val in enumerate(inorder)}\n",
    "        \n",
    "        head,stack = None,[]\n",
    "        for val in preorder:\n",
    "            if not head:\n",
    "                head = TreeNode (val)\n",
    "                stack.append (head)\n",
    "            else:\n",
    "                node = TreeNode (val)\n",
    "                if inOrderMap[val] < inOrderMap[stack[-1].val]:\n",
    "                    stack[-1].left = node \n",
    "                else:\n",
    "                    while stack and inOrderMap[stack[-1].val] < inOrderMap[val]:\n",
    "                        u = stack.pop()\n",
    "                    u.right = node \n",
    "                stack.append (node)\n",
    "        return head\n",
    "    \n",
    "        \n",
    "        return node \n",
    "        \n",
    "        "
   ]
  }
 ],
 "metadata": {
  "kernelspec": {
   "display_name": "Python 3",
   "language": "python",
   "name": "python3"
  },
  "language_info": {
   "codemirror_mode": {
    "name": "ipython",
    "version": 3
   },
   "file_extension": ".py",
   "mimetype": "text/x-python",
   "name": "python",
   "nbconvert_exporter": "python",
   "pygments_lexer": "ipython3",
   "version": "3.7.4"
  }
 },
 "nbformat": 4,
 "nbformat_minor": 2
}
