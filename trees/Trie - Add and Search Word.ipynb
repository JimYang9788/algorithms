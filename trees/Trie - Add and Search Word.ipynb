{
 "cells": [
  {
   "cell_type": "code",
   "execution_count": null,
   "metadata": {},
   "outputs": [],
   "source": [
    "class WordDictionary:\n",
    "\n",
    "    def __init__(self):\n",
    "        \"\"\"\n",
    "        Initialize your data structure here.\n",
    "        \"\"\"\n",
    "        self.root  = {}\n",
    "        self.endchar = '#'\n",
    "\n",
    "    def addWord(self, word: str) -> None:\n",
    "        node = self.root \n",
    "        for c in word:\n",
    "            if not c in node:\n",
    "                node[c] = {}\n",
    "            node = node[c]\n",
    "            \n",
    "        node['#'] = True \n",
    "    \n",
    "\n",
    "    def search(self, word: str) -> bool:\n",
    "        \n",
    "        def helperSearch (word, startIdx, node):\n",
    "            # Returns true if match \n",
    "            for i in range (startIdx, len(word)):\n",
    "                if word[i] == '.':\n",
    "                    for key, val in node.items():\n",
    "                        if key == '#':\n",
    "                            continue \n",
    "                        curnode = node[key]\n",
    "                        if helperSearch (word, i + 1, curnode):\n",
    "                            return True \n",
    "                    return False \n",
    "                \n",
    "                if word[i] not in node:\n",
    "                    return False \n",
    "                \n",
    "                node = node[word[i]]\n",
    "            return '#' in  node \n",
    "            \n",
    "        return helperSearch (word,0, self.root)\n",
    "\n",
    "\n",
    "\n",
    "# Your WordDictionary object will be instantiated and called as such:\n",
    "# obj = WordDictionary()\n",
    "# obj.addWord(word)\n",
    "# param_2 = obj.search(word)"
   ]
  }
 ],
 "metadata": {
  "kernelspec": {
   "display_name": "Python 3",
   "language": "python",
   "name": "python3"
  },
  "language_info": {
   "codemirror_mode": {
    "name": "ipython",
    "version": 3
   },
   "file_extension": ".py",
   "mimetype": "text/x-python",
   "name": "python",
   "nbconvert_exporter": "python",
   "pygments_lexer": "ipython3",
   "version": "3.7.4"
  }
 },
 "nbformat": 4,
 "nbformat_minor": 2
}
