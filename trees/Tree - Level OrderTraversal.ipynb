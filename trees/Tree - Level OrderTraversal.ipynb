{
 "cells": [
  {
   "cell_type": "code",
   "execution_count": null,
   "metadata": {},
   "outputs": [],
   "source": [
    "# Definition for a binary tree node.\n",
    "# class TreeNode:\n",
    "#     def __init__(self, val=0, left=None, right=None):\n",
    "#         self.val = val\n",
    "#         self.left = left\n",
    "#         self.right = right\n",
    "class Solution:\n",
    "    \n",
    "    def levelOrder(self, root: TreeNode):\n",
    "        # 因为是每一层，所以说一定是BFS\n",
    "        # BFS 用Loop会更好写\n",
    "        \n",
    "        res = []\n",
    "        #用一个Queue 就可以了，为了避免两个Queue倒来倒去,\n",
    "        #可以很简单的用level_length来记录当前Queue的长度，\n",
    "        #到了这个Queue的结尾时(level_length == 0时)，我们就可以\n",
    "        #进入下一层\n",
    "        # 当然前提条件是我们只append不是空的node\n",
    "        queue = [root] if root else []\n",
    "        level = 0 \n",
    "        while (queue):\n",
    "            \n",
    "            res.append ([])\n",
    "            level_length = len(queue)\n",
    "            \n",
    "            # 把当前的Level全部清空\n",
    "            for i in range(level_length):\n",
    "                node = queue.pop(0)\n",
    "                res[level].append (node.val)\n",
    "                if node.left:   \n",
    "                    queue.append (node.left) \n",
    "                if node.right:\n",
    "                    queue.append (node.right)\n",
    "            level += 1 \n",
    "        \n",
    "        return res \n",
    "        "
   ]
  }
 ],
 "metadata": {
  "kernelspec": {
   "display_name": "Python 3",
   "language": "python",
   "name": "python3"
  },
  "language_info": {
   "codemirror_mode": {
    "name": "ipython",
    "version": 3
   },
   "file_extension": ".py",
   "mimetype": "text/x-python",
   "name": "python",
   "nbconvert_exporter": "python",
   "pygments_lexer": "ipython3",
   "version": "3.7.4"
  }
 },
 "nbformat": 4,
 "nbformat_minor": 2
}
