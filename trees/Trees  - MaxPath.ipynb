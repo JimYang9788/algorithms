{
 "cells": [
  {
   "cell_type": "code",
   "execution_count": null,
   "metadata": {},
   "outputs": [],
   "source": [
    "\n",
    "def getMaxPathSumInfo(tree):\n",
    "\t# Return the tree info\n",
    "\tif not tree:\n",
    "\t\treturn TreeInfo (float(\"-inf\"),float(\"-inf\"))\n",
    "\t\n",
    "\tleftTree = getMaxPathSumInfo(tree.left)\n",
    "\trightTree = getMaxPathSumInfo(tree.right)\t\n",
    "\t\n",
    "\tcurrentPath = max(leftTree.singlePath + tree.value,\\\n",
    "\t\t\t\t\t rightTree.singlePath + tree.value,\\\n",
    "\t\t\t\t\t tree.value)\n",
    "\tcurrentMax = max (leftTree.singlePath + tree.value, \\\n",
    "\t\t\t\t\t rightTree.singlePath + tree.value, \\\n",
    "\t\t\t\t\t leftTree.singlePath + rightTree.singlePath + tree.value, \\\n",
    "\t\t\t\t\t tree.value)\n",
    "\t\n",
    "\tcurrentMax = max (leftTree.currentMax, rightTree.currentMax, currentMax)\n",
    "\treturn TreeInfo (currentPath,  currentMax)\n",
    "\n",
    "def maxPathSum(tree):\n",
    "\treturn getMaxPathSumInfo(tree).currentMax \n",
    "\n",
    "\n",
    "\n",
    "class TreeInfo:\n",
    "\tdef __init__(self,singlePath = 0, currentMax = 0):\n",
    "\t\tself.singlePath = singlePath\n",
    "\t\tself.currentMax = currentMax"
   ]
  }
 ],
 "metadata": {
  "kernelspec": {
   "display_name": "Python 3",
   "language": "python",
   "name": "python3"
  },
  "language_info": {
   "codemirror_mode": {
    "name": "ipython",
    "version": 3
   },
   "file_extension": ".py",
   "mimetype": "text/x-python",
   "name": "python",
   "nbconvert_exporter": "python",
   "pygments_lexer": "ipython3",
   "version": "3.7.4"
  }
 },
 "nbformat": 4,
 "nbformat_minor": 2
}
