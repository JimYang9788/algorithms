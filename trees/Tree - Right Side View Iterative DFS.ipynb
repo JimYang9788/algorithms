{
 "cells": [
  {
   "cell_type": "code",
   "execution_count": null,
   "metadata": {},
   "outputs": [],
   "source": [
    "class Solution:\n",
    "    \n",
    "    def processChild(self, node, prev, leftmost):\n",
    "        if node:\n",
    "            if prev:\n",
    "                prev.next = node\n",
    "            else:\n",
    "                leftmost = node \n",
    "            prev = node\n",
    "        return prev, leftmost \n",
    "    \n",
    "    def connect(self, root: 'Node') -> 'Node':\n",
    "        \n",
    "        if not root: return root\n",
    "        leftmost = root \n",
    "        \n",
    "        while (leftmost):\n",
    "            prev, cur = None, leftmost \n",
    "            leftmost = None \n",
    "            \n",
    "            while (cur):\n",
    "                prev, leftmost = self.processChild (cur.left, prev, leftmost)\n",
    "                prev, leftmost = self.processChild (cur.right, prev, leftmost)\n",
    "                cur = cur.next \n",
    "                \n",
    "        return root "
   ]
  }
 ],
 "metadata": {
  "kernelspec": {
   "display_name": "Python 3",
   "language": "python",
   "name": "python3"
  },
  "language_info": {
   "codemirror_mode": {
    "name": "ipython",
    "version": 3
   },
   "file_extension": ".py",
   "mimetype": "text/x-python",
   "name": "python",
   "nbconvert_exporter": "python",
   "pygments_lexer": "ipython3",
   "version": "3.7.4"
  }
 },
 "nbformat": 4,
 "nbformat_minor": 2
}
