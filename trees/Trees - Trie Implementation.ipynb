{
 "cells": [
  {
   "cell_type": "code",
   "execution_count": 1,
   "metadata": {},
   "outputs": [],
   "source": [
    "class Trie:\n",
    "\n",
    "    def __init__(self):\n",
    "        \"\"\"\n",
    "        Initialize your data structure here.\n",
    "        \"\"\"\n",
    "        self.root = {}\n",
    "        self.end = '#'\n",
    "\n",
    "    def insert(self, word: str) -> None:\n",
    "        \"\"\"\n",
    "        Inserts a word into the trie.\n",
    "        \"\"\"\n",
    "        node = self.root\n",
    "        for char in word:\n",
    "            if not char in node:\n",
    "                node[char] = {}\n",
    "            node = node[char]\n",
    "        # 收尾\n",
    "        node['#'] = True \n",
    "        \n",
    "\n",
    "    def search(self, word: str) -> bool:\n",
    "        \"\"\"\n",
    "        Returns if the word is in the trie.\n",
    "        \"\"\"\n",
    "        node = self.root \n",
    "        for char in word:\n",
    "            if char not in node:\n",
    "                return False \n",
    "            node = node[char]\n",
    "        return '#' in node\n",
    "    \n",
    "    def startsWith(self, prefix: str) -> bool:\n",
    "        \"\"\"\n",
    "        Returns if there is any word in the trie that starts with the given prefix.\n",
    "        \"\"\"\n",
    "        node = self.root\n",
    "        for char in prefix:\n",
    "            if char not in node:\n",
    "                return False \n",
    "            node = node [char]\n",
    "        return  len(node.keys()) > 0 \n",
    "        \n",
    "\n",
    "\n",
    "# Your Trie object will be instantiated and called as such:\n",
    "# obj = Trie()\n",
    "# obj.insert(word)\n",
    "# param_2 = obj.search(word)\n",
    "# param_3 = obj.startsWith(prefix)"
   ]
  },
  {
   "cell_type": "code",
   "execution_count": 56,
   "metadata": {},
   "outputs": [],
   "source": [
    "class Trie:\n",
    "    def __init__(self):\n",
    "        self.root = {}\n",
    "        self.endchar = '$'\n",
    "        return \n",
    "    \n",
    "    def add (self, word):\n",
    "        '''\n",
    "        Ret: None \n",
    "        Adds a word to the trie\n",
    "        '''\n",
    "        curnode = self.root \n",
    "        for c in word:\n",
    "            if c not in curnode:\n",
    "                curnode[c] = {}\n",
    "            curnode = curnode[c]\n",
    "        curnode[self.endchar] = True \n",
    "        \n",
    "        return \n",
    "    \n",
    "    def search (self, word):\n",
    "        '''\n",
    "        Ret: Bool\n",
    "        Determines if a word exists \n",
    "        '''\n",
    "        curnode = self.root \n",
    "        for c in word:\n",
    "            if c in curnode:\n",
    "                curnode = curnode[c]\n",
    "            else:\n",
    "                return False\n",
    "        if self.endchar not in curnode:\n",
    "            return False\n",
    "        return curnode[self.endchar]\n",
    "    \n",
    "    def startswith (self, word, limit = 3):\n",
    "        '''\n",
    "        Ret: a list of words that starts with word \n",
    "        limit: number of top \n",
    "        '''\n",
    "        \n",
    "        # 1. First find the node \n",
    "        curnode = self.root \n",
    "        res = []\n",
    "        for c in word:\n",
    "            if c not in curnode:\n",
    "                return res \n",
    "            else:\n",
    "                curnode = curnode[c]\n",
    "        res = []\n",
    "        self.dfs (curnode, res, word, limit)\n",
    "        return res \n",
    "            \n",
    "    def dfs (self, curnode, res, prefix, limit):\n",
    "        '''\n",
    "        Update all the paths to leaves\n",
    "        '''\n",
    "        if len(res) == limit:\n",
    "            return \n",
    "        \n",
    "        for char, node in curnode.items():\n",
    "            if char == self.endchar:\n",
    "                res.append (prefix)\n",
    "            else:\n",
    "                self.dfs (node, res, prefix + char, limit)\n",
    "        \n"
   ]
  },
  {
   "cell_type": "code",
   "execution_count": 57,
   "metadata": {},
   "outputs": [],
   "source": [
    "trie = Trie ()\n",
    "trie.add (\"apple\")\n",
    "trie.add (\"ank\")\n",
    "trie.add (\"abu\")\n",
    "trie.add (\"bana\")\n",
    "\n",
    "\n"
   ]
  },
  {
   "cell_type": "code",
   "execution_count": 58,
   "metadata": {},
   "outputs": [
    {
     "data": {
      "text/plain": [
       "False"
      ]
     },
     "execution_count": 58,
     "metadata": {},
     "output_type": "execute_result"
    }
   ],
   "source": [
    "trie.search(\"appl\")"
   ]
  },
  {
   "cell_type": "code",
   "execution_count": 60,
   "metadata": {},
   "outputs": [
    {
     "data": {
      "text/plain": [
       "['apple']"
      ]
     },
     "execution_count": 60,
     "metadata": {},
     "output_type": "execute_result"
    }
   ],
   "source": [
    "trie.startswith('a',1)"
   ]
  }
 ],
 "metadata": {
  "kernelspec": {
   "display_name": "Python 3",
   "language": "python",
   "name": "python3"
  },
  "language_info": {
   "codemirror_mode": {
    "name": "ipython",
    "version": 3
   },
   "file_extension": ".py",
   "mimetype": "text/x-python",
   "name": "python",
   "nbconvert_exporter": "python",
   "pygments_lexer": "ipython3",
   "version": "3.7.4"
  }
 },
 "nbformat": 4,
 "nbformat_minor": 2
}
