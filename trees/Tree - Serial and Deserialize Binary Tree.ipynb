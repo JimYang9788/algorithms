{
 "cells": [
  {
   "cell_type": "code",
   "execution_count": null,
   "metadata": {},
   "outputs": [],
   "source": [
    "class Codec:\n",
    "\n",
    "    def serialize(self, root):\n",
    "        def reserialize (root, string):\n",
    "            if not root:\n",
    "                string += 'None,'\n",
    "            else:\n",
    "                string += str(root.val) + ','\n",
    "                string = reserialize(root.left, string)\n",
    "                string = reserialize(root.right, string)\n",
    "            return string \n",
    "        return reserialize(root, '')\n",
    "\n",
    "    def deserialize(self, data):\n",
    "        \"\"\"Decodes your encoded data to tree.\n",
    "        \n",
    "        :type data: str\n",
    "        :rtype: TreeNode\n",
    "        \"\"\"\n",
    "        def deserialize (l):\n",
    "            if l[0] == 'None':\n",
    "                l.pop(0)\n",
    "                return None\n",
    "\n",
    "            root = TreeNode(l[0])\n",
    "            l.pop(0)\n",
    "            root.left = deserialize (l)\n",
    "            root.right = deserialize (l)\n",
    "\n",
    "            return root\n",
    "\n",
    "        dataList = data.split(',')\n",
    "        \n",
    "        root = deserialize(dataList)\n",
    "        return root "
   ]
  }
 ],
 "metadata": {
  "kernelspec": {
   "display_name": "Python 3",
   "language": "python",
   "name": "python3"
  },
  "language_info": {
   "codemirror_mode": {
    "name": "ipython",
    "version": 3
   },
   "file_extension": ".py",
   "mimetype": "text/x-python",
   "name": "python",
   "nbconvert_exporter": "python",
   "pygments_lexer": "ipython3",
   "version": "3.7.4"
  }
 },
 "nbformat": 4,
 "nbformat_minor": 2
}
