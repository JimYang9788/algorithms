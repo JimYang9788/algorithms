{
 "cells": [
  {
   "cell_type": "code",
   "execution_count": null,
   "metadata": {},
   "outputs": [],
   "source": [
    "# Definition for a binary tree node.\n",
    "# class TreeNode:\n",
    "#     def __init__(self, val=0, left=None, right=None):\n",
    "#         self.val = val\n",
    "#         self.left = left\n",
    "#         self.right = right\n",
    "class Solution:\n",
    "    def isValidBST(self, root: TreeNode) -> bool:\n",
    "        \n",
    "        if not root:\n",
    "            return True \n",
    "        \n",
    "        stack = []\n",
    "        \n",
    "        inOrderPrev = float(\"-inf\") \n",
    "        \n",
    "        while (root or stack):\n",
    "            while (root):\n",
    "                stack.append (root)\n",
    "                root = root.left \n",
    "            \n",
    "            root = stack.pop ()\n",
    "            if root.val <= inOrderPrev:\n",
    "                return False\n",
    "            inOrderPrev = root.val \n",
    "            root = root.right  \n",
    "        \n",
    "        return True "
   ]
  }
 ],
 "metadata": {
  "kernelspec": {
   "display_name": "Python 3",
   "language": "python",
   "name": "python3"
  },
  "language_info": {
   "codemirror_mode": {
    "name": "ipython",
    "version": 3
   },
   "file_extension": ".py",
   "mimetype": "text/x-python",
   "name": "python",
   "nbconvert_exporter": "python",
   "pygments_lexer": "ipython3",
   "version": "3.7.4"
  }
 },
 "nbformat": 4,
 "nbformat_minor": 2
}
