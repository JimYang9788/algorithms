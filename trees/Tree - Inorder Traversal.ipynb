{
 "cells": [
  {
   "cell_type": "code",
   "execution_count": null,
   "metadata": {},
   "outputs": [],
   "source": [
    "class Solution:\n",
    "    def isValidBST(self, root: Optional[TreeNode]) -> bool:\n",
    "        if not root: return True \n",
    "        \n",
    "        curnode = root \n",
    "        stack = []\n",
    "\t\t\t\tin_order = []\n",
    "        while stack or curnode:\n",
    "            if curnode:\n",
    "                stack.append (curnode)\n",
    "                curnode = curnode.left\n",
    "            else:\n",
    "                curnode = stack.pop()\n",
    "\t\t\t\t\t\t\t\tin_order.append(curnode.val)\n",
    "                curnode = curnode.right\n",
    "        return True"
   ]
  }
 ],
 "metadata": {
  "kernelspec": {
   "display_name": "Python 3",
   "language": "python",
   "name": "python3"
  },
  "language_info": {
   "codemirror_mode": {
    "name": "ipython",
    "version": 3
   },
   "file_extension": ".py",
   "mimetype": "text/x-python",
   "name": "python",
   "nbconvert_exporter": "python",
   "pygments_lexer": "ipython3",
   "version": "3.7.4"
  }
 },
 "nbformat": 4,
 "nbformat_minor": 2
}
