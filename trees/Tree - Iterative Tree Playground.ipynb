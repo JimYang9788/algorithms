{
 "cells": [
  {
   "cell_type": "code",
   "execution_count": 21,
   "metadata": {},
   "outputs": [],
   "source": [
    "class TreeNode:\n",
    "    def __init__(self, x, left=None, right=None):\n",
    "        self.val = x\n",
    "        self.left = left\n",
    "        self.right = right\n",
    "\n",
    "        \n",
    "    def print (self, head):\n",
    "        \n",
    "        if not head:\n",
    "            print (\"None\")\n",
    "            return \n",
    "        \n",
    "        queue = []\n",
    "        queue.append (head)\n",
    "        level = 0 \n",
    "        \n",
    "        while (queue):\n",
    "            length = len(queue)\n",
    "            for i in range (length):\n",
    "                curnode = queue.pop(0)\n",
    "                print (curnode.val)\n",
    "                if curnode.left:\n",
    "                    queue.append (curnode.left)\n",
    "                if curnode.right:\n",
    "                    queue.append (curnode.right)\n",
    "            level += 1 \n",
    "        \n",
    "        return \n",
    "            \n",
    "    def get_inorder (self, head):\n",
    "        \n",
    "        if not head:\n",
    "            print (\"None\")\n",
    "            return \n",
    "        \n",
    "        queue = []\n",
    "        queue.append (head)\n",
    "        level = 0 \n",
    "        res = []\n",
    "        while (queue):\n",
    "            length = len(queue)\n",
    "            for i in range (length):\n",
    "                curnode = queue.pop(0)\n",
    "                res.append (curnode.val)\n",
    "                if curnode.left:\n",
    "                    queue.append (curnode.left)\n",
    "                if curnode.right:\n",
    "                    queue.append (curnode.right)\n",
    "            level += 1 \n",
    "            \n",
    "        return res\n",
    "            \n",
    "                \n",
    "        \n",
    "\n",
    "        "
   ]
  },
  {
   "cell_type": "code",
   "execution_count": 22,
   "metadata": {},
   "outputs": [],
   "source": [
    "tree = TreeNode (1, TreeNode (2, None, None), TreeNode (3, None, None))"
   ]
  },
  {
   "cell_type": "code",
   "execution_count": 24,
   "metadata": {},
   "outputs": [
    {
     "name": "stdout",
     "output_type": "stream",
     "text": [
      "3\n",
      "3\n",
      "3\n"
     ]
    },
    {
     "data": {
      "text/plain": [
       "[1, 2, 3]"
      ]
     },
     "execution_count": 24,
     "metadata": {},
     "output_type": "execute_result"
    }
   ],
   "source": [
    "tree.get_inorder (tree)"
   ]
  }
 ],
 "metadata": {
  "kernelspec": {
   "display_name": "Python 3",
   "language": "python",
   "name": "python3"
  },
  "language_info": {
   "codemirror_mode": {
    "name": "ipython",
    "version": 3
   },
   "file_extension": ".py",
   "mimetype": "text/x-python",
   "name": "python",
   "nbconvert_exporter": "python",
   "pygments_lexer": "ipython3",
   "version": "3.7.4"
  }
 },
 "nbformat": 4,
 "nbformat_minor": 2
}
