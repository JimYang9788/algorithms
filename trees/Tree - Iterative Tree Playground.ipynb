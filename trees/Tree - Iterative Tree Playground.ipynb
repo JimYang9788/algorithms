{
 "cells": [
  {
   "cell_type": "code",
   "execution_count": 18,
   "metadata": {},
   "outputs": [],
   "source": [
    "class TreeNode:\n",
    "    def __init__(self, x, left=None, right=None):\n",
    "        self.val = x\n",
    "        self.left = left\n",
    "        self.right = right\n",
    "\n",
    "        \n",
    "    def tree_print (self, head):\n",
    "        \n",
    "        if not head:\n",
    "            print (\"None\")\n",
    "            return \n",
    "        \n",
    "        queue = []\n",
    "        queue.append (head)\n",
    "        level = 0 \n",
    "        \n",
    "        while (queue):\n",
    "            length = len(queue)\n",
    "            for i in range (length):\n",
    "                curnode = queue.pop(0)\n",
    "                print (curnode.val)\n",
    "                if curnode.left:\n",
    "                    queue.append (curnode.left)\n",
    "                if curnode.right:\n",
    "                    queue.append (curnode.right)\n",
    "            level += 1 \n",
    "        \n",
    "        return \n",
    "            \n",
    "    def get_level (self, head):\n",
    "        \n",
    "        if not head:\n",
    "            print (\"None\")\n",
    "            return \n",
    "        \n",
    "        queue = []\n",
    "        queue.append (head)\n",
    "        level = 0 \n",
    "        res = []\n",
    "        while (queue):\n",
    "            length = len(queue)\n",
    "            for i in range (length):\n",
    "                curnode = queue.pop(0)\n",
    "                res.append (curnode.val)\n",
    "                if curnode.left:\n",
    "                    queue.append (curnode.left)\n",
    "                if curnode.right:\n",
    "                    queue.append (curnode.right)\n",
    "            level += 1 \n",
    "            \n",
    "        return res\n",
    "            \n",
    "    def get_in_order(self, head):\n",
    "        \n",
    "        if not head:\n",
    "            return None \n",
    "        res = []\n",
    "        stack = []\n",
    "        root = head \n",
    "        while (stack or root):\n",
    "            while (root):\n",
    "                stack.append (root)\n",
    "                root = root.left \n",
    "            \n",
    "            # Now we do not have a left child\n",
    "            root = stack.pop ()\n",
    "            res.append (root.val)\n",
    "            root = root.right \n",
    "        \n",
    "        return res \n",
    "        \n",
    "        \n",
    "        \n",
    "        \n",
    "\n",
    "        "
   ]
  },
  {
   "cell_type": "code",
   "execution_count": 3,
   "metadata": {},
   "outputs": [],
   "source": [
    "tree = TreeNode (1, TreeNode (2, TreeNode(6), None), TreeNode (3, None, TreeNode(9)))"
   ]
  },
  {
   "cell_type": "code",
   "execution_count": 4,
   "metadata": {},
   "outputs": [
    {
     "data": {
      "text/plain": [
       "[1, 2, 3, 6, 9]"
      ]
     },
     "execution_count": 4,
     "metadata": {},
     "output_type": "execute_result"
    }
   ],
   "source": [
    "tree.get_level (tree)"
   ]
  },
  {
   "cell_type": "code",
   "execution_count": 5,
   "metadata": {},
   "outputs": [
    {
     "data": {
      "text/plain": [
       "[6, 2, 1, 3, 9]"
      ]
     },
     "execution_count": 5,
     "metadata": {},
     "output_type": "execute_result"
    }
   ],
   "source": [
    "tree.get_in_order(tree)"
   ]
  },
  {
   "cell_type": "code",
   "execution_count": 6,
   "metadata": {},
   "outputs": [],
   "source": [
    "#         self.right = right\n",
    "class BSTIterator:\n",
    "\n",
    "    def __init__(self, root: TreeNode):\n",
    "        \n",
    "        self.inorderList = [] # saves the inorder traversal of the tree \n",
    "        self.pointer = -1 # saves where we are currently at \n",
    "        \n",
    "        stack = []\n",
    "        while (root or stack):\n",
    "            while (root):\n",
    "                stack.append (root)\n",
    "                root = root.left\n",
    "            \n",
    "            root = stack.pop()\n",
    "            self.inorderList.append (root.val)\n",
    "            root = root.right \n",
    "        \n",
    "\n",
    "    def next(self) -> int:\n",
    "        self.pointer += 1 \n",
    "        assert (self.pointer < len(self.inorderList))\n",
    "        return self.inorderList[self.pointer]\n",
    "\n",
    "    def hasNext(self) -> bool:\n",
    "        return self.pointer < len(self.inorderList) - 1 \n"
   ]
  },
  {
   "cell_type": "code",
   "execution_count": 27,
   "metadata": {},
   "outputs": [],
   "source": [
    "# class TreeNode:\n",
    "#     def __init__(self, x, left=None, right=None):\n",
    "#         self.val = x\n",
    "#         self.left = left\n",
    "#         self.right = right\n",
    "# '''\n",
    "#                     1 \n",
    "#             /2          3\n",
    "#         /6    \\None     /None   \\9\n",
    "# '''\n",
    "\n",
    "class TreeNode:\n",
    "    def __init__(self, x, left=None, right=None):\n",
    "        self.val = x\n",
    "        self.left = left\n",
    "        self.right = right\n",
    "        \n",
    "    def inorder_print (self,head):\n",
    "        \n",
    "        stack = []\n",
    "        inOrder = []\n",
    "        while (stack or head):\n",
    "            while (head):\n",
    "                stack.append (head)\n",
    "                head = head.left  \n",
    "            \n",
    "            head = stack.pop()\n",
    "            inOrder.append(head.val)\n",
    "            head = head.right\n",
    "        \n",
    "        return inOrder \n",
    "            \n",
    "tree = TreeNode (1, TreeNode (2, TreeNode(6), None), TreeNode (3, None, TreeNode(9)))\n",
    "\n",
    "        "
   ]
  },
  {
   "cell_type": "code",
   "execution_count": 28,
   "metadata": {},
   "outputs": [
    {
     "data": {
      "text/plain": [
       "[6, 2, 1, 3, 9]"
      ]
     },
     "execution_count": 28,
     "metadata": {},
     "output_type": "execute_result"
    }
   ],
   "source": [
    "tree.inorder_print(tree)"
   ]
  },
  {
   "cell_type": "code",
   "execution_count": null,
   "metadata": {},
   "outputs": [],
   "source": []
  }
 ],
 "metadata": {
  "kernelspec": {
   "display_name": "Python 3",
   "language": "python",
   "name": "python3"
  },
  "language_info": {
   "codemirror_mode": {
    "name": "ipython",
    "version": 3
   },
   "file_extension": ".py",
   "mimetype": "text/x-python",
   "name": "python",
   "nbconvert_exporter": "python",
   "pygments_lexer": "ipython3",
   "version": "3.7.4"
  }
 },
 "nbformat": 4,
 "nbformat_minor": 2
}
