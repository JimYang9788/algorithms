{
 "cells": [
  {
   "cell_type": "markdown",
   "metadata": {},
   "source": [
    "### Two Sum\n",
    "\n",
    "Three method\n",
    "1. Extra space O(n) O(n)\n",
    "2. Brutal shit O(n^2) O(1)\n",
    "3. Two pointers O(nlogn) O(1)"
   ]
  },
  {
   "cell_type": "code",
   "execution_count": 4,
   "metadata": {},
   "outputs": [
    {
     "ename": "TabError",
     "evalue": "inconsistent use of tabs and spaces in indentation (<ipython-input-4-d68f90df9162>, line 7)",
     "output_type": "error",
     "traceback": [
      "\u001b[0;36m  File \u001b[0;32m\"<ipython-input-4-d68f90df9162>\"\u001b[0;36m, line \u001b[0;32m7\u001b[0m\n\u001b[0;31m    currentSum = array[l] + array[r]\u001b[0m\n\u001b[0m                                    ^\u001b[0m\n\u001b[0;31mTabError\u001b[0m\u001b[0;31m:\u001b[0m inconsistent use of tabs and spaces in indentation\n"
     ]
    }
   ],
   "source": [
    "def twoNumberSum(array, targetSum):\n",
    "    # Write your code here.\n",
    "    array.sort ()\n",
    "    l, r = 0, len(array) -1\n",
    "\n",
    "    while (l <= r):\n",
    "\t\tcurrentSum = array[l] + array[r]\n",
    "\t\t\n",
    "\t\tif currentSum == targetSum:\n",
    "\t\t\treturn [array[l],array[r]]\n",
    "\t\telif currentSum < targetSum:\n",
    "\t\t\tl += 1 \n",
    "\t\telse:\n",
    "\t\t\tr -= 1\n",
    "    \n",
    "    return []"
   ]
  },
  {
   "cell_type": "code",
   "execution_count": null,
   "metadata": {},
   "outputs": [],
   "source": []
  }
 ],
 "metadata": {
  "kernelspec": {
   "display_name": "Python 3",
   "language": "python",
   "name": "python3"
  },
  "language_info": {
   "codemirror_mode": {
    "name": "ipython",
    "version": 3
   },
   "file_extension": ".py",
   "mimetype": "text/x-python",
   "name": "python",
   "nbconvert_exporter": "python",
   "pygments_lexer": "ipython3",
   "version": "3.7.4"
  }
 },
 "nbformat": 4,
 "nbformat_minor": 2
}
