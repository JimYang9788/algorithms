{
 "cells": [
  {
   "cell_type": "code",
   "execution_count": null,
   "metadata": {},
   "outputs": [],
   "source": [
    "class Solution:\n",
    "    def longestConsecutive(self, nums: List[int]) -> int:\n",
    "        if not nums: return 0 \n",
    "        \n",
    "        nums.sort ()\n",
    "        longest = 1\n",
    "        currentLongest = 1 \n",
    "        for i in range (1, len(nums)):\n",
    "            if nums[i] - 1 == nums[i-1]:\n",
    "                currentLongest = currentLongest + 1 \n",
    "                longest = max (longest, currentLongest)\n",
    "            elif nums[i] == nums[i-1]:\n",
    "                continue \n",
    "            else:\n",
    "                currentLongest = 1 \n",
    "        return longest"
   ]
  }
 ],
 "metadata": {
  "kernelspec": {
   "display_name": "Python 3",
   "language": "python",
   "name": "python3"
  },
  "language_info": {
   "codemirror_mode": {
    "name": "ipython",
    "version": 3
   },
   "file_extension": ".py",
   "mimetype": "text/x-python",
   "name": "python",
   "nbconvert_exporter": "python",
   "pygments_lexer": "ipython3",
   "version": "3.7.4"
  }
 },
 "nbformat": 4,
 "nbformat_minor": 2
}
