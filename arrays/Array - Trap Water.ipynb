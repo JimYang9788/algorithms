{
 "cells": [
  {
   "cell_type": "code",
   "execution_count": null,
   "metadata": {},
   "outputs": [],
   "source": [
    "class Solution:\n",
    "    def trap(self, height: List[int]) -> int:\n",
    "        heights = height \n",
    "        if len(heights) <= 1:\n",
    "            return 0 \n",
    "\n",
    "        n = len(heights)\n",
    "        area = 0\n",
    "        leftToRight = [0 for i in range(n)]\n",
    "        rightToLeft = [0 for i in range(n)]\n",
    "\n",
    "        for i in range (n):\n",
    "            if i == 0:\n",
    "                leftToRight[i] = heights[i]\n",
    "            else:\n",
    "                leftToRight[i] = max(heights[i], leftToRight[i-1])\n",
    "\n",
    "        for i in  range (n-1, -1, -1):\n",
    "            if i == n - 1:\n",
    "                rightToLeft[i] = heights[i]\n",
    "            else:\n",
    "                rightToLeft[i] = max(heights[i], rightToLeft[i+1])\t\n",
    "\n",
    "\n",
    "        for i in range(0, n-1):\n",
    "            left,right = leftToRight[i] ,rightToLeft[i]\n",
    "            area += min(left, right) - heights[i]\n",
    "        return area"
   ]
  }
 ],
 "metadata": {
  "kernelspec": {
   "display_name": "Python 3",
   "language": "python",
   "name": "python3"
  },
  "language_info": {
   "codemirror_mode": {
    "name": "ipython",
    "version": 3
   },
   "file_extension": ".py",
   "mimetype": "text/x-python",
   "name": "python",
   "nbconvert_exporter": "python",
   "pygments_lexer": "ipython3",
   "version": "3.7.4"
  }
 },
 "nbformat": 4,
 "nbformat_minor": 2
}
