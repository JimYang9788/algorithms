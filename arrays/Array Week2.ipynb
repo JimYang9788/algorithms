{
 "cells": [
  {
   "cell_type": "markdown",
   "metadata": {},
   "source": [
    "# Array Week 2 \n",
    "## Review\n",
    "Last week I looked at some basic array functions. And the question dutch national flag problem, stated as \n",
    "\n",
    "\"Write a program that takes an array A and an index i into A, and rearrages the elements such that all elements less than A[i] appears first\"\n",
    "\n",
    "The best O(n) Time complexity method is to set the location of smaller, equal and larger. Then swap the location of the two based on the location of the pivot. "
   ]
  },
  {
   "cell_type": "code",
   "execution_count": 2,
   "metadata": {},
   "outputs": [],
   "source": [
    "def dutch_flag3 (A, i):\n",
    "    pivot = A[i]\n",
    "    smaller, equal, larger = 0,0,len(A)\n",
    "    while equal < larger:\n",
    "        if A[equal] < pivot:\n",
    "            A[smaller], A[equal] = A[equal], A[smaller]\n",
    "            smaller, equal = smaller + 1, equal + 1\n",
    "        elif A[equal] == pivot:\n",
    "            equal += 1 \n",
    "        else:\n",
    "            larger -= 1 \n",
    "            A[equal], A[larger] = A[larger], A[equal]\n",
    "    # Equal is the unclassified dude\n",
    "    # 其实是一个左右放pointer， 然后忘交界口进行交换的算法"
   ]
  },
  {
   "cell_type": "markdown",
   "metadata": {},
   "source": [
    "**Q1**: Sample Offline Data\n",
    "Implement an algorithm that takes an input array of distinct elements and a size, and returns a subset of the given size of the array elements. All subsets should be equally likely, Return the result in input array itself.\n"
   ]
  },
  {
   "cell_type": "code",
   "execution_count": 3,
   "metadata": {},
   "outputs": [],
   "source": [
    "import random\n",
    "## 利用index来随机选数字\n",
    "## 把randomly 选中的数字往前面放\n",
    "\n",
    "def sample_input (A,k):\n",
    "    for i in range (k):\n",
    "        r = random.randint(i,len(A)-1)\n",
    "        A[i],A[r] = A[r],A[i]"
   ]
  },
  {
   "cell_type": "markdown",
   "metadata": {},
   "source": [
    "**Q2**: Write a program which takes an n*n 2D array and returns the spiral ordering of the array "
   ]
  },
  {
   "cell_type": "code",
   "execution_count": 1,
   "metadata": {},
   "outputs": [],
   "source": [
    "# 特别烦人的一道题，主要考虑用Divide and Conquer去削减层次 \n",
    "def matrix_in_spiral_order (A):\n",
    "    def matrix_layer_in_clockwise (offset):\n",
    "        if offset == len (square_matrix) - offset -  1:\n",
    "            spiral_ordering.append (square_matrix[offset][offset])\n",
    "            return \n",
    "        \n",
    "        spiral_ordering.extend (square_matrix[offset][offset:-1 - offset])\n",
    "        spiral_ordering.extend (list(zip(*square_matrix))[-1 - offset][offset:-1-offset])\n",
    "        spiral_ordering.extend (square_matrix[-1-offset][-1-offset:offset:-1])\n",
    "        spiral_ordering.extend (list(zip(*square_matrix))[offset][-1 - offset])\n",
    "        \n",
    "    spiral_ordering = []\n",
    "    \n",
    "    for offset in range((len(square_matrix)+1)//2):\n",
    "        matrix_layer_in_clockwise(offset)\n",
    "        \n",
    "    return spiral_ordering\n",
    "\n",
    "        \n",
    "    "
   ]
  },
  {
   "cell_type": "markdown",
   "metadata": {},
   "source": [
    "Q3: Delete duplicates from a sorted array. Goal O(n) and O(1). Return the number of valid entries "
   ]
  },
  {
   "cell_type": "code",
   "execution_count": 6,
   "metadata": {},
   "outputs": [],
   "source": [
    "def remove_duplicate(A):\n",
    "    if not A:\n",
    "        return 0\n",
    "    \n",
    "    write_index = 1\n",
    "    for i in range (1,len (A)):\n",
    "        if A[i] != A[write_index -1]:\n",
    "            write_index += 1 \n",
    "            A[write_index] = A[i]\n",
    "            \n",
    "    return write_index "
   ]
  },
  {
   "cell_type": "markdown",
   "metadata": {},
   "source": [
    "Q4: Write a program that takes an integer argument and returns all the primes between 1 and that integer.\n",
    "18 -> [2,3,5,7,11,13,17]"
   ]
  },
  {
   "cell_type": "code",
   "execution_count": 14,
   "metadata": {},
   "outputs": [],
   "source": [
    "# Works, but is a horrible brute force solution\n",
    "def get_prime_list(n):\n",
    "    def is_prime (n):\n",
    "        if n == 1:\n",
    "            return True\n",
    "        if n == 2:\n",
    "            return False\n",
    "        for i in range (2, n//2):\n",
    "            if n % i == 0:\n",
    "                return False\n",
    "        return True\n",
    "    res = []\n",
    "    for i in range (1,n):\n",
    "        if is_prime (i):\n",
    "            res.append (i)\n",
    "    return res "
   ]
  },
  {
   "cell_type": "code",
   "execution_count": 15,
   "metadata": {},
   "outputs": [
    {
     "data": {
      "text/plain": [
       "[1, 3]"
      ]
     },
     "execution_count": 15,
     "metadata": {},
     "output_type": "execute_result"
    }
   ],
   "source": [
    "get_prime_list (4)"
   ]
  }
 ],
 "metadata": {
  "kernelspec": {
   "display_name": "Python 3",
   "language": "python",
   "name": "python3"
  },
  "language_info": {
   "codemirror_mode": {
    "name": "ipython",
    "version": 3
   },
   "file_extension": ".py",
   "mimetype": "text/x-python",
   "name": "python",
   "nbconvert_exporter": "python",
   "pygments_lexer": "ipython3",
   "version": "3.7.4"
  }
 },
 "nbformat": 4,
 "nbformat_minor": 2
}
