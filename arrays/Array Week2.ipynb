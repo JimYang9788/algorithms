{
 "cells": [
  {
   "cell_type": "markdown",
   "metadata": {},
   "source": [
    "# Array Week 2 \n",
    "## Review\n",
    "Last week I looked at some basic array functions. And the question dutch national flag problem, stated as \n",
    "\n",
    "\"Write a program that takes an array A and an index i into A, and rearrages the elements such that all elements less than A[i] appears first\"\n",
    "\n",
    "The best O(n) Time complexity method is to set the location of smaller, equal and larger. Then swap the location of the two based on the location of the pivot. "
   ]
  },
  {
   "cell_type": "code",
   "execution_count": 2,
   "metadata": {},
   "outputs": [],
   "source": [
    "def dutch_flag3 (A, i):\n",
    "    pivot = A[i]\n",
    "    smaller, equal, larger = 0,0,len(A)\n",
    "    while equal < larger:\n",
    "        if A[equal] < pivot:\n",
    "            A[smaller], A[equal] = A[equal], A[smaller]\n",
    "            smaller, equal = smaller + 1, equal + 1\n",
    "        elif A[equal] == pivot:\n",
    "            equal += 1 \n",
    "        else:\n",
    "            larger -= 1 \n",
    "            A[equal], A[larger] = A[larger], A[equal]\n",
    "    # Equal is the unclassified dude\n",
    "    # 其实是一个左右放pointer， 然后忘交界口进行交换的算法"
   ]
  },
  {
   "cell_type": "markdown",
   "metadata": {},
   "source": [
    "**Q1**: Sample Offline Data\n",
    "Implement an algorithm that takes an input array of distinct elements and a size, and returns a subset of the given size of the array elements. All subsets should be equally likely, Return the result in input array itself.\n"
   ]
  },
  {
   "cell_type": "code",
   "execution_count": 3,
   "metadata": {},
   "outputs": [],
   "source": [
    "import random\n",
    "## 利用index来随机选数字\n",
    "## 把randomly 选中的数字往前面放\n",
    "\n",
    "def sample_input (A,k):\n",
    "    for i in range (k):\n",
    "        r = random.randint(i,len(A)-1)\n",
    "        A[i],A[r] = A[r],A[i]"
   ]
  },
  {
   "cell_type": "code",
   "execution_count": null,
   "metadata": {},
   "outputs": [],
   "source": []
  }
 ],
 "metadata": {
  "kernelspec": {
   "display_name": "Python 3",
   "language": "python",
   "name": "python3"
  },
  "language_info": {
   "codemirror_mode": {
    "name": "ipython",
    "version": 3
   },
   "file_extension": ".py",
   "mimetype": "text/x-python",
   "name": "python",
   "nbconvert_exporter": "python",
   "pygments_lexer": "ipython3",
   "version": "3.7.4"
  }
 },
 "nbformat": 4,
 "nbformat_minor": 2
}
