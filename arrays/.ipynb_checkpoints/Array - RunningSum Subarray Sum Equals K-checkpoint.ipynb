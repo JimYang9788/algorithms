{
 "cells": [
  {
   "cell_type": "code",
   "execution_count": 2,
   "metadata": {},
   "outputs": [],
   "source": [
    "class Solution:\n",
    "    def subarraySum(self, nums):\n",
    "        hashmap = {0:1}\n",
    "        TS = 0\n",
    "        count = 0 \n",
    "        for i,num in enumerate (nums):\n",
    "            TS += num \n",
    "            if TS - k in hashmap:\n",
    "                count += hashmap[TS-k] \n",
    "                                \n",
    "            if TS in hashmap:\n",
    "                hashmap[TS] += 1 \n",
    "            else:\n",
    "                hashmap[TS] = 1 \n",
    "        return count "
   ]
  }
 ],
 "metadata": {
  "kernelspec": {
   "display_name": "Python 3",
   "language": "python",
   "name": "python3"
  },
  "language_info": {
   "codemirror_mode": {
    "name": "ipython",
    "version": 3
   },
   "file_extension": ".py",
   "mimetype": "text/x-python",
   "name": "python",
   "nbconvert_exporter": "python",
   "pygments_lexer": "ipython3",
   "version": "3.7.4"
  }
 },
 "nbformat": 4,
 "nbformat_minor": 2
}
