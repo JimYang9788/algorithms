{
 "cells": [
  {
   "cell_type": "code",
   "execution_count": 3,
   "metadata": {},
   "outputs": [],
   "source": [
    "class Solution:\n",
    "    def shuffle(self, nums, n: int):\n",
    "        if len(nums) <= 2: return nums\n",
    "        res = [ ]\n",
    "        for i in range(0,n):\n",
    "            res.append(nums[i])\n",
    "            res.append(nums[n+i])\n",
    "        return res "
   ]
  },
  {
   "cell_type": "code",
   "execution_count": 4,
   "metadata": {},
   "outputs": [],
   "source": [
    "    def shuffle(self, nums, n: int):\n",
    "        getDesireIdx = lambda i: i*2 if i<n else (i-n)*2+1\n",
    "        for i in range(2*n):\n",
    "            j=i\n",
    "            while nums[i]>=0:\n",
    "                j=getDesireIdx(j)\n",
    "                nums[i],nums[j]=nums[j],-nums[i]\n",
    "        for i in range(2*n):\n",
    "            nums[i]=-nums[i]\n",
    "        return nums"
   ]
  },
  {
   "cell_type": "code",
   "execution_count": null,
   "metadata": {},
   "outputs": [],
   "source": []
  }
 ],
 "metadata": {
  "kernelspec": {
   "display_name": "Python 3",
   "language": "python",
   "name": "python3"
  },
  "language_info": {
   "codemirror_mode": {
    "name": "ipython",
    "version": 3
   },
   "file_extension": ".py",
   "mimetype": "text/x-python",
   "name": "python",
   "nbconvert_exporter": "python",
   "pygments_lexer": "ipython3",
   "version": "3.7.4"
  }
 },
 "nbformat": 4,
 "nbformat_minor": 2
}
