{
 "cells": [
  {
   "cell_type": "code",
   "execution_count": 18,
   "metadata": {},
   "outputs": [],
   "source": [
    "def candy_crush(array,k=3):\n",
    "    \n",
    "    R,C = len(array), len(array[0])\n",
    "    redo = False \n",
    "    \n",
    "    # Flag Row \n",
    "    for r in range (R-2):\n",
    "        for c in range (C):\n",
    "            if abs(array[r][c]) == abs(array[r+1][c]) == abs(array[r+2][c]) and array[r][c] != 0:\n",
    "                array[r][c] = array[r+1][c] = array[r+2][c] = -abs(array[r][c])\n",
    "                redo = True \n",
    "    # Flag Col \n",
    "    for r in range (R):\n",
    "        for c in range (C-2):\n",
    "            if abs(array[r][c]) == abs(array[r][c+1]) == abs(array[r][c+2]) and array[r][c] != 0:\n",
    "                array[r][c] = array[r][c+1] = array[r][c+2] = -abs(array[r][c])\n",
    "                redo = True \n",
    "    \n",
    "    # Start Reduce \n",
    "    for c in range (C):\n",
    "        wr = R-1\n",
    "        for r in range (R-1,-1,-1):\n",
    "            if array[r][c] > 0:\n",
    "                array[wr][c] = array[r][c]\n",
    "                wr -= 1 \n",
    "        for wr in range (wr, -1, -1):\n",
    "            array[wr][c] = 0\n",
    "    \n",
    "    if redo:\n",
    "        return candy_crush(array)\n",
    "    else:\n",
    "        return array\n",
    "                \n",
    "    "
   ]
  },
  {
   "cell_type": "code",
   "execution_count": 19,
   "metadata": {},
   "outputs": [],
   "source": [
    "board = [[110,5,112,113,114],[210,211,5,213,214],[310,311,3,313,314],[410,411,412,5,414],[5,1,512,3,3],[610,4,1,613,614],[710,1,2,713,714],[810,1,2,1,1],[1,1,2,2,2],[4,1,4,4,1014]]"
   ]
  },
  {
   "cell_type": "code",
   "execution_count": 20,
   "metadata": {},
   "outputs": [
    {
     "data": {
      "text/plain": [
       "[[0, 0, 0, 0, 0],\n",
       " [0, 0, 0, 0, 0],\n",
       " [0, 0, 0, 0, 0],\n",
       " [110, 0, 0, 0, 114],\n",
       " [210, 0, 0, 0, 214],\n",
       " [310, 0, 0, 113, 314],\n",
       " [410, 0, 0, 213, 414],\n",
       " [610, 211, 112, 313, 614],\n",
       " [710, 311, 412, 613, 714],\n",
       " [810, 411, 512, 713, 1014]]"
      ]
     },
     "execution_count": 20,
     "metadata": {},
     "output_type": "execute_result"
    }
   ],
   "source": [
    "candy_crush(board)"
   ]
  },
  {
   "cell_type": "code",
   "execution_count": null,
   "metadata": {},
   "outputs": [],
   "source": []
  }
 ],
 "metadata": {
  "kernelspec": {
   "display_name": "Python 3",
   "language": "python",
   "name": "python3"
  },
  "language_info": {
   "codemirror_mode": {
    "name": "ipython",
    "version": 3
   },
   "file_extension": ".py",
   "mimetype": "text/x-python",
   "name": "python",
   "nbconvert_exporter": "python",
   "pygments_lexer": "ipython3",
   "version": "3.7.4"
  }
 },
 "nbformat": 4,
 "nbformat_minor": 2
}
