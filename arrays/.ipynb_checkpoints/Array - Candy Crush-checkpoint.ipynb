{
 "cells": [
  {
   "cell_type": "code",
   "execution_count": 28,
   "metadata": {},
   "outputs": [],
   "source": [
    "def candyCrush(board):\n",
    "    k =3\n",
    "    array = board\n",
    "    R,C = len(array), len(array[0])\n",
    "    redo = False \n",
    "\n",
    "    def update_row_crush(r,c,k=3):\n",
    "        target = abs(array[r][c])\n",
    "        if target == 0: return False \n",
    "\n",
    "        for i in range (k):\n",
    "            if abs(array[r+i][c]) != target:\n",
    "                return False\n",
    "\n",
    "        for i in range (k):\n",
    "            array[r+i][c] = -abs(target)\n",
    "        return True \n",
    "\n",
    "    def update_col_crush(r,c,k=3):\n",
    "\n",
    "        target = abs(array[r][c])\n",
    "        if target == 0: return False \n",
    "\n",
    "        for i in range (k):\n",
    "            if abs(array[r][c+i]) != target:\n",
    "                return False\n",
    "        for i in range (k):\n",
    "            array[r][c+i] = -abs(target)\n",
    "        return True  \n",
    "\n",
    "\n",
    "    # Flag Row \n",
    "    for r in range (R-2):\n",
    "        for c in range (C):\n",
    "            if update_row_crush(r,c,k):\n",
    "                redo = True \n",
    "    # Flag Col \n",
    "    for r in range (R):\n",
    "        for c in range (C-2):\n",
    "            if update_col_crush(r,c,k):\n",
    "                redo = True \n",
    "\n",
    "    # Start Reduce \n",
    "    for c in range (C):\n",
    "        wr = R-1\n",
    "        for r in range (R-1,-1,-1):\n",
    "            if array[r][c] > 0:\n",
    "                array[wr][c] = array[r][c]\n",
    "                wr -= 1 \n",
    "        for wr in range (wr, -1, -1):\n",
    "            array[wr][c] = 0\n",
    "    if redo:\n",
    "        return candyCrush(array)\n",
    "    else:\n",
    "        return array\n",
    "\n"
   ]
  },
  {
   "cell_type": "code",
   "execution_count": 29,
   "metadata": {},
   "outputs": [],
   "source": [
    "board = [[110,5,112,113,114],[210,211,5,213,214],[310,311,3,313,314],[410,411,412,5,414],[5,1,512,3,3],[610,4,1,613,614],[710,1,2,713,714],[810,1,2,1,1],[1,1,2,2,2],[4,1,4,4,1014]]"
   ]
  },
  {
   "cell_type": "code",
   "execution_count": 30,
   "metadata": {},
   "outputs": [
    {
     "data": {
      "text/plain": [
       "[[110, 0, 0, 113, 114],\n",
       " [210, 0, 0, 213, 214],\n",
       " [310, 0, 0, 313, 314],\n",
       " [410, 5, 112, 5, 414],\n",
       " [5, 211, 5, 3, 3],\n",
       " [610, 311, 3, 613, 614],\n",
       " [710, 411, 412, 713, 714],\n",
       " [810, 1, 512, 1, 1],\n",
       " [1, 4, 1, 2, 2],\n",
       " [4, 1, 4, 4, 1014]]"
      ]
     },
     "execution_count": 30,
     "metadata": {},
     "output_type": "execute_result"
    }
   ],
   "source": [
    "candy_crush(board)"
   ]
  },
  {
   "cell_type": "code",
   "execution_count": null,
   "metadata": {},
   "outputs": [],
   "source": []
  }
 ],
 "metadata": {
  "kernelspec": {
   "display_name": "Python 3",
   "language": "python",
   "name": "python3"
  },
  "language_info": {
   "codemirror_mode": {
    "name": "ipython",
    "version": 3
   },
   "file_extension": ".py",
   "mimetype": "text/x-python",
   "name": "python",
   "nbconvert_exporter": "python",
   "pygments_lexer": "ipython3",
   "version": "3.7.4"
  }
 },
 "nbformat": 4,
 "nbformat_minor": 2
}
