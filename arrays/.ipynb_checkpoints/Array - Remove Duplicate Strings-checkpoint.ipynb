{
 "cells": [
  {
   "cell_type": "code",
   "execution_count": null,
   "metadata": {},
   "outputs": [],
   "source": [
    "class Solution:\n",
    "    def removeDuplicates(self, s: str, k: int) -> str:\n",
    "        # 1. Sliding window Removing substring of length 3 \n",
    "        \n",
    "        # 2. Repeat \n",
    "        array = list (s)\n",
    "        count = 1\n",
    "        \n",
    "        times = 0\n",
    "        while times < len(s):\n",
    "            for i in range (len(array)):\n",
    "                if i != 0 and array[i] == array[i - 1]:\n",
    "                    count += 1 \n",
    "                else:\n",
    "                    count = 1 \n",
    "                    \n",
    "                if count == k:\n",
    "                    del array[i - k + 1:i+1]\n",
    "                    count = 1\n",
    "                    break\n",
    "            times += 1 \n",
    "                \n",
    "        return ''.join(array)"
   ]
  }
 ],
 "metadata": {
  "kernelspec": {
   "display_name": "Python 3",
   "language": "python",
   "name": "python3"
  },
  "language_info": {
   "codemirror_mode": {
    "name": "ipython",
    "version": 3
   },
   "file_extension": ".py",
   "mimetype": "text/x-python",
   "name": "python",
   "nbconvert_exporter": "python",
   "pygments_lexer": "ipython3",
   "version": "3.7.4"
  }
 },
 "nbformat": 4,
 "nbformat_minor": 2
}
