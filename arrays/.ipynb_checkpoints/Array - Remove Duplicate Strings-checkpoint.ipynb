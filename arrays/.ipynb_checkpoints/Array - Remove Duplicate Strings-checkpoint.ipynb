{
 "cells": [
  {
   "cell_type": "code",
   "execution_count": 1,
   "metadata": {},
   "outputs": [],
   "source": [
    "class Solution:\n",
    "    def removeDuplicates(self, s: str, k: int) -> str:\n",
    "        # 1. Sliding window Removing substring of length 3 \n",
    "        \n",
    "        # 2. Repeat \n",
    "        array = list (s)\n",
    "        count = 1\n",
    "        \n",
    "        times = 0\n",
    "        while times < len(s):\n",
    "            for i in range (len(array)):\n",
    "                if i != 0 and array[i] == array[i - 1]:\n",
    "                    count += 1 \n",
    "                else:\n",
    "                    count = 1 \n",
    "                    \n",
    "                if count == k:\n",
    "                    del array[i - k + 1:i+1]\n",
    "                    count = 1\n",
    "                    break\n",
    "            times += 1 \n",
    "                \n",
    "        return ''.join(array)"
   ]
  },
  {
   "cell_type": "code",
   "execution_count": 2,
   "metadata": {},
   "outputs": [],
   "source": [
    "class Solution:\n",
    "    # Method 2 Using a stack\n",
    "    def removeDuplicates(self, s: str, k: int) -> str:\n",
    "        # Use a stack \n",
    "        stack = []\n",
    "        \n",
    "        for i in range (len(s)):\n",
    "            if not stack or s[i] != stack[-1][0]:\n",
    "                stack.append ([s[i], 1])\n",
    "            \n",
    "            else:\n",
    "                stack[-1][1] += 1 \n",
    "\n",
    "            \n",
    "            while stack and stack[-1][1] >= k:\n",
    "                stack.pop()\n",
    "        \n",
    "        res = \"\"\n",
    "        for i in range (len(stack)):\n",
    "            for repeat in range (stack[i][1]):\n",
    "                res += stack[i][0] \n",
    "        return res "
   ]
  },
  {
   "cell_type": "code",
   "execution_count": null,
   "metadata": {},
   "outputs": [],
   "source": [
    "class Solution:\n",
    "    def removeDuplicates(self, s: str, k: int) -> str:\n",
    "        # Use memoization \n",
    "        # count {i: times} track the number of times s[i] has appeared\n",
    "        s = list(s)\n",
    "        count = {}\n",
    "        i = 0 \n",
    "        while i < (len(s)):\n",
    "            # Same element\n",
    "            if i != 0 and s[i] == s[i-1]:\n",
    "                count [i] = count [i - 1] + 1 \n",
    "            \n",
    "            else:\n",
    "                count [i] = 1 \n",
    "            \n",
    "            if count [i] == k:\n",
    "                del s[i - k + 1: i + 1]\n",
    "                i = i - k \n",
    "                \n",
    "            i += 1 \n",
    "            \n",
    "        return \"\".join(s)\n",
    "            \n",
    "        \n",
    "        "
   ]
  }
 ],
 "metadata": {
  "kernelspec": {
   "display_name": "Python 3",
   "language": "python",
   "name": "python3"
  },
  "language_info": {
   "codemirror_mode": {
    "name": "ipython",
    "version": 3
   },
   "file_extension": ".py",
   "mimetype": "text/x-python",
   "name": "python",
   "nbconvert_exporter": "python",
   "pygments_lexer": "ipython3",
   "version": "3.7.4"
  }
 },
 "nbformat": 4,
 "nbformat_minor": 2
}
