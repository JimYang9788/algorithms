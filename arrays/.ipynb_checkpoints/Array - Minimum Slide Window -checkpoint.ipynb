{
 "cells": [
  {
   "cell_type": "markdown",
   "metadata": {},
   "source": [
    "Algorithm\n",
    "\n",
    "We start with two pointers, leftleft and rightright initially pointing to the first element of the string SS.\n",
    "\n",
    "We use the rightright pointer to expand the window until we get a desirable window i.e. a window that contains all of the characters of TT.\n",
    "\n",
    "Once we have a window with all the characters, we can move the left pointer ahead one by one. If the window is still a desirable one we keep on updating the minimum window size.\n",
    "\n",
    "If the window is not desirable any more, we repeat step \\; 2step2 onwards.\n",
    "\n"
   ]
  },
  {
   "cell_type": "code",
   "execution_count": 1,
   "metadata": {},
   "outputs": [],
   "source": [
    "def minWindow(self, s, t):\n",
    "    \"\"\"\n",
    "    :type s: str\n",
    "    :type t: str\n",
    "    :rtype: str\n",
    "    \"\"\"\n",
    "\n",
    "    if not t or not s:\n",
    "        return \"\"\n",
    "\n",
    "    # Dictionary which keeps a count of all the unique characters in t.\n",
    "    dict_t = Counter(t)\n",
    "\n",
    "    # Number of unique characters in t, which need to be present in the desired window.\n",
    "    required = len(dict_t)\n",
    "\n",
    "    # left and right pointer\n",
    "    l, r = 0, 0\n",
    "\n",
    "    # formed is used to keep track of how many unique characters in t are present in the current window in its desired frequency.\n",
    "    # e.g. if t is \"AABC\" then the window must have two A's, one B and one C. Thus formed would be = 3 when all these conditions are met.\n",
    "    formed = 0\n",
    "\n",
    "    # Dictionary which keeps a count of all the unique characters in the current window.\n",
    "    window_counts = {}\n",
    "\n",
    "    # ans tuple of the form (window length, left, right)\n",
    "    ans = float(\"inf\"), None, None\n",
    "\n",
    "    while r < len(s):\n",
    "\n",
    "        # Add one character from the right to the window\n",
    "        character = s[r]\n",
    "        window_counts[character] = window_counts.get(character, 0) + 1\n",
    "\n",
    "        # If the frequency of the current character added equals to the desired count in t then increment the formed count by 1.\n",
    "        if character in dict_t and window_counts[character] == dict_t[character]:\n",
    "            formed += 1\n",
    "\n",
    "        # Try and contract the window till the point where it ceases to be 'desirable'.\n",
    "        while l <= r and formed == required:\n",
    "            character = s[l]\n",
    "\n",
    "            # Save the smallest window until now.\n",
    "            if r - l + 1 < ans[0]:\n",
    "                ans = (r - l + 1, l, r)\n",
    "\n",
    "            # The character at the position pointed by the `left` pointer is no longer a part of the window.\n",
    "            window_counts[character] -= 1\n",
    "            if character in dict_t and window_counts[character] < dict_t[character]:\n",
    "                formed -= 1\n",
    "\n",
    "            # Move the left pointer ahead, this would help to look for a new window.\n",
    "            l += 1    \n",
    "\n",
    "        # Keep expanding the window once we are done contracting.\n",
    "        r += 1    \n",
    "    return \"\" if ans[0] == float(\"inf\") else s[ans[1] : ans[2] + 1]"
   ]
  }
 ],
 "metadata": {
  "kernelspec": {
   "display_name": "Python 3",
   "language": "python",
   "name": "python3"
  },
  "language_info": {
   "codemirror_mode": {
    "name": "ipython",
    "version": 3
   },
   "file_extension": ".py",
   "mimetype": "text/x-python",
   "name": "python",
   "nbconvert_exporter": "python",
   "pygments_lexer": "ipython3",
   "version": "3.7.4"
  }
 },
 "nbformat": 4,
 "nbformat_minor": 2
}
