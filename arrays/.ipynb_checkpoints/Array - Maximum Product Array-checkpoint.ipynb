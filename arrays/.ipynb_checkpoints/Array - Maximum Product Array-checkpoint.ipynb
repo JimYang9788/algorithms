{
 "cells": [
  {
   "cell_type": "code",
   "execution_count": null,
   "metadata": {},
   "outputs": [],
   "source": [
    "class Solution:\n",
    "    def maxProduct(self, nums: List[int]) -> int:\n",
    "        if not nums:return 0 \n",
    "        \n",
    "        # 用一个类似于State Machine的方法来处理\n",
    "        \n",
    "        currentMax = nums[0] # 记录包含nums[i]的最大值\n",
    "        currentMin = nums[0] # 记录包含nums[i]的最小值\n",
    "        \n",
    "        res = nums[0] # 记录最后答案\n",
    "        \n",
    "        \n",
    "        for i in range (1, len(nums)):\n",
    "                        \n",
    "            # 目前包括nums[i]的最大和最小值，应该分别建立与上两个最大最小值之上\n",
    "            currentMax, currentMin= max(nums[i], currentMin * nums[i], currentMax * nums[i]),\\\n",
    "                                    min(nums[i], currentMin * nums[i], currentMax * nums[i])\n",
    "            \n",
    "            res = max(currentMax, currentMin,res)         \n",
    "            \n",
    "        return res"
   ]
  }
 ],
 "metadata": {
  "kernelspec": {
   "display_name": "Python 3",
   "language": "python",
   "name": "python3"
  },
  "language_info": {
   "codemirror_mode": {
    "name": "ipython",
    "version": 3
   },
   "file_extension": ".py",
   "mimetype": "text/x-python",
   "name": "python",
   "nbconvert_exporter": "python",
   "pygments_lexer": "ipython3",
   "version": "3.7.4"
  }
 },
 "nbformat": 4,
 "nbformat_minor": 2
}
