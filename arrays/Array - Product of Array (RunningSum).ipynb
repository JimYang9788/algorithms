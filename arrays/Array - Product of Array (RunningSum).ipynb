{
 "cells": [
  {
   "cell_type": "code",
   "execution_count": 1,
   "metadata": {},
   "outputs": [],
   "source": [
    "def arrayOfProducts(array):\n",
    "\tif not array: return array\n",
    "    # Write your code here.\n",
    "\n",
    "\tlproduct = [1] * len(array)\n",
    "\trproduct = [1] * len(array)\n",
    "\t\n",
    "\tfor i in range(len(array)):\n",
    "\t\tif i >= 1:\n",
    "\t\t\tlproduct[i] = lproduct[i-1] * array[i-1]\n",
    "\t\t\n",
    "\tfor i in reversed(range(len(array))):\n",
    "\t\tif i < len(array) - 1 :\n",
    "\t\t\trproduct[i] = rproduct[i+1] * array[i+1]\n",
    "\t\t\n",
    "\toutput = [0] * len(array)\n",
    "\t\n",
    "\tfor i in range(len(array)):\n",
    "\t\toutput[i] = lproduct[i] * rproduct[i] \n",
    "\t\t\n",
    "\treturn output \n",
    "\t\t"
   ]
  },
  {
   "cell_type": "code",
   "execution_count": null,
   "metadata": {},
   "outputs": [],
   "source": []
  }
 ],
 "metadata": {
  "kernelspec": {
   "display_name": "Python 3",
   "language": "python",
   "name": "python3"
  },
  "language_info": {
   "codemirror_mode": {
    "name": "ipython",
    "version": 3
   },
   "file_extension": ".py",
   "mimetype": "text/x-python",
   "name": "python",
   "nbconvert_exporter": "python",
   "pygments_lexer": "ipython3",
   "version": "3.7.4"
  }
 },
 "nbformat": 4,
 "nbformat_minor": 2
}
