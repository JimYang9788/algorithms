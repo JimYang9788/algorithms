{
 "cells": [
  {
   "cell_type": "code",
   "execution_count": 5,
   "metadata": {},
   "outputs": [],
   "source": [
    "def threeDivSubsequences(number):   \n",
    "    res = 0 \n",
    "    for i in range (len(number)):\n",
    "        if number[i] == '0':\n",
    "            res += 1 \n",
    "            \n",
    "            continue \n",
    "        for j in range (i, len(number)):\n",
    "            print (number[i:j])\n",
    "            cur = int (''.join(number[i:j]))\n",
    "            if cur % 3 == 0:\n",
    "                res += 1 \n",
    "    \n",
    "    return res "
   ]
  },
  {
   "cell_type": "code",
   "execution_count": 7,
   "metadata": {},
   "outputs": [
    {
     "name": "stdout",
     "output_type": "stream",
     "text": [
      "\n"
     ]
    }
   ],
   "source": [
    "print (\"2\"[0:0])"
   ]
  },
  {
   "cell_type": "code",
   "execution_count": 113,
   "metadata": {},
   "outputs": [],
   "source": [
    "def implementTextEditor2(operations):\n",
    "    \n",
    "    res = \"\"\n",
    "    cursor = 0 \n",
    "    selectedStart, selectedEnd = 0,0\n",
    "    clipboard = []\n",
    "    for op in operations:\n",
    "        command =  op.split (\" \")[0]\n",
    "        if command == 'TYPE':\n",
    "            content = op[5:]\n",
    "            if selectedStart == selectedEnd:\n",
    "                # Nothing selected:\n",
    "                res = res[:cursor] + content + res[cursor:]\n",
    "                cursor += len(content)\n",
    "            else:\n",
    "                # There are shit selected \n",
    "                res = res[:selectedStart] + content + res[selectedEnd+1:]   \n",
    "                cursor = selectedStart + len(content)\n",
    "            \n",
    "            selectedStart, selectedEnd = 0,0\n",
    "        \n",
    "        elif command == 'SELECT':\n",
    "            start,end = int (op.split(\" \")[1]), int(op.split(\" \")[2])\n",
    "            selectedStart, selectedEnd = start, end\n",
    "            cursor = selectedEnd + 1 \n",
    "        \n",
    "        elif command == 'MOVE_CURSOR':\n",
    "            offset =  int(op.split (\" \")[1])\n",
    "            cursor += offset \n",
    "            selectedStart, selectedEnd = 0,0\n",
    "\n",
    "        elif command == 'COPY':\n",
    "            if selectedStart != selectedEnd:\n",
    "                clipboard.append (res[selectedStart:selectedEnd+1])\n",
    "            \n",
    "        elif command == 'PASTE':\n",
    "            offset = 0\n",
    "            if len(op.split (\" \")) == 1:\n",
    "                offset = 1 \n",
    "            else:\n",
    "                offset = int(op.split (\" \")[1])\n",
    "                \n",
    "            if offset > len(clipboard):\n",
    "                continue \n",
    "            \n",
    "            if selectedStart == selectedEnd:\n",
    "                # Nothing selected:\n",
    "                res = res[:cursor] + clipboard[-offset] + res[cursor:]\n",
    "                cursor = cursor + len(clipboard[-offset]) \n",
    "            else:\n",
    "                # There are shit selected \n",
    "                res = res[:selectedStart] + clipboard[-offset] + res[selectedEnd+1:]\n",
    "                cursor = selectedStart + len(clipboard[-offset])\n",
    "            selectedStart, selectedEnd = 0,0\n",
    "        print (res, command, 'cursor:', cursor,'start:', selectedStart, 'end',selectedEnd, clipboard)\n",
    "\n",
    " \n",
    "    return res \n",
    "            \n",
    "            \n",
    "    \n"
   ]
  },
  {
   "cell_type": "code",
   "execution_count": 120,
   "metadata": {},
   "outputs": [],
   "source": [
    "data  =[\"TYPE verylongtext 123\", \n",
    " \"SELECT 0 15\",\n",
    "\"COPY\",\n",
    "\"SELECT 0 0\",\n",
    "\n",
    "\"PASTE\",\"PASTE 1\", \"PASTE 2\"]\n"
   ]
  },
  {
   "cell_type": "code",
   "execution_count": 121,
   "metadata": {},
   "outputs": [
    {
     "name": "stdout",
     "output_type": "stream",
     "text": [
      "verylongtext 123 TYPE cursor: 16 start: 0 end 0 []\n",
      "verylongtext 123 SELECT cursor: 16 start: 0 end 15 []\n",
      "verylongtext 123 COPY cursor: 16 start: 0 end 15 ['verylongtext 123']\n",
      "verylongtext 123 SELECT cursor: 1 start: 0 end 0 ['verylongtext 123']\n",
      "vverylongtext 123erylongtext 123 PASTE cursor: 17 start: 0 end 0 ['verylongtext 123']\n",
      "vverylongtext 123verylongtext 123erylongtext 123 PASTE cursor: 33 start: 0 end 0 ['verylongtext 123']\n"
     ]
    },
    {
     "data": {
      "text/plain": [
       "'vverylongtext 123verylongtext 123erylongtext 123'"
      ]
     },
     "execution_count": 121,
     "metadata": {},
     "output_type": "execute_result"
    }
   ],
   "source": [
    "implementTextEditor2(data)"
   ]
  },
  {
   "cell_type": "code",
   "execution_count": null,
   "metadata": {},
   "outputs": [],
   "source": []
  },
  {
   "cell_type": "code",
   "execution_count": null,
   "metadata": {},
   "outputs": [],
   "source": []
  }
 ],
 "metadata": {
  "kernelspec": {
   "display_name": "Python 3",
   "language": "python",
   "name": "python3"
  },
  "language_info": {
   "codemirror_mode": {
    "name": "ipython",
    "version": 3
   },
   "file_extension": ".py",
   "mimetype": "text/x-python",
   "name": "python",
   "nbconvert_exporter": "python",
   "pygments_lexer": "ipython3",
   "version": "3.7.4"
  }
 },
 "nbformat": 4,
 "nbformat_minor": 2
}
