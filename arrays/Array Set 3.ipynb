{
 "cells": [
  {
   "cell_type": "markdown",
   "metadata": {},
   "source": [
    "#### Jump Game \n",
    "Given an array of non-negative integers, you are initially positioned at the first index of the array.\n",
    "\n",
    "Each element in the array represents your maximum jump length at that position.\n",
    "\n",
    "Determine if you are able to reach the last index.\n",
    "\n",
    " \n",
    "\n",
    "Example 1:\n",
    "\n",
    "Input: nums = [2,3,1,1,4]\n",
    "Output: true\n",
    "Explanation: Jump 1 step from index 0 to 1, then 3 steps to the last index.\n",
    "Example 2:\n",
    "\n",
    "Input: nums = [3,2,1,0,4]\n",
    "Output: false\n",
    "Explanation: You will always arrive at index 3 no matter what. Its maximum jump length is 0, which makes it impossible to reach the last index.\n",
    " \n",
    "\n",
    "Constraints:\n",
    "\n",
    "1 <= nums.length <= 3 * 10^4\n",
    "0 <= nums[i][j] <= 10^5"
   ]
  },
  {
   "cell_type": "code",
   "execution_count": 9,
   "metadata": {},
   "outputs": [
    {
     "data": {
      "text/plain": [
       "True"
      ]
     },
     "execution_count": 9,
     "metadata": {},
     "output_type": "execute_result"
    }
   ],
   "source": [
    "# Brute Force \n",
    "class Solution:\n",
    "    def canJump(self, nums):\n",
    "        def DFS (nums, cur_idx):\n",
    "            if cur_idx == len(nums) - 1:\n",
    "                return True \n",
    "            else:\n",
    "                for i in range (1,nums[cur_idx]+1):\n",
    "                    return DFS (nums, cur_idx + i)\n",
    "                return False\n",
    "        return DFS (nums, 0)\n",
    "\n",
    "Solution().canJump([2,3,1,1,4])\n",
    "        "
   ]
  },
  {
   "cell_type": "code",
   "execution_count": 17,
   "metadata": {},
   "outputs": [
    {
     "data": {
      "text/plain": [
       "True"
      ]
     },
     "execution_count": 17,
     "metadata": {},
     "output_type": "execute_result"
    }
   ],
   "source": [
    "# Memoization\n",
    "class Solution:\n",
    "\n",
    "    def canJump(self, nums):\n",
    "        \n",
    "        can_jump_map = {idx:-1 for idx, val in enumerate(nums)}\n",
    "        \n",
    "        def DFS (nums, cur_idx):\n",
    "            \n",
    "            if cur_idx == len(nums) - 1:\n",
    "                return True \n",
    "            if can_jump_map [cur_idx] != -1:\n",
    "                return can_jump_map [cur_idx]\n",
    "            else:\n",
    "                for i in range (1,nums[cur_idx]+1):\n",
    "                    res = DFS (nums, cur_idx + i)\n",
    "                    if res == True:\n",
    "                        can_jump_map[cur_idx] = True \n",
    "                        return True \n",
    "                can_jump_map [cur_idx] = False\n",
    "                return False\n",
    "        return DFS (nums, 0)\n",
    "\n",
    "Solution().canJump([3,0,0,1,4])\n",
    "        "
   ]
  },
  {
   "cell_type": "code",
   "execution_count": 19,
   "metadata": {},
   "outputs": [],
   "source": [
    "# Iteratively update last position method\n",
    "class Solution:\n",
    "    def canJump(self, nums) -> bool:\n",
    "        last_position = len(nums)-1  \n",
    "        for i in range(len(nums)-2,-1,-1): \n",
    "            if (i + nums[i]) >= last_position: \n",
    "                last_position = i \n",
    "        return last_position == 0\t"
   ]
  },
  {
   "cell_type": "code",
   "execution_count": null,
   "metadata": {},
   "outputs": [],
   "source": []
  }
 ],
 "metadata": {
  "kernelspec": {
   "display_name": "Python 3",
   "language": "python",
   "name": "python3"
  },
  "language_info": {
   "codemirror_mode": {
    "name": "ipython",
    "version": 3
   },
   "file_extension": ".py",
   "mimetype": "text/x-python",
   "name": "python",
   "nbconvert_exporter": "python",
   "pygments_lexer": "ipython3",
   "version": "3.7.4"
  }
 },
 "nbformat": 4,
 "nbformat_minor": 2
}
