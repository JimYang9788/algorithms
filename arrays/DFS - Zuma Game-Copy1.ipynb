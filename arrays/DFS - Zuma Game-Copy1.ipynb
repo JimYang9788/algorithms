{
 "cells": [
  {
   "cell_type": "code",
   "execution_count": 18,
   "metadata": {},
   "outputs": [],
   "source": [
    "# Zuma Game 核心代码\n",
    "def reduce (s):\n",
    "    stack = []\n",
    "    ans = \"\"\n",
    "    redo = False \n",
    "    for c in s:\n",
    "        if not stack:\n",
    "            stack.append ((c, 1))\n",
    "            \n",
    "        elif stack[-1][0] == c:\n",
    "            top, freq = stack.pop()\n",
    "            freq += 1 \n",
    "            stack.append ((c, freq))\n",
    "        else:\n",
    "            if stack[-1][1] >= 3:\n",
    "                stack.pop()\n",
    "            if not stack or stack[-1][0] != c:\n",
    "                stack.append ((c, 1))\n",
    "            else:\n",
    "                top, freq = stack.pop()\n",
    "                freq += 1 \n",
    "                stack.append ((c, freq))\n",
    "    \n",
    "    while (stack and stack[-1][1] >= 3):\n",
    "        stack.pop()\n",
    "    \n",
    "    \n",
    "    for char, freq in stack:\n",
    "        ans = ans + char * freq\n",
    "    return ans \n"
   ]
  },
  {
   "cell_type": "code",
   "execution_count": 40,
   "metadata": {},
   "outputs": [],
   "source": [
    "def de_dup(board):\n",
    "    prevStart = 0\n",
    "    for i, c in enumerate(board):\n",
    "        if c != board[prevStart]:\n",
    "            if i - prevStart >= 3:\n",
    "                return de_dup(board[:prevStart] + board[i:])\n",
    "            prevStart = i\n",
    "    if len(board) - prevStart >= 3:\n",
    "        return board[:prevStart]\n",
    "    return board"
   ]
  }
 ],
 "metadata": {
  "kernelspec": {
   "display_name": "Python 3",
   "language": "python",
   "name": "python3"
  },
  "language_info": {
   "codemirror_mode": {
    "name": "ipython",
    "version": 3
   },
   "file_extension": ".py",
   "mimetype": "text/x-python",
   "name": "python",
   "nbconvert_exporter": "python",
   "pygments_lexer": "ipython3",
   "version": "3.7.4"
  }
 },
 "nbformat": 4,
 "nbformat_minor": 2
}
