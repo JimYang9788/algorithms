{
 "cells": [
  {
   "cell_type": "code",
   "execution_count": 1,
   "metadata": {},
   "outputs": [],
   "source": [
    "def latin_square (n):\n",
    "    if n == 0:\n",
    "        return [[]]\n",
    "    res = []\n",
    "    first_row = [i for i in range (1, n + 1)]\n",
    "    res.append (first_row)\n",
    "    for i in range (n-1):\n",
    "        new_row = res[-1][-1:] + res[-1][:-1]\n",
    "        res.append (new_row)\n",
    "    \n",
    "    return res \n",
    "\n",
    "    \n",
    "    "
   ]
  },
  {
   "cell_type": "code",
   "execution_count": 3,
   "metadata": {},
   "outputs": [
    {
     "data": {
      "text/plain": [
       "[[1, 2, 3, 4, 5, 6],\n",
       " [6, 1, 2, 3, 4, 5],\n",
       " [5, 6, 1, 2, 3, 4],\n",
       " [4, 5, 6, 1, 2, 3],\n",
       " [3, 4, 5, 6, 1, 2],\n",
       " [2, 3, 4, 5, 6, 1]]"
      ]
     },
     "execution_count": 3,
     "metadata": {},
     "output_type": "execute_result"
    }
   ],
   "source": [
    "latin_square (6)"
   ]
  },
  {
   "cell_type": "code",
   "execution_count": null,
   "metadata": {},
   "outputs": [],
   "source": []
  }
 ],
 "metadata": {
  "kernelspec": {
   "display_name": "Python 3",
   "language": "python",
   "name": "python3"
  },
  "language_info": {
   "codemirror_mode": {
    "name": "ipython",
    "version": 3
   },
   "file_extension": ".py",
   "mimetype": "text/x-python",
   "name": "python",
   "nbconvert_exporter": "python",
   "pygments_lexer": "ipython3",
   "version": "3.7.4"
  }
 },
 "nbformat": 4,
 "nbformat_minor": 2
}
