{
 "cells": [
  {
   "cell_type": "code",
   "execution_count": null,
   "metadata": {},
   "outputs": [],
   "source": [
    "class Solution:\n",
    "    def minRemoveToMakeValid(self, s: str) -> str:\n",
    "\n",
    "        openNum = 0\n",
    "        ans = \"\"\n",
    "        for i in range (len(s)):\n",
    "            c = s[i]\n",
    "            if c == '(':\n",
    "                openNum += 1 \n",
    "                ans += c\n",
    "            elif c == ')':\n",
    "                if openNum == 0:\n",
    "                    continue \n",
    "                else:\n",
    "                    openNum -= 1 \n",
    "                    ans += c\n",
    "            else:\n",
    "                ans += c \n",
    "        if openNum > 0:\n",
    "            i =  len(ans) -1 \n",
    "            while (i >= 0 and openNum > 0):\n",
    "                if ans[i] == '(':\n",
    "                    ans = ans[:i] + ans[i+1:]\n",
    "                    openNum -= 1 \n",
    "                i -= 1 \n",
    "        return ans "
   ]
  }
 ],
 "metadata": {
  "kernelspec": {
   "display_name": "Python 3",
   "language": "python",
   "name": "python3"
  },
  "language_info": {
   "codemirror_mode": {
    "name": "ipython",
    "version": 3
   },
   "file_extension": ".py",
   "mimetype": "text/x-python",
   "name": "python",
   "nbconvert_exporter": "python",
   "pygments_lexer": "ipython3",
   "version": "3.7.4"
  }
 },
 "nbformat": 4,
 "nbformat_minor": 2
}
