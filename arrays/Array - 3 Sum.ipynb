{
 "cells": [
  {
   "cell_type": "code",
   "execution_count": null,
   "metadata": {},
   "outputs": [],
   "source": [
    "class Solution:\n",
    "    def threeSum(self, nums: List[int]) -> List[List[int]]:\n",
    "        \n",
    "        nums.sort()\n",
    "        res = []\n",
    "        for i in range (0, len(nums)-1):    \n",
    "            l,r = i+1, len(nums)-1\n",
    "            if nums[i] > 0:\n",
    "                # 在sorted array里已经大于0了就没意义了\n",
    "                break\n",
    "            if i != 0 and nums[i] == nums[i-1]:\n",
    "                # 如果已经计算过一样的，就没必要再来一次了\n",
    "                # 每个数字只需要计算第一个\n",
    "                continue \n",
    "            # 基本的two sum算法\n",
    "            while (l < r):\n",
    "                if nums[l] + nums[r] == -nums[i]:\n",
    "                    res.append ([nums[i], nums[l],nums[r]])\n",
    "                    l += 1 \n",
    "                    r -= 1 \n",
    "                    # 为了避免重复使用一个组合，\n",
    "                    # 3 Sum另外一个特殊的optimization\n",
    "                    # 就是每当有一组成功了，就在increment\n",
    "                    # 的基础上，换掉一个数(这里用l或者r都可以)\n",
    "                    while (l < r and nums[r] == nums[r + 1]):\n",
    "                        r -= 1 \n",
    "                elif nums[l] + nums[r] < -nums[i]:\n",
    "                    l += 1 \n",
    "                else:\n",
    "                    r -= 1 \n",
    "        return res \n",
    "            \n",
    "            \n",
    "            "
   ]
  }
 ],
 "metadata": {
  "kernelspec": {
   "display_name": "Python 3",
   "language": "python",
   "name": "python3"
  },
  "language_info": {
   "codemirror_mode": {
    "name": "ipython",
    "version": 3
   },
   "file_extension": ".py",
   "mimetype": "text/x-python",
   "name": "python",
   "nbconvert_exporter": "python",
   "pygments_lexer": "ipython3",
   "version": "3.7.4"
  }
 },
 "nbformat": 4,
 "nbformat_minor": 2
}
