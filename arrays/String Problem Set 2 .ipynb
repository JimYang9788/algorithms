{
 "cells": [
  {
   "cell_type": "markdown",
   "metadata": {},
   "source": [
    "#### Is Integer Palindrome"
   ]
  },
  {
   "cell_type": "code",
   "execution_count": 3,
   "metadata": {},
   "outputs": [],
   "source": [
    "\n",
    "class Solution:\n",
    "    def isPalindrome(self, x: int) -> bool:\n",
    "        # String version \n",
    "        def is_str_palindrome(x):\n",
    "            if x == '': return True\n",
    "            elif len(x) == 1: return True\n",
    "            else:\n",
    "                return x[0] == x[-1] and is_str_palindrome(x[1:-1])\n",
    "\n",
    "        return  is_str_palindrome(str(x))\n",
    "\n",
    "class Solution:\n",
    "    # @param x, an integer\n",
    "    # @return a boolean\n",
    "    def isPalindrome(self, x):\n",
    "        if x < 0:\n",
    "            return False\n",
    "\n",
    "        ranger = 1\n",
    "        while x / ranger >= 10:\n",
    "            ranger *= 10\n",
    "\n",
    "        while x:\n",
    "            left = x / ranger\n",
    "            right = x % 10\n",
    "            if left != right:\n",
    "                return False\n",
    "            \n",
    "            x = (x % ranger) / 10\n",
    "            ranger /= 100\n",
    "\n",
    "        return True"
   ]
  },
  {
   "cell_type": "code",
   "execution_count": null,
   "metadata": {},
   "outputs": [],
   "source": []
  }
 ],
 "metadata": {
  "kernelspec": {
   "display_name": "Python 3",
   "language": "python",
   "name": "python3"
  },
  "language_info": {
   "codemirror_mode": {
    "name": "ipython",
    "version": 3
   },
   "file_extension": ".py",
   "mimetype": "text/x-python",
   "name": "python",
   "nbconvert_exporter": "python",
   "pygments_lexer": "ipython3",
   "version": "3.7.4"
  }
 },
 "nbformat": 4,
 "nbformat_minor": 2
}
