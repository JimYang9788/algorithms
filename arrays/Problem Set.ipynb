{
 "cells": [
  {
   "cell_type": "markdown",
   "metadata": {},
   "source": [
    "**Q1** \n",
    "Given an array of strings, group anagrams together.\n"
   ]
  },
  {
   "cell_type": "code",
   "execution_count": 5,
   "metadata": {},
   "outputs": [],
   "source": [
    "from collections import Counter\n",
    "\n",
    "# My Lengthy Solution\n",
    "class Solution:\n",
    "    def groupAnagrams(self, strs):\n",
    "          \n",
    "        def is_anagram(w1, w2):\n",
    "            if len(w1)!=len(w2): return False\n",
    "            return Counter (w1) == Counter (w2)\n",
    "        \n",
    "        res = []\n",
    "        tracker = {}\n",
    "        set_list = set (list (map (lambda x: ''.join(sorted(x)), strs)))\n",
    "        \n",
    "        for i in set_list: \n",
    "            tracker[i] = []\n",
    "            \n",
    "        for word in strs:\n",
    "            tracker[''.join(sorted(word))].append (word)\n",
    "        \n",
    "        for i in tracker:\n",
    "            res.append (tracker[i])\n",
    "        return res \n",
    "    \n",
    "# Leetcode Solution \n",
    "# 用tuple做key了\n",
    "class Solution(object):\n",
    "    def groupAnagrams(self, strs):\n",
    "        ans = collections.defaultdict(list)\n",
    "        for s in strs:\n",
    "            ans[tuple(sorted(s))].append(s)\n",
    "        return ans.values()\n",
    "    \n",
    "    \n",
    "# Leetcode Solution 2\n",
    "# Algorithm\n",
    "\n",
    "# We can transform each string \\text{s}s into a character count,\n",
    "# \\text{count}count, consisting of 26 non-negative integers representing\n",
    "# the number of \\text{a}a's, \\text{b}b's, \\text{c}c's, etc. We use these \n",
    "# counts as the basis for our hash map.\n",
    "\n",
    "# In Java, the hashable representation of our count will be a string\n",
    "# delimited with '#' characters. For example, abbccc will be #1#2#3#0#0#0...#0\n",
    "# where there are 26 entries total. In python, the representation will be a tuple\n",
    "# of the counts. For example, abbccc will be (1, 2, 3, 0, 0, ..., 0),\n",
    "# where again there are 26 entries total.\n",
    "\n",
    "class Solution:\n",
    "    def groupAnagrams(self, strs):\n",
    "        ans = collections.defaultdict(list)\n",
    "        for s in strs:\n",
    "            count = [0] * 26\n",
    "            for c in s:\n",
    "                count[ord(c) - ord('a')] += 1\n",
    "            ans[tuple(count)].append(s)\n",
    "        return ans.values()\n"
   ]
  }
 ],
 "metadata": {
  "kernelspec": {
   "display_name": "Python 3",
   "language": "python",
   "name": "python3"
  },
  "language_info": {
   "codemirror_mode": {
    "name": "ipython",
    "version": 3
   },
   "file_extension": ".py",
   "mimetype": "text/x-python",
   "name": "python",
   "nbconvert_exporter": "python",
   "pygments_lexer": "ipython3",
   "version": "3.7.6"
  }
 },
 "nbformat": 4,
 "nbformat_minor": 4
}
