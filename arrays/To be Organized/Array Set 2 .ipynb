{
 "cells": [
  {
   "cell_type": "markdown",
   "metadata": {},
   "source": [
    "#### Closest Three Sum\n"
   ]
  },
  {
   "cell_type": "code",
   "execution_count": 3,
   "metadata": {},
   "outputs": [],
   "source": [
    "class Solution:\n",
    "    def threeSumClosest(self, nums, target):\n",
    "        nums.sort()\n",
    "\n",
    "        error = float (inf)\n",
    "        res = -1\n",
    "        \n",
    "        for i in range (len (nums)):\n",
    "            \n",
    "            l = 0\n",
    "            u = len(nums) -1 \n",
    "            while (l < u):\n",
    "                if l == i: \n",
    "                    l += 1\n",
    "                    continue \n",
    "                if u == i:\n",
    "                    u -= 1 \n",
    "                    continue \n",
    "                    \n",
    "                current_sum = nums[i] + nums[l] + nums[u]\n",
    "\n",
    "                if current_sum == target:\n",
    "                    return target\n",
    "                elif current_sum < target:\n",
    "                    l += 1 \n",
    "                else:\n",
    "                    u -= 1 \n",
    "                    \n",
    "                current_error = abs (target - current_sum)\n",
    "                if current_error < error:\n",
    "                    error = current_error \n",
    "                    res = current_sum \n",
    "        return res \n",
    "                    \n",
    "                \n",
    "                \n",
    "                \n",
    "                    \n",
    "            \n",
    "            "
   ]
  },
  {
   "cell_type": "code",
   "execution_count": null,
   "metadata": {},
   "outputs": [],
   "source": []
  }
 ],
 "metadata": {
  "kernelspec": {
   "display_name": "Python 3",
   "language": "python",
   "name": "python3"
  },
  "language_info": {
   "codemirror_mode": {
    "name": "ipython",
    "version": 3
   },
   "file_extension": ".py",
   "mimetype": "text/x-python",
   "name": "python",
   "nbconvert_exporter": "python",
   "pygments_lexer": "ipython3",
   "version": "3.7.4"
  }
 },
 "nbformat": 4,
 "nbformat_minor": 2
}
