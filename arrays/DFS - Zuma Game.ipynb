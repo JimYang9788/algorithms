{
 "cells": [
  {
   "cell_type": "code",
   "execution_count": 18,
   "metadata": {},
   "outputs": [],
   "source": [
    "# Zuma Game 核心代码\n",
    "def reduce (s):\n",
    "    stack = []\n",
    "    ans = \"\"\n",
    "    redo = False \n",
    "    for c in s:\n",
    "        if not stack:\n",
    "            stack.append ((c, 1))\n",
    "            \n",
    "        elif stack[-1][0] == c:\n",
    "            top, freq = stack.pop()\n",
    "            freq += 1 \n",
    "            stack.append ((c, freq))\n",
    "        else:\n",
    "            if stack[-1][1] >= 3:\n",
    "                stack.pop()\n",
    "            if not stack or stack[-1][0] != c:\n",
    "                stack.append ((c, 1))\n",
    "            else:\n",
    "                top, freq = stack.pop()\n",
    "                freq += 1 \n",
    "                stack.append ((c, freq))\n",
    "    \n",
    "    while (stack and stack[-1][1] >= 3):\n",
    "        stack.pop()\n",
    "    \n",
    "    \n",
    "    for char, freq in stack:\n",
    "        ans = ans + char * freq\n",
    "    return ans \n"
   ]
  },
  {
   "cell_type": "code",
   "execution_count": 2,
   "metadata": {},
   "outputs": [
    {
     "name": "stdout",
     "output_type": "stream",
     "text": [
      "[]\n"
     ]
    }
   ],
   "source": [
    "def de_dup(board):\n",
    "    prevStart = 0\n",
    "    for i, c in enumerate(board):\n",
    "        if c != board[prevStart]:\n",
    "            if i - prevStart >= 3:\n",
    "                return de_dup(board[:prevStart] + board[i:])\n",
    "            prevStart = i\n",
    "    if len(board) - prevStart >= 3:\n",
    "        return board[:prevStart]\n",
    "    return board \n",
    "print (de_dup([1,1,1]))"
   ]
  },
  {
   "cell_type": "code",
   "execution_count": 8,
   "metadata": {},
   "outputs": [
    {
     "data": {
      "text/plain": [
       "'B'"
      ]
     },
     "execution_count": 8,
     "metadata": {},
     "output_type": "execute_result"
    }
   ],
   "source": [
    "def zuma_normal(s):\n",
    "    stack = []\n",
    "    ans = \"\"\n",
    "    for c in s:\n",
    "        if not stack or stack[-1][0] != c:\n",
    "            stack.append ([c, 1])\n",
    "        else:\n",
    "            top, freq = stack.pop()\n",
    "            freq += 1 \n",
    "            if not freq == 3:\n",
    "                stack.append ([top, freq])\n",
    "    for c, freq in stack:\n",
    "        ans = ans + freq * c \n",
    "    return ans \n",
    "zuma_normal(\"AAAB\")\n",
    "    "
   ]
  },
  {
   "cell_type": "code",
   "execution_count": 44,
   "metadata": {},
   "outputs": [],
   "source": []
  },
  {
   "cell_type": "code",
   "execution_count": 49,
   "metadata": {},
   "outputs": [
    {
     "name": "stdout",
     "output_type": "stream",
     "text": [
      "aaBBBBaa\n"
     ]
    },
    {
     "data": {
      "text/plain": [
       "'aaaa'"
      ]
     },
     "execution_count": 49,
     "metadata": {},
     "output_type": "execute_result"
    }
   ],
   "source": [
    "reduce (\"aaBBBBaa\")"
   ]
  },
  {
   "cell_type": "code",
   "execution_count": 50,
   "metadata": {},
   "outputs": [],
   "source": [
    "def reduce (s):\n",
    "    stack = []\n",
    "    ans = \"\"\n",
    "    redo = False \n",
    "    for c in s:\n",
    "        if not stack:\n",
    "            stack.append ((c, 1))\n",
    "            \n",
    "        elif stack[-1][0] == c:\n",
    "            top, freq = stack.pop()\n",
    "            freq += 1 \n",
    "            stack.append ((c, freq))\n",
    "        else:\n",
    "            if stack[-1][1] >= 3:\n",
    "                stack.pop()\n",
    "            if not stack or stack[-1][0] != c:\n",
    "                stack.append ((c, 1))\n",
    "            else:\n",
    "                top, freq = stack.pop()\n",
    "                freq += 1 \n",
    "                stack.append ((c, freq))\n",
    "    \n",
    "    while (stack and stack[-1][1] >= 3):\n",
    "        stack.pop()\n",
    "    \n",
    "    \n",
    "    for char, freq in stack:\n",
    "        ans = ans + char * freq\n",
    "    return ans "
   ]
  },
  {
   "cell_type": "code",
   "execution_count": 51,
   "metadata": {},
   "outputs": [
    {
     "data": {
      "text/plain": [
       "'a'"
      ]
     },
     "execution_count": 51,
     "metadata": {},
     "output_type": "execute_result"
    }
   ],
   "source": [
    "de_dup (\"aaaBBBa\")"
   ]
  },
  {
   "cell_type": "code",
   "execution_count": 39,
   "metadata": {},
   "outputs": [],
   "source": [
    "def reduce (s):\n",
    "    stack = []\n",
    "    ans = \"\"\n",
    "    redo = False \n",
    "    for c in s:\n",
    "        if not stack:\n",
    "            stack.append ((c, 1))\n",
    "\n",
    "        elif stack[-1][0] == c:\n",
    "            top, freq = stack.pop()\n",
    "            freq += 1 \n",
    "            stack.append ((c, freq))\n",
    "        else:\n",
    "            if stack[-1][1] >= 3:\n",
    "                stack.pop()\n",
    "\n",
    "            if not stack or stack[-1][0] != c:\n",
    "                stack.append ((c, 1))\n",
    "            else:\n",
    "                top, freq = stack.pop()\n",
    "                freq += 1 \n",
    "                stack.append ((c, freq))\n",
    "\n",
    "    while (stack and stack[-1][1] >= 3):\n",
    "        stack.pop()\n",
    "\n",
    "    for char, freq in stack:\n",
    "        ans = ans + char * freq\n",
    "    return ans "
   ]
  },
  {
   "cell_type": "code",
   "execution_count": 41,
   "metadata": {},
   "outputs": [
    {
     "data": {
      "text/plain": [
       "'A'"
      ]
     },
     "execution_count": 41,
     "metadata": {},
     "output_type": "execute_result"
    }
   ],
   "source": []
  },
  {
   "cell_type": "code",
   "execution_count": 66,
   "metadata": {},
   "outputs": [],
   "source": [
    "def reduce (s):\n",
    "    s = s + '$'\n",
    "    stack = []\n",
    "    ans = \"\"\n",
    "    for c in s:\n",
    "\n",
    "        if not stack:\n",
    "            stack.append ([c, 1])\n",
    "        elif stack[-1][0] == c:\n",
    "            stack[-1][1] += 1 \n",
    "        else:\n",
    "            if stack[-1][1] >= 3:\n",
    "                stack.pop()\n",
    "                if not stack or stack[-1][0] != c :\n",
    "                    stack.append ([c,1])\n",
    "                elif stack[-1][0] == c:\n",
    "                    stack[-1][1] += 1 \n",
    "            else:\n",
    "                stack.append([c,1])\n",
    "    print (stack)\n",
    "    for char, freq in stack:\n",
    "        ans = ans + char * freq \n",
    "    return ans [:-1]"
   ]
  },
  {
   "cell_type": "code",
   "execution_count": null,
   "metadata": {},
   "outputs": [],
   "source": []
  },
  {
   "cell_type": "code",
   "execution_count": null,
   "metadata": {},
   "outputs": [],
   "source": []
  }
 ],
 "metadata": {
  "kernelspec": {
   "display_name": "Python 3",
   "language": "python",
   "name": "python3"
  },
  "language_info": {
   "codemirror_mode": {
    "name": "ipython",
    "version": 3
   },
   "file_extension": ".py",
   "mimetype": "text/x-python",
   "name": "python",
   "nbconvert_exporter": "python",
   "pygments_lexer": "ipython3",
   "version": "3.7.4"
  }
 },
 "nbformat": 4,
 "nbformat_minor": 2
}
