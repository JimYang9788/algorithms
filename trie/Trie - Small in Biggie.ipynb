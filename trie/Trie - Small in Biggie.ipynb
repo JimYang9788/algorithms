{
 "cells": [
  {
   "cell_type": "code",
   "execution_count": null,
   "metadata": {},
   "outputs": [],
   "source": [
    "class PrefixTrie:\n",
    "\tdef __init__(self, string):\n",
    "\t\tself.root = {}\n",
    "\t\tself.populateString(string)\n",
    "\t\n",
    "\tdef populateString(self,string):\n",
    "\t\t\n",
    "\t\tdef addString(string):\n",
    "\t\t\tcurnode = self.root\n",
    "\t\t\tfor s in string:\n",
    "\t\t\t\tif s not in curnode:\n",
    "\t\t\t\t\tcurnode[s] = {}\n",
    "\t\t\t\tcurnode = curnode[s]\n",
    "\t\t\tcurnode['*'] = True\n",
    "\t\t\n",
    "\t\tfor i in range(0,len(string)):\n",
    "\t\t\taddString(string[i:len(string)])\n",
    "\t\treturn self.root\n",
    "\n",
    "\tdef containString(self,string):\n",
    "\t\t# Check if the string exists \n",
    "\t\tcurnode = self.root\n",
    "\t\tfor s in string:\n",
    "\t\t\tif s in curnode:\n",
    "\t\t\t\tcurnode = curnode[s]\n",
    "\t\t\telse:\n",
    "\t\t\t\treturn False \n",
    "\t\treturn True\n",
    "\n",
    "\t\n",
    "def multiStringSearch(bigString, smallStrings):\n",
    "    # Write your code here.\n",
    "    trie = PrefixTrie(bigString)\n",
    "\tres = [0 for s in smallStrings]\n",
    "\tfor i,s in enumerate(smallStrings):\n",
    "\t\tres[i] = trie.containString(s)\n",
    "\treturn res \n",
    "\t\t\n",
    "\t\n"
   ]
  }
 ],
 "metadata": {
  "kernelspec": {
   "display_name": "Python 3",
   "language": "python",
   "name": "python3"
  },
  "language_info": {
   "codemirror_mode": {
    "name": "ipython",
    "version": 3
   },
   "file_extension": ".py",
   "mimetype": "text/x-python",
   "name": "python",
   "nbconvert_exporter": "python",
   "pygments_lexer": "ipython3",
   "version": "3.7.4"
  }
 },
 "nbformat": 4,
 "nbformat_minor": 2
}
