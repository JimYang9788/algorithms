{
 "cells": [
  {
   "cell_type": "code",
   "execution_count": 1,
   "metadata": {},
   "outputs": [],
   "source": [
    "class Solution:\n",
    "    def numberOfSubarrays(self, A, k):\n",
    "        l = count = res = 0\n",
    "        for j in range(len(A)):\n",
    "            if A[j] % 2 == 1:\n",
    "                k -= 1\n",
    "                count = 0\n",
    "            while k == 0:\n",
    "                k += (A[l] % 2 == 1)\n",
    "                l += 1\n",
    "                count += 1\n",
    "            res += count\n",
    "        return res\n"
   ]
  },
  {
   "cell_type": "code",
   "execution_count": null,
   "metadata": {},
   "outputs": [],
   "source": []
  }
 ],
 "metadata": {
  "kernelspec": {
   "display_name": "Python 3",
   "language": "python",
   "name": "python3"
  },
  "language_info": {
   "codemirror_mode": {
    "name": "ipython",
    "version": 3
   },
   "file_extension": ".py",
   "mimetype": "text/x-python",
   "name": "python",
   "nbconvert_exporter": "python",
   "pygments_lexer": "ipython3",
   "version": "3.7.4"
  }
 },
 "nbformat": 4,
 "nbformat_minor": 2
}
