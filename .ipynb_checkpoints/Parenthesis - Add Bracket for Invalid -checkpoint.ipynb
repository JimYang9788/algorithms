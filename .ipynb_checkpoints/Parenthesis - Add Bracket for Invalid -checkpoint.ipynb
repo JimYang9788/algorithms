{
 "cells": [
  {
   "cell_type": "code",
   "execution_count": null,
   "metadata": {},
   "outputs": [],
   "source": [
    "class Solution:\n",
    "    def minAddToMakeValid(self, s: str) -> int:\n",
    "        need_right = 0 \n",
    "        need_left = 0 \n",
    "        for c in s:\n",
    "            if (c == '('):\n",
    "                need_right += 1 \n",
    "            if (c == \")\"):\n",
    "                need_right -= 1 \n",
    "                if (need_right == -1):\n",
    "                    need_left += 1 \n",
    "                    need_right = 0 \n",
    "        \n",
    "        return need_left + need_right \n",
    "        "
   ]
  }
 ],
 "metadata": {
  "kernelspec": {
   "display_name": "Python 3",
   "language": "python",
   "name": "python3"
  },
  "language_info": {
   "codemirror_mode": {
    "name": "ipython",
    "version": 3
   },
   "file_extension": ".py",
   "mimetype": "text/x-python",
   "name": "python",
   "nbconvert_exporter": "python",
   "pygments_lexer": "ipython3",
   "version": "3.7.4"
  }
 },
 "nbformat": 4,
 "nbformat_minor": 2
}
