{
 "cells": [
  {
   "cell_type": "code",
   "execution_count": 1,
   "metadata": {},
   "outputs": [],
   "source": [
    "class Solution:\n",
    "    def consecutiveNumbersSum(self, n: int) -> int:\n",
    "        count = 0 \n",
    "        upper = ceil((2 * n + 0.25) ** 0.5 - 0.5) + 1\n",
    "        for k in range (1, upper):\n",
    "            if (n - (k + 1) * k // 2) % k == 0:\n",
    "                count += 1 \n",
    "        return count \n",
    "    "
   ]
  },
  {
   "cell_type": "code",
   "execution_count": 2,
   "metadata": {},
   "outputs": [],
   "source": [
    "class Solution:\n",
    "    def countPrimes(self, n: int) -> int:\n",
    "        if n <= 2:\n",
    "            return 0\n",
    "        \n",
    "        # Initialize numbers[0] and numbers[1] as False because 0 and 1 are not prime.\n",
    "        # Initialze numbers[2] through numbers[n-1] as True because we assume each number\n",
    "        # is prime until we find a prime number (p) that is a divisor of the number\n",
    "        numbers = [False, False] + [True] * (n - 2)\n",
    "        for p in range(2, int(sqrt(n)) + 1):\n",
    "            if numbers[p]:\n",
    "                # Set all multiples of p to false because they are not prime.\n",
    "                for multiple in range(p * p, n, p):\n",
    "                    numbers[multiple] = False\n",
    "        \n",
    "        # numbers[index] will only be true where index is a prime number\n",
    "        # return the number of indices whose value is true.\n",
    "        return sum(numbers)"
   ]
  },
  {
   "cell_type": "code",
   "execution_count": null,
   "metadata": {},
   "outputs": [],
   "source": [
    "class Solution:\n",
    "    def nthUglyNumber(self, n: int) -> int:\n",
    "        if n == 1: return 1 \n",
    "        D = [1]\n",
    "        two = 0 \n",
    "        three = 0 \n",
    "        five = 0\n",
    "        count = 0 \n",
    "        ugly = 0 \n",
    "        for i in range (n):\n",
    "            ugly = min (D[two] * 2, D[three] * 3, D[five] * 5)\n",
    "            if D[two] * 2 == ugly: two += 1\n",
    "            if D[three] * 3 == ugly: three += 1 \n",
    "            if D[five] * 5 == ugly: five += 1 \n",
    "            D.append(ugly)\n",
    "        return D[-2] "
   ]
  }
 ],
 "metadata": {
  "kernelspec": {
   "display_name": "Python 3",
   "language": "python",
   "name": "python3"
  },
  "language_info": {
   "codemirror_mode": {
    "name": "ipython",
    "version": 3
   },
   "file_extension": ".py",
   "mimetype": "text/x-python",
   "name": "python",
   "nbconvert_exporter": "python",
   "pygments_lexer": "ipython3",
   "version": "3.7.4"
  }
 },
 "nbformat": 4,
 "nbformat_minor": 2
}
