{
 "cells": [
  {
   "cell_type": "code",
   "execution_count": null,
   "metadata": {},
   "outputs": [],
   "source": [
    "class Solution(object):\n",
    "\n",
    "    def countAndSay(self, n):\n",
    "        if n == 1:\n",
    "            return '1'\n",
    "        if n == 2:\n",
    "            return \"11\"\n",
    "        if n == 3:\n",
    "            return \"21\"\n",
    "        if n == 4:\n",
    "            return \"1211\"\n",
    "        \n",
    "        res = self.countAndSay(n-1)        \n",
    "        return self.readstring (res)\n",
    "    \n",
    "    def readstring (self, s):\n",
    "        '''\n",
    "        return the string in vocal form\n",
    "        '''\n",
    "        ans = \"\"\n",
    "        cur, times = \"\", 0\n",
    "        for i in range (len(s)):\n",
    "            c = s[i]\n",
    "            if cur == \"\":\n",
    "                cur, times = c, 1\n",
    "            elif c != cur:\n",
    "                ans = ans + str (times) + cur \n",
    "                cur = c \n",
    "                times = 1 \n",
    "            else:\n",
    "                times += 1 \n",
    "        if cur:\n",
    "            ans = ans + str (times) + cur \n",
    "        \n",
    "        return ans \n"
   ]
  }
 ],
 "metadata": {
  "kernelspec": {
   "display_name": "Python 3",
   "language": "python",
   "name": "python3"
  },
  "language_info": {
   "codemirror_mode": {
    "name": "ipython",
    "version": 3
   },
   "file_extension": ".py",
   "mimetype": "text/x-python",
   "name": "python",
   "nbconvert_exporter": "python",
   "pygments_lexer": "ipython3",
   "version": "3.7.4"
  }
 },
 "nbformat": 4,
 "nbformat_minor": 2
}
