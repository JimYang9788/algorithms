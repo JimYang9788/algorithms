{
 "cells": [
  {
   "cell_type": "code",
   "execution_count": null,
   "metadata": {},
   "outputs": [],
   "source": [
    "class Solution:\n",
    "    def calculate(self, s: str) -> int:\n",
    "        def helper(s):\n",
    "            stack = []\n",
    "            sign = '+'\n",
    "            num = 0 \n",
    "            while (len(s) > 0):\n",
    "                c = s.pop(0)\n",
    "                if c == \"(\":\n",
    "                    num = helper(s)\n",
    "                if c == ')':\n",
    "                    if sign == '-': stack.append(-num)\n",
    "                    elif sign == '+': stack.append (num)\n",
    "                    elif sign == '*': stack[-1] = stack[-1] * num \n",
    "                    elif sign == '/': stack[-1] = int (stack[-1] / float (num))\n",
    "                \n",
    "                    sign = c \n",
    "                    num = 0 \n",
    "                    break\n",
    "                if c.isdigit():\n",
    "                    num = num * 10 + (ord (c) - ord('0'))  \n",
    "                if c in '+-*/' or  len(s) == 0:\n",
    "                    if sign == '-': stack.append(-num)\n",
    "                    elif sign == '+': stack.append (num)\n",
    "                    elif sign == '*': stack[-1] = stack[-1] * num \n",
    "                    elif sign == '/': stack[-1] = int (stack[-1] / float (num))\n",
    "                    sign = c \n",
    "                    num = 0 \n",
    "            return sum (stack)\n",
    "        return helper (list(s))\n",
    "                "
   ]
  }
 ],
 "metadata": {
  "kernelspec": {
   "display_name": "Python 3",
   "language": "python",
   "name": "python3"
  },
  "language_info": {
   "codemirror_mode": {
    "name": "ipython",
    "version": 3
   },
   "file_extension": ".py",
   "mimetype": "text/x-python",
   "name": "python",
   "nbconvert_exporter": "python",
   "pygments_lexer": "ipython3",
   "version": "3.7.4"
  }
 },
 "nbformat": 4,
 "nbformat_minor": 2
}
