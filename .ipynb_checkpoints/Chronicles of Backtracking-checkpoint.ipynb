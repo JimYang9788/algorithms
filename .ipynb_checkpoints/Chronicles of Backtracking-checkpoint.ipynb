{
 "cells": [
  {
   "cell_type": "code",
   "execution_count": 3,
   "metadata": {},
   "outputs": [],
   "source": [
    "class Solution:\n",
    "    def permute(self, nums) :\n",
    "        if not path: return []\n",
    "        \n",
    "        def backtrack(i, path):\n",
    "\n",
    "            if i == len(nums):\n",
    "                res.append(path[:]) # make a copy \n",
    "            else:\n",
    "                for j in range (i, len(nums)):\n",
    "                    # use nums[i] as the head; j 决定了跟哪个数字换\n",
    "                    nums[i],nums[j] = nums[j], nums[i]\n",
    "                    path.append(nums[i])\n",
    "                    backtrack(i+1, path)\n",
    "                    path.pop()\n",
    "                    nums[i],nums[j] = nums[j], nums[i]\n",
    "\n",
    "            return \n",
    "        \n",
    "        res = []\n",
    "        backtrack(0,[])\n",
    "        return res "
   ]
  },
  {
   "cell_type": "code",
   "execution_count": 4,
   "metadata": {},
   "outputs": [],
   "source": [
    "class Solution:\n",
    "    def combinationSum(self, candidates, target: int):\n",
    "        # repeat allowed \n",
    "        # order does not matter \n",
    "        \n",
    "        ans = []\n",
    "        \n",
    "        def backtrack(i, currentVal, solution):\n",
    "            if currentVal == 0:\n",
    "                ans.append(solution[:])\n",
    "                return \n",
    "            elif currentVal < 0:\n",
    "                return \n",
    "            \n",
    "            for j in range (i, len(candidates)):\n",
    "                candidate = candidates[j]\n",
    "                # Use or never use again in the future\n",
    "                solution.append(candidate)\n",
    "                backtrack(j, currentVal - candidate, solution)\n",
    "                solution.pop()\n",
    "                \n",
    "        \n",
    "        backtrack(0,target,[])\n",
    "        \n",
    "        return ans "
   ]
  },
  {
   "cell_type": "code",
   "execution_count": null,
   "metadata": {},
   "outputs": [],
   "source": []
  }
 ],
 "metadata": {
  "kernelspec": {
   "display_name": "Python 3",
   "language": "python",
   "name": "python3"
  },
  "language_info": {
   "codemirror_mode": {
    "name": "ipython",
    "version": 3
   },
   "file_extension": ".py",
   "mimetype": "text/x-python",
   "name": "python",
   "nbconvert_exporter": "python",
   "pygments_lexer": "ipython3",
   "version": "3.7.4"
  }
 },
 "nbformat": 4,
 "nbformat_minor": 2
}
