{
 "cells": [
  {
   "cell_type": "markdown",
   "metadata": {},
   "source": [
    "#### Q1 Counting Elements\n",
    "Given an integer array arr, count element x such that x + 1 is also in arr.\n",
    "\n",
    "If there're duplicates in arr, count them seperately.\n",
    "\n",
    " "
   ]
  },
  {
   "cell_type": "code",
   "execution_count": 7,
   "metadata": {},
   "outputs": [],
   "source": [
    "class Solution:\n",
    "    def countElements(self, arr):\n",
    "        res = 0\n",
    "        arr = sorted(arr) # O(nlogn)\n",
    "        same_elements = 0\n",
    "        for i in range (len(arr)):\n",
    "            if i != len(arr)-1 and arr[i+1] == arr[i]:\n",
    "                \n",
    "            if i != len(arr)-1 and arr[i+1]-1 == arr[i]:\n",
    "                res += 1 \n",
    "        return res \n",
    "\n",
    "solution = Solution ()\n",
    "assert (solution.countElements([1,1,3,3,5,5])==0)\n",
    "assert (solution.countElements([1,2,3])==2)\n",
    "assert (solution.countElements([1,1,2,2])==2)\n"
   ]
  },
  {
   "cell_type": "code",
   "execution_count": null,
   "metadata": {},
   "outputs": [],
   "source": []
  }
 ],
 "metadata": {
  "kernelspec": {
   "display_name": "Python 3",
   "language": "python",
   "name": "python3"
  },
  "language_info": {
   "codemirror_mode": {
    "name": "ipython",
    "version": 3
   },
   "file_extension": ".py",
   "mimetype": "text/x-python",
   "name": "python",
   "nbconvert_exporter": "python",
   "pygments_lexer": "ipython3",
   "version": "3.7.6"
  }
 },
 "nbformat": 4,
 "nbformat_minor": 4
}
