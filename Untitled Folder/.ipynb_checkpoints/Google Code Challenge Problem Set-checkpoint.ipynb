{
 "cells": [
  {
   "cell_type": "markdown",
   "metadata": {},
   "source": [
    "#### Q1. Unique Emails \n",
    "\n",
    "Every email consists of a local name and a domain name, separated by the @ sign.\n",
    "\n",
    "For example, in alice@leetcode.com, alice is the local name, and leetcode.com is the domain name.\n",
    "\n",
    "Besides lowercase letters, these emails may contain '.'s or '+'s.\n",
    "\n",
    "If you add periods ('.') between some characters in the local name part of an email address, mail sent there will be forwarded to the same address without dots in the local name.  For example, \"alice.z@leetcode.com\" and \"alicez@leetcode.com\" forward to the same email address.  (Note that this rule does not apply for domain names.)\n",
    "\n",
    "If you add a plus ('+') in the local name, everything after the first plus sign will be ignored. This allows certain emails to be filtered, for example m.y+name@email.com will be forwarded to my@email.com.  (Again, this rule does not apply for domain names.)\n",
    "\n",
    "It is possible to use both of these rules at the same time.\n",
    "\n",
    "Given a list of emails, we send one email to each address in the list.  How many different addresses actually receive mails? "
   ]
  },
  {
   "cell_type": "code",
   "execution_count": 2,
   "metadata": {},
   "outputs": [
    {
     "data": {
      "text/plain": [
       "2"
      ]
     },
     "execution_count": 2,
     "metadata": {},
     "output_type": "execute_result"
    }
   ],
   "source": [
    "class Solution:\n",
    "    def numUniqueEmails(self, emails):\n",
    "        def get_unique_string (string):\n",
    "            local, res, skip = True, '', False\n",
    "            \n",
    "            for c in string:\n",
    "                \n",
    "                if c == '@':\n",
    "                    local, skip = False, False\n",
    "                    res += c \n",
    "                elif local == True:\n",
    "                    if skip == True or c == '.':\n",
    "                        continue\n",
    "                    elif c == '+':\n",
    "                        skip = True\n",
    "                        continue \n",
    "                    res += c \n",
    "                else:\n",
    "                    res += c \n",
    "            return res \n",
    "        return len (set (list(map (get_unique_string, emails))))\n",
    "        \n",
    "emails = [\"test.email+alex@leetcode.com\",\"test.e.mail+bob.cathy@leetcode.com\",\"testemail+david@lee.tcode.com\"]\n",
    "solution = Solution ()\n",
    "solution.numUniqueEmails (emails)"
   ]
  },
  {
   "cell_type": "markdown",
   "metadata": {},
   "source": [
    "#### Q2 Longest Substring without repeating characters \n",
    "Given a string, find the length of the longest substring without repeating characters.\n",
    "\n",
    "Example 1:\n",
    "\n",
    "Input: \"abcabcbb\"\n",
    "Output: 3 \n",
    "Explanation: The answer is \"abc\", with the length of 3. \n",
    "Example 2:\n",
    "\n",
    "Input: \"bbbbb\"\n",
    "Output: 1\n",
    "Explanation: The answer is \"b\", with the length of 1.\n",
    "Example 3:\n",
    "\n",
    "Input: \"pwwkew\"\n",
    "Output: 3\n",
    "Explanation: The answer is \"wke\", with the length of 3. \n",
    "             Note that the answer must be a substring, \"pwke\" is a subsequence and not a substring."
   ]
  },
  {
   "cell_type": "code",
   "execution_count": 7,
   "metadata": {},
   "outputs": [],
   "source": [
    "class Solution:\n",
    "    # My Solution\n",
    "    def lengthOfLongestSubstring(self, s):\n",
    "        if s == '': return 0\n",
    "        D = [0] * len (s)\n",
    "        lcs = ''\n",
    "        # D keeps track of the longest substring without\n",
    "        # repeating characters ends at character c\n",
    "        for i in range(len(s)):\n",
    "            if s[i] not in lcs:\n",
    "                lcs += s[i]\n",
    "                D[i] = len (lcs)\n",
    "            else: # contains current string already\n",
    "                lcs += s[i]\n",
    "                lcs = lcs[lcs.find(s[i])+1:]\n",
    "                D[i] = len (lcs)\n",
    "\n",
    "        return max(D)"
   ]
  },
  {
   "cell_type": "code",
   "execution_count": 8,
   "metadata": {},
   "outputs": [],
   "source": [
    "solution = Solution()\n",
    "assert (solution.lengthOfLongestSubstring('bbbbb') == 1)\n",
    "assert (solution.lengthOfLongestSubstring('abcabcbb') == 3)"
   ]
  },
  {
   "cell_type": "markdown",
   "metadata": {},
   "source": [
    "**Approach 2: Sliding Window**\n",
    "Algorithm\n",
    "\n",
    "The naive approach is very straightforward. But it is too slow. So how can we optimize it?\n",
    "\n",
    "To check if a character is already in the substring, we can scan the substring, which leads to an $O(n^2)$ algorithm. But we can do better.\n",
    "\n",
    "By using **HashSet** as a sliding window, checking if a character in the current can be done in O(1).\n",
    "\n",
    "A sliding window is an abstract concept commonly used in array/string problems. A window is a range of elements in the array/string which usually defined by the start and end indices, i.e. [i, j)[i,j) (left-closed, right-open). A sliding window is a window \"slides\" its two boundaries to the certain direction. For example, if we slide [i, j)[i,j) to the right by 11 element, then it becomes [i+1, j+1)[i+1,j+1) (left-closed, right-open).\n",
    "\n",
    "Back to our problem. We use HashSet to store the characters in current window [i, j)[i,j) (j = ij=i initially). Then we slide the index j to the right. If it is not in the HashSet, we slide jj further. Doing so until s[j] is already in the HashSet. At this point, we found the maximum size of substrings without duplicate characters start with index ii. If we do this for all ii, we get our answer."
   ]
  },
  {
   "cell_type": "markdown",
   "metadata": {},
   "source": [
    "```\n",
    "public class Solution {\n",
    "    public int lengthOfLongestSubstring(String s) {\n",
    "        int n = s.length();\n",
    "        Set<Character> set = new HashSet<>();\n",
    "        int ans = 0, i = 0, j = 0;\n",
    "        while (i < n && j < n) {\n",
    "            // try to extend the range [i, j]\n",
    "            if (!set.contains(s.charAt(j))){\n",
    "                set.add(s.charAt(j++));\n",
    "                ans = Math.max(ans, j - i);\n",
    "            }\n",
    "            else {\n",
    "                set.remove(s.charAt(i++));\n",
    "            }\n",
    "        }\n",
    "        return ans;\n",
    "    }\n",
    "}\n",
    "```"
   ]
  },
  {
   "cell_type": "markdown",
   "metadata": {},
   "source": [
    "#### Q3 Water Tank Problem\n",
    "Given n non-negative integers a1, a2, ..., an , where each represents a point at coordinate (i, ai). n vertical lines are drawn such that the two endpoints of line i is at (i, ai) and (i, 0). Find two lines, which together with x-axis forms a container, such that the container contains the most water."
   ]
  },
  {
   "cell_type": "markdown",
   "metadata": {},
   "source": [
    "要点在于解决 max_area = max (max_area, (end-beg) * min (height[end], height[beg]))\n",
    "end-beg 这个会随着左右两个pointer接近而减少，所以必须要试图增加 min(height[end], height[beg])，而这个minimum是由height[end], height[beg] 中小的那个决定的，于是我们把小的变大，看看能不能增加面积"
   ]
  },
  {
   "cell_type": "code",
   "execution_count": 1,
   "metadata": {},
   "outputs": [
    {
     "data": {
      "text/plain": [
       "49"
      ]
     },
     "execution_count": 1,
     "metadata": {},
     "output_type": "execute_result"
    }
   ],
   "source": [
    "class Solution:\n",
    "    # Brute Force\n",
    "    # Space O(1)\n",
    "    # Time O(n^2)\n",
    "    def maxArea(self, height):\n",
    "        res = 0\n",
    "        for i in range (len (height)):\n",
    "            for j in range (i, len(height)):\n",
    "                cur_volume = (j - i) * min (height[j], height[i]) \n",
    "                res = max (cur_volume, res) \n",
    "        return res \n",
    "    \n",
    "    def maxArea2(self,height):\n",
    "        beg, end = 0, len(height)-1\n",
    "        max_area = (end-beg) * min (height[end], height[beg])\n",
    "        \n",
    "        # Only move the end with shorter height \n",
    "        # that's the only way to change the value \n",
    "        \n",
    "        while (beg < end):\n",
    "            lb = height[beg]\n",
    "            rb = height[end]\n",
    "            \n",
    "            if (lb < rb):\n",
    "                beg += 1 \n",
    "            else:\n",
    "                end -= 1 \n",
    "            max_area = max (max_area, (end-beg) * min (height[end], height[beg]))\n",
    "        \n",
    "        return max_area \n",
    "                    \n",
    "        \n",
    "        \n",
    "solution = Solution()\n",
    "solution.maxArea2 ([1,8,6,2,5,4,8,3,7])"
   ]
  },
  {
   "cell_type": "markdown",
   "metadata": {},
   "source": [
    "#### Q4 Three Sum\n",
    "Given an array nums of n integers, are there elements a, b, c in nums such that a + b + c = 0? Find all unique triplets in the array which gives the sum of zero."
   ]
  },
  {
   "cell_type": "code",
   "execution_count": 65,
   "metadata": {},
   "outputs": [],
   "source": [
    "class Solution:   \n",
    "    # My Attempted O(n^2) solution\n",
    "    # I wasted too much speed on remove the elements from the list \n",
    "    def threeSum(self, nums):\n",
    "        \n",
    "        def bin_search (nums, n):\n",
    "            L,U = 0, len(nums)-1\n",
    "            while (L <= U):\n",
    "                M = (L+U)//2\n",
    "                if n < nums[M]:\n",
    "                    U = M - 1 \n",
    "                elif n > nums[M]:\n",
    "                    L = M + 1 \n",
    "                else:\n",
    "                    return M\n",
    "            return -1 \n",
    "         \n",
    "        def twoSum (nums,k):\n",
    "            '''\n",
    "            Given nums is sorted\n",
    "            '''\n",
    "            res = []\n",
    "            for i in range (len(nums)):\n",
    "                temp = nums.copy ()\n",
    "                temp.remove (nums[i])\n",
    "                search_res = bin_search(temp,k-nums[i])\n",
    "                if search_res != -1:\n",
    "                    res.append ([nums[i], temp[search_res]])\n",
    "            return res\n",
    "    \n",
    "        nums = sorted (nums)\n",
    "        res = set()\n",
    "        for i in range (len (nums)):\n",
    "            temp = nums.copy ()\n",
    "            temp.remove (nums[i])\n",
    "            two_sum_result = twoSum (temp,-nums[i])\n",
    "            if (two_sum_result != []):\n",
    "                for ans in two_sum_result:\n",
    "                    ans.append (nums[i])\n",
    "                    ans = tuple (sorted (ans))\n",
    "                    res.add (ans)\n",
    "                    \n",
    "        res = list (map (lambda x:list(x),res))\n",
    "        return list(res)\n",
    "        "
   ]
  },
  {
   "cell_type": "code",
   "execution_count": 66,
   "metadata": {},
   "outputs": [
    {
     "data": {
      "text/plain": [
       "[[-1, -1, 2], [-1, 0, 1]]"
      ]
     },
     "execution_count": 66,
     "metadata": {},
     "output_type": "execute_result"
    }
   ],
   "source": [
    "solution = Solution ()\n",
    "solution.threeSum([-1, 0, 1, 2, -1, -4])"
   ]
  },
  {
   "cell_type": "markdown",
   "metadata": {},
   "source": [
    "#### Q5 Odd Even Jump\n",
    "You are given an integer array A.  From some starting index, you can make a series of jumps.  The (1st, 3rd, 5th, ...) jumps in the series are called odd numbered jumps, and the (2nd, 4th, 6th, ...) jumps in the series are called even numbered jumps.\n",
    "\n",
    "You may from index i jump forward to index j (with i < j) in the following way:\n",
    "\n",
    "During odd numbered jumps (ie. jumps 1, 3, 5, ...), you jump to the index j such that A[i] <= A[j] and A[j] is the smallest possible value.  If there are multiple such indexes j, you can only jump to the smallest such index j.\n",
    "During even numbered jumps (ie. jumps 2, 4, 6, ...), you jump to the index j such that A[i] >= A[j] and A[j] is the largest possible value.  If there are multiple such indexes j, you can only jump to the smallest such index j.\n",
    "(It may be the case that for some index i, there are no legal jumps.)\n",
    "A starting index is good if, starting from that index, you can reach the end of the array (index A.length - 1) by jumping some number of times (possibly 0 or more than once.)\n",
    "\n",
    "Return the number of good starting indexes.\n",
    "\n",
    " "
   ]
  },
  {
   "cell_type": "code",
   "execution_count": 29,
   "metadata": {},
   "outputs": [],
   "source": [
    "class Solution:\n",
    "    def oddJumps(self,A,i):\n",
    "        '''\n",
    "        ret -1 if not possible \n",
    "        else returns the jump index\n",
    "        '''\n",
    "        cur_min = -1\n",
    "        for j in range (i+1,len(A)):\n",
    "            if A[j] < A[i] and cur_min == -1:\n",
    "                cur_min = j\n",
    "            elif A[j] < A[i] and cur_min != -1 and A[j] < A[cur_min]:\n",
    "                cur_min = j\n",
    "#         print (cur_min)\n",
    "        return cur_min \n",
    "    \n",
    "    def evenJumps (self, A,i):\n",
    "        '''\n",
    "        ret -1 if not possible \n",
    "        else returns the jump index\n",
    "        '''\n",
    "        cur_max = -1\n",
    "        for j in range (i+1,len(A)):\n",
    "            if A[j] > A[i] and cur_max == -1:\n",
    "                cur_max = j\n",
    "            elif A[j] > A[i] and cur_max!= -1 and A[j] > A[cur_max]:\n",
    "                cur_max = j\n",
    "\n",
    "        return cur_max         \n",
    "        \n",
    "    def oddEvenJumps(self, A):\n",
    "        if not A: return 0\n",
    "        res = 1\n",
    "        for i in range (len(A)-1):\n",
    "            is_odd = 1\n",
    "            beg_index = i \n",
    "            print (beg_index)\n",
    "            while (i != len(A)-1):\n",
    "                jump_res = self.oddJumps(A,i) if is_odd else self.evenJumps(A,i)\n",
    "                print (jump_res)\n",
    "                if jump_res == -1:\n",
    "                    break\n",
    "                i = jump_res \n",
    "                if i == len(A) - 1:      \n",
    "                    res += 1 \n",
    "                    print (beg_index)\n",
    "                    print ()\n",
    "                    break\n",
    "                is_odd = 1 - is_odd\n",
    "            beg_index += 1 \n",
    "        return res "
   ]
  },
  {
   "cell_type": "code",
   "execution_count": 30,
   "metadata": {},
   "outputs": [
    {
     "name": "stdout",
     "output_type": "stream",
     "text": [
      "1\n",
      "4\n",
      "0\n",
      "\n",
      "-1\n",
      "4\n",
      "2\n",
      "\n",
      "4\n",
      "3\n",
      "\n"
     ]
    },
    {
     "data": {
      "text/plain": [
       "4"
      ]
     },
     "execution_count": 30,
     "metadata": {},
     "output_type": "execute_result"
    }
   ],
   "source": [
    "solution = Solution () \n",
    "# solution.oddEvenJumps([10,13,12,14,15])\n",
    "solution.oddEvenJumps([5,1,3,4,2])"
   ]
  },
  {
   "cell_type": "code",
   "execution_count": null,
   "metadata": {},
   "outputs": [],
   "source": []
  }
 ],
 "metadata": {
  "kernelspec": {
   "display_name": "Python 3",
   "language": "python",
   "name": "python3"
  },
  "language_info": {
   "codemirror_mode": {
    "name": "ipython",
    "version": 3
   },
   "file_extension": ".py",
   "mimetype": "text/x-python",
   "name": "python",
   "nbconvert_exporter": "python",
   "pygments_lexer": "ipython3",
   "version": "3.7.6"
  }
 },
 "nbformat": 4,
 "nbformat_minor": 4
}
