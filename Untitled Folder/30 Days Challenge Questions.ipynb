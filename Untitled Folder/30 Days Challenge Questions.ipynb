{
 "cells": [
  {
   "cell_type": "markdown",
   "metadata": {},
   "source": [
    "#### Q1 Counting Elements\n",
    "Given an integer array arr, count element x such that x + 1 is also in arr.\n",
    "\n",
    "If there're duplicates in arr, count them seperately.\n",
    "\n",
    " "
   ]
  },
  {
   "cell_type": "code",
   "execution_count": 13,
   "metadata": {},
   "outputs": [],
   "source": [
    "# Somewhat a bad solution. Messy code when I was checking the same elements \n",
    "# \n",
    "class Solution:\n",
    "    def countElements(self, arr):\n",
    "        res = 0\n",
    "        arr = sorted(arr) # O(nlogn)\n",
    "        same_elements = 0\n",
    "        for i in range (len(arr)):\n",
    "            if i != len(arr)-1 and arr[i+1] == arr[i]:\n",
    "                same_elements += 1 \n",
    "            if i != len(arr)-1 and arr[i+1]-1 == arr[i]:\n",
    "                same_elements += 1 \n",
    "                res += same_elements\n",
    "                same_elements = 0\n",
    "            if i != len(arr)-1 and arr[i+1] != arr[i]:\n",
    "                same_elements = 0\n",
    "        return res \n",
    "\n",
    "solution = Solution ()\n",
    "assert (solution.countElements([1,1,3,3,5,5])==0)\n",
    "assert (solution.countElements([1,2,3])==2)\n",
    "assert (solution.countElements([1,1,2,2])==2)\n",
    "\n",
    "    # Hash Set Solution\n",
    "def countElements2(self, arr):\n",
    "    hash_set = set(arr)\n",
    "    count = 0\n",
    "    for x in arr:\n",
    "        if x + 1 in hash_set:\n",
    "            count += 1\n",
    "    return count"
   ]
  },
  {
   "cell_type": "markdown",
   "metadata": {},
   "source": [
    "#### Q2 Middle of the Linked list\n",
    "\n",
    "Given a non-empty, singly linked list with head node head, return a middle node of linked list.\n",
    "\n",
    "If there are two middle nodes, return the second middle node."
   ]
  },
  {
   "cell_type": "code",
   "execution_count": 14,
   "metadata": {},
   "outputs": [],
   "source": [
    "class Solution(object):\n",
    "    def middleNode(self, head):\n",
    "        slow = fast = head\n",
    "        while fast and fast.next:\n",
    "            slow = slow.next\n",
    "            fast = fast.next.next\n",
    "        return slow"
   ]
  },
  {
   "cell_type": "markdown",
   "metadata": {},
   "source": [
    "#### Q3 Backstring space compare \n",
    "Given two strings S and T, return if they are equal when both are typed into empty text editors. # means a backspace character.\n",
    "\n",
    "```\n",
    "Input: S = \"ab#c\", T = \"ad#c\"\n",
    "Output: true\n",
    "Explanation: Both S and T become \"ac\".\n",
    "```\n",
    "\\# is a backspace character\n"
   ]
  },
  {
   "cell_type": "code",
   "execution_count": 44,
   "metadata": {},
   "outputs": [],
   "source": [
    "class Solution:\n",
    "    # O(N) Memory is trivial. Let's try O(1) Memory\n",
    "    \n",
    "    def remove_backspace (self,S):\n",
    "        S = S[::-1]\n",
    "        skip_counter = 0\n",
    "        res = ''\n",
    "        for i in range (len(S)):\n",
    "            if skip_counter != 0:\n",
    "                if S[i] == '#':\n",
    "                    skip_counter += 1 \n",
    "                else:\n",
    "                    skip_counter -= 1 \n",
    "            else:\n",
    "                if S[i] == '#':\n",
    "                    skip_counter += 1 \n",
    "                else:\n",
    "                    res = S[i] + res \n",
    "        return res\n",
    "        \n",
    "    \n",
    "    def backspaceCompare(self,S,T):\n",
    "        resS = self.remove_backspace (S)\n",
    "        resT = self.remove_backspace (T)\n",
    "        return resS == resT\n",
    "\n",
    "solution = Solution()\n",
    "solution.backspaceCompare(\"ab##\",\"c#d#\")\n",
    "                \n",
    "# Better Solution\n",
    "\n",
    "class Solution(object):\n",
    "    def backspaceCompare(self, S, T):\n",
    "        def F(S):\n",
    "            skip = 0\n",
    "            for x in reversed(S):\n",
    "                if x == '#':\n",
    "                    skip += 1\n",
    "                elif skip:\n",
    "                    skip -= 1\n",
    "                else:\n",
    "                    yield x # Returns a generator \n",
    "\n",
    "        return all(x == y for x, y in itertools.izip_longest(F(S), F(T)))\n",
    "    # itertools returns (p[0], q[0]), (p[1], q[1]), …"
   ]
  },
  {
   "cell_type": "markdown",
   "metadata": {},
   "source": [
    "all(iterable)\n",
    "Return True if all elements of the iterable are true (or if the iterable is empty). Equivalent to:\n",
    "```\n",
    "def all(iterable):\n",
    "    for element in iterable:\n",
    "        if not element:\n",
    "            return False\n",
    "    return True\n",
    "```\n",
    "\n",
    "any(iterable)\n",
    "\n",
    "Return True if any element of the iterable is true. If the iterable is empty, return False. Equivalent to:\n",
    "```\n",
    "def any(iterable):\n",
    "    for element in iterable:\n",
    "        if element:\n",
    "            return True\n",
    "    return False\n",
    "```"
   ]
  },
  {
   "cell_type": "markdown",
   "metadata": {},
   "source": [
    "#### Q4 Intersection of two arrays \n",
    "Given two arrays, write a function to compute their intersection.\n",
    "\n",
    "Example 1:\n",
    "\n",
    "Input: nums1 = [1,2,2,1], nums2 = [2]\n",
    "Output: [2]"
   ]
  },
  {
   "cell_type": "code",
   "execution_count": 61,
   "metadata": {},
   "outputs": [
    {
     "data": {
      "text/plain": [
       "[3]"
      ]
     },
     "execution_count": 61,
     "metadata": {},
     "output_type": "execute_result"
    }
   ],
   "source": [
    "class Solution:\n",
    "    def bin_search (self, A, n):\n",
    "        L, U = 0, len(A)-1\n",
    "        while (L <= U):\n",
    "            M = (L+U)//2\n",
    "            if A[M] < n:\n",
    "                L = M + 1 \n",
    "            elif A[M] > n:\n",
    "                U = M - 1\n",
    "            else:\n",
    "                return True\n",
    "        return False\n",
    "        \n",
    "    def intersect(self, nums1, nums2):\n",
    "        nums1.sort() # O(nlogn)\n",
    "        nums2.sort() # O(nlogn)\n",
    "        res = {}\n",
    "        for i in range (len(nums1)):\n",
    "            if self.bin_search(nums2, nums1[i]):\n",
    "                if nums1[i] in res:\n",
    "                    res[nums1[i]] += 1 \n",
    "                else:\n",
    "                    res[nums1[i]] = 1 \n",
    "        res2 = {} \n",
    "        for i in range (len(nums2)):\n",
    "            if self.bin_search(nums1, nums2[i]):\n",
    "                if nums2[i] in res2:\n",
    "                    res2[nums2[i]] += 1 \n",
    "                else:\n",
    "                    res2[nums2[i]] = 1    \n",
    "        final_res = []\n",
    "        \n",
    "        for key,val in res.items():\n",
    "            final_res += [key] * min(res[key],res2[key])\n",
    "        \n",
    "        return final_res \n",
    "Solution().intersect([1,3,3], [2,2,3])\n",
    "# assert (Solution().intersect([1,2,2,3], [2,2,3]) == [2,2,3])"
   ]
  },
  {
   "cell_type": "markdown",
   "metadata": {},
   "source": [
    "Solution Notes:\n",
    "\n",
    "##### Approach 1: Hash Map\n",
    "For the previous problem, we used a hash set to achieve a linear time complexity. Here, we need to use a hash map to track the count for each number.\n",
    "\n",
    "We collect numbers and their counts from one of the arrays into a hash map. Then, we iterate along the second array, and check if the number exists in the hash map and its count is positive. If so - add the number to the result and decrease its count in the hash map.\n",
    "用小的array建立hashmap，然后检查在不在hashmap里面，在的话counter-=1然后放进result\n",
    "\n",
    "##### Approach 2: Sorting + Lock Bottle Neck Proceed\n",
    "Sort nums1 and nums2.\n",
    "\n",
    "Initialize i, j and k with zero.\n",
    "\n",
    "Move indices i along nums1, and j through nums2:\n",
    "\n",
    "Increment i if nums1[i] is smaller.\n",
    "\n",
    "Increment j if nums2[j] is smaller.\n",
    "\n",
    "If numbers are the same, copy the number into nums1[k], and increment i, j and k.\n",
    "\n",
    "Return first k elements of nums1."
   ]
  },
  {
   "cell_type": "markdown",
   "metadata": {},
   "source": [
    "#### Q5 Plus one  \n",
    "(I am too lazy to phrase the problem. Below is my solution)\n",
    "```\n",
    "class Solution:\n",
    "    def plusOne(self, digits: List[int]) -> List[int]:\n",
    "        carry_on = 1 \n",
    "        for i in reversed (range (len (digits))):\n",
    "            res, remainder = divmod (digits[i]+carry_on, 10)\n",
    "            digits[i] = remainder \n",
    "            carry_on = res \n",
    "        if carry_on != 0:\n",
    "            digits[0] = 1 \n",
    "            digits.append (0)\n",
    "        return digits \n",
    "```"
   ]
  },
  {
   "cell_type": "code",
   "execution_count": null,
   "metadata": {},
   "outputs": [],
   "source": []
  }
 ],
 "metadata": {
  "kernelspec": {
   "display_name": "Python 3",
   "language": "python",
   "name": "python3"
  },
  "language_info": {
   "codemirror_mode": {
    "name": "ipython",
    "version": 3
   },
   "file_extension": ".py",
   "mimetype": "text/x-python",
   "name": "python",
   "nbconvert_exporter": "python",
   "pygments_lexer": "ipython3",
   "version": "3.7.6"
  }
 },
 "nbformat": 4,
 "nbformat_minor": 4
}
