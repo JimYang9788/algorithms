{
 "cells": [
  {
   "cell_type": "markdown",
   "metadata": {},
   "source": [
    "#### Q1 Counting Elements\n",
    "Given an integer array arr, count element x such that x + 1 is also in arr.\n",
    "\n",
    "If there're duplicates in arr, count them seperately.\n",
    "\n",
    " "
   ]
  },
  {
   "cell_type": "code",
   "execution_count": 13,
   "metadata": {},
   "outputs": [],
   "source": [
    "# Somewhat a bad solution. Messy code when I was checking the same elements \n",
    "# \n",
    "class Solution:\n",
    "    def countElements(self, arr):\n",
    "        res = 0\n",
    "        arr = sorted(arr) # O(nlogn)\n",
    "        same_elements = 0\n",
    "        for i in range (len(arr)):\n",
    "            if i != len(arr)-1 and arr[i+1] == arr[i]:\n",
    "                same_elements += 1 \n",
    "            if i != len(arr)-1 and arr[i+1]-1 == arr[i]:\n",
    "                same_elements += 1 \n",
    "                res += same_elements\n",
    "                same_elements = 0\n",
    "            if i != len(arr)-1 and arr[i+1] != arr[i]:\n",
    "                same_elements = 0\n",
    "        return res \n",
    "\n",
    "solution = Solution ()\n",
    "assert (solution.countElements([1,1,3,3,5,5])==0)\n",
    "assert (solution.countElements([1,2,3])==2)\n",
    "assert (solution.countElements([1,1,2,2])==2)\n",
    "\n",
    "    # Hash Set Solution\n",
    "def countElements2(self, arr):\n",
    "    hash_set = set(arr)\n",
    "    count = 0\n",
    "    for x in arr:\n",
    "        if x + 1 in hash_set:\n",
    "            count += 1\n",
    "    return count"
   ]
  },
  {
   "cell_type": "markdown",
   "metadata": {},
   "source": [
    "#### Q2 Middle of the Linked list\n",
    "\n",
    "Given a non-empty, singly linked list with head node head, return a middle node of linked list.\n",
    "\n",
    "If there are two middle nodes, return the second middle node."
   ]
  },
  {
   "cell_type": "code",
   "execution_count": 14,
   "metadata": {},
   "outputs": [],
   "source": [
    "class Solution(object):\n",
    "    def middleNode(self, head):\n",
    "        slow = fast = head\n",
    "        while fast and fast.next:\n",
    "            slow = slow.next\n",
    "            fast = fast.next.next\n",
    "        return slow"
   ]
  },
  {
   "cell_type": "markdown",
   "metadata": {},
   "source": [
    "## Q3 Backstring space compare \n",
    "Given two strings S and T, return if they are equal when both are typed into empty text editors. # means a backspace character.\n",
    "\n",
    "```\n",
    "Input: S = \"ab#c\", T = \"ad#c\"\n",
    "Output: true\n",
    "Explanation: Both S and T become \"ac\".\n",
    "```\n",
    "\\# is a backspace character\n"
   ]
  },
  {
   "cell_type": "code",
   "execution_count": 43,
   "metadata": {},
   "outputs": [],
   "source": [
    "class Solution:\n",
    "    # O(N) Memory is trivial. Let's try O(1) Memory\n",
    "    \n",
    "    def remove_backspace (self,S):\n",
    "        S = S[::-1]\n",
    "        skip_counter = 0\n",
    "        res = ''\n",
    "        for i in range (len(S)):\n",
    "            if skip_counter != 0:\n",
    "                if S[i] == '#':\n",
    "                    skip_counter += 1 \n",
    "                else:\n",
    "                    skip_counter -= 1 \n",
    "            else:\n",
    "                if S[i] == '#':\n",
    "                    skip_counter += 1 \n",
    "                else:\n",
    "                    res = S[i] + res \n",
    "        return res\n",
    "        \n",
    "\n",
    "    \n",
    "    \n",
    "    def backspaceCompare(self,S,T):\n",
    "        resS = self.remove_backspace (S)\n",
    "        resT = self.remove_backspace (T)\n",
    "        \n",
    "        return resS == resT\n",
    "\n",
    "\n",
    "solution = Solution()\n",
    "solution.backspaceCompare(\"ab##\",\"c#d#\")\n",
    "                \n",
    "# Better Solution\n",
    "class Solution(object):\n",
    "    def backspaceCompare(self, S, T):\n",
    "        def F(S):\n",
    "            skip = 0\n",
    "            for x in reversed(S):\n",
    "                if x == '#':\n",
    "                    skip += 1\n",
    "                elif skip:\n",
    "                    skip -= 1\n",
    "                else:\n",
    "                    yield x\n",
    "\n",
    "        return all(x == y for x, y in itertools.izip_longest(F(S), F(T)))"
   ]
  }
 ],
 "metadata": {
  "kernelspec": {
   "display_name": "Python 3",
   "language": "python",
   "name": "python3"
  },
  "language_info": {
   "codemirror_mode": {
    "name": "ipython",
    "version": 3
   },
   "file_extension": ".py",
   "mimetype": "text/x-python",
   "name": "python",
   "nbconvert_exporter": "python",
   "pygments_lexer": "ipython3",
   "version": "3.7.6"
  }
 },
 "nbformat": 4,
 "nbformat_minor": 4
}
