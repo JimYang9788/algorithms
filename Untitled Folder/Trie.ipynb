{
 "cells": [
  {
   "cell_type": "code",
   "execution_count": 1,
   "metadata": {},
   "outputs": [],
   "source": [
    "class TrieNode:\n",
    "# Initialize your data structure here.\n",
    "    def __init__(self):\n",
    "        self.children = collections.defaultdict(TrieNode)\n",
    "        self.is_word = False\n",
    "\n",
    "class Trie:\n",
    "\n",
    "    def __init__(self):\n",
    "        self.root = TrieNode()\n",
    "\n",
    "    def insert(self, word):\n",
    "        current = self.root\n",
    "        for letter in word:\n",
    "            current = current.children[letter]\n",
    "        current.is_word = True\n",
    "\n",
    "    def search(self, word):\n",
    "        current = self.root\n",
    "        for letter in word:\n",
    "            current = current.children.get(letter)\n",
    "            if current is None:\n",
    "                return False\n",
    "        return current.is_word\n",
    "\n",
    "    def startsWith(self, prefix):\n",
    "        current = self.root\n",
    "        for letter in prefix:\n",
    "            current = current.children.get(letter)\n",
    "            if current is None:\n",
    "                return False\n",
    "        return True"
   ]
  },
  {
   "cell_type": "code",
   "execution_count": null,
   "metadata": {},
   "outputs": [],
   "source": []
  }
 ],
 "metadata": {
  "kernelspec": {
   "display_name": "Python 3",
   "language": "python",
   "name": "python3"
  },
  "language_info": {
   "codemirror_mode": {
    "name": "ipython",
    "version": 3
   },
   "file_extension": ".py",
   "mimetype": "text/x-python",
   "name": "python",
   "nbconvert_exporter": "python",
   "pygments_lexer": "ipython3",
   "version": "3.7.4"
  }
 },
 "nbformat": 4,
 "nbformat_minor": 2
}
