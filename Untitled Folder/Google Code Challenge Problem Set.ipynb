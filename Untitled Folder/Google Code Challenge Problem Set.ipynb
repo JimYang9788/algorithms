{
 "cells": [
  {
   "cell_type": "markdown",
   "metadata": {},
   "source": [
    "#### Q1. Unique Emails \n",
    "\n",
    "Every email consists of a local name and a domain name, separated by the @ sign.\n",
    "\n",
    "For example, in alice@leetcode.com, alice is the local name, and leetcode.com is the domain name.\n",
    "\n",
    "Besides lowercase letters, these emails may contain '.'s or '+'s.\n",
    "\n",
    "If you add periods ('.') between some characters in the local name part of an email address, mail sent there will be forwarded to the same address without dots in the local name.  For example, \"alice.z@leetcode.com\" and \"alicez@leetcode.com\" forward to the same email address.  (Note that this rule does not apply for domain names.)\n",
    "\n",
    "If you add a plus ('+') in the local name, everything after the first plus sign will be ignored. This allows certain emails to be filtered, for example m.y+name@email.com will be forwarded to my@email.com.  (Again, this rule does not apply for domain names.)\n",
    "\n",
    "It is possible to use both of these rules at the same time.\n",
    "\n",
    "Given a list of emails, we send one email to each address in the list.  How many different addresses actually receive mails? "
   ]
  },
  {
   "cell_type": "code",
   "execution_count": 2,
   "metadata": {},
   "outputs": [
    {
     "data": {
      "text/plain": [
       "2"
      ]
     },
     "execution_count": 2,
     "metadata": {},
     "output_type": "execute_result"
    }
   ],
   "source": [
    "class Solution:\n",
    "    def numUniqueEmails(self, emails):\n",
    "        def get_unique_string (string):\n",
    "            local, res, skip = True, '', False\n",
    "            \n",
    "            for c in string:\n",
    "                \n",
    "                if c == '@':\n",
    "                    local, skip = False, False\n",
    "                    res += c \n",
    "                elif local == True:\n",
    "                    if skip == True or c == '.':\n",
    "                        continue\n",
    "                    elif c == '+':\n",
    "                        skip = True\n",
    "                        continue \n",
    "                    res += c \n",
    "                else:\n",
    "                    res += c \n",
    "            return res \n",
    "        return len (set (list(map (get_unique_string, emails))))\n",
    "        \n",
    "emails = [\"test.email+alex@leetcode.com\",\"test.e.mail+bob.cathy@leetcode.com\",\"testemail+david@lee.tcode.com\"]\n",
    "solution = Solution ()\n",
    "solution.numUniqueEmails (emails)"
   ]
  },
  {
   "cell_type": "markdown",
   "metadata": {},
   "source": [
    "#### Q2 Longest Substring without repeating characters \n",
    "Given a string, find the length of the longest substring without repeating characters.\n",
    "\n",
    "Example 1:\n",
    "\n",
    "Input: \"abcabcbb\"\n",
    "Output: 3 \n",
    "Explanation: The answer is \"abc\", with the length of 3. \n",
    "Example 2:\n",
    "\n",
    "Input: \"bbbbb\"\n",
    "Output: 1\n",
    "Explanation: The answer is \"b\", with the length of 1.\n",
    "Example 3:\n",
    "\n",
    "Input: \"pwwkew\"\n",
    "Output: 3\n",
    "Explanation: The answer is \"wke\", with the length of 3. \n",
    "             Note that the answer must be a substring, \"pwke\" is a subsequence and not a substring."
   ]
  },
  {
   "cell_type": "code",
   "execution_count": 7,
   "metadata": {},
   "outputs": [],
   "source": [
    "class Solution:\n",
    "    # My Solution\n",
    "    def lengthOfLongestSubstring(self, s):\n",
    "        if s == '': return 0\n",
    "        D = [0] * len (s)\n",
    "        lcs = ''\n",
    "        # D keeps track of the longest substring without\n",
    "        # repeating characters ends at character c\n",
    "        for i in range(len(s)):\n",
    "            if s[i] not in lcs:\n",
    "                lcs += s[i]\n",
    "                D[i] = len (lcs)\n",
    "            else: # contains current string already\n",
    "                lcs += s[i]\n",
    "                lcs = lcs[lcs.find(s[i])+1:]\n",
    "                D[i] = len (lcs)\n",
    "\n",
    "        return max(D)"
   ]
  },
  {
   "cell_type": "code",
   "execution_count": 8,
   "metadata": {},
   "outputs": [],
   "source": [
    "solution = Solution()\n",
    "assert (solution.lengthOfLongestSubstring('bbbbb') == 1)\n",
    "assert (solution.lengthOfLongestSubstring('abcabcbb') == 3)"
   ]
  },
  {
   "cell_type": "markdown",
   "metadata": {},
   "source": [
    "**Approach 2: Sliding Window**\n",
    "Algorithm\n",
    "\n",
    "The naive approach is very straightforward. But it is too slow. So how can we optimize it?\n",
    "\n",
    "To check if a character is already in the substring, we can scan the substring, which leads to an $O(n^2)$ algorithm. But we can do better.\n",
    "\n",
    "By using **HashSet** as a sliding window, checking if a character in the current can be done in O(1).\n",
    "\n",
    "A sliding window is an abstract concept commonly used in array/string problems. A window is a range of elements in the array/string which usually defined by the start and end indices, i.e. [i, j)[i,j) (left-closed, right-open). A sliding window is a window \"slides\" its two boundaries to the certain direction. For example, if we slide [i, j)[i,j) to the right by 11 element, then it becomes [i+1, j+1)[i+1,j+1) (left-closed, right-open).\n",
    "\n",
    "Back to our problem. We use HashSet to store the characters in current window [i, j)[i,j) (j = ij=i initially). Then we slide the index j to the right. If it is not in the HashSet, we slide jj further. Doing so until s[j] is already in the HashSet. At this point, we found the maximum size of substrings without duplicate characters start with index ii. If we do this for all ii, we get our answer."
   ]
  },
  {
   "cell_type": "markdown",
   "metadata": {},
   "source": [
    "```\n",
    "public class Solution {\n",
    "    public int lengthOfLongestSubstring(String s) {\n",
    "        int n = s.length();\n",
    "        Set<Character> set = new HashSet<>();\n",
    "        int ans = 0, i = 0, j = 0;\n",
    "        while (i < n && j < n) {\n",
    "            // try to extend the range [i, j]\n",
    "            if (!set.contains(s.charAt(j))){\n",
    "                set.add(s.charAt(j++));\n",
    "                ans = Math.max(ans, j - i);\n",
    "            }\n",
    "            else {\n",
    "                set.remove(s.charAt(i++));\n",
    "            }\n",
    "        }\n",
    "        return ans;\n",
    "    }\n",
    "}\n",
    "```"
   ]
  },
  {
   "cell_type": "code",
   "execution_count": null,
   "metadata": {},
   "outputs": [],
   "source": []
  }
 ],
 "metadata": {
  "kernelspec": {
   "display_name": "Python 3",
   "language": "python",
   "name": "python3"
  },
  "language_info": {
   "codemirror_mode": {
    "name": "ipython",
    "version": 3
   },
   "file_extension": ".py",
   "mimetype": "text/x-python",
   "name": "python",
   "nbconvert_exporter": "python",
   "pygments_lexer": "ipython3",
   "version": "3.7.6"
  }
 },
 "nbformat": 4,
 "nbformat_minor": 4
}
