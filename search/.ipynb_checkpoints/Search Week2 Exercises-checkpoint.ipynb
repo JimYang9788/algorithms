{
 "cells": [
  {
   "cell_type": "markdown",
   "metadata": {},
   "source": [
    "## Searching Week2 Exercises\n",
    "\n",
    "Review of week1: \n",
    "```\n",
    "def binary_search(A, target):\n",
    "    L = 0\n",
    "    U = len(A) - 1 \n",
    "    while (L <= U):\n",
    "        M = (U+L) // 2 \n",
    "        if A[M] < target:\n",
    "            L = M + 1 \n",
    "        elif A[M] == target:\n",
    "            return M\n",
    "        else:\n",
    "            U = M - 1 \n",
    "    return -1  \n",
    "```\n",
    "last week's search first (finding the first occurrence) is basically the binary search, but with a twist where you keep going left (using res to keep track of current leftmost position) (structural programming aha) to find the earliest occurrence."
   ]
  },
  {
   "cell_type": "markdown",
   "metadata": {},
   "source": [
    "**Q1**. Design an efficient algorithm that takes a *sorted array* of distinct integers, and returns an index i such that the element at index i equals i. For example, where the input is <-2, 0, 2, 3, 6, 7, 9> your algorithm should return 2 or 3 "
   ]
  },
  {
   "cell_type": "code",
   "execution_count": 4,
   "metadata": {},
   "outputs": [],
   "source": [
    "def brute_force_find_equal (A):\n",
    "    '''\n",
    "    space O(n) // result  O(1) if just one element \n",
    "    time O(n)\n",
    "    '''\n",
    "    res = []\n",
    "    for i, val in enumerate (A):\n",
    "        if i == val:\n",
    "            res.append (i)\n",
    "    return res"
   ]
  },
  {
   "cell_type": "markdown",
   "metadata": {},
   "source": [
    "Brute force is stupid enough that does not reflect my smartness. So let's make use of the fact that the array is sorted. Apply some binary search shit.\n"
   ]
  },
  {
   "cell_type": "code",
   "execution_count": 5,
   "metadata": {},
   "outputs": [],
   "source": [
    "def binary_search_find_equal(A):\n",
    "    '''\n",
    "    space O(1) // result is not an array\n",
    "    time O(logn)\n",
    "    '''\n",
    "    L = 0 \n",
    "    U = len(A) - 1 \n",
    "    \n",
    "    while (L <= U):\n",
    "        M = (L + U) #2\n",
    "        if A[M] == M:\n",
    "            return M\n",
    "        elif A[M] < M:\n",
    "            L = M + 1  \n",
    "        else:\n",
    "            U = M - 1 \n",
    "    return -1 \n"
   ]
  },
  {
   "cell_type": "markdown",
   "metadata": {},
   "source": [
    "Followup, what if the array contains dulicates? Then you can't really move fast. Move slow. Runtime is O(n)? "
   ]
  },
  {
   "cell_type": "markdown",
   "metadata": {},
   "source": [
    "**Q2** A cyclically sorted array is one that can be cyclically *shifted* so that the entries are sorted. Assume all the elements are distinct. Find an algorithm that find the position of the smallest element in a cyclically sorted array.\n",
    "\n",
    "Brute Force seems very trivial. O(n) Scan O(1) space. But $O(logn)$ seems more difficult. We know that two parts of the array are sorted, so binary search on both end is viable. "
   ]
  },
  {
   "cell_type": "code",
   "execution_count": 6,
   "metadata": {},
   "outputs": [],
   "source": [
    "def binary_search_special (A):\n",
    "    L, U = 0, len(A)-1\n",
    "    while L < U:\n",
    "        M = (U+L) // 2 \n",
    "        if A[M] > A[U]:\n",
    "            L = M + 1 \n",
    "        else:\n",
    "            U = M\n",
    "    return L\n"
   ]
  },
  {
   "cell_type": "code",
   "execution_count": null,
   "metadata": {},
   "outputs": [],
   "source": []
  }
 ],
 "metadata": {
  "kernelspec": {
   "display_name": "Python 3",
   "language": "python",
   "name": "python3"
  },
  "language_info": {
   "codemirror_mode": {
    "name": "ipython",
    "version": 3
   },
   "file_extension": ".py",
   "mimetype": "text/x-python",
   "name": "python",
   "nbconvert_exporter": "python",
   "pygments_lexer": "ipython3",
   "version": "3.7.4"
  }
 },
 "nbformat": 4,
 "nbformat_minor": 2
}
