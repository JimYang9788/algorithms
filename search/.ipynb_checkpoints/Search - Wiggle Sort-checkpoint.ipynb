{
 "cells": [
  {
   "cell_type": "markdown",
   "metadata": {},
   "source": [
    "思路:中位数(Median) O(n) 时间\n",
    "    小于中位数的基数index\n",
    "    大于中位数的偶数index\n",
    "\n",
    "Basic idea: we find median value, put numbers bigger than median into odd index, smaller than median into even index.\n",
    "Naive solution:\n",
    "\n",
    "Sort the array to find median in O(nlgn) time + O(1) space\n",
    "Move odd and even index numbers into temp array and move them back to the original array with new index. Taking O(n) time + O(n) space.\n",
    "Total: O(nlgn) time + O(n) space\n",
    "In order to achieve O(n) time + O(1) space, we need to answer two questions:\n",
    "\n",
    "How to find median in O(n)+O(1)\n",
    "How to re-order the odd-even indexes \"in-place\" using O(1) memory.\n",
    "Three knowledge pre-requisitions:\n",
    "\n",
    "Quick select to find median in O(n) time on average, O(n^2) in worst case. Taking O(1) memory.\n",
    "\"Median of medians\" alogrithm to improve quick select, making the time complexity \"deterministic O(n)\" rather than \"average O(n)\".\n",
    "Virtual indexing technology to achieve in-place wiggle sort based on median value found above.\n",
    "There is \"median of medians + quick select\" methods provided out of the box in all languages. You have to write it yourself.\n",
    "This problem deserve to be of \"Hard\" difficulty rather than \"Medium\" for the O(n)+O(1) solution, considering so many technologies involved."
   ]
  },
  {
   "cell_type": "code",
   "execution_count": 2,
   "metadata": {},
   "outputs": [],
   "source": [
    "import random\n",
    "class Solution:\n",
    "    def wiggleSort(self, nums) -> None:\n",
    "        def nsmallest(nums,n):            \n",
    "            start,end=0,len(nums)-1\n",
    "            while True:\n",
    "                pivot=nums[random.randint(start,end)]\n",
    "                i,j,k=start,end,start\n",
    "                while k<=j:\n",
    "                    if nums[k]<pivot:\n",
    "                        nums[i],nums[k]=nums[k],nums[i]\n",
    "                        i+=1\n",
    "                        k+=1\n",
    "                    elif nums[k]>pivot:\n",
    "                        nums[j],nums[k]=nums[k],nums[j]\n",
    "                        j-=1\n",
    "                    else:\n",
    "                        k+=1\n",
    "                if i<=n-1<=j:\n",
    "                    return pivot\n",
    "                elif n-1<i:\n",
    "                    end=i-1\n",
    "                else:\n",
    "                    start=i+1\n",
    "        n=len(nums)\n",
    "        mid=nsmallest(nums,(n+1)//2)\n",
    "        mapIdx=lambda i:(1+2*i)%(n|1)\n",
    "        i,j,k=0,n-1,0\n",
    "        while k<=j:\n",
    "            if nums[mapIdx(k)]>mid:\n",
    "                nums[mapIdx(k)],nums[mapIdx(i)]=nums[mapIdx(i)],nums[mapIdx(k)]\n",
    "                i+=1\n",
    "                k+=1\n",
    "            elif nums[mapIdx(k)]<mid:\n",
    "                nums[mapIdx(k)],nums[mapIdx(j)]=nums[mapIdx(j)],nums[mapIdx(k)]\n",
    "                j-=1\n",
    "            else:\n",
    "                k+=1"
   ]
  }
 ],
 "metadata": {
  "kernelspec": {
   "display_name": "Python 3",
   "language": "python",
   "name": "python3"
  },
  "language_info": {
   "codemirror_mode": {
    "name": "ipython",
    "version": 3
   },
   "file_extension": ".py",
   "mimetype": "text/x-python",
   "name": "python",
   "nbconvert_exporter": "python",
   "pygments_lexer": "ipython3",
   "version": "3.7.4"
  }
 },
 "nbformat": 4,
 "nbformat_minor": 2
}
