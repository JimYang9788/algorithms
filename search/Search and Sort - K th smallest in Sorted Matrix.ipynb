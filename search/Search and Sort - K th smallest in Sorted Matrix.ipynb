{
 "cells": [
  {
   "cell_type": "code",
   "execution_count": 2,
   "metadata": {},
   "outputs": [],
   "source": [
    "from heapq import heappush, heappop\n",
    "\n",
    "class Solution:\n",
    "    def kthSmallest(self, matrix, k):\n",
    "        a, res = [], -1\n",
    "        for r in matrix:\n",
    "            for e in r:\n",
    "                heappush(a, e)\n",
    "\n",
    "        for _ in range(k):\n",
    "            res = heappop(a)    \n",
    "        return res\n",
    "    \n",
    "class Solution:\n",
    "    def kthSmallest(self, matrix, k):\n",
    "        res = []\n",
    "        for r in matrix:\n",
    "            res += r\n",
    "        return sorted(res)[k-1]"
   ]
  },
  {
   "cell_type": "code",
   "execution_count": null,
   "metadata": {},
   "outputs": [],
   "source": []
  }
 ],
 "metadata": {
  "kernelspec": {
   "display_name": "Python 3",
   "language": "python",
   "name": "python3"
  },
  "language_info": {
   "codemirror_mode": {
    "name": "ipython",
    "version": 3
   },
   "file_extension": ".py",
   "mimetype": "text/x-python",
   "name": "python",
   "nbconvert_exporter": "python",
   "pygments_lexer": "ipython3",
   "version": "3.7.4"
  }
 },
 "nbformat": 4,
 "nbformat_minor": 2
}
