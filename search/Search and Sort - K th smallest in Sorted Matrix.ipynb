{
 "cells": [
  {
   "cell_type": "code",
   "execution_count": 2,
   "metadata": {},
   "outputs": [],
   "source": [
    "from heapq import heappush, heappop\n",
    "\n",
    "class Solution:\n",
    "    def kthSmallest(self, matrix, k):\n",
    "        a, res = [], -1\n",
    "        for r in matrix:\n",
    "            for e in r:\n",
    "                heappush(a, e)\n",
    "\n",
    "        for _ in range(k):\n",
    "            res = heappop(a)    \n",
    "        return res\n",
    "    \n",
    "class Solution:\n",
    "    def kthSmallest(self, matrix, k):\n",
    "        res = []\n",
    "        for r in matrix:\n",
    "            res += r\n",
    "        return sorted(res)[k-1]"
   ]
  },
  {
   "cell_type": "code",
   "execution_count": 3,
   "metadata": {},
   "outputs": [
    {
     "name": "stdout",
     "output_type": "stream",
     "text": [
      "The rightmost index to insert, so list remains sorted is  : 5\n",
      "The leftmost index to insert, so list remains sorted is  : 2\n",
      "The rightmost index to insert, so list remains sorted is  : 4\n"
     ]
    }
   ],
   "source": [
    "\n",
    "# Python code to demonstrate the working of \n",
    "# bisect(), bisect_left() and bisect_right() \n",
    "  \n",
    "# importing \"bisect\" for bisection operations \n",
    "import bisect \n",
    "  \n",
    "# initializing list \n",
    "li = [1, 3, 4, 4, 4, 6, 7] \n",
    "  \n",
    "# using bisect() to find index to insert new element \n",
    "# returns 5 ( right most possible index ) \n",
    "print (\"The rightmost index to insert, so list remains sorted is  : \", end=\"\") \n",
    "print (bisect.bisect(li, 4)) \n",
    "  \n",
    "# using bisect_left() to find index to insert new element \n",
    "# returns 2 ( left most possible index ) \n",
    "print (\"The leftmost index to insert, so list remains sorted is  : \", end=\"\") \n",
    "print (bisect.bisect_left(li, 4)) \n",
    "  \n",
    "# using bisect_right() to find index to insert new element \n",
    "# returns 4 ( right most possible index ) \n",
    "print (\"The rightmost index to insert, so list remains sorted is  : \", end=\"\") \n",
    "print (bisect.bisect_right(li, 4, 0, 4)) "
   ]
  },
  {
   "cell_type": "markdown",
   "metadata": {},
   "source": [
    "\n",
    "Start the Binary Search with start = matrix[0][0] and end = matrix[n-1][n-1].\n",
    "Find middle of the start and the end. This middle number is NOT necessarily an element in the matrix.\n",
    "Count all the numbers smaller than or equal to middle in the matrix. As the matrix is sorted, we can do this in O(N).\n",
    "While counting, we can keep track of the “smallest number greater than the middle” (let’s call it n1) and at the same time the “biggest number less than or equal to the middle” (let’s call it n2). These two numbers will be used to adjust the \"number range\" for the Binary Search in the next iteration.\n",
    "If the count is equal to ‘K’, n1 will be our required number as it is the “biggest number less than or equal to the middle”, and is definitely present in the matrix.\n",
    "If the count is less than ‘K’, we can update start = n2 to search in the higher part of the matrix and if the count is greater than ‘K’, we can update end = n1 to search in the lower part of the matrix in the next iteration.\n"
   ]
  },
  {
   "cell_type": "code",
   "execution_count": 4,
   "metadata": {},
   "outputs": [],
   "source": [
    "def find_Kth_smallest(matrix, k):\n",
    "  n = len(matrix)\n",
    "  start, end = matrix[0][0], matrix[n - 1][n - 1]\n",
    "  while start < end:\n",
    "    mid = start + (end - start) / 2\n",
    "    smaller, larger = (matrix[0][0], matrix[n - 1][n - 1])\n",
    "\n",
    "    count, smaller, larger = count_less_equal(matrix, mid, smaller, larger)\n",
    "\n",
    "    if count == k:\n",
    "      return smaller\n",
    "    if count < k:\n",
    "      start = larger  # search higher\n",
    "    else:\n",
    "      end = smaller  # search lower\n",
    "\n",
    "  return start\n",
    "\n",
    "\n",
    "def count_less_equal(matrix, mid, smaller, larger):\n",
    "  count, n = 0, len(matrix)\n",
    "  row, col = n - 1, 0\n",
    "  while row >= 0 and col < n:\n",
    "    if matrix[row][col] > mid:\n",
    "      # as matrix[row][col] is bigger than the mid, let's keep track of the\n",
    "      # smallest number greater than the mid\n",
    "      larger = min(larger, matrix[row][col])\n",
    "      row -= 1\n",
    "    else:\n",
    "      # as matrix[row][col] is less than or equal to the mid, let's keep track of the\n",
    "      # biggest number less than or equal to the mid\n",
    "      smaller = max(smaller, matrix[row][col])\n",
    "      count += row + 1\n",
    "      col += 1\n",
    "\n",
    "  return count, smaller, larger"
   ]
  }
 ],
 "metadata": {
  "kernelspec": {
   "display_name": "Python 3",
   "language": "python",
   "name": "python3"
  },
  "language_info": {
   "codemirror_mode": {
    "name": "ipython",
    "version": 3
   },
   "file_extension": ".py",
   "mimetype": "text/x-python",
   "name": "python",
   "nbconvert_exporter": "python",
   "pygments_lexer": "ipython3",
   "version": "3.7.4"
  }
 },
 "nbformat": 4,
 "nbformat_minor": 2
}
