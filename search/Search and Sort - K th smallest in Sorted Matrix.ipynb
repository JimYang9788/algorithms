{
 "cells": [
  {
   "cell_type": "code",
   "execution_count": 2,
   "metadata": {},
   "outputs": [],
   "source": [
    "from heapq import heappush, heappop\n",
    "\n",
    "class Solution:\n",
    "    def kthSmallest(self, matrix, k):\n",
    "        a, res = [], -1\n",
    "        for r in matrix:\n",
    "            for e in r:\n",
    "                heappush(a, e)\n",
    "\n",
    "        for _ in range(k):\n",
    "            res = heappop(a)    \n",
    "        return res\n",
    "    \n",
    "class Solution:\n",
    "    def kthSmallest(self, matrix, k):\n",
    "        res = []\n",
    "        for r in matrix:\n",
    "            res += r\n",
    "        return sorted(res)[k-1]"
   ]
  },
  {
   "cell_type": "code",
   "execution_count": null,
   "metadata": {},
   "outputs": [],
   "source": [
    "\n",
    "# Python code to demonstrate the working of \n",
    "# bisect(), bisect_left() and bisect_right() \n",
    "  \n",
    "# importing \"bisect\" for bisection operations \n",
    "import bisect \n",
    "  \n",
    "# initializing list \n",
    "li = [1, 3, 4, 4, 4, 6, 7] \n",
    "  \n",
    "# using bisect() to find index to insert new element \n",
    "# returns 5 ( right most possible index ) \n",
    "print (\"The rightmost index to insert, so list remains sorted is  : \", end=\"\") \n",
    "print (bisect.bisect(li, 4)) \n",
    "  \n",
    "# using bisect_left() to find index to insert new element \n",
    "# returns 2 ( left most possible index ) \n",
    "print (\"The leftmost index to insert, so list remains sorted is  : \", end=\"\") \n",
    "print (bisect.bisect_left(li, 4)) \n",
    "  \n",
    "# using bisect_right() to find index to insert new element \n",
    "# returns 4 ( right most possible index ) \n",
    "print (\"The rightmost index to insert, so list remains sorted is  : \", end=\"\") \n",
    "print (bisect.bisect_right(li, 4, 0, 4)) "
   ]
  }
 ],
 "metadata": {
  "kernelspec": {
   "display_name": "Python 3",
   "language": "python",
   "name": "python3"
  },
  "language_info": {
   "codemirror_mode": {
    "name": "ipython",
    "version": 3
   },
   "file_extension": ".py",
   "mimetype": "text/x-python",
   "name": "python",
   "nbconvert_exporter": "python",
   "pygments_lexer": "ipython3",
   "version": "3.7.4"
  }
 },
 "nbformat": 4,
 "nbformat_minor": 2
}
