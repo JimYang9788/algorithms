{
 "cells": [
  {
   "cell_type": "code",
   "execution_count": null,
   "metadata": {},
   "outputs": [],
   "source": [
    "class MyCalendarTwo:\n",
    "    def __init__(self):\n",
    "        self.calendar = []\n",
    "        self.overlaps = []\n",
    "\n",
    "    def book(self, start, end):\n",
    "        for s,e in self.overlaps:\n",
    "            if max(s,start) < min(e, end):\n",
    "                return False \n",
    "        \n",
    "        for s,e in self.calendar:\n",
    "            if max(s,start) < min(e, end):\n",
    "                self.overlaps.append ((max(s,start), min(e, end)) )\n",
    "                \n",
    "        self.calendar.append ((start, end))\n",
    "        return True "
   ]
  }
 ],
 "metadata": {
  "kernelspec": {
   "display_name": "Python 3",
   "language": "python",
   "name": "python3"
  },
  "language_info": {
   "codemirror_mode": {
    "name": "ipython",
    "version": 3
   },
   "file_extension": ".py",
   "mimetype": "text/x-python",
   "name": "python",
   "nbconvert_exporter": "python",
   "pygments_lexer": "ipython3",
   "version": "3.7.4"
  }
 },
 "nbformat": 4,
 "nbformat_minor": 2
}
