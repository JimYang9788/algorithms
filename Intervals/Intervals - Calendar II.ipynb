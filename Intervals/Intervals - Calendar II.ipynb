{
 "cells": [
  {
   "cell_type": "code",
   "execution_count": 1,
   "metadata": {},
   "outputs": [],
   "source": [
    "class MyCalendarTwo:\n",
    "    def __init__(self):\n",
    "        self.calendar = []\n",
    "        self.overlaps = []\n",
    "\n",
    "    def book(self, start, end):\n",
    "        for s,e in self.overlaps:\n",
    "            if max(s,start) < min(e, end):\n",
    "                return False \n",
    "        \n",
    "        for s,e in self.calendar:\n",
    "            if max(s,start) < min(e, end):\n",
    "                self.overlaps.append ((max(s,start), min(e, end)) )\n",
    "                \n",
    "        self.calendar.append ((start, end))\n",
    "        return True "
   ]
  },
  {
   "cell_type": "code",
   "execution_count": null,
   "metadata": {},
   "outputs": [],
   "source": [
    "# Boundary sort \n",
    "# When booking a new event [start, end), count delta[start]++ \n",
    "# and delta[end]--. When processing the values of delta in sorted\n",
    "# order of their keys, the running sum active is the number of\n",
    "# events open at that time. If the sum is 3 or more, that time \n",
    "# is (at least) triple booked.\n",
    "\n",
    "# (高级的interval count..)"
   ]
  }
 ],
 "metadata": {
  "kernelspec": {
   "display_name": "Python 3",
   "language": "python",
   "name": "python3"
  },
  "language_info": {
   "codemirror_mode": {
    "name": "ipython",
    "version": 3
   },
   "file_extension": ".py",
   "mimetype": "text/x-python",
   "name": "python",
   "nbconvert_exporter": "python",
   "pygments_lexer": "ipython3",
   "version": "3.7.4"
  }
 },
 "nbformat": 4,
 "nbformat_minor": 2
}
