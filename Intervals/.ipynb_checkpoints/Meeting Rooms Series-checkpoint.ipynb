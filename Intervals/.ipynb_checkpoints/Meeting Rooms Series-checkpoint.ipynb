{
 "cells": [
  {
   "cell_type": "code",
   "execution_count": 2,
   "metadata": {},
   "outputs": [],
   "source": [
    "class Solution:\n",
    "    def minMeetingRooms(self, intervals) -> int:\n",
    "        \n",
    "        if not intervals: return 0 \n",
    "\n",
    "        intervals.sort(key=lambda x:x[0])\n",
    "        minheap = [intervals[0][1]] # Use the endtime as the queue \n",
    "        \n",
    "        for i in range (1, len (intervals)):\n",
    "            if intervals[i][0] < minheap[0]:\n",
    "                # If the current start time is greater than the \n",
    "                # Minheap's end time \n",
    "                heapq.heappush(minheap, intervals[i][1])\n",
    "            else:\n",
    "                heapq.heappop(minheap)\n",
    "                heapq.heappush(minheap, intervals[i][1])\n",
    "            \n",
    "        \n",
    "        return len(minheap)\n",
    "        \n",
    "        "
   ]
  },
  {
   "cell_type": "code",
   "execution_count": null,
   "metadata": {},
   "outputs": [],
   "source": []
  }
 ],
 "metadata": {
  "kernelspec": {
   "display_name": "Python 3",
   "language": "python",
   "name": "python3"
  },
  "language_info": {
   "codemirror_mode": {
    "name": "ipython",
    "version": 3
   },
   "file_extension": ".py",
   "mimetype": "text/x-python",
   "name": "python",
   "nbconvert_exporter": "python",
   "pygments_lexer": "ipython3",
   "version": "3.7.4"
  }
 },
 "nbformat": 4,
 "nbformat_minor": 2
}
