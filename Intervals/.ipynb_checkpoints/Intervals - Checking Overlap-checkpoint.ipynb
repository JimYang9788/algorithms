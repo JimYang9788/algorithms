{
 "cells": [
  {
   "cell_type": "code",
   "execution_count": 2,
   "metadata": {},
   "outputs": [],
   "source": [
    "class Solution:\n",
    "    def removeCoveredIntervals(self, intervals):\n",
    "        \n",
    "\n",
    "        \n",
    "        intervals.sort(key = lambda x: (x[0], -x[1]))\n",
    "        count = 0\n",
    "    \n",
    "        prev_end = 0\n",
    "        for start, end in intervals:\n",
    "\n",
    "            if end > prev_end:\n",
    "                count += 1    \n",
    "                prev_end = end\n",
    "        \n",
    "        return count"
   ]
  },
  {
   "cell_type": "code",
   "execution_count": null,
   "metadata": {},
   "outputs": [],
   "source": []
  }
 ],
 "metadata": {
  "kernelspec": {
   "display_name": "Python 3",
   "language": "python",
   "name": "python3"
  },
  "language_info": {
   "codemirror_mode": {
    "name": "ipython",
    "version": 3
   },
   "file_extension": ".py",
   "mimetype": "text/x-python",
   "name": "python",
   "nbconvert_exporter": "python",
   "pygments_lexer": "ipython3",
   "version": "3.7.4"
  }
 },
 "nbformat": 4,
 "nbformat_minor": 2
}
