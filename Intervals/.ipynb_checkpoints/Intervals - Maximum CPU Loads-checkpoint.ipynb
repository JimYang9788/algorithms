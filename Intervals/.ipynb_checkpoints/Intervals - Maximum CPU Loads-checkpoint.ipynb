{
 "cells": [
  {
   "cell_type": "markdown",
   "metadata": {},
   "source": [
    "Maximum CPU Load (hard) #\n",
    "We are given a list of Jobs. Each job has a Start time, an End time, and a CPU load when it is running. Our goal is to find the maximum CPU load at any time if all the jobs are running on the same machine.\n",
    "\n",
    "Example 1:\n",
    "\n",
    "Jobs: [[1,4,3], [2,5,4], [7,9,6]]\n",
    "Output: 7\n",
    "Explanation: Since [1,4,3] and [2,5,4] overlap, their maximum CPU load (3+4=7) will be when both the \n",
    "jobs are running at the same time i.e., during the time interval (2,4)."
   ]
  },
  {
   "cell_type": "code",
   "execution_count": 3,
   "metadata": {},
   "outputs": [
    {
     "name": "stdout",
     "output_type": "stream",
     "text": [
      "Maximum CPU load at any time: 3\n",
      "Maximum CPU load at any time: 11\n",
      "Maximum CPU load at any time: 2\n"
     ]
    }
   ],
   "source": [
    "from heapq import *\n",
    "\n",
    "\n",
    "class job:\n",
    "    def __init__(self, start, end, cpu_load):\n",
    "        self.start = start\n",
    "        self.end = end\n",
    "        self.cpu_load = cpu_load\n",
    "\n",
    "    def __lt__(self, other):\n",
    "    # min heap based on job.end\n",
    "        return self.end < other.end\n",
    "\n",
    "\n",
    "def find_max_cpu_load(jobs):\n",
    "  # sort the jobs by start time\n",
    "    jobs.sort(key=lambda x: x.start)\n",
    "    max_cpu_load, current_cpu_load = 0, 0\n",
    "    min_heap = []\n",
    "\n",
    "    for j in jobs:\n",
    "        # remove all the jobs that have ended\n",
    "        while(len(min_heap) > 0 and j.start >= min_heap[0].end):\n",
    "            current_cpu_load -= min_heap[0].cpu_load\n",
    "            heappop(min_heap)\n",
    "        # add the current job into min_heap\n",
    "        heappush(min_heap, j)\n",
    "        current_cpu_load += j.cpu_load\n",
    "        max_cpu_load = max(max_cpu_load, current_cpu_load)\n",
    "        return max_cpu_load\n",
    "\n",
    "\n",
    "def main():\n",
    "    print(\"Maximum CPU load at any time: \" + str(find_max_cpu_load([job(1, 4, 3), job(2, 5, 4), job(7, 9, 6)])))\n",
    "    print(\"Maximum CPU load at any time: \" + str(find_max_cpu_load([job(6, 7, 10), job(2, 4, 11), job(8, 12, 15)])))\n",
    "    print(\"Maximum CPU load at any time: \" + str(find_max_cpu_load([job(1, 4, 2), job(2, 4, 1), job(3, 6, 5)])))\n",
    "\n",
    "\n",
    "main()\n"
   ]
  }
 ],
 "metadata": {
  "kernelspec": {
   "display_name": "Python 3",
   "language": "python",
   "name": "python3"
  },
  "language_info": {
   "codemirror_mode": {
    "name": "ipython",
    "version": 3
   },
   "file_extension": ".py",
   "mimetype": "text/x-python",
   "name": "python",
   "nbconvert_exporter": "python",
   "pygments_lexer": "ipython3",
   "version": "3.7.4"
  }
 },
 "nbformat": 4,
 "nbformat_minor": 2
}
