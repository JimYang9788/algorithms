{
 "cells": [
  {
   "cell_type": "code",
   "execution_count": null,
   "metadata": {},
   "outputs": [],
   "source": [
    "class Solution:\n",
    "    def removeInterval(self, intervals: List[List[int]], toBeRemoved: List[int]) -> List[List[int]]:\n",
    "\n",
    "        '''\n",
    "        # For each interval in intervals \n",
    "        # 3 cases \n",
    "\n",
    "\n",
    "        1) No intersect      \n",
    "        Goes to the res \n",
    "\n",
    "        2) If there's a intersect \n",
    "\n",
    "        - One interval contains the other \n",
    "        - Partially overlapped \n",
    "\n",
    "        taking (a1, a2) and target is (t1,t2)\n",
    "\n",
    "        The intersect is always \n",
    "        (max(a1, t1), min(a2,t2))\n",
    "\n",
    "\n",
    "        keep part (a1, a2) that is not in (max(a1, t1), min(a2,t2))\n",
    "\n",
    "        (a1, max(a1, t1)) and (min(a2,t2), a2)\n",
    "\n",
    "        '''\n",
    "        t1, t2 = toBeRemoved[0], toBeRemoved[1]\n",
    "        res = []\n",
    "        for interval in intervals:\n",
    "\n",
    "            a1, a2 = interval[0], interval[1]\n",
    "\n",
    "            if max(a1, t1) < min (a2, t2):\n",
    "                # there's an intersect\n",
    "                if a1 < t1:\n",
    "                    res.append ([a1,t1])\n",
    "                if t2 < a2:\n",
    "                    res.append ([t2, a2])\n",
    "\n",
    "\n",
    "            else:\n",
    "                res.append (interval)\n",
    "        res.sort(key=lambda x:x[0])\n",
    "        return res"
   ]
  }
 ],
 "metadata": {
  "kernelspec": {
   "display_name": "Python 3",
   "language": "python",
   "name": "python3"
  },
  "language_info": {
   "codemirror_mode": {
    "name": "ipython",
    "version": 3
   },
   "file_extension": ".py",
   "mimetype": "text/x-python",
   "name": "python",
   "nbconvert_exporter": "python",
   "pygments_lexer": "ipython3",
   "version": "3.7.4"
  }
 },
 "nbformat": 4,
 "nbformat_minor": 2
}
