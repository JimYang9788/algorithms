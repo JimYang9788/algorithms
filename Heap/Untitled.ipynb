{
 "cells": [
  {
   "cell_type": "code",
   "execution_count": null,
   "metadata": {},
   "outputs": [],
   "source": [
    "class Solution:\n",
    "    def assignTasks(self, servers: List[int], tasks: List[int]) -> List[int]:\n",
    "        res = []\n",
    "        h1 = [[weight, i ,0] for i, weight in enumerate(servers)]\n",
    "        h2 = []\n",
    "        heapq.heapify(h1)\n",
    "        for j, task in enumerate(tasks):\n",
    "            while h2 and h2[0][0] <= j or not h1:\n",
    "                time, weight, i = heapq.heappop(h2)\n",
    "                heapq.heappush(h1, [weight, i, time])\n",
    "            weight, i, time = heapq.heappop(h1)\n",
    "            res.append(i)\n",
    "            heapq.heappush(h2, [max(time,j)+task, weight, i])\n",
    "        return res"
   ]
  }
 ],
 "metadata": {
  "kernelspec": {
   "display_name": "Python 3",
   "language": "python",
   "name": "python3"
  },
  "language_info": {
   "codemirror_mode": {
    "name": "ipython",
    "version": 3
   },
   "file_extension": ".py",
   "mimetype": "text/x-python",
   "name": "python",
   "nbconvert_exporter": "python",
   "pygments_lexer": "ipython3",
   "version": "3.7.4"
  }
 },
 "nbformat": 4,
 "nbformat_minor": 2
}
