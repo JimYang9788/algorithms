{
 "cells": [
  {
   "cell_type": "code",
   "execution_count": null,
   "metadata": {},
   "outputs": [],
   "source": [
    "class Solution:\n",
    "    def longestValidParentheses(self, s: str) -> int:\n",
    "        maxlength = 0 \n",
    "        left = right = 0\n",
    "        for c in s:\n",
    "            if c == '(':\n",
    "                left += 1 \n",
    "            if c == ')':\n",
    "                right += 1 \n",
    "            if right > left:\n",
    "                right = left = 0 \n",
    "            elif left == right:\n",
    "                maxlength = max(maxlength, left + right )\n",
    "\n",
    "        left = right = 0\n",
    "\n",
    "        for i in reversed(range(len(s))):\n",
    "            c = s[i]\n",
    "            if c == ')':\n",
    "                right += 1 \n",
    "            if c == '(':\n",
    "                left += 1 \n",
    "            if left > right:\n",
    "                right = left = 0    \n",
    "            elif left == right:\n",
    "                maxlength = max(maxlength, left + right )\n",
    "     \n",
    "        return maxlength \n",
    "\n"
   ]
  }
 ],
 "metadata": {
  "kernelspec": {
   "display_name": "Python 3",
   "language": "python",
   "name": "python3"
  },
  "language_info": {
   "codemirror_mode": {
    "name": "ipython",
    "version": 3
   },
   "file_extension": ".py",
   "mimetype": "text/x-python",
   "name": "python",
   "nbconvert_exporter": "python",
   "pygments_lexer": "ipython3",
   "version": "3.7.4"
  }
 },
 "nbformat": 4,
 "nbformat_minor": 2
}
