{
 "cells": [
  {
   "cell_type": "code",
   "execution_count": 46,
   "metadata": {},
   "outputs": [],
   "source": [
    "def partitionLabels( S):\n",
    "    charDict = {}\n",
    "    stack = []\n",
    "\n",
    "    for i in range (len (S)):\n",
    "        c = S[i]\n",
    "\n",
    "        if c not in charDict:\n",
    "            # This is a new character\n",
    "            charDict [c] = 1 \n",
    "            stack.append ({c})\n",
    "            charDict[c] = [i,i]\n",
    "        else:\n",
    "            # We need union \n",
    "            charDict[c][1] = i \n",
    "            newSet = {c}\n",
    "            while (c not in stack[-1]):\n",
    "                top = stack.pop()\n",
    "                newSet = newSet.union (top)\n",
    "            newSet = newSet.union (stack.pop())\n",
    "            stack.append (newSet)\n",
    "    res = []\n",
    "    for subset in stack:\n",
    "        start , end = float(\"inf\") , float(\"-inf\")\n",
    "        for c in subset:\n",
    "            start, end = min (start, charDict[c][0]), max(end, charDict[c][1])\n",
    "        res.append (end + 1 - start)\n"
   ]
  },
  {
   "cell_type": "code",
   "execution_count": 47,
   "metadata": {},
   "outputs": [
    {
     "name": "stdout",
     "output_type": "stream",
     "text": [
      "[{'a', 'b', 'c'}, {'g', 'e', 'f', 'd'}, {'k', 'j', 'i', 'h', 'l'}]\n",
      "[9, 7, 8]\n"
     ]
    }
   ],
   "source": [
    "partitionLabels(\"ababcbacadefegdehijhklij\")\n"
   ]
  },
  {
   "cell_type": "code",
   "execution_count": null,
   "metadata": {},
   "outputs": [],
   "source": []
  },
  {
   "cell_type": "code",
   "execution_count": null,
   "metadata": {},
   "outputs": [],
   "source": []
  }
 ],
 "metadata": {
  "kernelspec": {
   "display_name": "Python 3",
   "language": "python",
   "name": "python3"
  },
  "language_info": {
   "codemirror_mode": {
    "name": "ipython",
    "version": 3
   },
   "file_extension": ".py",
   "mimetype": "text/x-python",
   "name": "python",
   "nbconvert_exporter": "python",
   "pygments_lexer": "ipython3",
   "version": "3.7.4"
  }
 },
 "nbformat": 4,
 "nbformat_minor": 2
}
