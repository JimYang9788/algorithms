{
 "cells": [
  {
   "cell_type": "code",
   "execution_count": null,
   "metadata": {},
   "outputs": [],
   "source": [
    "def knapsackProblem(items, capacity):\n",
    "    # Write your code here.\n",
    "    # return [\n",
    "    #   10, // total value\n",
    "    #   [1, 2], // item indices\n",
    "    # ]\n",
    "\t# D[i] = max(D[ i - j ] + value [j] if j is a viable option)#\n",
    "\t\n",
    "\tdef isValid(i, prevRes):\n",
    "\t\t# We have used this guy already. No. \n",
    "\t\tif i in prevRes[1]:\n",
    "\t\t\treturn False\n",
    "\t\treturn True \n",
    "\t\n",
    "\tdef returnVal (res):\n",
    "\t\treturn res[0]\t\n",
    "\t\n",
    "\tD = [[0,[]] for c in range( capacity+1) ]\n",
    "\t\n",
    "\t\n",
    "\tfor cap in range(1, capacity+1):\n",
    "\t\tcurrentMax = D[cap]\n",
    "\t\tfor i, item in enumerate(items):\n",
    "\t\t\t# We are using this items\n",
    "\t\t\tvalue = item[0]\n",
    "\t\t\tweight = item[1]\n",
    "\t\t\tif cap >= weight:\n",
    "\t\t\t\tif isValid (i, D[cap - weight]) and value + D[cap - weight][0] > currentMax[0]:\n",
    "\t\t\t\t\t# Then we update this guy \n",
    "\t\t\t\t\tcurrentMax = [value + D[cap - weight][0], D[cap - weight][1] + [i]]\n",
    "\t\tD[cap] = currentMax \n",
    "\n",
    "\treturn  max(D, key=returnVal)\n"
   ]
  }
 ],
 "metadata": {
  "kernelspec": {
   "display_name": "Python 3",
   "language": "python",
   "name": "python3"
  },
  "language_info": {
   "codemirror_mode": {
    "name": "ipython",
    "version": 3
   },
   "file_extension": ".py",
   "mimetype": "text/x-python",
   "name": "python",
   "nbconvert_exporter": "python",
   "pygments_lexer": "ipython3",
   "version": "3.7.4"
  }
 },
 "nbformat": 4,
 "nbformat_minor": 2
}
