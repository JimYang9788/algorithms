{
 "cells": [
  {
   "cell_type": "code",
   "execution_count": null,
   "metadata": {},
   "outputs": [],
   "source": [
    "class Solution:\n",
    "            \n",
    "    def maximalRectangle(self, matrix: List[List[str]]) -> int:\n",
    "        if not matrix or not matrix[0]:\n",
    "            return 0 \n",
    "    \n",
    "        m,n = len(matrix), len(matrix[0])\n",
    "\n",
    "        maxarea = 0\n",
    "\n",
    "        dp = [[0 for i in range (n)] for j in range (m)]\n",
    "        \n",
    "        for i in range(len(matrix)):\n",
    "            for j in range(len(matrix[0])):\n",
    "                if matrix[i][j] == '0': \n",
    "                    continue\n",
    "\n",
    "                \n",
    "                # compute the maximum width and update dp with it\n",
    "                width = 0 \n",
    "\n",
    "                if j > 0:\n",
    "                    width = dp[i][j] = dp[i][j-1] + 1\n",
    "                else:\n",
    "                    width = dp[i][j] = 1\n",
    "                # compute the maximum area rectangle with a lower right corner at [i, j]\n",
    "                for k in range(i, -1, -1):\n",
    "                    width = min(width, dp[k][j])\n",
    "                    maxarea = max(maxarea, width * (i-k+1))\n",
    "        return maxarea\n"
   ]
  }
 ],
 "metadata": {
  "kernelspec": {
   "display_name": "Python 3",
   "language": "python",
   "name": "python3"
  },
  "language_info": {
   "codemirror_mode": {
    "name": "ipython",
    "version": 3
   },
   "file_extension": ".py",
   "mimetype": "text/x-python",
   "name": "python",
   "nbconvert_exporter": "python",
   "pygments_lexer": "ipython3",
   "version": "3.7.4"
  }
 },
 "nbformat": 4,
 "nbformat_minor": 2
}
