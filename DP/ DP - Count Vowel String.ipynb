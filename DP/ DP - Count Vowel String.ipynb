{
 "cells": [
  {
   "cell_type": "code",
   "execution_count": 1,
   "metadata": {},
   "outputs": [],
   "source": [
    "class Solution:\n",
    "    def countVowelStrings(self, n: int) -> int:\n",
    "        if n == 1:\n",
    "            return 5\n",
    "        \n",
    "        memo = ['a','e','i','o' ,'u']\n",
    "        i = 1 \n",
    "        while (i < n):\n",
    "            new_memo = []\n",
    "            for res in memo:\n",
    "                if res[-1] == 'a':\n",
    "                    new_memo.append (res + 'a')\n",
    "                    new_memo.append (res + 'e')\n",
    "                    new_memo.append (res + 'i')\n",
    "                    new_memo.append (res + 'o')\n",
    "                    new_memo.append (res + 'u')\n",
    "                elif res[-1] == 'e':\n",
    "                    new_memo.append (res + 'e')\n",
    "                    new_memo.append (res + 'i')\n",
    "                    new_memo.append (res + 'o')\n",
    "                    new_memo.append (res + 'u')\n",
    "                elif res[-1] == 'i':\n",
    "                    new_memo.append (res + 'i')\n",
    "                    new_memo.append (res + 'o')\n",
    "                    new_memo.append (res + 'u')\n",
    "                elif res[-1] == 'o':\n",
    "                    new_memo.append (res + 'o')\n",
    "                    new_memo.append (res + 'u')\n",
    "                else:\n",
    "                    new_memo.append (res + 'u')\n",
    "            memo = new_memo\n",
    "            i += 1 \n",
    "        return len(memo)\n",
    "        "
   ]
  },
  {
   "cell_type": "code",
   "execution_count": null,
   "metadata": {},
   "outputs": [],
   "source": [
    "def countVowelStrings(self, n):\n",
    "    seen = {}\n",
    "    def dp(n, k):\n",
    "        if k == 1 or n == 1: return k\n",
    "        if (n, k) in seen:\n",
    "            return seen[n, k]\n",
    "        seen[n, k] = sum(dp(n - 1, k) for k in xrange(1, k + 1))\n",
    "        return seen[n, k]\n",
    "    return dp(n, 5)\n"
   ]
  }
 ],
 "metadata": {
  "kernelspec": {
   "display_name": "Python 3",
   "language": "python",
   "name": "python3"
  },
  "language_info": {
   "codemirror_mode": {
    "name": "ipython",
    "version": 3
   },
   "file_extension": ".py",
   "mimetype": "text/x-python",
   "name": "python",
   "nbconvert_exporter": "python",
   "pygments_lexer": "ipython3",
   "version": "3.7.4"
  }
 },
 "nbformat": 4,
 "nbformat_minor": 2
}
