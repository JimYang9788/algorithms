{
 "cells": [
  {
   "cell_type": "code",
   "execution_count": null,
   "metadata": {},
   "outputs": [],
   "source": [
    "class Solution:\n",
    "    def diffWaysToCompute(self, expression: str) -> List[int]:\n",
    "        memo = defaultdict (list)\n",
    "\n",
    "        def backtrack (nums):\n",
    "            if nums in memo:\n",
    "                return memo [nums]\n",
    "            \n",
    "            if nums.isdigit():\n",
    "                memo[nums].append(int(nums))\n",
    "                return [int (nums)]\n",
    "\n",
    "            for i in range(len(nums)):\n",
    "                if nums[i].isdigit():\n",
    "                    continue\n",
    "                else:            \n",
    "                    left_res = backtrack(nums[:i])\n",
    "                    right_res = backtrack(nums[i+1:])\n",
    "                    for l in left_res:\n",
    "                        for r in right_res:\n",
    "                            memo[nums].append(eval(str (l) + nums[i] + str(r)))\n",
    "            return memo[nums]\n",
    "            \n",
    "        return backtrack(expression)\n",
    "\n"
   ]
  }
 ],
 "metadata": {
  "kernelspec": {
   "display_name": "Python 3",
   "language": "python",
   "name": "python3"
  },
  "language_info": {
   "codemirror_mode": {
    "name": "ipython",
    "version": 3
   },
   "file_extension": ".py",
   "mimetype": "text/x-python",
   "name": "python",
   "nbconvert_exporter": "python",
   "pygments_lexer": "ipython3",
   "version": "3.7.4"
  }
 },
 "nbformat": 4,
 "nbformat_minor": 2
}
