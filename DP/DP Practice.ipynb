{
 "cells": [
  {
   "cell_type": "code",
   "execution_count": 10,
   "metadata": {},
   "outputs": [],
   "source": [
    "List = list\n"
   ]
  },
  {
   "cell_type": "code",
   "execution_count": 11,
   "metadata": {},
   "outputs": [],
   "source": [
    "class Solution:\n",
    "    def diffWaysToCompute(self, expression):\n",
    "        memo = defaultdict (list)\n",
    "\n",
    "        def backtrack (nums):\n",
    "            if nums in memo:\n",
    "                return memo [nums]\n",
    "            \n",
    "            if nums.isdigit():\n",
    "                memo[nums].append(int(nums))\n",
    "                return [int (nums)]\n",
    "\n",
    "            for i in range(len(nums)):\n",
    "                if nums[i].isdigit():\n",
    "                    continue\n",
    "                else:            \n",
    "                    left_res = backtrack(nums[:i])\n",
    "                    right_res = backtrack(nums[i+1:])\n",
    "                    for l in left_res:\n",
    "                        for r in right_res:\n",
    "                            memo[nums].append(eval(str (l) + nums[i] + str(r)))\n",
    "            return memo[nums]\n",
    "            \n",
    "        return backtrack(expression)\n",
    "\n"
   ]
  },
  {
   "cell_type": "code",
   "execution_count": 12,
   "metadata": {},
   "outputs": [],
   "source": [
    "class Solution:\n",
    "    def rob(self, nums: List) -> int:\n",
    "        # D[n] = max money INCLUDING this house \n",
    "        if not nums: return 0 \n",
    "        \n",
    "        D = [0 for i in nums]\n",
    "        D[0] = nums[0]\n",
    "        for i in range (1,len(nums)):\n",
    "            D[i] = max(D[i-2] + nums[i], D[i-1])\n",
    "        \n",
    "        return D[-1]"
   ]
  }
 ],
 "metadata": {
  "kernelspec": {
   "display_name": "Python 3",
   "language": "python",
   "name": "python3"
  },
  "language_info": {
   "codemirror_mode": {
    "name": "ipython",
    "version": 3
   },
   "file_extension": ".py",
   "mimetype": "text/x-python",
   "name": "python",
   "nbconvert_exporter": "python",
   "pygments_lexer": "ipython3",
   "version": "3.7.4"
  }
 },
 "nbformat": 4,
 "nbformat_minor": 2
}
