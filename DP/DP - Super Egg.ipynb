{
 "cells": [
  {
   "cell_type": "code",
   "execution_count": null,
   "metadata": {},
   "outputs": [],
   "source": [
    "class Solution(object):\n",
    "    def superEggDrop(self, K, N):\n",
    "        memo = {}\n",
    "        def dp(k, n):\n",
    "            if (k, n) not in memo:\n",
    "                if n == 0:\n",
    "                    ans = 0\n",
    "                elif k == 1:\n",
    "                    ans = n\n",
    "                else:\n",
    "                    lo, hi = 1, n\n",
    "                    # keep a gap of 2 X values to manually check later\n",
    "                    while lo + 1 < hi:\n",
    "                        x = (lo + hi) / 2\n",
    "                        t1 = dp(k-1, x-1)\n",
    "                        t2 = dp(k, n-x)\n",
    "\n",
    "                        if t1 < t2:\n",
    "                            lo = x\n",
    "                        elif t1 > t2:\n",
    "                            hi = x\n",
    "                        else:\n",
    "                            lo = hi = x\n",
    "\n",
    "                    ans = 1 + min(max(dp(k-1, x-1), dp(k, n-x))\n",
    "                                  for x in (lo, hi))\n",
    "\n",
    "                memo[k, n] = ans\n",
    "            return memo[k, n]\n",
    "\n",
    "        return dp(K, N)"
   ]
  }
 ],
 "metadata": {
  "kernelspec": {
   "display_name": "Python 3",
   "language": "python",
   "name": "python3"
  },
  "language_info": {
   "codemirror_mode": {
    "name": "ipython",
    "version": 3
   },
   "file_extension": ".py",
   "mimetype": "text/x-python",
   "name": "python",
   "nbconvert_exporter": "python",
   "pygments_lexer": "ipython3",
   "version": "3.7.4"
  }
 },
 "nbformat": 4,
 "nbformat_minor": 2
}
