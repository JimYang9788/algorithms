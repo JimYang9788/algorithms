{
 "cells": [
  {
   "cell_type": "code",
   "execution_count": null,
   "metadata": {},
   "outputs": [],
   "source": [
    "def maxSubsetSumNoAdjacent(array):\n",
    "\t\n",
    "\tif not array: return 0\n",
    "\t\n",
    "    # Write your code here.\n",
    "    D = [0 for i in range (len(array)) ]\n",
    "\t# Let D[i] = max Sub set Sum ended with D[i]\n",
    "\n",
    "\tif len(D) >= 2: \t\n",
    "\t\tD[0] = array[0]\n",
    "\t\tD[1] = max(array[1], D[0])\n",
    "\t\tfor i in range (2,len(array)):\n",
    "\t\t\tD[i] = max(D[i-1], D[i-2] + array[i])\n",
    "\t\treturn max(D)\n",
    "\telse:\n",
    "\t\treturn max (array)\n",
    "\t\n",
    "\t\n"
   ]
  }
 ],
 "metadata": {
  "kernelspec": {
   "display_name": "Python 3",
   "language": "python",
   "name": "python3"
  },
  "language_info": {
   "codemirror_mode": {
    "name": "ipython",
    "version": 3
   },
   "file_extension": ".py",
   "mimetype": "text/x-python",
   "name": "python",
   "nbconvert_exporter": "python",
   "pygments_lexer": "ipython3",
   "version": "3.7.4"
  }
 },
 "nbformat": 4,
 "nbformat_minor": 2
}
