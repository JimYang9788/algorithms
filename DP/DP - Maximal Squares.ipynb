{
 "cells": [
  {
   "cell_type": "code",
   "execution_count": null,
   "metadata": {},
   "outputs": [],
   "source": [
    "class Solution:\n",
    "    def maximalSquare(self, matrix: List[List[str]]) -> int:\n",
    "        if not matrix or not (matrix[0]):\n",
    "            return 0 \n",
    "        m,n = len(matrix), len(matrix[0])\n",
    "        \n",
    "        DP = [[0 for i in range (n)] for j in range(m)]\n",
    "        res = 0\n",
    "\n",
    "\n",
    "        for i in range (m):\n",
    "            DP[i][0] = int (matrix[i][0])\n",
    "            res = max(res, DP[i][0])\n",
    "        for j in range (n):\n",
    "            DP[0][j] = int (matrix[0][j])\n",
    "            res = max(res, DP[0][j])\n",
    "        \n",
    "        for i in range (1,m):\n",
    "            for j in range (1,n):\n",
    "                if matrix[i][j] == \"1\":\n",
    "                    wing = min (DP[i-1][j], DP[i-1][j-1], DP[i][j-1])\n",
    "                    DP[i][j] = (1 + wing) \n",
    "                    res = max(res, DP[i][j] * DP[i][j])\n",
    "        \n",
    "        return res \n",
    "                        \n",
    "                "
   ]
  }
 ],
 "metadata": {
  "kernelspec": {
   "display_name": "Python 3",
   "language": "python",
   "name": "python3"
  },
  "language_info": {
   "codemirror_mode": {
    "name": "ipython",
    "version": 3
   },
   "file_extension": ".py",
   "mimetype": "text/x-python",
   "name": "python",
   "nbconvert_exporter": "python",
   "pygments_lexer": "ipython3",
   "version": "3.7.4"
  }
 },
 "nbformat": 4,
 "nbformat_minor": 2
}
