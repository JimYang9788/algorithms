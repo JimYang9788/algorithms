{
 "cells": [
  {
   "cell_type": "code",
   "execution_count": null,
   "metadata": {},
   "outputs": [],
   "source": [
    "class Solution:\n",
    "    def jobScheduling(self, startTime: List[int], endTime: List[int], profit: List[int]) -> int:\n",
    "        jobs = sorted(zip(startTime, endTime, profit), key=lambda v: v[1])\n",
    "        dp = [[0, 0]]\n",
    "        for s, e, p in jobs:\n",
    "            i = bisect.bisect(dp, [s + 1]) - 1\n",
    "            if dp[i][1] + p > dp[-1][1]:\n",
    "                dp.append([e, dp[i][1] + p])\n",
    "        return dp[-1][1]"
   ]
  }
 ],
 "metadata": {
  "kernelspec": {
   "display_name": "Python 3",
   "language": "python",
   "name": "python3"
  },
  "language_info": {
   "codemirror_mode": {
    "name": "ipython",
    "version": 3
   },
   "file_extension": ".py",
   "mimetype": "text/x-python",
   "name": "python",
   "nbconvert_exporter": "python",
   "pygments_lexer": "ipython3",
   "version": "3.7.4"
  }
 },
 "nbformat": 4,
 "nbformat_minor": 2
}
