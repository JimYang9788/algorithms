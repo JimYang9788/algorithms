{
 "cells": [
  {
   "cell_type": "code",
   "execution_count": 1,
   "metadata": {},
   "outputs": [],
   "source": [
    "class Solution:\n",
    "    def wordBreak(self, s, wordDict) -> bool:\n",
    "        \n",
    "        cache = {}\n",
    "        \n",
    "        def DFS (s):\n",
    "            if s in cache:\n",
    "                return cache [s]\n",
    "            if s == '':\n",
    "                return True \n",
    "            else:\n",
    "                for i in range(len(s)+1):\n",
    "                    if s[:i] in wordDict:\n",
    "                        if DFS(s[i:]):\n",
    "                            cache[s] = True \n",
    "                            return True \n",
    "            cache[s] = False \n",
    "            return False \n",
    "    \n",
    "        return DFS (s)\n",
    "            "
   ]
  },
  {
   "cell_type": "code",
   "execution_count": null,
   "metadata": {},
   "outputs": [],
   "source": [
    "class Solution:\n",
    "    def wordBreak(self, s, wordDict) -> bool:\n",
    "        \n",
    "        cache = {}\n",
    "        # {'leetcode':['leet co de', \"leet code\"]}\n",
    "        wordDict.sort (reverse=False)\n",
    "        \n",
    "        def DFS (s, prev):\n",
    "            # return 拆解方法\n",
    "            current_ans = []\n",
    "            if s == '':\n",
    "                return True, [\"\"]        \n",
    "            elif s in cache:\n",
    "                return True, cache[s]\n",
    "            else:\n",
    "                found = False\n",
    "                for i in range(len(s)+1):\n",
    "                    if s[:i] in wordDict:\n",
    "                        success, ans = DFS(s[i:], prev+s[:i]+\" \")\n",
    "                        \n",
    "                        for solution in ans:\n",
    "                            current_ans.append (s[:i] + \" \" + solution)\n",
    "                        found =  success  or found  \n",
    "                if found:\n",
    "                    cache[s] = current_ans\n",
    "                return found,  current_ans\n",
    "                \n",
    "                \n",
    "        DFS (s, \"\")\n",
    "\n",
    "        \n",
    "        res = cache[s] if s in cache else []\n",
    "        for i in range(len(res)):\n",
    "            if len(res) >= 1:\n",
    "                res[i] = res[i][0:len(res[i])-1]\n",
    "        \n",
    "        \n",
    "        return res \n",
    "            \n",
    "        \n",
    "        \n",
    "        \n",
    "        "
   ]
  }
 ],
 "metadata": {
  "kernelspec": {
   "display_name": "Python 3",
   "language": "python",
   "name": "python3"
  },
  "language_info": {
   "codemirror_mode": {
    "name": "ipython",
    "version": 3
   },
   "file_extension": ".py",
   "mimetype": "text/x-python",
   "name": "python",
   "nbconvert_exporter": "python",
   "pygments_lexer": "ipython3",
   "version": "3.7.4"
  }
 },
 "nbformat": 4,
 "nbformat_minor": 2
}
