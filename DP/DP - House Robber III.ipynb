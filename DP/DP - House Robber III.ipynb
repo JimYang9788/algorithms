{
 "cells": [
  {
   "cell_type": "code",
   "execution_count": null,
   "metadata": {},
   "outputs": [],
   "source": [
    "# Definition for a binary tree node.\n",
    "# class TreeNode:\n",
    "#     def __init__(self, val=0, left=None, right=None):\n",
    "#         self.val = val\n",
    "#         self.left = left\n",
    "#         self.right = right\n",
    "class Solution:\n",
    "        \n",
    "    def updateProfit (self, root):\n",
    "        if root.left: self.updateProfit(root.left)\n",
    "        if root.right: self.updateProfit(root.right)\n",
    "        \n",
    "        r = root.right.profit if root.right else [0,0]\n",
    "        l = root.left.profit if root.left else [0,0]\n",
    "        \n",
    "        rob = root.val + r[1] + l[1]\n",
    "        no_rob = max(r) + max(l)\n",
    "        \n",
    "        root.profit = [rob, no_rob]\n",
    "        \n",
    "    def rob(self, root: TreeNode) -> int:\n",
    "        if not root: return 0 \n",
    "        \n",
    "        self.updateProfit (root)\n",
    "        return max (root.profit)"
   ]
  }
 ],
 "metadata": {
  "kernelspec": {
   "display_name": "Python 3",
   "language": "python",
   "name": "python3"
  },
  "language_info": {
   "codemirror_mode": {
    "name": "ipython",
    "version": 3
   },
   "file_extension": ".py",
   "mimetype": "text/x-python",
   "name": "python",
   "nbconvert_exporter": "python",
   "pygments_lexer": "ipython3",
   "version": "3.7.4"
  }
 },
 "nbformat": 4,
 "nbformat_minor": 2
}
