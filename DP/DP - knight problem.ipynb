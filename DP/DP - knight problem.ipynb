{
 "cells": [
  {
   "cell_type": "code",
   "execution_count": null,
   "metadata": {},
   "outputs": [],
   "source": [
    "class Solution:\n",
    "    def knightDialer(self, n: int) -> int:\n",
    "        # Every digit has a fix number of transition states \n",
    "        if n == 0:\n",
    "            return 0\n",
    "        state_to_neighbour = {\n",
    "            1: [6,8],\n",
    "            2: [7,9],\n",
    "            3: [4,8],\n",
    "            4: [3,9,0],\n",
    "            5: [],\n",
    "            6: [1,0,7],\n",
    "            7: [2,6],\n",
    "            8: [1,3],\n",
    "            9: [2,4],\n",
    "            0: [4,6]\n",
    "        }\n",
    "        state_count =  {i:1 for i in range (10)}\n",
    "        for i in range (1, n):\n",
    "            new_state_count = {i: 0 for i in range (10)}\n",
    "            for state, count in state_count.items():\n",
    "                for neighbour in state_to_neighbour[state]:\n",
    "                    new_state_count[neighbour] += count \n",
    "                state_count = new_state_count\n",
    "        res =  sum(state_count.values()) % (10 ** 9 + 7)\n",
    "        return res \n",
    "        "
   ]
  }
 ],
 "metadata": {
  "kernelspec": {
   "display_name": "Python 3",
   "language": "python",
   "name": "python3"
  },
  "language_info": {
   "codemirror_mode": {
    "name": "ipython",
    "version": 3
   },
   "file_extension": ".py",
   "mimetype": "text/x-python",
   "name": "python",
   "nbconvert_exporter": "python",
   "pygments_lexer": "ipython3",
   "version": "3.7.4"
  }
 },
 "nbformat": 4,
 "nbformat_minor": 2
}
