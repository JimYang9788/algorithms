{
 "cells": [
  {
   "cell_type": "code",
   "execution_count": null,
   "metadata": {},
   "outputs": [],
   "source": [
    "class Solution:\n",
    "    def nthUglyNumber(self, n: int) -> int:\n",
    "        nums=[1]\n",
    "        ugly, i2, i3, i5 =0, 0, 0, 0\n",
    "        for i in range(n):\n",
    "            ugly=min(nums[i2]*2, nums[i3]*3, nums[i5]*5)\n",
    "            nums.append(ugly)\n",
    "            if nums[i2]*2==ugly: i2+=1\n",
    "            if nums[i3]*3==ugly: i3+=1\n",
    "            if nums[i5]*5==ugly: i5+=1\n",
    "        return nums[n-1]    "
   ]
  }
 ],
 "metadata": {
  "kernelspec": {
   "display_name": "Python 3",
   "language": "python",
   "name": "python3"
  },
  "language_info": {
   "codemirror_mode": {
    "name": "ipython",
    "version": 3
   },
   "file_extension": ".py",
   "mimetype": "text/x-python",
   "name": "python",
   "nbconvert_exporter": "python",
   "pygments_lexer": "ipython3",
   "version": "3.7.4"
  }
 },
 "nbformat": 4,
 "nbformat_minor": 2
}
