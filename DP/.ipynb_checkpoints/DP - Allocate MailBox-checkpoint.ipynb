{
 "cells": [
  {
   "cell_type": "code",
   "execution_count": 2,
   "metadata": {},
   "outputs": [],
   "source": [
    "class Solution:\n",
    "    \n",
    "    def getAverage (self, nums):\n",
    "        average = sum(nums)/len(nums)\n",
    "        distanceToAverage = sum (list(map (lambda x: abs(x - average), nums)))\n",
    "        return min (math.floor (distanceToAverage), math.ceil (distanceToAverage) )\n",
    "    \n",
    "    \n",
    "    def minDistance(self, houses, k):\n",
    "        n = len(houses)\n",
    "        \n",
    "        @lru_cache (None)\n",
    "        def dp (start, end, k):\n",
    "            res = float (\"inf\")\n",
    "            if start == end: \n",
    "                res = 0 \n",
    "            elif end - start <= k: \n",
    "                res = 0 \n",
    "            elif k == 1: \n",
    "                res = self.getAverage(houses[start:end])\n",
    "            else:\n",
    "                for i in range (0,end):\n",
    "                    for j in range (1, k):\n",
    "                        res = min(res, dp (0,i,k-j) + dp(i+1,end,j))\n",
    "            print ('f([', start, end, ']', k, '):', res)\n",
    "\n",
    "            return res \n",
    "\n",
    "        \n",
    "        return dp (0,n,k)\n",
    "                \n",
    "        "
   ]
  },
  {
   "cell_type": "code",
   "execution_count": null,
   "metadata": {},
   "outputs": [],
   "source": [
    "class Solution:\n",
    "    def minDistance(self, houses: List[int], k: int) -> int:\n",
    "        n = len(houses)\n",
    "        houses = sorted(houses)\n",
    "        costs = [[0] * n for _ in range(n)]\n",
    "        for i in range(n):\n",
    "            for j in range(n):\n",
    "                median = houses[(i + j) // 2]\n",
    "                for t in range(i, j + 1):\n",
    "                    costs[i][j] += abs(median - houses[t])\n",
    "\n",
    "        @lru_cache(None)\n",
    "        def dp(k, i):\n",
    "            if k == 0 and i == n: return 0\n",
    "            if k == 0 or i == n: return math.inf\n",
    "            ans = math.inf\n",
    "            for j in range(i, n):\n",
    "                cost = costs[i][j]  # Try to put a mailbox among house[i:j]\n",
    "                ans = min(ans, cost + dp(k - 1, j + 1))\n",
    "            return ans\n",
    "\n",
    "        return dp(k, 0)"
   ]
  }
 ],
 "metadata": {
  "kernelspec": {
   "display_name": "Python 3",
   "language": "python",
   "name": "python3"
  },
  "language_info": {
   "codemirror_mode": {
    "name": "ipython",
    "version": 3
   },
   "file_extension": ".py",
   "mimetype": "text/x-python",
   "name": "python",
   "nbconvert_exporter": "python",
   "pygments_lexer": "ipython3",
   "version": "3.7.4"
  }
 },
 "nbformat": 4,
 "nbformat_minor": 2
}
