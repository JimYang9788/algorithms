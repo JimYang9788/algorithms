{
 "cells": [
  {
   "cell_type": "code",
   "execution_count": 1,
   "metadata": {},
   "outputs": [],
   "source": [
    "def minNumberOfJumps(array):\n",
    "\n",
    "    # Returns the minimum number of jumps needed to reach the final index \n",
    "\n",
    "\t\n",
    "\tdef reachable (j, i):\n",
    "\t\t# Determines if i is reachable from index j\n",
    "\t\t# e.g. reachable (2,0) \n",
    "\t\ttotalSteps = array[j]\n",
    "\t\tif i <= j + totalSteps:\n",
    "\t\t\treturn True \n",
    "\t\treturn False \n",
    "\t\n",
    "\t# Base Case \n",
    "\tif len(array) <= 1: return 0\n",
    "\t\n",
    "\tminSteps = [float(\"inf\") for maxDist in range(len(array))]\n",
    "\tminSteps[0] = 0\n",
    "\t# Key logic is \n",
    "\t# minSteps[i] = min D[j] + 1 (0<=j<i, and j reachable to i)\n",
    "\tfor i in range (1,len(array)):\n",
    "\t\tfor j in range(0,i):\n",
    "\t\t\tif reachable (j,i):\n",
    "\t\t\t\tminSteps[i] = min(minSteps[i], minSteps[j] + 1)\n",
    "\t\n",
    "\treturn minSteps[len(array)-1]\n",
    "\t\t\n"
   ]
  },
  {
   "cell_type": "code",
   "execution_count": 4,
   "metadata": {},
   "outputs": [],
   "source": [
    "def minNumberOfJumps(array):\n",
    "    # Write your code here.\n",
    "    if len (array) == 1:\n",
    "        return 0 \n",
    "    jumps = 0 \n",
    "    maxReach = array[0]\n",
    "    steps = array[0]\n",
    "\n",
    "    for i in range (1, len(array) - 1):\n",
    "        maxReach = max(maxReach, i + array[i])\n",
    "        steps -= 1 \n",
    "        if steps == 0:\n",
    "            jumps += 1 \n",
    "            steps = maxReach - i \n",
    "        print (steps, jumps, array, array[i], maxReach)\n",
    "    return jumps + 1 \n"
   ]
  },
  {
   "cell_type": "markdown",
   "metadata": {},
   "source": [
    "The idea is to maintain two pointers left and right, where left initialy set to be 0 and right set to be nums[0].\n",
    "So points between 0 and nums[0] are the ones you can reach by using just 1 jump.\n",
    "Next, we want to find points I can reach using 2 jumps, so our new left will be set equal to right, and our new right will be set equal to the farest point we can reach by two jumps. which is:\n",
    "right = max(i + nums[i] for i in range(left, right + 1)\n",
    "\n",
    "Code:\n",
    "\n"
   ]
  },
  {
   "cell_type": "code",
   "execution_count": null,
   "metadata": {},
   "outputs": [],
   "source": [
    "def jump(self, nums):\n",
    "    if len(nums) <= 1: return 0\n",
    "    l, r = 0, nums[0]\n",
    "    times = 1\n",
    "    while r < len(nums) - 1:\n",
    "        times += 1\n",
    "        nxt = max(i + nums[i] for i in range(l, r + 1))\n",
    "        l, r = r, nxt\n",
    "    return times"
   ]
  }
 ],
 "metadata": {
  "kernelspec": {
   "display_name": "Python 3",
   "language": "python",
   "name": "python3"
  },
  "language_info": {
   "codemirror_mode": {
    "name": "ipython",
    "version": 3
   },
   "file_extension": ".py",
   "mimetype": "text/x-python",
   "name": "python",
   "nbconvert_exporter": "python",
   "pygments_lexer": "ipython3",
   "version": "3.7.4"
  }
 },
 "nbformat": 4,
 "nbformat_minor": 2
}
