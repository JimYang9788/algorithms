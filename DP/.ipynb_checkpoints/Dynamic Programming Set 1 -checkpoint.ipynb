{
 "cells": [
  {
   "cell_type": "markdown",
   "metadata": {},
   "source": [
    "Given two strings text1 and text2, return the length of their longest common subsequence.\n",
    "\n",
    "A subsequence of a string is a new string generated from the original string with some characters(can be none) deleted without changing the relative order of the remaining characters. (eg, \"ace\" is a subsequence of \"abcde\" while \"aec\" is not). A common subsequence of two strings is a subsequence that is common to both strings.\n",
    "\n",
    " \n",
    "\n",
    "If there is no common subsequence, return 0."
   ]
  },
  {
   "cell_type": "code",
   "execution_count": 2,
   "metadata": {},
   "outputs": [],
   "source": [
    "class Solution:\n",
    "    def longestCommonSubsequence(self, text1: str, text2: str) -> int:\n",
    "        \n",
    "        # Make a grid of 0's with len(text2) + 1 columns \n",
    "        # and len(text1) + 1 rows.\n",
    "        dp_grid = [[0] * (len(text2) + 1) for _ in range(len(text1) + 1)]\n",
    "        \n",
    "        # Iterate up each column, starting from the last one.\n",
    "        for col in reversed(range(len(text2))):\n",
    "            for row in reversed(range(len(text1))):\n",
    "                # If the corresponding characters for this cell are the same...\n",
    "                if text2[col] == text1[row]:\n",
    "                    dp_grid[row][col] = 1 + dp_grid[row + 1][col + 1]\n",
    "                # Otherwise they must be different...\n",
    "                else:\n",
    "                    dp_grid[row][col] = max(dp_grid[row + 1][col], dp_grid[row][col + 1])\n",
    "        \n",
    "        # The original problem's answer is in dp_grid[0][0]. Return it.\n",
    "        return dp_grid[0][0]"
   ]
  },
  {
   "cell_type": "code",
   "execution_count": null,
   "metadata": {},
   "outputs": [],
   "source": []
  }
 ],
 "metadata": {
  "kernelspec": {
   "display_name": "Python 3",
   "language": "python",
   "name": "python3"
  },
  "language_info": {
   "codemirror_mode": {
    "name": "ipython",
    "version": 3
   },
   "file_extension": ".py",
   "mimetype": "text/x-python",
   "name": "python",
   "nbconvert_exporter": "python",
   "pygments_lexer": "ipython3",
   "version": "3.7.4"
  }
 },
 "nbformat": 4,
 "nbformat_minor": 2
}
