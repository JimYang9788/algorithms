{
 "cells": [
  {
   "cell_type": "code",
   "execution_count": null,
   "metadata": {},
   "outputs": [],
   "source": [
    "def minDifficulty(self, A, d):\n",
    "    n, inf = len(A), float('inf')\n",
    "    dp = [[inf] * n + [0] for i in xrange(d + 1)]\n",
    "    for d in xrange(1, d + 1):\n",
    "        for i in xrange(n - d + 1):\n",
    "            maxd = 0\n",
    "            for j in xrange(i, n - d + 1):\n",
    "                maxd = max(maxd, A[j])\n",
    "                dp[d][i] = min(dp[d][i], maxd + dp[d - 1][j + 1])\n",
    "    return dp[d][0] if dp[d][0] < inf else -1"
   ]
  }
 ],
 "metadata": {
  "kernelspec": {
   "display_name": "Python 3",
   "language": "python",
   "name": "python3"
  },
  "language_info": {
   "codemirror_mode": {
    "name": "ipython",
    "version": 3
   },
   "file_extension": ".py",
   "mimetype": "text/x-python",
   "name": "python",
   "nbconvert_exporter": "python",
   "pygments_lexer": "ipython3",
   "version": "3.7.4"
  }
 },
 "nbformat": 4,
 "nbformat_minor": 2
}
