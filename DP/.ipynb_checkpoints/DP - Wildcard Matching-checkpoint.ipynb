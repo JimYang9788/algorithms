{
 "cells": [
  {
   "cell_type": "code",
   "execution_count": null,
   "metadata": {},
   "outputs": [],
   "source": [
    "class Solution:\n",
    "    def isMatch(self, s, p):  \n",
    "           \n",
    "        def helper (s, p):\n",
    "            dp = self.dp \n",
    "            if (s,p) in self.dp:\n",
    "                return self.dp[(s,p)]\n",
    "\n",
    "            if not s and not p:\n",
    "                dp[(s,p)] = True\n",
    "            \n",
    "            elif not p and s:\n",
    "                dp[(s,p)] = False\n",
    "                \n",
    "            elif p and not s:\n",
    "                if p[0] == \"*\":\n",
    "                    dp[(s,p)] = helper (s,p[1:]) \n",
    "                else:\n",
    "                    dp[(s,p)] = False \n",
    "\n",
    "            elif p[0] == s[0] or p[0] == \"?\":\n",
    "                dp[(s,p)] = helper (s[1:],p[1:])\n",
    "            \n",
    "            elif p[0] == \"*\":\n",
    "                dp[(s,p)] = helper (s,p[1:]) or helper (s[1:],p)\n",
    "            \n",
    "            else:\n",
    "                dp[(s,p)] = False\n",
    "                \n",
    "            return dp[(s,p)]\n",
    "        \n",
    "        self.dp = defaultdict (bool)\n",
    "        return helper (s,p)"
   ]
  }
 ],
 "metadata": {
  "kernelspec": {
   "display_name": "Python 3",
   "language": "python",
   "name": "python3"
  },
  "language_info": {
   "codemirror_mode": {
    "name": "ipython",
    "version": 3
   },
   "file_extension": ".py",
   "mimetype": "text/x-python",
   "name": "python",
   "nbconvert_exporter": "python",
   "pygments_lexer": "ipython3",
   "version": "3.7.4"
  }
 },
 "nbformat": 4,
 "nbformat_minor": 2
}
