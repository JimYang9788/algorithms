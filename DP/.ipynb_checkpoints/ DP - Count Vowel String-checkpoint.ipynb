{
 "cells": [
  {
   "cell_type": "code",
   "execution_count": 1,
   "metadata": {},
   "outputs": [],
   "source": [
    "class Solution:\n",
    "    def countVowelStrings(self, n: int) -> int:\n",
    "        if n == 1:\n",
    "            return 5\n",
    "        \n",
    "        memo = ['a','e','i','o' ,'u']\n",
    "        i = 1 \n",
    "        while (i < n):\n",
    "            new_memo = []\n",
    "            for res in memo:\n",
    "                if res[-1] == 'a':\n",
    "                    new_memo.append (res + 'a')\n",
    "                    new_memo.append (res + 'e')\n",
    "                    new_memo.append (res + 'i')\n",
    "                    new_memo.append (res + 'o')\n",
    "                    new_memo.append (res + 'u')\n",
    "                elif res[-1] == 'e':\n",
    "                    new_memo.append (res + 'e')\n",
    "                    new_memo.append (res + 'i')\n",
    "                    new_memo.append (res + 'o')\n",
    "                    new_memo.append (res + 'u')\n",
    "                elif res[-1] == 'i':\n",
    "                    new_memo.append (res + 'i')\n",
    "                    new_memo.append (res + 'o')\n",
    "                    new_memo.append (res + 'u')\n",
    "                elif res[-1] == 'o':\n",
    "                    new_memo.append (res + 'o')\n",
    "                    new_memo.append (res + 'u')\n",
    "                else:\n",
    "                    new_memo.append (res + 'u')\n",
    "            memo = new_memo\n",
    "            i += 1 \n",
    "        return len(memo)\n",
    "        "
   ]
  },
  {
   "cell_type": "code",
   "execution_count": 2,
   "metadata": {},
   "outputs": [],
   "source": [
    "def countVowelStrings(self, n):\n",
    "    seen = {}\n",
    "    def dp(n, k):\n",
    "        if k == 1 or n == 1: return k\n",
    "        if (n, k) in seen:\n",
    "            return seen[n, k]\n",
    "        seen[n, k] = sum(dp(n - 1, k) for k in xrange(1, k + 1))\n",
    "        return seen[n, k]\n",
    "    return dp(n, 5)\n"
   ]
  },
  {
   "cell_type": "raw",
   "metadata": {},
   "source": [
    "In this problem, the pattern I observed was prepending 'a' to all the strings of length n-1 does not affect any order. Similarly, 'e' can be prepended to strings starting with 'e' and greater vowels and so on.\n",
    "\n",
    "So we have our subproblem.\n",
    "\n",
    "How do we fill the DP Table?\n",
    "Lets, take an example of n = 3\n",
    "\n",
    "image\n",
    "\n",
    "For n = 1, number of strings starting with u is 1, with o is 2 (including the ones starting with u) and so on.\n",
    "For n = 2, number of strings starting with u is 1, but for o its (number of strings of length 2 starting with u + number of strings of length 1 starting with o) and so on.\n",
    "dp[i][j] represents total no. of string of length i , starting with characters of column j and after j. (Thanks @rkm_coder for the correction)\n",
    "\n",
    "The recursive expression is : dp[i][j] = dp[i - 1][j] + dp[i][j + 1]\n",
    "\n",
    "Finally, we will get our answer at dp[n][0]\n",
    "\n",
    "The running time of my algorithm is O(n)\n",
    "\n"
   ]
  },
  {
   "cell_type": "code",
   "execution_count": 4,
   "metadata": {},
   "outputs": [],
   "source": [
    "class Solution:\n",
    "    def countVowelStrings(self, n: int) -> int:\n",
    "        dp = [[i for i in range(5,0,-1)] for _ in range(n)]   # intialize dp matrix\n",
    "        \n",
    "        for i in range(1,n):\n",
    "            for j in range(3,-1,-1):\n",
    "                dp[i][j] = dp[i - 1][j] + dp[i][j + 1]   # dp expression\n",
    "                \n",
    "        return dp[n-1][0]"
   ]
  }
 ],
 "metadata": {
  "kernelspec": {
   "display_name": "Python 3",
   "language": "python",
   "name": "python3"
  },
  "language_info": {
   "codemirror_mode": {
    "name": "ipython",
    "version": 3
   },
   "file_extension": ".py",
   "mimetype": "text/x-python",
   "name": "python",
   "nbconvert_exporter": "python",
   "pygments_lexer": "ipython3",
   "version": "3.7.4"
  }
 },
 "nbformat": 4,
 "nbformat_minor": 2
}
