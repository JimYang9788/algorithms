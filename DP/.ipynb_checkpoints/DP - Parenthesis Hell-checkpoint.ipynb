{
 "cells": [
  {
   "cell_type": "code",
   "execution_count": null,
   "metadata": {},
   "outputs": [],
   "source": [
    "class Solution(object):\n",
    "    def longestValidParentheses(self, s):\n",
    "        \"\"\"\n",
    "        :type s: str\n",
    "        :rtype: int\n",
    "        \"\"\"\n",
    "        # use 1D DP\n",
    "        # dp[i] records the longestValidParenthese EXACTLY ENDING at s[i]\n",
    "        dp = [0 for x in range(len(s))]\n",
    "        max_to_now = 0\n",
    "        for i in range(1,len(s)):\n",
    "            if s[i] == ')':\n",
    "                # case 1: ()()\n",
    "                if s[i-1] == '(':\n",
    "                    # add nearest parentheses pairs + 2\n",
    "                    dp[i] = dp[i-2] + 2\n",
    "                # case 2: (()) \n",
    "                # i-dp[i-1]-1 is the index of last \"(\" not paired until this \")\"\n",
    "                elif i-dp[i-1]-1 >= 0 and s[i-dp[i-1]-1] == '(':\n",
    "                    if dp[i-1] > 0: # content within current matching pair is valid \n",
    "                    # add nearest parentheses pairs + 2 + parentheses before last \"(\"\n",
    "                        dp[i] = dp[i-1] + 2 + dp[i-dp[i-1]-2]\n",
    "                    else:\n",
    "                    # otherwise is 0\n",
    "                        dp[i] = 0\n",
    "                max_to_now = max(max_to_now, dp[i])\n",
    "        return max_to_now"
   ]
  }
 ],
 "metadata": {
  "kernelspec": {
   "display_name": "Python 3",
   "language": "python",
   "name": "python3"
  },
  "language_info": {
   "codemirror_mode": {
    "name": "ipython",
    "version": 3
   },
   "file_extension": ".py",
   "mimetype": "text/x-python",
   "name": "python",
   "nbconvert_exporter": "python",
   "pygments_lexer": "ipython3",
   "version": "3.7.4"
  }
 },
 "nbformat": 4,
 "nbformat_minor": 2
}
