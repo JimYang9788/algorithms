{
 "cells": [
  {
   "cell_type": "code",
   "execution_count": null,
   "metadata": {},
   "outputs": [],
   "source": [
    "class Solution:\n",
    "    # 思路就是BFS的更新，每一层算一个最大的reach\n",
    "    \n",
    "    def jump(self, nums):\n",
    "        n, start, end, step = len(nums), 0, 0, 0\n",
    "        while end < n - 1:\n",
    "            step += 1\n",
    "            maxend = end + 1\n",
    "            for i in range(start, end + 1):\n",
    "                if i + nums[i] >= n - 1:\n",
    "                    return step\n",
    "                maxend = max(maxend, i + nums[i])\n",
    "            start, end = end + 1, maxend\n",
    "        return step"
   ]
  }
 ],
 "metadata": {
  "kernelspec": {
   "display_name": "Python 3",
   "language": "python",
   "name": "python3"
  },
  "language_info": {
   "codemirror_mode": {
    "name": "ipython",
    "version": 3
   },
   "file_extension": ".py",
   "mimetype": "text/x-python",
   "name": "python",
   "nbconvert_exporter": "python",
   "pygments_lexer": "ipython3",
   "version": "3.7.4"
  }
 },
 "nbformat": 4,
 "nbformat_minor": 2
}
