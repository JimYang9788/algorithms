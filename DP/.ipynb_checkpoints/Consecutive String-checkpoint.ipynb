{
 "cells": [
  {
   "cell_type": "code",
   "execution_count": null,
   "metadata": {},
   "outputs": [],
   "source": [
    "class Solution:\n",
    "    def longestStrChain(self, words: List[str]) -> int:\n",
    "        \n",
    "        def isNeighbour(word, neighbour):\n",
    "            if (len(neighbour) != len(word) + 1):\n",
    "                return False \n",
    "            i,j = 0,0 \n",
    "            used = False \n",
    "            while (i < len(word) and j < len(neighbour)):\n",
    "                if word[i] == neighbour[j]:\n",
    "                    i += 1 \n",
    "                    j += 1 \n",
    "                elif word[i] != neighbour[j] and  used == False:\n",
    "                    used = True \n",
    "                    j += 1 \n",
    "                else:\n",
    "                    return False\n",
    "            return True \n",
    "                        \n",
    "        \n",
    "        \n",
    "        lengthMap = {}\n",
    "        for word in words:\n",
    "            if len(word) in lengthMap:\n",
    "                lengthMap[len(word)].append (word)\n",
    "            else:\n",
    "                lengthMap[len(word)] = [word]\n",
    "        \n",
    "        res = 0\n",
    "        wordToLengthMap = {word: 1 for word in words}  \n",
    "        for i, key in enumerate (sorted(list(lengthMap.keys()), reverse=True)):\n",
    "            if i == 0:\n",
    "                for word in lengthMap[key]:\n",
    "                    wordToLengthMap [word] = 1 \n",
    "                    res = max(res, wordToLengthMap[word])\n",
    "\n",
    "            else:\n",
    "                for word in lengthMap[key]:\n",
    "                    for neighbour in lengthMap[key+1]:\n",
    "                        if isNeighbour (word, neighbour):\n",
    "                            wordToLengthMap[word] = max(wordToLengthMap[word],  wordToLengthMap[neighbour] + 1)\n",
    "                    res = max(res, wordToLengthMap[word])\n",
    "        return res \n",
    "        \n",
    "            \n",
    "                        \n",
    "            \n",
    "            "
   ]
  }
 ],
 "metadata": {
  "kernelspec": {
   "display_name": "Python 3",
   "language": "python",
   "name": "python3"
  },
  "language_info": {
   "codemirror_mode": {
    "name": "ipython",
    "version": 3
   },
   "file_extension": ".py",
   "mimetype": "text/x-python",
   "name": "python",
   "nbconvert_exporter": "python",
   "pygments_lexer": "ipython3",
   "version": "3.7.4"
  }
 },
 "nbformat": 4,
 "nbformat_minor": 2
}
