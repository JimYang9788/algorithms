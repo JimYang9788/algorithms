{
 "cells": [
  {
   "cell_type": "code",
   "execution_count": 1,
   "metadata": {},
   "outputs": [],
   "source": [
    "def minNumberOfJumps(array):\n",
    "\n",
    "    # Returns the minimum number of jumps needed to reach the final index \n",
    "\n",
    "\t\n",
    "\tdef reachable (j, i):\n",
    "\t\t# Determines if i is reachable from index j\n",
    "\t\t# e.g. reachable (2,0) \n",
    "\t\ttotalSteps = array[j]\n",
    "\t\tif i <= j + totalSteps:\n",
    "\t\t\treturn True \n",
    "\t\treturn False \n",
    "\t\n",
    "\t# Base Case \n",
    "\tif len(array) <= 1: return 0\n",
    "\t\n",
    "\tminSteps = [float(\"inf\") for maxDist in range(len(array))]\n",
    "\tminSteps[0] = 0\n",
    "\t# Key logic is \n",
    "\t# minSteps[i] = min D[j] + 1 (0<=j<i, and j reachable to i)\n",
    "\tfor i in range (1,len(array)):\n",
    "\t\tfor j in range(0,i):\n",
    "\t\t\tif reachable (j,i):\n",
    "\t\t\t\tminSteps[i] = min(minSteps[i], minSteps[j] + 1)\n",
    "\t\n",
    "\treturn minSteps[len(array)-1]\n",
    "\t\t\n"
   ]
  }
 ],
 "metadata": {
  "kernelspec": {
   "display_name": "Python 3",
   "language": "python",
   "name": "python3"
  },
  "language_info": {
   "codemirror_mode": {
    "name": "ipython",
    "version": 3
   },
   "file_extension": ".py",
   "mimetype": "text/x-python",
   "name": "python",
   "nbconvert_exporter": "python",
   "pygments_lexer": "ipython3",
   "version": "3.7.4"
  }
 },
 "nbformat": 4,
 "nbformat_minor": 2
}
