{
 "cells": [
  {
   "cell_type": "code",
   "execution_count": null,
   "metadata": {},
   "outputs": [],
   "source": [
    "class Solution:\n",
    "    # Dynamic Programming with Binary Search\n",
    "    # Time complexity : O(nlogn). Binary search takes nlogn time and it is called n times.\n",
    "    # Space complexity : O(n). dp array of size n is used.\n",
    "    def lengthOfLIS(self, nums: List[int]) -> int:\n",
    "        # dp keeps some of the visited element in a sorted list, and its size is lengthOfLIS sofar.\n",
    "        # It always keeps the our best chance to build a LIS in the future.\n",
    "        dp = []\n",
    "        for num in nums:\n",
    "            i = bisect.bisect_left(dp, num)\n",
    "            if i == len(dp):\n",
    "                # If num is the biggest, we should add it into the end of dp.\n",
    "                dp.append(num)\n",
    "            else:\n",
    "                # If num is not the biggest, we should keep it in dp and replace the previous num\n",
    "                # in this position. Because even if num can't build longer LIS directly, it can\n",
    "                # help build a smaller dp, and we will have the best chance to build a LIS in the\n",
    "                # future. All elements before this position will be the best(smallest) LIS sor far. \n",
    "                dp[i] = num\n",
    "        return len(dp)       "
   ]
  }
 ],
 "metadata": {
  "kernelspec": {
   "display_name": "Python 3",
   "language": "python",
   "name": "python3"
  },
  "language_info": {
   "codemirror_mode": {
    "name": "ipython",
    "version": 3
   },
   "file_extension": ".py",
   "mimetype": "text/x-python",
   "name": "python",
   "nbconvert_exporter": "python",
   "pygments_lexer": "ipython3",
   "version": "3.7.4"
  }
 },
 "nbformat": 4,
 "nbformat_minor": 2
}
