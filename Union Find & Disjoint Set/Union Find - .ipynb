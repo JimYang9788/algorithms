{
 "cells": [
  {
   "cell_type": "code",
   "execution_count": 15,
   "metadata": {},
   "outputs": [],
   "source": [
    "class UnionFind:\n",
    "    def __init__(self, n):\n",
    "        self.count = n \n",
    "        self.parent = [0 for _ in range (n)]\n",
    "        \n",
    "        for i in range (n):\n",
    "            self.parent[i] = i \n",
    "        \n",
    "    def find (self, a):\n",
    "        '''\n",
    "        ret the parent of a given node\n",
    "        '''\n",
    "        while (self.parent[a] != a):\n",
    "            a = self.parent[a]\n",
    "        \n",
    "        return a \n",
    "        \n",
    "    \n",
    "    def union (self, a, b):\n",
    "        '''\n",
    "        ret void \n",
    "        '''\n",
    "        rootA = self.find (a)\n",
    "        rootB = self.find (b)\n",
    "        if rootA == rootB:\n",
    "            return \n",
    "    \n",
    "        else:\n",
    "            self.parent[rootB] = rootA \n",
    "        \n",
    "        self.count -= 1 \n",
    "        \n",
    "    \n",
    "    def is_connected(self, a,b):\n",
    "        '''\n",
    "        ret bool\n",
    "        '''\n",
    "        rootA = self.find (a)\n",
    "        rootB = self.find (b)\n",
    "        return rootA == rootB\n",
    "    \n",
    "    def count (self, a,b):\n",
    "        '''\n",
    "        ret: int \n",
    "        '''\n",
    "        return self.count\n",
    "    "
   ]
  },
  {
   "cell_type": "code",
   "execution_count": 16,
   "metadata": {},
   "outputs": [],
   "source": [
    "disjoint_set = UnionFind (4)"
   ]
  },
  {
   "cell_type": "code",
   "execution_count": 17,
   "metadata": {},
   "outputs": [],
   "source": [
    "disjoint_set.union (1,2)"
   ]
  },
  {
   "cell_type": "code",
   "execution_count": 18,
   "metadata": {},
   "outputs": [
    {
     "data": {
      "text/plain": [
       "[0, 1, 1, 3]"
      ]
     },
     "execution_count": 18,
     "metadata": {},
     "output_type": "execute_result"
    }
   ],
   "source": [
    "disjoint_set.parent"
   ]
  },
  {
   "cell_type": "code",
   "execution_count": 20,
   "metadata": {},
   "outputs": [
    {
     "data": {
      "text/plain": [
       "False"
      ]
     },
     "execution_count": 20,
     "metadata": {},
     "output_type": "execute_result"
    }
   ],
   "source": [
    "disjoint_set.is_connected(1,2)\n",
    "disjoint_set.is_connected(2,3)"
   ]
  }
 ],
 "metadata": {
  "kernelspec": {
   "display_name": "Python 3",
   "language": "python",
   "name": "python3"
  },
  "language_info": {
   "codemirror_mode": {
    "name": "ipython",
    "version": 3
   },
   "file_extension": ".py",
   "mimetype": "text/x-python",
   "name": "python",
   "nbconvert_exporter": "python",
   "pygments_lexer": "ipython3",
   "version": "3.7.4"
  }
 },
 "nbformat": 4,
 "nbformat_minor": 2
}
