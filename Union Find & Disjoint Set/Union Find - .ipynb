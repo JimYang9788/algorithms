{
 "cells": [
  {
   "cell_type": "code",
   "execution_count": 26,
   "metadata": {},
   "outputs": [],
   "source": [
    "class UnionFind:\n",
    "    def __init__(self, n):\n",
    "        self.count = n \n",
    "        self.parent = [0 for _ in range (n)]\n",
    "        self.size = [0 for _ in range (n)]\n",
    "        \n",
    "        for i in range (n):\n",
    "            self.parent[i] = i \n",
    "            self.size[i] = 1\n",
    "        \n",
    "    def find (self, a):\n",
    "        '''\n",
    "        ret the parent of a given node\n",
    "        '''\n",
    "        while (self.parent[a] != a):\n",
    "            # 压缩长度，将整个Tree的长度压缩在3以内\n",
    "            self.parent[a] = self.parent[self.parent[x]]\n",
    "            a = self.parent[a]\n",
    "        \n",
    "        return a \n",
    "        \n",
    "    \n",
    "    def union (self, a, b):\n",
    "        '''\n",
    "        ret void \n",
    "        '''\n",
    "        rootA = self.find (a)\n",
    "        rootB = self.find (b)\n",
    "        if rootA == rootB:\n",
    "            return \n",
    "    \n",
    "        else:\n",
    "            if self.size[rootB] < self.size[rootA]:\n",
    "                self.parent[rootB] = rootA \n",
    "                self.size[rootA] += self.size [rootB]\n",
    "            else:\n",
    "                self.parent[rootA] = rootB  \n",
    "                self.size[rootB] += self.size [rootA]\n",
    "        \n",
    "        self.count -= 1 \n",
    "        \n",
    "    \n",
    "    def is_connected(self, a,b):\n",
    "        '''\n",
    "        ret bool\n",
    "        '''\n",
    "        rootA = self.find (a)\n",
    "        rootB = self.find (b)\n",
    "        return rootA == rootB\n",
    "    \n",
    "    def count (self, a,b):\n",
    "        '''\n",
    "        ret: int \n",
    "        '''\n",
    "        return self.count\n",
    "    "
   ]
  },
  {
   "cell_type": "code",
   "execution_count": 27,
   "metadata": {},
   "outputs": [],
   "source": [
    "disjoint_set = UnionFind (4)"
   ]
  },
  {
   "cell_type": "code",
   "execution_count": 28,
   "metadata": {},
   "outputs": [],
   "source": [
    "disjoint_set.union (1,2)"
   ]
  },
  {
   "cell_type": "code",
   "execution_count": 29,
   "metadata": {},
   "outputs": [
    {
     "data": {
      "text/plain": [
       "[0, 2, 2, 3]"
      ]
     },
     "execution_count": 29,
     "metadata": {},
     "output_type": "execute_result"
    }
   ],
   "source": [
    "disjoint_set.parent"
   ]
  },
  {
   "cell_type": "code",
   "execution_count": 32,
   "metadata": {},
   "outputs": [
    {
     "data": {
      "text/plain": [
       "True"
      ]
     },
     "execution_count": 32,
     "metadata": {},
     "output_type": "execute_result"
    }
   ],
   "source": [
    "disjoint_set.is_connected(1,2)\n",
    "# disjoint_set.is_connected(2,3)"
   ]
  },
  {
   "cell_type": "code",
   "execution_count": 39,
   "metadata": {},
   "outputs": [
    {
     "name": "stdout",
     "output_type": "stream",
     "text": [
      " i = 0\n",
      "  i = 1\n",
      "   i = 2\n",
      "    i = 3\n"
     ]
    }
   ],
   "source": [
    "n = 4\n",
    "for i in range (n):\n",
    "    print (' ' * i, \"i =\", i)\n"
   ]
  },
  {
   "cell_type": "markdown",
   "metadata": {},
   "source": [
    "      Set 1 \n",
    "        *1 \n",
    "      /   \\ \n",
    "     2     3\n",
    "     \n",
    "     Set 2 \n",
    "        *4 \n",
    "         \\ \n",
    "           5\n",
    "           \n",
    "   after union \n",
    "         *4\n",
    "       /    \\  \n",
    "      *1      5 \n",
    "    /   \\      \n",
    "   2     3     \n",
    "  /\n",
    " 100 \n",
    " \n"
   ]
  },
  {
   "cell_type": "code",
   "execution_count": 2,
   "metadata": {},
   "outputs": [
    {
     "ename": "SyntaxError",
     "evalue": "invalid syntax (<ipython-input-2-c509d14ce1c8>, line 21)",
     "output_type": "error",
     "traceback": [
      "\u001b[0;36m  File \u001b[0;32m\"<ipython-input-2-c509d14ce1c8>\"\u001b[0;36m, line \u001b[0;32m21\u001b[0m\n\u001b[0;31m    size(x):\u001b[0m\n\u001b[0m            ^\u001b[0m\n\u001b[0;31mSyntaxError\u001b[0m\u001b[0;31m:\u001b[0m invalid syntax\n"
     ]
    }
   ],
   "source": [
    "'''\n",
    "init(4) =>\n",
    "parent = [0,1,2,3]\n",
    "parent[0] = 0 {0}\n",
    "parent[1] = 1 {1}\n",
    "parent[2] = 2 {2}\n",
    "parent[3] = 3 {3}\n",
    "\n",
    "union (0,1)\n",
    "parent[0] = 0 \n",
    "panret[1] = 0 \n",
    "union (2,0)\n",
    "parent[0] = 2\n",
    "parent[1] = 0 \n",
    "parent[2] = 2\n",
    "parent[3] = 3 \n",
    "\n",
    "\n",
    "\n",
    "'''\n",
    "size(x):\n",
    "    1. root = find_rep(x)  #O(n)\n",
    "    2. return root.size \n",
    "\n",
    "constructor(n):\n",
    "    for root in range(n):\n",
    "        root.size = 1 \n",
    "\n",
    "union (x,y):\n",
    "    r_x = findrep(self,x) \n",
    "    r_y = findrep(self,y) \n",
    "    if (r_x != r_y):\n",
    "        parent[r_x] = r_y\n",
    "        r_y.size = r_y.size + r_x.size "
   ]
  },
  {
   "cell_type": "code",
   "execution_count": null,
   "metadata": {},
   "outputs": [],
   "source": []
  }
 ],
 "metadata": {
  "kernelspec": {
   "display_name": "Python 3",
   "language": "python",
   "name": "python3"
  },
  "language_info": {
   "codemirror_mode": {
    "name": "ipython",
    "version": 3
   },
   "file_extension": ".py",
   "mimetype": "text/x-python",
   "name": "python",
   "nbconvert_exporter": "python",
   "pygments_lexer": "ipython3",
   "version": "3.7.4"
  }
 },
 "nbformat": 4,
 "nbformat_minor": 2
}
