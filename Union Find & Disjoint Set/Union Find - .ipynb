{
 "cells": [
  {
   "cell_type": "code",
   "execution_count": 26,
   "metadata": {},
   "outputs": [],
   "source": [
    "class UnionFind:\n",
    "    def __init__(self, n):\n",
    "        self.count = n \n",
    "        self.parent = [0 for _ in range (n)]\n",
    "        self.size = [0 for _ in range (n)]\n",
    "        \n",
    "        for i in range (n):\n",
    "            self.parent[i] = i \n",
    "            self.size[i] = 1\n",
    "        \n",
    "    def find (self, a):\n",
    "        '''\n",
    "        ret the parent of a given node\n",
    "        '''\n",
    "        while (self.parent[a] != a):\n",
    "            # 压缩长度，将整个Tree的长度压缩在3以内\n",
    "            self.parent[a] = self.parent[self.parent[x]]\n",
    "            a = self.parent[a]\n",
    "        \n",
    "        return a \n",
    "        \n",
    "    \n",
    "    def union (self, a, b):\n",
    "        '''\n",
    "        ret void \n",
    "        '''\n",
    "        rootA = self.find (a)\n",
    "        rootB = self.find (b)\n",
    "        if rootA == rootB:\n",
    "            return \n",
    "    \n",
    "        else:\n",
    "            if self.size[rootB] < self.size[rootA]:\n",
    "                self.parent[rootB] = rootA \n",
    "                self.size[rootA] += self.size [rootB]\n",
    "            else:\n",
    "                self.parent[rootA] = rootB  \n",
    "                self.size[rootB] += self.size [rootA]\n",
    "        \n",
    "        self.count -= 1 \n",
    "        \n",
    "    \n",
    "    def is_connected(self, a,b):\n",
    "        '''\n",
    "        ret bool\n",
    "        '''\n",
    "        rootA = self.find (a)\n",
    "        rootB = self.find (b)\n",
    "        return rootA == rootB\n",
    "    \n",
    "    def count (self, a,b):\n",
    "        '''\n",
    "        ret: int \n",
    "        '''\n",
    "        return self.count\n",
    "    "
   ]
  },
  {
   "cell_type": "code",
   "execution_count": 27,
   "metadata": {},
   "outputs": [],
   "source": [
    "disjoint_set = UnionFind (4)"
   ]
  },
  {
   "cell_type": "code",
   "execution_count": 28,
   "metadata": {},
   "outputs": [],
   "source": [
    "disjoint_set.union (1,2)"
   ]
  },
  {
   "cell_type": "code",
   "execution_count": 29,
   "metadata": {},
   "outputs": [
    {
     "data": {
      "text/plain": [
       "[0, 2, 2, 3]"
      ]
     },
     "execution_count": 29,
     "metadata": {},
     "output_type": "execute_result"
    }
   ],
   "source": [
    "disjoint_set.parent"
   ]
  },
  {
   "cell_type": "code",
   "execution_count": 32,
   "metadata": {},
   "outputs": [
    {
     "data": {
      "text/plain": [
       "True"
      ]
     },
     "execution_count": 32,
     "metadata": {},
     "output_type": "execute_result"
    }
   ],
   "source": [
    "disjoint_set.is_connected(1,2)\n",
    "# disjoint_set.is_connected(2,3)"
   ]
  },
  {
   "cell_type": "code",
   "execution_count": 39,
   "metadata": {},
   "outputs": [
    {
     "name": "stdout",
     "output_type": "stream",
     "text": [
      " i = 0\n",
      "  i = 1\n",
      "   i = 2\n",
      "    i = 3\n"
     ]
    }
   ],
   "source": [
    "n = 4\n",
    "for i in range (n):\n",
    "    print (' ' * i, \"i =\", i)\n"
   ]
  },
  {
   "cell_type": "code",
   "execution_count": null,
   "metadata": {},
   "outputs": [],
   "source": []
  }
 ],
 "metadata": {
  "kernelspec": {
   "display_name": "Python 3",
   "language": "python",
   "name": "python3"
  },
  "language_info": {
   "codemirror_mode": {
    "name": "ipython",
    "version": 3
   },
   "file_extension": ".py",
   "mimetype": "text/x-python",
   "name": "python",
   "nbconvert_exporter": "python",
   "pygments_lexer": "ipython3",
   "version": "3.7.4"
  }
 },
 "nbformat": 4,
 "nbformat_minor": 2
}
