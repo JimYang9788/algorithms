{
 "cells": [
  {
   "cell_type": "code",
   "execution_count": null,
   "metadata": {},
   "outputs": [],
   "source": [
    "class Solution:\n",
    "    def sumOfDigits (self, n):\n",
    "        if n == 0:\n",
    "            return 0 \n",
    "        \n",
    "    \n",
    "        res = 0\n",
    "        while (n):\n",
    "            d = n % 10 \n",
    "            n = n // 10 \n",
    "            res += (d ** 2)\n",
    "        \n",
    "        return res \n",
    "        \n",
    "    \n",
    "    def isHappy(self, n: int) -> bool:\n",
    "        \n",
    "        fast = self.sumOfDigits(n)\n",
    "        slow = n \n",
    "        \n",
    "        while (self.sumOfDigits(fast) != 1 and self.sumOfDigits(self.sumOfDigits(fast))!=1):\n",
    "            fast = self.sumOfDigits (self.sumOfDigits(fast))\n",
    "            slow = self.sumOfDigits (slow)\n",
    "            if slow == fast:\n",
    "                return False\n",
    "            \n",
    "        return True\n",
    "        \n",
    "        "
   ]
  }
 ],
 "metadata": {
  "kernelspec": {
   "display_name": "Python 3",
   "language": "python",
   "name": "python3"
  },
  "language_info": {
   "codemirror_mode": {
    "name": "ipython",
    "version": 3
   },
   "file_extension": ".py",
   "mimetype": "text/x-python",
   "name": "python",
   "nbconvert_exporter": "python",
   "pygments_lexer": "ipython3",
   "version": "3.7.4"
  }
 },
 "nbformat": 4,
 "nbformat_minor": 2
}
