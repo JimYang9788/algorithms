{
 "cells": [
  {
   "cell_type": "code",
   "execution_count": null,
   "metadata": {},
   "outputs": [],
   "source": [
    "class Solution:\n",
    "    def middleNode(self, head: ListNode) -> ListNode:\n",
    "        if not head:\n",
    "            return None \n",
    "        \n",
    "        fast = slow = head \n",
    "        \n",
    "        while (fast and fast.next):\n",
    "            fast = fast.next.next\n",
    "            slow = slow.next\n",
    "        \n",
    "        return slow "
   ]
  }
 ],
 "metadata": {
  "kernelspec": {
   "display_name": "Python 3",
   "language": "python",
   "name": "python3"
  },
  "language_info": {
   "codemirror_mode": {
    "name": "ipython",
    "version": 3
   },
   "file_extension": ".py",
   "mimetype": "text/x-python",
   "name": "python",
   "nbconvert_exporter": "python",
   "pygments_lexer": "ipython3",
   "version": "3.7.4"
  }
 },
 "nbformat": 4,
 "nbformat_minor": 2
}
