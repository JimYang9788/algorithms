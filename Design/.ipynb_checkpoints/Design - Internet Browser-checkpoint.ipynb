{
 "cells": [
  {
   "cell_type": "code",
   "execution_count": null,
   "metadata": {},
   "outputs": [],
   "source": [
    "class BrowserHistory:\n",
    "\n",
    "    def __init__(self, homepage: str):\n",
    "        \n",
    "        self.stack = [homepage]\n",
    "        self.pointer = 0\n",
    "        \n",
    "    def visit(self, url: str) -> None:\n",
    "\n",
    "                \n",
    "        # 1. Clear forward content\n",
    "        while (self.pointer < len(self.stack) - 1):\n",
    "            self.stack.pop()\n",
    "        \n",
    "        # now self.pointer is the same size as the stack \n",
    "        self.stack.append (url)\n",
    "        self.pointer += 1 \n",
    "\n",
    "    def back(self, steps: int) -> str:\n",
    "        while self.pointer > 0 and steps > 0 :\n",
    "            self.pointer -= 1 \n",
    "            steps -= 1 \n",
    " \n",
    "        return self.stack[self.pointer]\n",
    "        \n",
    "\n",
    "    def forward(self, steps: int) -> str:\n",
    "        while (self.pointer < len(self.stack)-1) and (steps > 0):\n",
    "            self.pointer += 1 \n",
    "            steps -= 1         \n",
    "7y5\n",
    "        return self.stack[self.pointer] \n",
    "\n",
    "    \n",
    "# Your BrowserHistory object will be instantiated and called as such:\n",
    "# obj = BrowserHistory(homepage)\n",
    "# obj.visit(url)\n",
    "# param_2 = obj.back(steps)\n",
    "# param_3 = obj.forward(steps)"
   ]
  }
 ],
 "metadata": {
  "kernelspec": {
   "display_name": "Python 3",
   "language": "python",
   "name": "python3"
  },
  "language_info": {
   "codemirror_mode": {
    "name": "ipython",
    "version": 3
   },
   "file_extension": ".py",
   "mimetype": "text/x-python",
   "name": "python",
   "nbconvert_exporter": "python",
   "pygments_lexer": "ipython3",
   "version": "3.7.4"
  }
 },
 "nbformat": 4,
 "nbformat_minor": 2
}
