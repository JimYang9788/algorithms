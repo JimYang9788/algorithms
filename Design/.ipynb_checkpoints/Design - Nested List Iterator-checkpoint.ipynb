{
 "cells": [
  {
   "cell_type": "code",
   "execution_count": null,
   "metadata": {},
   "outputs": [],
   "source": [
    "class NestedIterator:\n",
    "    \n",
    "    \n",
    "    def flatten(self, nestedList):\n",
    "        if not nestedList: return []\n",
    "\n",
    "        res = []\n",
    "        for element in nestedList:\n",
    "            if element.isInteger():\n",
    "                res.append (element)\n",
    "            else:\n",
    "                res.extend(self.flatten(element.getList()))\n",
    "        return res \n",
    "    \n",
    "    def __init__(self, nestedList: [NestedInteger]):\n",
    "        self.data = self.flatten(nestedList)\n",
    "        self.ptr = -1 \n",
    "        \n",
    "    def next(self) -> int:\n",
    "        self.ptr += 1 \n",
    "        return self.data[self.ptr]\n",
    "    \n",
    "    def hasNext(self) -> bool:\n",
    "        return self.ptr < len(self.data) - 1"
   ]
  }
 ],
 "metadata": {
  "kernelspec": {
   "display_name": "Python 3",
   "language": "python",
   "name": "python3"
  },
  "language_info": {
   "codemirror_mode": {
    "name": "ipython",
    "version": 3
   },
   "file_extension": ".py",
   "mimetype": "text/x-python",
   "name": "python",
   "nbconvert_exporter": "python",
   "pygments_lexer": "ipython3",
   "version": "3.7.4"
  }
 },
 "nbformat": 4,
 "nbformat_minor": 2
}
