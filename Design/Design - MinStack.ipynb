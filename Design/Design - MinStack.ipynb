{
 "cells": [
  {
   "cell_type": "code",
   "execution_count": null,
   "metadata": {},
   "outputs": [],
   "source": [
    "class MinStack:\n",
    "\n",
    "    # Improvement being using a pair in the stack\n",
    "    # so that we dont repetitively use the same pair\n",
    "    def __init__(self):\n",
    "        \"\"\"\n",
    "        initialize your data structure here.\n",
    "        \"\"\"\n",
    "        self.dataStack = []\n",
    "        self.minStack = []\n",
    "        \n",
    "        \n",
    "    def push(self, x: int) -> None:\n",
    "        self.dataStack.append(x)\n",
    "        \n",
    "        if not self.minStack:\n",
    "            self.minStack.append(x)\n",
    "        else:\n",
    "            self.minStack.append(min(x, self.minStack[-1]))\n",
    "        \n",
    "\n",
    "    def pop(self) -> None:\n",
    "        self.minStack.pop()\n",
    "        self.dataStack.pop()\n",
    "\n",
    "    def top(self) -> int:\n",
    "        assert(self.dataStack)\n",
    "        return self.dataStack[-1]\n",
    "\n",
    "    def getMin(self) -> int:\n",
    "        assert(self.minStack)\n",
    "        return self.minStack[-1]\n",
    "\n",
    "\n",
    "# Your MinStack object will be instantiated and called as such:\n",
    "# obj = MinStack()\n",
    "# obj.push(x)\n",
    "# obj.pop()\n",
    "# param_3 = obj.top()\n",
    "# param_4 = obj.getMin()"
   ]
  }
 ],
 "metadata": {
  "kernelspec": {
   "display_name": "Python 3",
   "language": "python",
   "name": "python3"
  },
  "language_info": {
   "codemirror_mode": {
    "name": "ipython",
    "version": 3
   },
   "file_extension": ".py",
   "mimetype": "text/x-python",
   "name": "python",
   "nbconvert_exporter": "python",
   "pygments_lexer": "ipython3",
   "version": "3.7.4"
  }
 },
 "nbformat": 4,
 "nbformat_minor": 2
}
