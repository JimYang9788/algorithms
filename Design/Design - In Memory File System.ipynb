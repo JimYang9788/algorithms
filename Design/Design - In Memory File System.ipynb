{
 "cells": [
  {
   "cell_type": "code",
   "execution_count": null,
   "metadata": {},
   "outputs": [],
   "source": [
    "from collections import defaultdict\n",
    "class Node:\n",
    "    def __init__(self):\n",
    "        self.child=defaultdict(Node)\n",
    "        self.content=\"\"\n",
    "        \n",
    "class FileSystem(object):\n",
    "\n",
    "    def __init__(self):\n",
    "        self.root=Node()\n",
    "        \n",
    "    def find(self,path):#find and return node at path.\n",
    "        curr=self.root\n",
    "        if len(path)==1:\n",
    "            return self.root\n",
    "        for word in path.split(\"/\")[1:]:\n",
    "            curr=curr.child[word]\n",
    "        return curr\n",
    "        \n",
    "    def ls(self, path):\n",
    "        curr=self.find(path)\n",
    "        if curr.content:#file path,return file name\n",
    "            return [path.split('/')[-1]]\n",
    "        return sorted(curr.child.keys())\n",
    "\t\t\n",
    "    def mkdir(self, path):\n",
    "        self.find(path)\n",
    "\n",
    "    def addContentToFile(self, filePath, content):\n",
    "        curr=self.find(filePath)\n",
    "        curr.content+=content\n",
    "\n",
    "    def readContentFromFile(self, filePath):\n",
    "        curr=self.find(filePath)\n",
    "        return curr.content"
   ]
  }
 ],
 "metadata": {
  "kernelspec": {
   "display_name": "Python 3",
   "language": "python",
   "name": "python3"
  },
  "language_info": {
   "codemirror_mode": {
    "name": "ipython",
    "version": 3
   },
   "file_extension": ".py",
   "mimetype": "text/x-python",
   "name": "python",
   "nbconvert_exporter": "python",
   "pygments_lexer": "ipython3",
   "version": "3.7.4"
  }
 },
 "nbformat": 4,
 "nbformat_minor": 2
}
