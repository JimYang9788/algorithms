{
 "cells": [
  {
   "cell_type": "code",
   "execution_count": 1,
   "metadata": {},
   "outputs": [
    {
     "ename": "SyntaxError",
     "evalue": "invalid syntax (<ipython-input-1-ef530a8d507a>, line 31)",
     "output_type": "error",
     "traceback": [
      "\u001b[0;36m  File \u001b[0;32m\"<ipython-input-1-ef530a8d507a>\"\u001b[0;36m, line \u001b[0;32m31\u001b[0m\n\u001b[0;31m    7y5\u001b[0m\n\u001b[0m      ^\u001b[0m\n\u001b[0;31mSyntaxError\u001b[0m\u001b[0;31m:\u001b[0m invalid syntax\n"
     ]
    }
   ],
   "source": [
    "class BrowserHistory:\n",
    "\n",
    "    def __init__(self, homepage: str):\n",
    "        \n",
    "        self.stack = [homepage]\n",
    "        self.fowardStack = []\n",
    "\n",
    "    def visit(self, url: str) -> None:\n",
    "        self.forwardStack = []\n",
    "        self.stack.append (url)\n",
    "            \n",
    "\n",
    "    def back(self, steps: int) -> str:\n",
    "        while (self.stack and steps > 0):\n",
    "            top = self.stack.pop()\n",
    "            self.forwardStack.append (top)\n",
    "            steps -= 1 \n",
    "        \n",
    "        return self.stack[-1]\n",
    "\n",
    "    def forward(self, steps: int) -> str:\n",
    "        while (self.forwardStack and steps > 0):\n",
    "            top = self.forwardStack.pop()\n",
    "            self.stack.append (top)\n",
    "            steps -= 1 \n",
    "        return self.stack[-1]\n",
    "    \n",
    "# Your BrowserHistory object will be instantiated and called as such:\n",
    "# obj = BrowserHistory(homepage)\n",
    "# obj.visit(url)\n",
    "# param_2 = obj.back(steps)\n",
    "# param_3 = obj.forward(steps)"
   ]
  },
  {
   "cell_type": "code",
   "execution_count": null,
   "metadata": {},
   "outputs": [],
   "source": []
  }
 ],
 "metadata": {
  "kernelspec": {
   "display_name": "Python 3",
   "language": "python",
   "name": "python3"
  },
  "language_info": {
   "codemirror_mode": {
    "name": "ipython",
    "version": 3
   },
   "file_extension": ".py",
   "mimetype": "text/x-python",
   "name": "python",
   "nbconvert_exporter": "python",
   "pygments_lexer": "ipython3",
   "version": "3.7.4"
  }
 },
 "nbformat": 4,
 "nbformat_minor": 2
}
