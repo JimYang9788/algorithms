{
 "cells": [
  {
   "cell_type": "code",
   "execution_count": null,
   "metadata": {},
   "outputs": [],
   "source": [
    "class Tunnel:\n",
    "    def __init__(self):\n",
    "        \n",
    "        self.totalCustomer = 0 \n",
    "        self.averageTime = 0 \n",
    "\n",
    "    def update (self, duration):\n",
    "        self.averageTime = (self.averageTime * self.totalCustomer + duration) / (self.totalCustomer + 1)\n",
    "        self.totalCustomer += 1 \n",
    "        \n",
    "        \n",
    "class Visitor:\n",
    "    def __init__(self, startTime, startStation):\n",
    "        self.startTime = startTime \n",
    "        self.startStation = startStation\n",
    "        \n",
    "class UndergroundSystem:\n",
    "\n",
    "    def __init__(self):\n",
    "        # graph =  { Station: {Station: Tunnel}}\n",
    "        self.graph = defaultdict (lambda: defaultdict (Tunnel))\n",
    "        \n",
    "        # visitors = { id : Visitor }\n",
    "        self.visitors = {}\n",
    "        \n",
    "    def checkIn(self, id: int, stationName: str, t: int) -> None:\n",
    "        assert (id not in self.visitors)\n",
    "        self.visitors[id] = Visitor(t, stationName)\n",
    "        \n",
    "    def checkOut(self, id: int, stationName: str, t: int) -> None:\n",
    "        assert (id in self.visitors)\n",
    "        \n",
    "        # Update average Time\n",
    "        duration = t - self.visitors[id].startTime\n",
    "        self.graph[self.visitors[id].startStation][stationName].update (duration)\n",
    "        \n",
    "        # Send the visitor out \n",
    "        del self.visitors[id]\n",
    "        \n",
    "\n",
    "    def getAverageTime(self, startStation: str, endStation: str) -> float:\n",
    "        return self.graph[startStation][endStation].averageTime \n",
    "\n",
    "\n",
    "# Your UndergroundSystem object will be instantiated and called as such:\n",
    "# obj = UndergroundSystem()\n",
    "# obj.checkIn(id,stationName,t)\n",
    "# obj.checkOut(id,stationName,t)\n",
    "# param_3 = obj.getAverageTime(startStation,endStation)"
   ]
  }
 ],
 "metadata": {
  "kernelspec": {
   "display_name": "Python 3",
   "language": "python",
   "name": "python3"
  },
  "language_info": {
   "codemirror_mode": {
    "name": "ipython",
    "version": 3
   },
   "file_extension": ".py",
   "mimetype": "text/x-python",
   "name": "python",
   "nbconvert_exporter": "python",
   "pygments_lexer": "ipython3",
   "version": "3.7.4"
  }
 },
 "nbformat": 4,
 "nbformat_minor": 2
}
