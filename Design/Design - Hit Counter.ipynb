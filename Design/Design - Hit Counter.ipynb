{
 "cells": [
  {
   "cell_type": "code",
   "execution_count": null,
   "metadata": {},
   "outputs": [],
   "source": [
    "class HitCounter:\n",
    "    def __init__(self):\n",
    "        self.data = deque()\n",
    "\n",
    "    def hit(self, timestamp: int) -> None:\n",
    "        while len(self.data) and timestamp - self.data[0] >= 300:\n",
    "            self.data.popleft()\n",
    "        self.data.append(timestamp)\n",
    "\n",
    "    def getHits(self, timestamp: int) -> int:\n",
    "        while len(self.data) and timestamp - self.data[0] >= 300:\n",
    "            self.data.popleft()\n",
    "        return len(self.data)"
   ]
  }
 ],
 "metadata": {
  "kernelspec": {
   "display_name": "Python 3",
   "language": "python",
   "name": "python3"
  },
  "language_info": {
   "codemirror_mode": {
    "name": "ipython",
    "version": 3
   },
   "file_extension": ".py",
   "mimetype": "text/x-python",
   "name": "python",
   "nbconvert_exporter": "python",
   "pygments_lexer": "ipython3",
   "version": "3.7.4"
  }
 },
 "nbformat": 4,
 "nbformat_minor": 2
}
