{
 "cells": [
  {
   "cell_type": "code",
   "execution_count": null,
   "metadata": {},
   "outputs": [],
   "source": [
    "from collections import defaultdict\n",
    "from random import choice\n",
    "\n",
    "class RandomizedCollection:\n",
    "\n",
    "    def __init__(self):\n",
    "        \"\"\"\n",
    "        Initialize your data structure here.\n",
    "        \"\"\"\n",
    "        self.lst = []\n",
    "        self.idx = defaultdict(set)\n",
    "\n",
    "\n",
    "    def insert(self, val: int) -> bool:\n",
    "        \"\"\"\n",
    "        Inserts a value to the collection. Returns true if the collection did not already contain the specified element.\n",
    "        \"\"\"\n",
    "        self.idx[val].add(len(self.lst))\n",
    "        self.lst.append(val)\n",
    "        return len(self.idx[val]) == 1\n",
    "\n",
    "\n",
    "    def remove(self, val: int) -> bool:\n",
    "        \"\"\"\n",
    "        Removes a value from the collection. Returns true if the collection contained the specified element.\n",
    "        \"\"\"\n",
    "        if not self.idx[val]: return False\n",
    "        remove, last = self.idx[val].pop(), self.lst[-1]\n",
    "        self.lst[remove] = last\n",
    "        self.idx[last].add(remove)\n",
    "        self.idx[last].discard(len(self.lst) - 1)\n",
    "\n",
    "        self.lst.pop()\n",
    "        return True\n",
    "\n",
    "\n",
    "    def getRandom(self) -> int:\n",
    "        \"\"\"\n",
    "        Get a random element from the collection.\n",
    "        \"\"\"\n",
    "        return choice(self.lst)\n"
   ]
  }
 ],
 "metadata": {
  "kernelspec": {
   "display_name": "Python 3",
   "language": "python",
   "name": "python3"
  },
  "language_info": {
   "codemirror_mode": {
    "name": "ipython",
    "version": 3
   },
   "file_extension": ".py",
   "mimetype": "text/x-python",
   "name": "python",
   "nbconvert_exporter": "python",
   "pygments_lexer": "ipython3",
   "version": "3.7.4"
  }
 },
 "nbformat": 4,
 "nbformat_minor": 2
}
