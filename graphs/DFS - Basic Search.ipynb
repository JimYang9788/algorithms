{
 "cells": [
  {
   "cell_type": "code",
   "execution_count": 1,
   "metadata": {},
   "outputs": [
    {
     "ename": "TabError",
     "evalue": "inconsistent use of tabs and spaces in indentation (<ipython-input-1-5f49f1550dd5>, line 17)",
     "output_type": "error",
     "traceback": [
      "\u001b[0;36m  File \u001b[0;32m\"<ipython-input-1-5f49f1550dd5>\"\u001b[0;36m, line \u001b[0;32m17\u001b[0m\n\u001b[0;31m    stack = [self]\u001b[0m\n\u001b[0m                  ^\u001b[0m\n\u001b[0;31mTabError\u001b[0m\u001b[0;31m:\u001b[0m inconsistent use of tabs and spaces in indentation\n"
     ]
    }
   ],
   "source": [
    "# Do not edit the class below except\n",
    "# for the depthFirstSearch method.\n",
    "# Feel free to add new properties\n",
    "# and methods to the class.\n",
    "\n",
    "# Loop\n",
    "class Node:\n",
    "    def __init__(self, name):\n",
    "        self.children = []\n",
    "        self.name = name\n",
    "\n",
    "    def addChild(self, name):\n",
    "        self.children.append(Node(name))\n",
    "        return self\n",
    "\n",
    "    def depthFirstSearch(self, array):\n",
    "        # Write your code here.\n",
    "\t\t\n",
    "\t\tstack = [self]\n",
    "\t\twhile stack:\n",
    "\t\t\ttop = stack.pop(0)\n",
    "\t\t\tarray.append(top.name)\n",
    "\t\t\tstack = top.children + stack\n",
    "\t\t\t\n",
    "\t\treturn array"
   ]
  },
  {
   "cell_type": "code",
   "execution_count": null,
   "metadata": {},
   "outputs": [],
   "source": []
  }
 ],
 "metadata": {
  "kernelspec": {
   "display_name": "Python 3",
   "language": "python",
   "name": "python3"
  },
  "language_info": {
   "codemirror_mode": {
    "name": "ipython",
    "version": 3
   },
   "file_extension": ".py",
   "mimetype": "text/x-python",
   "name": "python",
   "nbconvert_exporter": "python",
   "pygments_lexer": "ipython3",
   "version": "3.7.4"
  }
 },
 "nbformat": 4,
 "nbformat_minor": 2
}
