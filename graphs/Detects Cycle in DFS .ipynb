{
 "cells": [
  {
   "cell_type": "code",
   "execution_count": null,
   "metadata": {},
   "outputs": [],
   "source": [
    "\n",
    "def cycleInGraph(edges):\n",
    "    # Write your code here.\n",
    "\t\n",
    "\tvisited = [0 for i in edges]\n",
    "\t\n",
    "\tdef dfs_cycle (node):\n",
    "\t\t# Detects cycle \n",
    "\t\tif visited[node] == 2:\n",
    "\t\t\treturn False \n",
    "\t\t\n",
    "\t\tif visited[node] == 1:\n",
    "\t\t\treturn True \n",
    "\t\t\n",
    "\t\tvisited[node] = 1 \n",
    "\t\t\n",
    "\t\tfor neighbour in edges[node]:\n",
    "\t\t\tif dfs_cycle(neighbour):\n",
    "\t\t\t\treturn True \n",
    "\t\tvisited[node] = 2 \n",
    "\t\treturn False \n",
    "\t\t\n",
    "\t\n",
    "\tfor node in range (len(edges)):\n",
    "\t\tif dfs_cycle (node):\n",
    "\t\t\treturn True\n",
    "\t\n",
    "    return False\n",
    "\n"
   ]
  }
 ],
 "metadata": {
  "kernelspec": {
   "display_name": "Python 3",
   "language": "python",
   "name": "python3"
  },
  "language_info": {
   "codemirror_mode": {
    "name": "ipython",
    "version": 3
   },
   "file_extension": ".py",
   "mimetype": "text/x-python",
   "name": "python",
   "nbconvert_exporter": "python",
   "pygments_lexer": "ipython3",
   "version": "3.7.4"
  }
 },
 "nbformat": 4,
 "nbformat_minor": 2
}
