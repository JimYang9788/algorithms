{
 "cells": [
  {
   "cell_type": "code",
   "execution_count": null,
   "metadata": {},
   "outputs": [],
   "source": [
    "class Node:\n",
    "    def __init__(self, name):\n",
    "        self.children = []\n",
    "        self.name = name\n",
    "\n",
    "    def addChild(self, name):\n",
    "        self.children.append(Node(name))\n",
    "        return self\n",
    "\n",
    "    def breadthFirstSearch(self, array):\n",
    "\n",
    "\t\tqueue = []\n",
    "\t\tarray.append(self.name)\n",
    "\t\tfor node in self.children:\n",
    "\t\t\tqueue.append(node)\n",
    "\t\t\t\n",
    "\t\twhile queue:\n",
    "\t\t\ttop = queue.pop(0)\n",
    "\t\t\tarray.append(top.name)\n",
    "\t\t\tfor neighbour in top.children:\n",
    "\t\t\t\tqueue.append(neighbour)\n",
    "\t\t\t\n",
    "\t\treturn array"
   ]
  }
 ],
 "metadata": {
  "kernelspec": {
   "display_name": "Python 3",
   "language": "python",
   "name": "python3"
  },
  "language_info": {
   "codemirror_mode": {
    "name": "ipython",
    "version": 3
   },
   "file_extension": ".py",
   "mimetype": "text/x-python",
   "name": "python",
   "nbconvert_exporter": "python",
   "pygments_lexer": "ipython3",
   "version": "3.7.4"
  }
 },
 "nbformat": 4,
 "nbformat_minor": 2
}
