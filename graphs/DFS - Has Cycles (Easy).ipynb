{
 "cells": [
  {
   "cell_type": "code",
   "execution_count": null,
   "metadata": {},
   "outputs": [],
   "source": [
    "def hasSingleCycle(array):\n",
    "\tif not array: return False \n",
    "\t\n",
    "\tvisited = [0 for _ in array]\n",
    "\tdef isAllVisited():\n",
    "\t\tfor node in visited:\n",
    "\t\t\tif node != 1:\n",
    "\t\t\t\treturn False \n",
    "\t\treturn True \n",
    "\t\n",
    "\tdef dfs (i,prev):\n",
    "\t\t# Takes an index and checks cycle \n",
    "\t\t# Returns True if theres a cycle \n",
    "\t\tif visited [i] == 1:\n",
    "\t\t\t# Now we have a cycle, check if all nodes are visited\n",
    "\t\t\treturn isAllVisited() and i == 0\n",
    "\t\t\n",
    "\t\t# If not visited, visited this node. \n",
    "\t\tvisited[i] = 1\n",
    "\t\t\n",
    "\t\t# You don't really need finished visiting state, \n",
    "\t\t# Because for dfs to finish, isAllVisited has \n",
    "\t\t# to be ran\n",
    "\t\tneighbour = (i + array[i]) % len(array)  \n",
    "\t\treturn dfs (neighbour,i)\n",
    "\t\t\n",
    "\treturn dfs(0,0) \n",
    "\t\t"
   ]
  }
 ],
 "metadata": {
  "kernelspec": {
   "display_name": "Python 3",
   "language": "python",
   "name": "python3"
  },
  "language_info": {
   "codemirror_mode": {
    "name": "ipython",
    "version": 3
   },
   "file_extension": ".py",
   "mimetype": "text/x-python",
   "name": "python",
   "nbconvert_exporter": "python",
   "pygments_lexer": "ipython3",
   "version": "3.7.4"
  }
 },
 "nbformat": 4,
 "nbformat_minor": 2
}
