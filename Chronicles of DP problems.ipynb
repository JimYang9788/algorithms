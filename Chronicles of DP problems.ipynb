{
 "cells": [
  {
   "cell_type": "code",
   "execution_count": null,
   "metadata": {},
   "outputs": [],
   "source": [
    "class Solution:\n",
    "    def findLength(self, nums1: List[int], nums2: List[int]) -> int:\n",
    "        \n",
    "        memo = [[0 for j in range (len(nums2) + 1)] for i in range (len(nums1) + 1)]\n",
    "        for i in range (len(nums1) - 1, -1, -1):\n",
    "            for j in range (len(nums2) - 1, -1, -1):\n",
    "                if nums1[i] == nums2[j]:\n",
    "                    memo[i][j] = 1 + memo[i+1][j+1]\n",
    "        return max([max(row) for row in memo])"
   ]
  }
 ],
 "metadata": {
  "kernelspec": {
   "display_name": "Python 3",
   "language": "python",
   "name": "python3"
  },
  "language_info": {
   "codemirror_mode": {
    "name": "ipython",
    "version": 3
   },
   "file_extension": ".py",
   "mimetype": "text/x-python",
   "name": "python",
   "nbconvert_exporter": "python",
   "pygments_lexer": "ipython3",
   "version": "3.7.4"
  }
 },
 "nbformat": 4,
 "nbformat_minor": 2
}
