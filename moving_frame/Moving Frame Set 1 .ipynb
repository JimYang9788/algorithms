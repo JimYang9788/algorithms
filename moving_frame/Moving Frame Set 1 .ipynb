{
 "cells": [
  {
   "cell_type": "markdown",
   "metadata": {},
   "source": [
    "#### 209. Minimum Size Subarray Sum\n",
    "\n",
    "Given an array of n positive integers and a positive integer s, find the minimal length of a contiguous subarray of which the sum ≥ s. If there isn't one, return 0 instead.\n",
    "\n",
    "```\n",
    "Input: s = 7, nums = [2,3,1,2,4,3]\n",
    "Output: 2\n",
    "Explanation: the subarray [4,3] has the minimal length under the problem constraint.\n",
    "```"
   ]
  },
  {
   "cell_type": "code",
   "execution_count": 3,
   "metadata": {},
   "outputs": [],
   "source": [
    "class Solution:\n",
    "    def minSubArrayLen(self, s, nums):\n",
    "        if sum(nums) < s: return 0 \n",
    "        left = 0\n",
    "        current_sum = 0 \n",
    "        res = float(inf)\n",
    "        \n",
    "        for i in range (len(nums)):\n",
    "            current_sum += nums[i]\n",
    "            \n",
    "            while current_sum >= s:\n",
    "                res = min (res, i + 1 - left)\n",
    "                current_sum -= nums[left]\n",
    "                left += 1 \n",
    "        \n",
    "        \n",
    "        return res if res != inf else 0\n",
    "    "
   ]
  },
  {
   "cell_type": "code",
   "execution_count": null,
   "metadata": {},
   "outputs": [],
   "source": []
  }
 ],
 "metadata": {
  "kernelspec": {
   "display_name": "Python 3",
   "language": "python",
   "name": "python3"
  },
  "language_info": {
   "codemirror_mode": {
    "name": "ipython",
    "version": 3
   },
   "file_extension": ".py",
   "mimetype": "text/x-python",
   "name": "python",
   "nbconvert_exporter": "python",
   "pygments_lexer": "ipython3",
   "version": "3.7.4"
  }
 },
 "nbformat": 4,
 "nbformat_minor": 2
}
