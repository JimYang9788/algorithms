{
 "cells": [
  {
   "cell_type": "markdown",
   "metadata": {},
   "source": [
    "## Set 2 "
   ]
  },
  {
   "cell_type": "markdown",
   "metadata": {},
   "source": [
    "#### Continguous Array\n",
    "Given a binary array, find the maximum length of a contiguous subarray with equal number of 0 and 1.\n",
    "\n",
    "Input: [0,1]  \n",
    "Output: 2  \n",
    "Explanation: [0, 1] is the longest contiguous subarray with equal number of 0 and 1."
   ]
  },
  {
   "cell_type": "code",
   "execution_count": 12,
   "metadata": {},
   "outputs": [
    {
     "data": {
      "text/plain": [
       "4"
      ]
     },
     "execution_count": 12,
     "metadata": {},
     "output_type": "execute_result"
    }
   ],
   "source": [
    "# Brute Force \n",
    "# Gets the problem done. But not efficient. O(N^3)\n",
    "class Solution:\n",
    "    def findMaxLength(self, nums):\n",
    "        max_so_far = 0 \n",
    "        for i in range (len (nums)):\n",
    "            for j in range (i+1, len (nums)):\n",
    "                if sum(nums[i:j]) * 2  == (j - i ):\n",
    "                    max_so_far = max (max_so_far, j - i)\n",
    "        return max_so_far\n",
    "                \n",
    "        \n",
    "Solution().findMaxLength([1,0,0,1,1])\n",
    "        \n",
    "        "
   ]
  },
  {
   "cell_type": "code",
   "execution_count": null,
   "metadata": {},
   "outputs": [],
   "source": []
  }
 ],
 "metadata": {
  "kernelspec": {
   "display_name": "Python 3",
   "language": "python",
   "name": "python3"
  },
  "language_info": {
   "codemirror_mode": {
    "name": "ipython",
    "version": 3
   },
   "file_extension": ".py",
   "mimetype": "text/x-python",
   "name": "python",
   "nbconvert_exporter": "python",
   "pygments_lexer": "ipython3",
   "version": "3.7.4"
  }
 },
 "nbformat": 4,
 "nbformat_minor": 2
}
