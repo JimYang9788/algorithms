{
 "cells": [
  {
   "cell_type": "markdown",
   "metadata": {},
   "source": [
    "## Set 2 "
   ]
  },
  {
   "cell_type": "markdown",
   "metadata": {},
   "source": [
    "#### Continguous Array\n",
    "Given a binary array, find the maximum length of a contiguous subarray with equal number of 0 and 1.\n",
    "\n",
    "Input: [0,1]  \n",
    "Output: 2  \n",
    "Explanation: [0, 1] is the longest contiguous subarray with equal number of 0 and 1."
   ]
  },
  {
   "cell_type": "code",
   "execution_count": 29,
   "metadata": {},
   "outputs": [
    {
     "data": {
      "text/plain": [
       "6"
      ]
     },
     "execution_count": 29,
     "metadata": {},
     "output_type": "execute_result"
    }
   ],
   "source": [
    "# Brute Force \n",
    "# Gets the problem done. But not efficient. O(N^3)\n",
    "class Solution:\n",
    "    def findMaxLength(self, nums):\n",
    "        max_so_far = 0 \n",
    "        for i in range (len (nums)):\n",
    "            for j in range (i+1, len (nums)):\n",
    "                if sum(nums[i:j+1]) * 2  == (j-i+1):\n",
    "                    max_so_far = max (max_so_far, j - i+1)\n",
    "        return max_so_far\n"
   ]
  },
  {
   "cell_type": "code",
   "execution_count": 30,
   "metadata": {},
   "outputs": [],
   "source": [
    "class Solution(object):\n",
    "    def findMaxLength(self, nums):\n",
    "        count = 0\n",
    "        max_length=0\n",
    "        table = {0: 0}\n",
    "        for index, num in enumerate(nums, 1):\n",
    "            if num == 0:\n",
    "                count -= 1\n",
    "            else:\n",
    "                count += 1\n",
    "            \n",
    "            if count in table:\n",
    "                max_length = max(max_length, index - table[count])\n",
    "            else:\n",
    "                table[count] = index\n",
    "        \n",
    "        return max_length"
   ]
  },
  {
   "cell_type": "markdown",
   "metadata": {},
   "source": [
    "#### Perform String Shifts\n",
    "\n",
    "You are given a string s containing lowercase English letters, and a matrix shift, \n",
    "where shift[i] = [direction, amount]:\n",
    "\n",
    "direction can be 0 (for left shift) or 1 (for right shift). \n",
    "amount is the amount by which string s is to be shifted.\n",
    "A left shift by 1 means remove the first character of s and append it to the end.\n",
    "Similarly, a right shift by 1 means remove the last character of s and add it to the beginning.\n",
    "Return the final string after all operations.\n",
    "\n",
    "0: 向左\n",
    "1: 向右\n"
   ]
  },
  {
   "cell_type": "code",
   "execution_count": 41,
   "metadata": {},
   "outputs": [],
   "source": [
    "# (First is to simpliy the shift instruction)\n",
    "\n",
    "class Solution:\n",
    "    def stringShift(self, s, shift):\n",
    "        # Convert everything to 1\n",
    "        # O(k), k being the number instructions\n",
    "        for idx, instruction in enumerate (shift):\n",
    "            if shift[idx][0] == 0:\n",
    "                shift[idx][0] = 1 # Convert 0 to 1 \n",
    "                shift[idx][1] *= -1 # Move left 1 is equivalent to right -1 \n",
    "        total_steps = sum (instruction[1] for instruction in shift)\n",
    "        \n",
    "        # total_steps is now the total number steps neede to shfit to right \n",
    "        \n",
    "        res = [''] * len(s)\n",
    "        print (total_steps)\n",
    "        for i in range (len(s)):\n",
    "            index = i - total_steps \n",
    "            index = index % len(s)\n",
    "            res[i] = s[index]\n",
    "            \n",
    "        return ''.join(res)\n",
    "\n",
    "# Formal Solution 基本一样的思路，只不过没有用我的sum\n",
    "# 比我简洁, s = s[left_shifts:] + s[:left_shifts] 很清晰\n",
    "class Solution:\n",
    "    def stringShift(self, s, shift):\n",
    "        \n",
    "        # Count the number of left shifts. A right shift is a negative left shift.\n",
    "        left_shifts = 0\n",
    "        for direction, amount in shift:\n",
    "            if direction == 1:\n",
    "                amount = -amount\n",
    "            left_shifts += amount\n",
    "            \n",
    "        # Convert back to a positive, do left shifts, and return.\n",
    "        left_shifts %= len(s)\n",
    "        s = s[left_shifts:] + s[:left_shifts]\n",
    "        return s\n",
    "\n"
   ]
  }
 ],
 "metadata": {
  "kernelspec": {
   "display_name": "Python 3",
   "language": "python",
   "name": "python3"
  },
  "language_info": {
   "codemirror_mode": {
    "name": "ipython",
    "version": 3
   },
   "file_extension": ".py",
   "mimetype": "text/x-python",
   "name": "python",
   "nbconvert_exporter": "python",
   "pygments_lexer": "ipython3",
   "version": "3.7.4"
  }
 },
 "nbformat": 4,
 "nbformat_minor": 2
}
