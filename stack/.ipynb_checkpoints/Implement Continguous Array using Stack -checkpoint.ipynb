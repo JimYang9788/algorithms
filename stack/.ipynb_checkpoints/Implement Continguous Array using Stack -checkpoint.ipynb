{
 "cells": [
  {
   "cell_type": "markdown",
   "metadata": {},
   "source": [
    "Data structure (最基础的概念): Arrays, Pointers   \n",
    "Abstract DataType: (一个抽象概念)，没有实际的data strucutre, is a type (or class) for objects whose behaviour is defined by a set of value and a set of operations.\n",
    "Data structures implements ADT. \n",
    "ADT包括，但不限于，Stack, Queue, XXXX  \n",
    "Stack: always add to top (FILO)\n",
    "Queue: always add to top, but delete bottom (FIFO)"
   ]
  },
  {
   "cell_type": "code",
   "execution_count": 2,
   "metadata": {},
   "outputs": [
    {
     "name": "stdout",
     "output_type": "stream",
     "text": [
      "[1, 2, 3]\n"
     ]
    }
   ],
   "source": [
    "class Stack:\n",
    "    # ADT \n",
    "    def __init__(self):\n",
    "        self.content = []\n",
    "        \n",
    "    def push(self, element):\n",
    "        self.content.append (element)\n",
    "    \n",
    "    def pop (self):\n",
    "        self.content.pop()\n",
    "       \n",
    "    def print_content (self):\n",
    "        print (self.content)\n",
    "        \n",
    "sheep = Stack ()\n",
    "sheep.push (1)\n",
    "sheep.push (2)\n",
    "sheep.push (3)\n",
    "sheep.print_content()\n"
   ]
  },
  {
   "cell_type": "code",
   "execution_count": 3,
   "metadata": {},
   "outputs": [],
   "source": [
    "class Array:\n",
    "    \n",
    "    def __init__(self,s=5):\n",
    "        self.stack = Stack()\n",
    "        \n",
    "    def store (self, i,v):\n",
    "        self.content[i] = v\n",
    "\n",
    "    def access (self, i):\n",
    "        return self.content[i]\n",
    "    \n",
    "    "
   ]
  },
  {
   "cell_type": "code",
   "execution_count": null,
   "metadata": {},
   "outputs": [],
   "source": []
  },
  {
   "cell_type": "markdown",
   "metadata": {},
   "source": [
    "1. Stack = [0,0,0,-1,0]\n",
    "\n",
    "2. Store (3 => -1)\n",
    "s - i\n",
    "=> 5 - 3  = 2 \n",
    "=> old.pop(), new.push()\n",
    "old = [0,0,0,0] , new = [0]\n",
    "=> old.pop(), new.push()\n",
    "old = [0,0,0], new = [0,0]\n",
    "old.push(v), \n",
    "\n",
    "然后再放回去\n",
    "\n",
    "3. Access (self, i) \n",
    "\n"
   ]
  },
  {
   "cell_type": "markdown",
   "metadata": {},
   "source": [
    "queue = [1,3,2,6,4]\n",
    "\n",
    "potential_minimums = [1,2,2,4,4]\n",
    "\n",
    "=> push (1)\n",
    "\n",
    "queue = [1]\n",
    "potential_minimums = [1]\n",
    "\n",
    "=> push (3)\n",
    "\n",
    "queue = [1,3]\n",
    "potential_minimums = [1,3]\n",
    "\n",
    "=> push (2)\n",
    "\n",
    "queue = [1,3,2]\n",
    "potential_minimums = [1,2,2]\n",
    "\n",
    "=> pop ()\n",
    "queue = [3,2]\n",
    "potential_minimums = [2,2]\n",
    "\n",
    "=> get Minimum ()\n",
    "potential_minimum [0] => 2 \n",
    "\n",
    "Amortized O(1) => n个花O(n)\n",
    "(有些可能不止1个operation, 有些可能花了4个，但是sum()=> o(n))\n",
    "\n",
    "1. potential minimum  一定是递增的\n",
    "2. 如何maintain\n",
    "\n",
    "\n",
    "potential_minimum = [1,2,3,5,7] push (1.5)\n",
    "\n",
    "[1,1.5,1.5,1.5....]\n",
    "=> push (element) \n",
    "count = 1\n",
    "while (potential_minimum.top() > element):\n",
    "    count += 1 \n",
    "    potential_minimum.pop()\n",
    "    \n",
    "while (count):\n",
    "    potential_minimum.push(element)\n",
    "    count -= 1 \n",
    "    "
   ]
  }
 ],
 "metadata": {
  "kernelspec": {
   "display_name": "Python 3",
   "language": "python",
   "name": "python3"
  },
  "language_info": {
   "codemirror_mode": {
    "name": "ipython",
    "version": 3
   },
   "file_extension": ".py",
   "mimetype": "text/x-python",
   "name": "python",
   "nbconvert_exporter": "python",
   "pygments_lexer": "ipython3",
   "version": "3.7.4"
  }
 },
 "nbformat": 4,
 "nbformat_minor": 2
}
