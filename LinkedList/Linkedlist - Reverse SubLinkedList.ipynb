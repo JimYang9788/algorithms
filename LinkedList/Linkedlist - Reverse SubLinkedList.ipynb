{
 "cells": [
  {
   "cell_type": "code",
   "execution_count": 15,
   "metadata": {},
   "outputs": [],
   "source": [
    "class ListNode:\n",
    "    def __init__(self, val=0, next=None):\n",
    "        self.val = val\n",
    "        self.next = next\n",
    "        self.successor = None \n",
    "        \n",
    "    def print(self):\n",
    "        curnode = self\n",
    "        while (curnode):\n",
    "            print (str (curnode.val) + '->')\n",
    "            curnode = curnode.next\n",
    "        print ('None')\n",
    "        \n",
    "    \n",
    "    def reverse(self, head, n):\n",
    "        '''\n",
    "        ret: \n",
    "        the head of the linkedlist\n",
    "        reverse the first n node\n",
    "        e.g. 1->2->3, n = 2\n",
    "        Ret 2->1->3\n",
    "        '''\n",
    "        if n == 1:\n",
    "            self.successor = head.next \n",
    "            return head \n",
    "    \n",
    "        last = self.reverse(head.next, n - 1)\n",
    "        head.next.next = head \n",
    "        head.next = self.successor\n",
    "        return last \n",
    "        \n",
    "        \n",
    "        \n",
    "            \n",
    "        \n",
    "    \n",
    "node = ListNode(1, ListNode(2, ListNode(3, None)))\n"
   ]
  },
  {
   "cell_type": "code",
   "execution_count": 16,
   "metadata": {},
   "outputs": [
    {
     "name": "stdout",
     "output_type": "stream",
     "text": [
      "1->\n",
      "2->\n",
      "3->\n",
      "None\n"
     ]
    }
   ],
   "source": [
    "node.print()"
   ]
  },
  {
   "cell_type": "code",
   "execution_count": 17,
   "metadata": {},
   "outputs": [
    {
     "name": "stdout",
     "output_type": "stream",
     "text": [
      "2->\n",
      "1->\n",
      "3->\n",
      "None\n"
     ]
    }
   ],
   "source": [
    "node.reverse(node, 2).print()"
   ]
  },
  {
   "cell_type": "code",
   "execution_count": null,
   "metadata": {},
   "outputs": [],
   "source": []
  }
 ],
 "metadata": {
  "kernelspec": {
   "display_name": "Python 3",
   "language": "python",
   "name": "python3"
  },
  "language_info": {
   "codemirror_mode": {
    "name": "ipython",
    "version": 3
   },
   "file_extension": ".py",
   "mimetype": "text/x-python",
   "name": "python",
   "nbconvert_exporter": "python",
   "pygments_lexer": "ipython3",
   "version": "3.7.4"
  }
 },
 "nbformat": 4,
 "nbformat_minor": 2
}
