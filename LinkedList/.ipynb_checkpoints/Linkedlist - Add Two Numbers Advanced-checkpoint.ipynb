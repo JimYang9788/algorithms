{
 "cells": [
  {
   "cell_type": "code",
   "execution_count": null,
   "metadata": {},
   "outputs": [],
   "source": [
    "# Definition for singly-linked list.\n",
    "# class ListNode:\n",
    "#     def __init__(self, val=0, next=None):\n",
    "#         self.val = val\n",
    "#         self.next = next\n",
    "class Solution:\n",
    "    def getLength (self, l):\n",
    "        length = 0\n",
    "        curnode = l\n",
    "        while (curnode):\n",
    "            length += 1 \n",
    "            curnode = curnode.next \n",
    "        return length \n",
    "    \n",
    "    def addTwoNumbers(self, l1: ListNode, l2: ListNode) -> ListNode:\n",
    "            \n",
    "        l1_len = self.getLength (l1)\n",
    "        l2_len = self.getLength (l2)\n",
    "        \n",
    "        carry, head =  self.addHelper (l1, l2, l1_len, l2_len)\n",
    "        if carry:\n",
    "            newnode = ListNode (carry)\n",
    "            newnode.next = head \n",
    "            return newnode \n",
    "        else:\n",
    "            return head \n",
    "        \n",
    "    def addHelper (self, l1, l2, l1_len, l2_len):\n",
    "        if not l1 and not l2:\n",
    "            return 0, None \n",
    "        \n",
    "        carry, digit = 0,0\n",
    "\n",
    "        if l1_len < l2_len:\n",
    "            carry, head = self.addHelper (l1, l2.next, l1_len, l2_len-1)\n",
    "            carry, digit = divmod (l2.val + carry, 10)\n",
    "\n",
    "        elif l1_len > l2_len:\n",
    "            carry, head = self.addHelper (l1.next, l2, l1_len-1, l2_len)\n",
    "            carry, digit = divmod (l1.val + carry, 10)\n",
    "     \n",
    "        elif l1_len == l2_len:\n",
    "            carry, head = self.addHelper (l1.next, l2.next, l1_len-1, l2_len-1)\n",
    "            carry, digit = divmod (l1.val + l2.val + carry, 10)\n",
    "            \n",
    "        newnode = ListNode (digit)\n",
    "        newnode.next = head \n",
    "        return carry, newnode   \n",
    "            \n",
    "            "
   ]
  }
 ],
 "metadata": {
  "kernelspec": {
   "display_name": "Python 3",
   "language": "python",
   "name": "python3"
  },
  "language_info": {
   "codemirror_mode": {
    "name": "ipython",
    "version": 3
   },
   "file_extension": ".py",
   "mimetype": "text/x-python",
   "name": "python",
   "nbconvert_exporter": "python",
   "pygments_lexer": "ipython3",
   "version": "3.7.4"
  }
 },
 "nbformat": 4,
 "nbformat_minor": 2
}
