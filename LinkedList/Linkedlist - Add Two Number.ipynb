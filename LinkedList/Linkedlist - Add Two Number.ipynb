{
 "cells": [
  {
   "cell_type": "code",
   "execution_count": null,
   "metadata": {},
   "outputs": [],
   "source": [
    "# Definition for singly-linked list.\n",
    "# class ListNode:\n",
    "#     def __init__(self, val=0, next=None):\n",
    "#         self.val = val\n",
    "#         self.next = next\n",
    "class Solution:\n",
    "    \n",
    "    def addNum (self, l, carryOver):\n",
    "        \n",
    "        return\n",
    "        \n",
    "    def addTwoNumbers(self, l1: ListNode, l2: ListNode) -> ListNode:\n",
    "        dummyHead = curnode = ListNode (0) \n",
    "        carryOver = 0\n",
    "        while (l1 and l2):\n",
    "            \n",
    "            curSum = l1.val + l2.val + carryOver \n",
    "            digit = curSum % 10 \n",
    "            carryOver = curSum // 10 \n",
    "            \n",
    "            \n",
    "            curnode.next = ListNode (digit)\n",
    "            curnode = curnode.next \n",
    "            l1 = l1.next \n",
    "            l2 = l2.next \n",
    "\n",
    "\n",
    "        while l1:\n",
    "\n",
    "            curSum = l1.val + carryOver \n",
    "            digit = curSum % 10 \n",
    "            carryOver = curSum // 10 \n",
    "\n",
    "            curnode.next = ListNode (digit)\n",
    "            curnode = curnode.next \n",
    "            l1 = l1.next \n",
    "            \n",
    "        while l2:\n",
    "\n",
    "            curSum = l2.val + carryOver \n",
    "            digit = curSum % 10 \n",
    "            carryOver = curSum // 10 \n",
    "\n",
    "            curnode.next = ListNode (digit)\n",
    "            curnode = curnode.next \n",
    "            l2 = l2.next         \n",
    "\n",
    "        if carryOver != 0:\n",
    "            curnode.next = ListNode(carryOver)\n",
    "        \n",
    "        return dummyHead.next \n",
    "    \n",
    "        \n",
    "        \n",
    "        \n",
    "        "
   ]
  }
 ],
 "metadata": {
  "kernelspec": {
   "display_name": "Python 3",
   "language": "python",
   "name": "python3"
  },
  "language_info": {
   "codemirror_mode": {
    "name": "ipython",
    "version": 3
   },
   "file_extension": ".py",
   "mimetype": "text/x-python",
   "name": "python",
   "nbconvert_exporter": "python",
   "pygments_lexer": "ipython3",
   "version": "3.7.4"
  }
 },
 "nbformat": 4,
 "nbformat_minor": 2
}
