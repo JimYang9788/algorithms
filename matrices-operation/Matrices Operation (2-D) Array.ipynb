{
 "cells": [
  {
   "cell_type": "markdown",
   "metadata": {},
   "source": [
    "#### Spiral Matrices Printing \n",
    "Given a matrix of m x n elements (m rows, n columns), return all elements of the matrix in spiral order.\n",
    "```\n",
    "Example 1:\n",
    "\n",
    "Input:\n",
    "[\n",
    " [ 1, 2, 3 ],\n",
    " [ 4, 5, 6 ],\n",
    " [ 7, 8, 9 ]\n",
    "]\n",
    "Output: [1,2,3,6,9,8,7,4,5]\n",
    "```"
   ]
  },
  {
   "cell_type": "code",
   "execution_count": 13,
   "metadata": {},
   "outputs": [],
   "source": [
    "class Solution:\n",
    "    def spiralOrder(self, matrix):\n",
    "        \n",
    "        def trim (matrix):\n",
    "            # Trims the matrix down \n",
    "            trimmed = []\n",
    "            if len(matrix) == 0: return \n",
    "            if len(matrix[0]) == 0: return \n",
    "\n",
    "            for i in range (1,len(matrix)-1):\n",
    "                trimmed.append(matrix[i][1:-1])\n",
    "            \n",
    "            print (trimmed)\n",
    "            return trimmed \n",
    "        \n",
    "        def add_perimeter (matrix):\n",
    "            nonlocal res \n",
    "\n",
    "            if len(matrix) == 0: return \n",
    "            elif len(matrix[0]) == 0: return \n",
    "            elif len(matrix) == 1: \n",
    "                for i in range (len(matrix[0])):\n",
    "                    res.append(matrix[0][i])\n",
    "                return \n",
    "            elif len(matrix[0]) == 1:\n",
    "                for i in range (len(matrix)):\n",
    "                    res.append(matrix[i][0])\n",
    "                return \n",
    "            \n",
    "            \n",
    "            for i in range (0,len(matrix[0])-1):\n",
    "                res.append (matrix[0][i])    \n",
    "                \n",
    "            for i in range (0,len(matrix)):\n",
    "                res.append (matrix[i][-1])\n",
    "\n",
    "            for i in reversed(range (0,len(matrix[0])-1)):\n",
    "                res.append (matrix[-1][i])\n",
    "  \n",
    "            for i in reversed(range (1,len(matrix)-1)):\n",
    "                res.append (matrix[i][0])\n",
    "            \n",
    "            add_perimeter (trim(matrix))\n",
    "        \n",
    "        res = []\n",
    "        \n",
    "        if len (matrix) == 0: return res \n",
    "        if len (matrix[0]) == 0: return res \n",
    "            \n",
    "        add_perimeter(matrix)\n",
    "        \n",
    "        return res \n",
    "        "
   ]
  }
 ],
 "metadata": {
  "kernelspec": {
   "display_name": "Python 3",
   "language": "python",
   "name": "python3"
  },
  "language_info": {
   "codemirror_mode": {
    "name": "ipython",
    "version": 3
   },
   "file_extension": ".py",
   "mimetype": "text/x-python",
   "name": "python",
   "nbconvert_exporter": "python",
   "pygments_lexer": "ipython3",
   "version": "3.7.4"
  }
 },
 "nbformat": 4,
 "nbformat_minor": 2
}
