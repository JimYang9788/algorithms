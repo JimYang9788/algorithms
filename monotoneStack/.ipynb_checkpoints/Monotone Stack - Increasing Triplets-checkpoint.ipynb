{
 "cells": [
  {
   "cell_type": "code",
   "execution_count": null,
   "metadata": {},
   "outputs": [],
   "source": [
    "import bisect \n",
    "\n",
    "class Solution:\n",
    "    def increasingTriplet(self, nums: List[int]) -> bool:\n",
    "        stack = []\n",
    "        \n",
    "        for i in range (len(nums)):\n",
    "            if not stack or nums[i] > stack[-1]:\n",
    "                stack.append(nums[i])\n",
    "            else:\n",
    "                j = bisect.bisect_left(stack, nums[i])\n",
    "                stack[j] = nums[i]\n",
    "            \n",
    "        \n",
    "        return len(stack) >= 3 \n",
    "            "
   ]
  }
 ],
 "metadata": {
  "kernelspec": {
   "display_name": "Python 3",
   "language": "python",
   "name": "python3"
  },
  "language_info": {
   "codemirror_mode": {
    "name": "ipython",
    "version": 3
   },
   "file_extension": ".py",
   "mimetype": "text/x-python",
   "name": "python",
   "nbconvert_exporter": "python",
   "pygments_lexer": "ipython3",
   "version": "3.7.4"
  }
 },
 "nbformat": 4,
 "nbformat_minor": 2
}
