{
 "cells": [
  {
   "cell_type": "code",
   "execution_count": null,
   "metadata": {},
   "outputs": [],
   "source": [
    "class Solution:\n",
    "    def dailyTemperatures(self, T: List[int]) -> List[int]:\n",
    "        # Monotone stack..\n",
    "        res = [0 for _ in range (len(T))]\n",
    "        stack = []\n",
    "        for i in range (len(T)-1, -1, -1):\n",
    "            while (stack and T[i] >= stack[-1][0]):\n",
    "                stack.pop()\n",
    "            if not stack:\n",
    "                res[i] = 0 \n",
    "                stack.append((T[i], i))\n",
    "            else:\n",
    "                res[i] = stack[-1][1] - i \n",
    "                stack.append((T[i], i))\n",
    "        return res             "
   ]
  }
 ],
 "metadata": {
  "kernelspec": {
   "display_name": "Python 3",
   "language": "python",
   "name": "python3"
  },
  "language_info": {
   "codemirror_mode": {
    "name": "ipython",
    "version": 3
   },
   "file_extension": ".py",
   "mimetype": "text/x-python",
   "name": "python",
   "nbconvert_exporter": "python",
   "pygments_lexer": "ipython3",
   "version": "3.7.4"
  }
 },
 "nbformat": 4,
 "nbformat_minor": 2
}
