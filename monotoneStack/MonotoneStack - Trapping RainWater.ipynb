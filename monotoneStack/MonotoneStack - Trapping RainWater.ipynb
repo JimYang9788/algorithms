{
 "cells": [
  {
   "cell_type": "code",
   "execution_count": null,
   "metadata": {},
   "outputs": [],
   "source": [
    "class Solution:\n",
    "    def trap(self, height: List[int]) -> int:\n",
    "        if not height: return 0 \n",
    "        \n",
    "        i,res  = 0, 0\n",
    "        stack = [] # monotonoically decreasing stack \n",
    "        while (i < len(height)):\n",
    "            while stack and height[i] > height [stack[-1]]:\n",
    "                popped = stack.pop()\n",
    "                \n",
    "                if not stack: break\n",
    "                    \n",
    "                water = min(height[stack[-1]], height[i]) - height[popped]\n",
    "                distance = i - stack[-1] - 1 \n",
    "                res += water  * distance\n",
    "            \n",
    "            stack.append(i)\n",
    "            i += 1 \n",
    "        \n",
    "        return res "
   ]
  }
 ],
 "metadata": {
  "kernelspec": {
   "display_name": "Python 3",
   "language": "python",
   "name": "python3"
  },
  "language_info": {
   "codemirror_mode": {
    "name": "ipython",
    "version": 3
   },
   "file_extension": ".py",
   "mimetype": "text/x-python",
   "name": "python",
   "nbconvert_exporter": "python",
   "pygments_lexer": "ipython3",
   "version": "3.7.4"
  }
 },
 "nbformat": 4,
 "nbformat_minor": 2
}
