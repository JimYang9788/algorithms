{
 "cells": [
  {
   "cell_type": "code",
   "execution_count": null,
   "metadata": {},
   "outputs": [],
   "source": [
    "class Solution:\n",
    "    \n",
    "    def calculate(self, s: str) -> int:\n",
    "        \n",
    "        if not s:\n",
    "            return 0 \n",
    "        \n",
    "        stack = []\n",
    "        sign, num = '+', 0\n",
    "        \n",
    "        \n",
    "        for i in range (len(s)):\n",
    "            \n",
    "            if s[i].isdigit ():\n",
    "                num = num * 10 + int(s[i])\n",
    "                \n",
    "            if s[i] in '+-*/' or i == len(s) - 1:\n",
    "                if sign == '+':\n",
    "                    stack.append (num)\n",
    "                elif sign == '-':\n",
    "                    stack.append (-num)\n",
    "                elif sign == '*':\n",
    "                    stack.append (stack.pop() * num)\n",
    "                elif sign == '/':\n",
    "                    top = stack.pop()\n",
    "                    if top >= 0:\n",
    "                        stack.append (top // num)\n",
    "                    elif top < 0:\n",
    "                        stack.append (-((-top)//num))\n",
    "                num = 0\n",
    "                sign = s[i]\n",
    "        return sum (stack)"
   ]
  }
 ],
 "metadata": {
  "kernelspec": {
   "display_name": "Python 3",
   "language": "python",
   "name": "python3"
  },
  "language_info": {
   "codemirror_mode": {
    "name": "ipython",
    "version": 3
   },
   "file_extension": ".py",
   "mimetype": "text/x-python",
   "name": "python",
   "nbconvert_exporter": "python",
   "pygments_lexer": "ipython3",
   "version": "3.7.4"
  }
 },
 "nbformat": 4,
 "nbformat_minor": 2
}
