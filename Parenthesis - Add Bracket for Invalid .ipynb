{
 "cells": [
  {
   "cell_type": "code",
   "execution_count": 1,
   "metadata": {},
   "outputs": [],
   "source": [
    "class Solution:\n",
    "    def minAddToMakeValid(self, s: str) -> int:\n",
    "        need_right = 0 \n",
    "        need_left = 0 \n",
    "        for c in s:\n",
    "            if (c == '('):\n",
    "                need_right += 1 \n",
    "            if (c == \")\"):\n",
    "                need_right -= 1 \n",
    "                if (need_right == -1):\n",
    "                    need_left += 1 \n",
    "                    need_right = 0 \n",
    "        \n",
    "        return need_left + need_right \n",
    "        "
   ]
  },
  {
   "cell_type": "code",
   "execution_count": null,
   "metadata": {},
   "outputs": [],
   "source": [
    "class Solution:\n",
    "    def minInsertions(self, s: str) -> int:\n",
    "        res = 0 \n",
    "        right_needed = 0 \n",
    "        \n",
    "        for c in s:\n",
    "            if c == '(':\n",
    "                right_needed += 2 \n",
    "                if (right_needed % 2 == 1):\n",
    "                    res += 1 \n",
    "                    right_needed -= 1\n",
    "            if c ==')':\n",
    "                right_needed -= 1 \n",
    "                if right_needed == -1:\n",
    "                    right_needed = 1 \n",
    "                    res += 1 \n",
    "        \n",
    "        return res + right_needed"
   ]
  }
 ],
 "metadata": {
  "kernelspec": {
   "display_name": "Python 3",
   "language": "python",
   "name": "python3"
  },
  "language_info": {
   "codemirror_mode": {
    "name": "ipython",
    "version": 3
   },
   "file_extension": ".py",
   "mimetype": "text/x-python",
   "name": "python",
   "nbconvert_exporter": "python",
   "pygments_lexer": "ipython3",
   "version": "3.7.4"
  }
 },
 "nbformat": 4,
 "nbformat_minor": 2
}
