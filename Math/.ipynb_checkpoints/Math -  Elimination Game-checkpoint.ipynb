{
 "cells": [
  {
   "cell_type": "code",
   "execution_count": null,
   "metadata": {},
   "outputs": [],
   "source": [
    "class Solution:\n",
    "    def lastRemaining(self, n: int) -> int:\n",
    "\n",
    "        head = 1 \n",
    "        left = True \n",
    "        step = 1 \n",
    "        remaining = n \n",
    "        \n",
    "        while (remaining > 1):\n",
    "            if left or remaining % 2 == 1:\n",
    "                head = head + step \n",
    "            remaining = remaining // 2 \n",
    "            step = step * 2 \n",
    "            left = 1 - left \n",
    "        \n",
    "        return head "
   ]
  }
 ],
 "metadata": {
  "kernelspec": {
   "display_name": "Python 3",
   "language": "python",
   "name": "python3"
  },
  "language_info": {
   "codemirror_mode": {
    "name": "ipython",
    "version": 3
   },
   "file_extension": ".py",
   "mimetype": "text/x-python",
   "name": "python",
   "nbconvert_exporter": "python",
   "pygments_lexer": "ipython3",
   "version": "3.7.4"
  }
 },
 "nbformat": 4,
 "nbformat_minor": 2
}
