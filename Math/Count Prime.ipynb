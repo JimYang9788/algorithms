{
 "cells": [
  {
   "cell_type": "code",
   "execution_count": null,
   "metadata": {},
   "outputs": [],
   "source": [
    "class Solution:\n",
    "    def countPrimes(self, n: int) -> int:\n",
    "        if n <= 2:\n",
    "            return 0\n",
    "        \n",
    "        # Initialize numbers[0] and numbers[1] as False because 0 and 1 are not prime.\n",
    "        # Initialze numbers[2] through numbers[n-1] as True because we assume each number\n",
    "        # is prime until we find a prime number (p) that is a divisor of the number\n",
    "        numbers = [False, False] + [True] * (n - 2)\n",
    "        for p in range(2, int(sqrt(n)) + 1):\n",
    "            if numbers[p]:\n",
    "                # Set all multiples of p to false because they are not prime.\n",
    "                for multiple in range(p * p, n, p):\n",
    "                    numbers[multiple] = False\n",
    "        \n",
    "        # numbers[index] will only be true where index is a prime number\n",
    "        # return the number of indices whose value is true.\n",
    "        return sum(numbers)"
   ]
  }
 ],
 "metadata": {
  "kernelspec": {
   "display_name": "Python 3",
   "language": "python",
   "name": "python3"
  },
  "language_info": {
   "codemirror_mode": {
    "name": "ipython",
    "version": 3
   },
   "file_extension": ".py",
   "mimetype": "text/x-python",
   "name": "python",
   "nbconvert_exporter": "python",
   "pygments_lexer": "ipython3",
   "version": "3.7.4"
  }
 },
 "nbformat": 4,
 "nbformat_minor": 2
}
