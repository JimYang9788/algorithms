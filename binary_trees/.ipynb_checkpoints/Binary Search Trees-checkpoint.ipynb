{
 "cells": [
  {
   "cell_type": "markdown",
   "metadata": {},
   "source": [
    "# Basics \n",
    "Binary Search Tree have O(n) time for lookup, add and delete if implemented naively.\n",
    "But through some manipulations,$O(\\log n)$ can be achieved \n"
   ]
  },
  {
   "cell_type": "code",
   "execution_count": 1,
   "metadata": {},
   "outputs": [],
   "source": [
    "class BstNode:\n",
    "    def __init__(self, data=None, left=None, right=None):\n",
    "        self.data, self.left, self.right = data, left, right"
   ]
  },
  {
   "cell_type": "markdown",
   "metadata": {},
   "source": [
    "Finding maximum and minimum takes about $O(\\log n)$ time for library implementations of BSTs"
   ]
  },
  {
   "cell_type": "code",
   "execution_count": 3,
   "metadata": {},
   "outputs": [],
   "source": [
    "def search_bst (tree, key):\n",
    "    if not tree: \n",
    "        return False\n",
    "    elif key == tree.data:\n",
    "        return True\n",
    "    elif key < tree.data:\n",
    "        return search_bst (tree.left, key)\n",
    "    else:\n",
    "        return search_bst (tree.right, key)\n",
    "# Consicely Can be written as \n",
    "# But it's too convoluted. \n",
    "\n",
    "#return (tree if not tree or tree.data == key else (search_bst (\n",
    "#tree.left,key) if key < tree.data else search_bst (tree.right, key)))"
   ]
  },
  {
   "cell_type": "code",
   "execution_count": null,
   "metadata": {},
   "outputs": [],
   "source": []
  }
 ],
 "metadata": {
  "kernelspec": {
   "display_name": "Python 3",
   "language": "python",
   "name": "python3"
  },
  "language_info": {
   "codemirror_mode": {
    "name": "ipython",
    "version": 3
   },
   "file_extension": ".py",
   "mimetype": "text/x-python",
   "name": "python",
   "nbconvert_exporter": "python",
   "pygments_lexer": "ipython3",
   "version": "3.7.6"
  }
 },
 "nbformat": 4,
 "nbformat_minor": 4
}
