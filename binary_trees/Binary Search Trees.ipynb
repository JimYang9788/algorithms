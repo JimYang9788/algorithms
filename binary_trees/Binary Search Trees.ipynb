{
 "cells": [
  {
   "cell_type": "markdown",
   "metadata": {},
   "source": [
    "# Basics \n",
    "Binary Search Tree have O(n) time for lookup, add and delete if implemented naively.\n",
    "But through some manipulations,$O(\\log n)$ can be achieved \n"
   ]
  },
  {
   "cell_type": "code",
   "execution_count": 1,
   "metadata": {},
   "outputs": [],
   "source": [
    "class BstNode:\n",
    "    def __init__(self, data=None, left=None, right=None):\n",
    "        self.data, self.left, self.right = data, left, right"
   ]
  },
  {
   "cell_type": "markdown",
   "metadata": {},
   "source": [
    "Finding maximum and minimum takes about $O(\\log n)$ time for library implementations of BSTs"
   ]
  },
  {
   "cell_type": "code",
   "execution_count": 18,
   "metadata": {},
   "outputs": [],
   "source": [
    "def search_bst (tree, key):\n",
    "    if not tree: \n",
    "        return False\n",
    "    elif key == tree.data:\n",
    "        return True\n",
    "    elif key < tree.data:\n",
    "        return search_bst (tree.left, key)\n",
    "    else:\n",
    "        return search_bst (tree.right, key)\n",
    "# Consicely Can be written as \n",
    "# But it's too convoluted. \n",
    "\n",
    "#return (tree if not tree or tree.data == key else (search_bst (\n",
    "#tree.left,key) if key < tree.data else search_bst (tree.right, key)))"
   ]
  },
  {
   "cell_type": "markdown",
   "metadata": {},
   "source": [
    "**Q1**. Write a program that takes as input a binary tree and checks if the tree satisfies the balanced BST property\n"
   ]
  },
  {
   "cell_type": "code",
   "execution_count": 19,
   "metadata": {},
   "outputs": [],
   "source": [
    "def is_bst (tree): # -> Bool\n",
    "    '''\n",
    "    Space complexity O(1) (If use a hash table, then O(n))\n",
    "    Time complexity O(n * n) (Can use a hash table to reduce the time complexity to O(n))\n",
    "    *****Because you have to run is_bst for everysingle node in the tree. *****\n",
    "    ''' \n",
    "    \n",
    "    # O(n) As you visit all the nodes \n",
    "    def get_bst_height(tree):\n",
    "        # Gets the height of the tree\n",
    "        if not tree:\n",
    "            return 0 \n",
    "        else:\n",
    "            return 1 + max (get_bst_height(tree.left), get_bst_height(tree.right))\n",
    "    \n",
    "    if not tree:\n",
    "        return True\n",
    "    else:\n",
    "        return abs (get_bst_height(tree.left) - get_bst_height(tree.right)) <= 1\n",
    "    \n"
   ]
  },
  {
   "cell_type": "code",
   "execution_count": 3,
   "metadata": {},
   "outputs": [],
   "source": [
    "import collections \n",
    "\n",
    "def is_bst (tree):\n",
    "    '''\n",
    "    Utilize the fact that we do not need to know the previous results. We just need to know \n",
    "    if the previous ones are balanced & height\n",
    "    '''\n",
    "    BalancedStatusWithHeight = collections.namedtuple('BalancedStatusWithHeight', ('balanced','height'))\n",
    "    \n",
    "    def checkBalance (tree):\n",
    "        if not tree:\n",
    "            return BalancedStatusWithHeight(True,0)\n",
    "        \n",
    "        left_result = checkBalance(tree)\n",
    "        if left_result.balanced == False:\n",
    "            return False\n",
    "        \n",
    "        right_result = checkBalance(tree)\n",
    "        if right_result.balanced == False:\n",
    "            return False\n",
    "        \n",
    "        isbalanced = abs (checkBalance(tree.left).height - checkBalance(tree.right).height) <= 1\n",
    "        height = max (left_result.height, right_result.height) + 1\n",
    "        \n",
    "        return BalancedStatusWithHeight(isbalanced, height)\n",
    "    \n",
    "    if not tree:\n",
    "        return True\n",
    "    else:\n",
    "        return abs (checkBalance(tree.left).height - checkBalance(tree.right).height) <= 1 \n",
    "    \n"
   ]
  },
  {
   "cell_type": "markdown",
   "metadata": {},
   "source": [
    "Above is an example of post order travesal in the form of \n",
    "```\n",
    "Algorithm Postorder(tree)\n",
    "   1. Traverse the left subtree, i.e., call Postorder(left-subtree)\n",
    "   2. Traverse the right subtree, i.e., call Postorder(right-subtree)\n",
    "   3. Visit the root.\n",
    "\n",
    "```\n",
    "The stack is bounded by the height of the tree $O(h)$ "
   ]
  },
  {
   "cell_type": "markdown",
   "metadata": {},
   "source": [
    "**Q2** Write a program to determine the LCA (Lowest Common Ancestor) where the node does not have a parent node field"
   ]
  },
  {
   "cell_type": "code",
   "execution_count": 2,
   "metadata": {},
   "outputs": [],
   "source": [
    "# Brute Force, Start from each node, runs if the this node contains node1 and node2 as children. \n",
    "\n",
    "def get_lca (tree, node1, node2):\n",
    "'''\n",
    "A rather bad approach with O(n^2)\n",
    "'''    \n",
    "    def contains_nodes (tree, node):\n",
    "        if tree.data == node:\n",
    "            return True\n",
    "        else:\n",
    "            return contains_node(tree.left, node) or contains_node(tree.right, node)\n",
    "   \n",
    "    if not tree:\n",
    "        return False\n",
    "    \n",
    "    left_res = contains_node (tree.left, node1) and contains_node (tree.left, node2)\n",
    "    right_res = contains_node (tree.right, node1)  and contains_node (tree.right, node2)\n",
    "    \n",
    "    if left_res:\n",
    "        get_lca(tree.left, node1, node2)\n",
    "        \n",
    "    elif right_res:\n",
    "        get_lca(tree.right, node1, node2)\n",
    "        \n",
    "    return tree"
   ]
  },
  {
   "cell_type": "markdown",
   "metadata": {},
   "source": [
    "This uses a similar approach to keep track of the results using a status.\n",
    "This time, the status tells you the number of number_of_nodes found and a **partial answer**.\n",
    "You use the number of nodes found and the partial answer to answer the final question. "
   ]
  },
  {
   "cell_type": "code",
   "execution_count": 6,
   "metadata": {},
   "outputs": [],
   "source": [
    "def get_lca2 (tree, node1, node2):\n",
    "    \n",
    "    Status = collections.namedtuple ('Status', ('num_target_nodes', 'ancestor'))\n",
    "    \n",
    "    def lca_helper (tree, node1, node2): # returns status \n",
    "        \n",
    "        if not tree:\n",
    "            return Status (0, None)\n",
    "        \n",
    "        # Post Oroder Traversal\n",
    "        left_res = lca_helper (tree.left, node1, node2)\n",
    "        if left_res.num_target_nodes == 2: \n",
    "            return left_res # contains the result \n",
    "        \n",
    "        right_res = lca_helper (tree.right, node1, node2)\n",
    "        if right_res.num_target_nodes == 2:\n",
    "            return right_res \n",
    "        \n",
    "        \n",
    "        current_total = (node1, node2).count(tree) + left_res.num_target_nodes + right_res.num_target_nodes\n",
    "        if current_total == 2:\n",
    "            return Status (current_total, tree)\n",
    "        else:\n",
    "            return Status (current_total, None)\n",
    "        return Status \n",
    "            \n",
    "    "
   ]
  },
  {
   "cell_type": "markdown",
   "metadata": {},
   "source": [
    "**q3**  Test if a binary tree is symmetric. A symmetric tree should mirror itself from the middle, including the values of each node. "
   ]
  },
  {
   "cell_type": "code",
   "execution_count": 1,
   "metadata": {},
   "outputs": [],
   "source": [
    "def is_symmetric(tree):\n",
    "    \n",
    "    def helper(tree1, tree2):\n",
    "        '''\n",
    "        Determine if the two inputs are symmetrical\n",
    "        '''\n",
    "        if not tree1 and not tree2:\n",
    "            return True \n",
    "        elif not tree1 or not tree2:\n",
    "            return False\n",
    "        elif tree1.data != tree2.data:\n",
    "            return False\n",
    "        else:\n",
    "            return helper (tree1.left, tree2.right) and helper (tree1.right, tree2.left)\n",
    "        \n",
    "    \n",
    "    if not tree:\n",
    "        return True\n",
    "    else:\n",
    "        return helper(tree.left, tree.right)\n",
    "        "
   ]
  },
  {
   "cell_type": "markdown",
   "metadata": {},
   "source": [
    "#### Construct Binary Tree from Preoder Traversal"
   ]
  },
  {
   "cell_type": "markdown",
   "metadata": {},
   "source": [
    "Return the root node of a binary search tree that matches the given preorder traversal.\n",
    "\n",
    "(Recall that a binary search tree is a binary tree where for every node, any descendant of node.left has a value < node.val, and any descendant of node.right has a value > node.val.  Also recall that a preorder traversal displays the value of the node first, then traverses node.left, then traverses node.right.)\n",
    "\n",
    " \n",
    "```\n",
    "Example 1:\n",
    "\n",
    "Input: [8,5,1,7,10,12]\n",
    "Output: [8,5,10,1,7,null,12]\n",
    "```"
   ]
  },
  {
   "cell_type": "code",
   "execution_count": 3,
   "metadata": {},
   "outputs": [],
   "source": [
    "class Solution:\n",
    "    def bstFromPreorder(self, preorder):\n",
    "        def helper(in_left = 0, in_right = len(preorder)):\n",
    "            nonlocal pre_idx\n",
    "            # if there is no elements to construct subtrees\n",
    "            if in_left == in_right:\n",
    "                return None\n",
    "            \n",
    "            # pick up pre_idx element as a root\n",
    "            root_val = preorder[pre_idx]\n",
    "            root = TreeNode(root_val)\n",
    "\n",
    "            # root splits inorder list\n",
    "            # into left and right subtrees\n",
    "            index = idx_map[root_val]\n",
    "\n",
    "            # recursion \n",
    "            pre_idx += 1\n",
    "            # build left subtree\n",
    "            root.left = helper(in_left, index)\n",
    "            # build right subtree\n",
    "            root.right = helper(index + 1, in_right)\n",
    "            return root\n",
    "        \n",
    "        inorder = sorted(preorder)\n",
    "        # start from first preorder element\n",
    "        pre_idx = 0\n",
    "        # build a hashmap value -> its index\n",
    "        idx_map = {val:idx for idx, val in enumerate(inorder)} \n",
    "        return helper()"
   ]
  },
  {
   "cell_type": "code",
   "execution_count": null,
   "metadata": {},
   "outputs": [],
   "source": []
  }
 ],
 "metadata": {
  "kernelspec": {
   "display_name": "Python 3",
   "language": "python",
   "name": "python3"
  },
  "language_info": {
   "codemirror_mode": {
    "name": "ipython",
    "version": 3
   },
   "file_extension": ".py",
   "mimetype": "text/x-python",
   "name": "python",
   "nbconvert_exporter": "python",
   "pygments_lexer": "ipython3",
   "version": "3.7.4"
  }
 },
 "nbformat": 4,
 "nbformat_minor": 4
}
